{
 "cells": [
  {
   "cell_type": "markdown",
   "id": "2829a117",
   "metadata": {},
   "source": [
    "### Setup Configurations"
   ]
  },
  {
   "cell_type": "code",
   "execution_count": 1,
   "id": "f8d3fa1b",
   "metadata": {},
   "outputs": [
    {
     "name": "stdout",
     "output_type": "stream",
     "text": [
      "importing Jupyter notebook from setup.ipynb\n"
     ]
    }
   ],
   "source": [
    "import import_ipynb\n",
    "import setup"
   ]
  },
  {
   "cell_type": "markdown",
   "id": "a34a03d3",
   "metadata": {},
   "source": [
    "# Get form inputs for form of Type Task 2\n",
    "\n",
    "(a)  the form type <br>\n",
    "(b)  the \"Item\" number category within the form <br>\n",
    "(c)  the keyword or phrase to search with the item number <br>\n",
    "(d)  optionally, the date range of filings to search through, extract an abstract of the keyword or phrase around the text in that filing<br> <br>\n",
    "\n",
    "Example C: <br>\n",
    "*User input: (a) \"Form 10-K\", (b) \"Item 1\", (c) \"metaverse\", and (d) left blank* <br>\n",
    " Output:<br>\n",
    " \n",
    "*The result should be the surrounding, say, 50 words (25 before and 25 after) the search string from Item 1 of any company's 10-K filing of any date.* <br><br>\n",
    "\n",
    "**[IF THE SEARCH STRING TERM APPEARS MORE THAN ONCE WITHIN THE USER-SPECIFIED SCOPE OF (a) AND (b), THE DIFFERENT RESULTS SHOULD APPEAR WITH THEIR SURROUNDING TEXTS SEPARATELY FOR EACH COMPANY / ENTITY AND EACH FORM AND A LINK TO THE FORM PRESENTED]**\n",
    " <br><br>\n",
    "Example D: <br>\n",
    " *User input: (a) \"Form 10-K\", (b) \"Item 1\", (c) \"metaverse\", and (d) 2017-01-01 to 2020-07-30* <br>\n",
    " Output:<br>\n",
    " \n",
    "*The result should be the surrounding, say, 50 words (25 before and 25 after) the search string from Item 1 of any company's 10-K filing of that filing date The user's environment will be Jupyter Notebook. Note that the source website is open-access, user-friendly, and uses tagging extensively (XML and XBRL most recently and some HTML for older filings) and a standardized taxonomy, to which I can refer you if you need it. All this may help simplify the above tasks. Please let me know if you require additional information. Thank you.* <br>\n",
    "\n"
   ]
  },
  {
   "cell_type": "code",
   "execution_count": 2,
   "id": "e88b7897",
   "metadata": {},
   "outputs": [
    {
     "name": "stdout",
     "output_type": "stream",
     "text": [
      "Enter Filing Type Required (10-K,10-Q,etc)>>  10-K\n",
      "Do you want to get an item in Part I (1) or Part II (2),Please Enter (1) or (2)>>  1\n",
      "Enter Item Number>> item 1A\n",
      "Enter keyword or phrase to search with the item number>> meta\n",
      "To enter Date of Filing only enter one date. To enter Date period enter 2 dates.  \n",
      "Filed FROM Date: (YYYY-MM-DD)>>  \n",
      "Filed TO Date: (YYYY-MM-DD)>>  \n"
     ]
    }
   ],
   "source": [
    "# Get form inputs\n",
    "form_inputs = setup.get_inputs_tsk2()"
   ]
  },
  {
   "cell_type": "code",
   "execution_count": 3,
   "id": "57e52fd1",
   "metadata": {},
   "outputs": [
    {
     "name": "stdout",
     "output_type": "stream",
     "text": [
      "SEARCH_URL https://www.sec.gov/edgar/search/#/q=%2522meta%2522&category=custom&entityName=&forms=10-K&startdt=2019-03-02&enddt=2022-03-01\n"
     ]
    }
   ],
   "source": [
    "#generate dynamic search url for queries\n",
    "search_url = setup.generate_search_url(form_inputs)"
   ]
  },
  {
   "cell_type": "code",
   "execution_count": 4,
   "id": "0cc99a5a",
   "metadata": {},
   "outputs": [
    {
     "name": "stdout",
     "output_type": "stream",
     "text": [
      "                                          Form & File       Filed  \\\n",
      "99  https://www.sec.gov/Archives/edgar/data/000144...  2022-02-28   \n",
      "90  https://www.sec.gov/Archives/edgar/data/000116...  2022-02-24   \n",
      "54  https://www.sec.gov/Archives/edgar/data/000149...  2022-02-23   \n",
      "24  https://www.sec.gov/Archives/edgar/data/000074...  2022-02-23   \n",
      "34  https://www.sec.gov/Archives/edgar/data/000107...  2022-02-23   \n",
      "..                                                ...         ...   \n",
      "55  https://www.sec.gov/Archives/edgar/data/000161...  2019-06-21   \n",
      "72  https://www.sec.gov/Archives/edgar/data/000100...  2019-04-22   \n",
      "87  https://www.sec.gov/Archives/edgar/data/000171...  2019-04-18   \n",
      "74  https://www.sec.gov/Archives/edgar/data/000171...  2019-03-18   \n",
      "84  https://www.sec.gov/Archives/edgar/data/000124...  2019-03-13   \n",
      "\n",
      "   Reporting for                               Filing entity/person  \\\n",
      "99    2021-12-31                    CASTLE BIOSCIENCES INC  (CSTL)    \n",
      "90    2021-12-31                          NEWMONT Corp /DE/  (NEM)    \n",
      "54    2021-12-31  Summit Hotel Properties, Inc.  (INN, INN-PE, I...   \n",
      "24    2021-12-31                                 GARTNER INC  (IT)    \n",
      "34    2021-12-31                     Booking Holdings Inc.  (BKNG)    \n",
      "..           ...                                                ...   \n",
      "55    2019-04-26                              Medtronic plc  (MDT)    \n",
      "72    2019-01-31          STREAMLINE HEALTH SOLUTIONS INC.  (STRM)    \n",
      "87    2019-01-31                                       MINARO CORP    \n",
      "74    2018-12-31                 CURO Group Holdings Corp.  (CURO)    \n",
      "84    2018-12-31                        GI DYNAMICS, INC.  (GIDYL)    \n",
      "\n",
      "               CIK          Located Incorporated File number Film number  \n",
      "99  CIK 0001447362  Friendswood, TX     Delaware   001-38984    22690618  \n",
      "90  CIK 0001164727       Denver, CO     Colorado   001-31240    22666483  \n",
      "54  CIK 0001497645       Austin, TX     Maryland   001-35074    22664398  \n",
      "24  CIK 0000749251     Stamford, CT     Delaware   001-14443    22664414  \n",
      "34  CIK 0001075531      Norwalk, CT     Delaware   001-36691    22665068  \n",
      "..             ...              ...          ...         ...         ...  \n",
      "55  CIK 0001613103       Dublin, L2                001-36820    19909795  \n",
      "72  CIK 0001008586      Atlanta, GA     Delaware   000-28132    19759626  \n",
      "87  CIK 0001710495   Lakatameia, G4               333-223963    19754532  \n",
      "74  CIK 0001711291      Wichita, KS     Delaware   001-38315    19688823  \n",
      "84  CIK 0001245791       Boston, MA     Delaware   000-55195    19676173  \n",
      "\n",
      "[100 rows x 9 columns]\n"
     ]
    }
   ],
   "source": [
    "#fetch all search results for query\n",
    "print(setup.get_search_results(search_url))"
   ]
  }
 ],
 "metadata": {
  "kernelspec": {
   "display_name": "venv",
   "language": "python",
   "name": "venv"
  },
  "language_info": {
   "codemirror_mode": {
    "name": "ipython",
    "version": 3
   },
   "file_extension": ".py",
   "mimetype": "text/x-python",
   "name": "python",
   "nbconvert_exporter": "python",
   "pygments_lexer": "ipython3",
   "version": "3.9.5"
  }
 },
 "nbformat": 4,
 "nbformat_minor": 5
}
