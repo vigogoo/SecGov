{
 "cells": [
  {
   "cell_type": "markdown",
   "id": "b05c0c12",
   "metadata": {},
   "source": [
    "### Setup Configurations"
   ]
  },
  {
   "cell_type": "code",
   "execution_count": null,
   "id": "cefa373a",
   "metadata": {},
   "outputs": [],
   "source": [
    "import import_ipynb\n",
    "import setup"
   ]
  },
  {
   "cell_type": "markdown",
   "id": "f85d16f6",
   "metadata": {},
   "source": [
    "### Get form inputs for form of Type Task 1\n",
    "\n",
    "(a)  a stock's ticker symbol  [OR PART OF THE COMPANY'S / ENTITY'S NAME] <br>\n",
    "(b)  the form type needed to conduct the search  [OPTIONAL TO THE USER; THIS SEARCH WILL BE LIMITED TO 10-Ks AND 10-Qs AND THEIR VARIATIONS, e.g. 10-KSB, 10-K405, 10-QSB, etc.], <br>\n",
    "(c)  the [FINANCIAL STATEMENT REPORT OR DISCLOSURE] information sought within the form <br>\n",
    "(d)  optionally, the filing period <br>\n",
    "\n",
    "\n",
    "*extract financial information from www.sec.gov, including items as categorized in filings (e.g. paragraph text AND TABLES in \"Item 7\" of Form 10-K or the balance sheet table in \"Item 1\" of Form 10-Q).* <br> <br>\n",
    "Example A: \n",
    "\n",
    "*User input: (a) \"AAPL\" for Apple, Inc., (b) \"10-K\", and (c) \"Balance Sheet\", (d) left blank Output *\n",
    "<br>\n",
    "*The result should be the balance sheet table from the company's most recent 10-K filing* <br><br>\n",
    " **[IF (b) AND (d) ARE NOT SPECIFIED BY USER, THEN THE MOST RECENT FINANCIAL STATEMENT OF (c) SHOULD BE RETRIEVED FROM FORMS 10-K OR 10-Q, WHICHEVER HAS THE LATER FILING DATE]** <br><br>\n",
    "Example B: \n",
    " *User input: (a) \"AAPL\" for Apple, Inc., (b) \"10-Q\", (c) \"Item 2\", and (d) date of filing Output* <br>\n",
    "*The result should be the text paragraphs from Item 2 of the company's 10-Q filing of that filing date* <br><br>\n",
    "**[LIKE THE COMMENT ABOVE, IF (d), FILING DATE, IS NOT SPECIFIED BY USER, THEN THE MOST RECENT USER-SPECIFIED \"ITEM\" IN THE USER SPECIFIED FORM SHOULD BE RETRIEVED]** <br><br>\n"
   ]
  },
  {
   "cell_type": "code",
   "execution_count": null,
   "id": "59356f3e",
   "metadata": {},
   "outputs": [],
   "source": [
    "# Get form inputs\n",
    "form_inputs = setup.get_inputs_tsk1()"
   ]
  },
  {
   "cell_type": "code",
   "execution_count": null,
   "id": "e1a2cf57",
   "metadata": {},
   "outputs": [],
   "source": [
    "#generate dynamic search url for queries\n",
    "search_url = setup.generate_search_url(form_inputs)"
   ]
  },
  {
   "cell_type": "code",
   "execution_count": null,
   "id": "d8e849fb",
   "metadata": {},
   "outputs": [],
   "source": [
    "#fetch all search results for query\n",
    "print(setup.get_search_results(search_url))"
   ]
  },
  {
   "cell_type": "code",
   "execution_count": null,
   "id": "b6b6679e",
   "metadata": {},
   "outputs": [],
   "source": []
  },
  {
   "cell_type": "code",
   "execution_count": null,
   "id": "170a8dad",
   "metadata": {},
   "outputs": [],
   "source": []
  },
  {
   "cell_type": "code",
   "execution_count": null,
   "id": "f6ac70f6",
   "metadata": {},
   "outputs": [],
   "source": []
  },
  {
   "cell_type": "code",
   "execution_count": null,
   "id": "aac9227f",
   "metadata": {},
   "outputs": [],
   "source": []
  }
 ],
 "metadata": {
  "kernelspec": {
   "display_name": "venv",
   "language": "python",
   "name": "venv"
  },
  "language_info": {
   "codemirror_mode": {
    "name": "ipython",
    "version": 3
   },
   "file_extension": ".py",
   "mimetype": "text/x-python",
   "name": "python",
   "nbconvert_exporter": "python",
   "pygments_lexer": "ipython3",
   "version": "3.9.5"
  }
 },
 "nbformat": 4,
 "nbformat_minor": 5
}
