{
 "cells": [
  {
   "cell_type": "markdown",
   "id": "b05c0c12",
   "metadata": {},
   "source": [
    "### Setup Configurations"
   ]
  },
  {
   "cell_type": "code",
   "execution_count": 1,
   "id": "cefa373a",
   "metadata": {},
   "outputs": [
    {
     "name": "stdout",
     "output_type": "stream",
     "text": [
      "importing Jupyter notebook from setup.ipynb\n"
     ]
    }
   ],
   "source": [
    "import import_ipynb\n",
    "import setup"
   ]
  },
  {
   "cell_type": "markdown",
   "id": "f85d16f6",
   "metadata": {},
   "source": [
    "### Get form inputs for form of Type Task 1\n",
    "\n",
    "(a)  a stock's ticker symbol  [OR PART OF THE COMPANY'S / ENTITY'S NAME] <br>\n",
    "(b)  the form type needed to conduct the search  [OPTIONAL TO THE USER; THIS SEARCH WILL BE LIMITED TO 10-Ks AND 10-Qs AND THEIR VARIATIONS, e.g. 10-KSB, 10-K405, 10-QSB, etc.], <br>\n",
    "(c)  the [FINANCIAL STATEMENT REPORT OR DISCLOSURE] information sought within the form <br>\n",
    "(d)  optionally, the filing period <br>\n"
   ]
  },
  {
   "cell_type": "code",
   "execution_count": 2,
   "id": "59356f3e",
   "metadata": {},
   "outputs": [
    {
     "name": "stdout",
     "output_type": "stream",
     "text": [
      "Enter Stock Ticker Symbol>>  aapl\n",
      "Enter Filing Type Required (10-K,10-Q,etc)>>  10-K\n",
      "Do you want to search for a Financial Table (T) or Particular Item in Document (I),Please Enter (T) or (I)>>  t\n",
      "Enter Document Required>> apple\n",
      "To enter Date of Filing only enter one date. To enter Date period enter 2 dates.  \n",
      "Filed FROM Date: (YYYY-MM-DD)>>  \n",
      "Filed TO Date: (YYYY-MM-DD)>>  \n"
     ]
    }
   ],
   "source": [
    "# Get form inputs\n",
    "form_inputs = setup.get_inputs_tsk1()"
   ]
  },
  {
   "cell_type": "code",
   "execution_count": 3,
   "id": "fb962404",
   "metadata": {},
   "outputs": [
    {
     "name": "stdout",
     "output_type": "stream",
     "text": [
      "SEARCH_URL https://www.sec.gov/edgar/search/#/q=%2522apple%2522&category=custom&entityName=aapl&forms=10-K&startdt=2019-03-02&enddt=2022-03-01\n"
     ]
    }
   ],
   "source": [
    "#generate dynamic search url for queries\n",
    "search_url = setup.generate_search_url(form_inputs)"
   ]
  },
  {
   "cell_type": "code",
   "execution_count": 6,
   "id": "cb3a894d",
   "metadata": {},
   "outputs": [
    {
     "name": "stdout",
     "output_type": "stream",
     "text": [
      "<table class=\"table\" style=\"display: none;\">\n",
      "<thead style=\"display: none;\">\n",
      "<tr style=\"display: none;\">\n",
      "<th class=\"filetype\" id=\"filetype\" style=\"display: none;\">Form &amp; File</th>\n",
      "<th class=\"filed\" style=\"display: none;\">Filed</th>\n",
      "<th class=\"enddate\" style=\"display: none;\">Reporting for</th>\n",
      "<th class=\"entity-name\" style=\"display: none;\">Filing entity/person</th>\n",
      "<th class=\"cik\" style=\"display: none;\">CIK</th>\n",
      "<th class=\"located\" style=\"display: none;\">Located</th>\n",
      "<th class=\"incorporated\" style=\"display: none;\">Incorporated</th>\n",
      "<th class=\"file-num\" style=\"display: none;\">File number</th>\n",
      "<th class=\"film-num\" style=\"display: none;\">Film number</th>\n",
      "</tr>\n",
      "</thead>\n",
      "<tbody style=\"display: none;\">\n",
      "</tbody>\n",
      "</table>\n",
      "None\n"
     ]
    }
   ],
   "source": [
    "#fetch all search results for query\n",
    "print(setup.get_search_results(search_url))"
   ]
  },
  {
   "cell_type": "code",
   "execution_count": null,
   "id": "6457800f",
   "metadata": {},
   "outputs": [],
   "source": []
  },
  {
   "cell_type": "code",
   "execution_count": null,
   "id": "5ba3a179",
   "metadata": {},
   "outputs": [],
   "source": []
  },
  {
   "cell_type": "code",
   "execution_count": null,
   "id": "ace5cc5e",
   "metadata": {},
   "outputs": [],
   "source": []
  },
  {
   "cell_type": "code",
   "execution_count": null,
   "id": "e372ed12",
   "metadata": {},
   "outputs": [],
   "source": []
  }
 ],
 "metadata": {
  "kernelspec": {
   "display_name": "venv",
   "language": "python",
   "name": "venv"
  },
  "language_info": {
   "codemirror_mode": {
    "name": "ipython",
    "version": 3
   },
   "file_extension": ".py",
   "mimetype": "text/x-python",
   "name": "python",
   "nbconvert_exporter": "python",
   "pygments_lexer": "ipython3",
   "version": "3.9.5"
  }
 },
 "nbformat": 4,
 "nbformat_minor": 5
}
