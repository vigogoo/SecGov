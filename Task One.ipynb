{
 "cells": [
  {
   "cell_type": "markdown",
   "id": "2864741f",
   "metadata": {},
   "source": [
    "### SEC.gov Search\n",
    "\n",
    "##### Click > Run above to start"
   ]
  },
  {
   "cell_type": "code",
   "execution_count": 1,
   "id": "eee4ce2b",
   "metadata": {
    "hide_input": false
   },
   "outputs": [
    {
     "data": {
      "application/vnd.jupyter.widget-view+json": {
       "model_id": "6ea8ebc783d1419ca0c0f36e025e5195",
       "version_major": 2,
       "version_minor": 0
      },
      "text/plain": [
       "GridspecLayout(children=(Text(value='', description='Ticker/Entity Name:*', layout=Layout(grid_area='widget001…"
      ]
     },
     "metadata": {},
     "output_type": "display_data"
    }
   ],
   "source": [
    "import setup\n",
    "from IPython.display import display\n",
    "display(setup.create_task_1_UI())"
   ]
  },
  {
   "cell_type": "code",
   "execution_count": null,
   "id": "e08f2a36",
   "metadata": {
    "hide_input": true
   },
   "outputs": [],
   "source": []
  },
  {
   "cell_type": "code",
   "execution_count": null,
   "id": "e71c088b",
   "metadata": {},
   "outputs": [],
   "source": []
  }
 ],
 "metadata": {
  "hide_input": true,
  "interpreter": {
   "hash": "bc3ded521ee48927cd256be851c757c3495791bf0a02a2a9e3c6b3044ceb0e23"
  },
  "kernelspec": {
   "display_name": "env",
   "language": "python",
   "name": "env"
  },
  "language_info": {
   "codemirror_mode": {
    "name": "ipython",
    "version": 3
   },
   "file_extension": ".py",
   "mimetype": "text/x-python",
   "name": "python",
   "nbconvert_exporter": "python",
   "pygments_lexer": "ipython3",
   "version": "3.10.1"
  }
 },
 "nbformat": 4,
 "nbformat_minor": 5
}
