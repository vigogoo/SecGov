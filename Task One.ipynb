{
 "cells": [
  {
   "cell_type": "markdown",
   "id": "b05c0c12",
   "metadata": {},
   "source": [
    "### Setup Configurations"
   ]
  },
  {
   "cell_type": "code",
   "execution_count": null,
   "id": "cefa373a",
   "metadata": {},
   "outputs": [],
   "source": [
    "import import_ipynb\n",
    "import setup\n",
    "import sys\n",
    "import re\n",
    "import pandas as pd"
   ]
  },
  {
   "cell_type": "markdown",
   "id": "f85d16f6",
   "metadata": {},
   "source": [
    "<h3 style=\"color:#6fda44;\">Get form inputs for form of Type Task 1</h3>\n",
    "\n",
    "(a)  a stock's ticker symbol  [OR PART OF THE COMPANY'S / ENTITY'S NAME] <br>\n",
    "(b)  the form type needed to conduct the search  [OPTIONAL TO THE USER; THIS SEARCH WILL BE LIMITED TO 10-Ks AND 10-Qs AND THEIR VARIATIONS, e.g. 10-KSB, 10-K405, 10-QSB, etc.], <br>\n",
    "(c)  the [FINANCIAL STATEMENT REPORT OR DISCLOSURE] information sought within the form <br>\n",
    "(d)  optionally, the filing period <br>\n",
    "\n",
    "\n",
    "*extract financial information from www.sec.gov, including items as categorized in filings (e.g. paragraph text AND TABLES in \"Item 7\" of Form 10-K or the balance sheet table in \"Item 1\" of Form 10-Q).* <br> <br>\n",
    "Example A: \n",
    "\n",
    "*User input: (a) \"AAPL\" for Apple, Inc., (b) \"10-K\", and (c) \"Balance Sheet\", (d) left blank Output *\n",
    "<br>\n",
    "*The result should be the balance sheet table from the company's most recent 10-K filing* <br><br>\n",
    " **<span style=\"color:#6fda44;\">[IF (b) AND (d) ARE NOT SPECIFIED BY USER, THEN THE MOST RECENT FINANCIAL STATEMENT OF (c) SHOULD BE RETRIEVED FROM FORMS 10-K OR 10-Q, WHICHEVER HAS THE LATER FILING DATE]</span>** <br><br>\n",
    "Example B: \n",
    " *User input: (a) \"AAPL\" for Apple, Inc., (b) \"10-Q\", (c) \"Item 2\", and (d) date of filing Output* <br>\n",
    "*The result should be the text paragraphs from Item 2 of the company's 10-Q filing of that filing date* <br><br>\n",
    "**<span style=\"color:#6fda44;\">[LIKE THE COMMENT ABOVE, IF (d), FILING DATE, IS NOT SPECIFIED BY USER, THEN THE MOST RECENT USER-SPECIFIED \"ITEM\" IN THE USER SPECIFIED FORM SHOULD BE RETRIEVED]</span>** <br><br>\n"
   ]
  },
  {
   "cell_type": "code",
   "execution_count": null,
   "id": "59356f3e",
   "metadata": {},
   "outputs": [],
   "source": [
    "# Get form inputs\n",
    "form_inputs = setup.get_inputs_tsk1()"
   ]
  },
  {
   "cell_type": "code",
   "execution_count": null,
   "id": "e1a2cf57",
   "metadata": {},
   "outputs": [],
   "source": [
    "#generate dynamic search url for queries\n",
    "search_url = setup.generate_search_url(form_inputs)\n",
    "\n",
    "#fetch all search results for query we need only one Result for task one\n",
    "results = setup.get_search_results(form_inputs,1)\n",
    "\n",
    "if results is None:\n",
    "    print(\"Your Search did not yield any results\",end=\"\\n\\n\")\n",
    "    # todo: end execution if results is none"
   ]
  },
  {
   "cell_type": "code",
   "execution_count": null,
   "id": "b6b6679e",
   "metadata": {},
   "outputs": [],
   "source": [
    "# Check if user is searching for a particular financial Statement or Particular Item\n",
    "if form_inputs.get('search_type','').lower() == 't' and results is not None:\n",
    "    #     fetch table\n",
    "    table_to_fetch = form_inputs.get('target','')\n",
    "    # get links to pages\n",
    "    links_dict = results.to_dict('records')[0]\n",
    "    filing_summary_link = links_dict.get('filing_summa_xml_path')\n",
    "    \n",
    "    print(\"FILING SUMMARY LINK\",filing_summary_link, end=\"\\n\\n\")\n",
    "    index_page = links_dict.get('index_page')\n",
    "    soup = setup.get_generic_marketdata(filing_summary_link)\n",
    "    parent = soup.find( lambda tag:tag.name.lower() == \"shortname\" and table_to_fetch.lower() in tag.text.lower() ).parent\n",
    "    table_link = index_page + '/' + parent.find('htmlfilename').text\n",
    "    table_full_ttl = parent.find('longname').text\n",
    "    soup = setup.get_generic_marketdata(table_link)\n",
    "    table_MN = pd.read_html(str(soup.table))[0]\n",
    "    \n",
    "    print('FINANCIAL DATA TITLE:',table_full_ttl, end=\"\\n\\n\")\n",
    "    print(table_MN)\n"
   ]
  },
  {
   "cell_type": "code",
   "execution_count": null,
   "id": "90aea5a1",
   "metadata": {},
   "outputs": [],
   "source": [
    "# If user was searching for a Particular Item in Document handler\n",
    "if form_inputs.get('search_type','').lower() == 'i' and results is not None:\n",
    "    \n",
    "    print(\n",
    "        f\"Your searching for a particular Item in Part {form_inputs.get('item_part')} and Item number {form_inputs.get('target')}\",\n",
    "        end=\"\\n\\n\"\n",
    "    )\n",
    "    print(form_inputs, end=\"\\n\\n\")\n",
    "    links_dict = results.to_dict('records')[0]\n",
    "    print(links_dict)"
   ]
  },
  {
   "cell_type": "code",
   "execution_count": null,
   "id": "303608a8",
   "metadata": {},
   "outputs": [],
   "source": []
  }
 ],
 "metadata": {
  "kernelspec": {
   "display_name": "venv",
   "language": "python",
   "name": "venv"
  },
  "language_info": {
   "codemirror_mode": {
    "name": "ipython",
    "version": 3
   },
   "file_extension": ".py",
   "mimetype": "text/x-python",
   "name": "python",
   "nbconvert_exporter": "python",
   "pygments_lexer": "ipython3",
   "version": "3.9.5"
  }
 },
 "nbformat": 4,
 "nbformat_minor": 5
}
