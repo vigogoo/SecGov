{
 "cells": [
  {
   "cell_type": "markdown",
   "id": "92956d02",
   "metadata": {},
   "source": [
    "### SEC.gov Search\n",
    "\n",
    "##### Click > Run above to start"
   ]
  },
  {
   "cell_type": "code",
   "execution_count": 1,
   "id": "eee4ce2b",
   "metadata": {
    "hide_input": false,
    "scrolled": false
   },
   "outputs": [
    {
     "data": {
      "application/vnd.jupyter.widget-view+json": {
       "model_id": "562d22f424634ac391338b41e7e3fd4d",
       "version_major": 2,
       "version_minor": 0
      },
      "text/plain": [
       "GridspecLayout(children=(Text(value='', description='Ticker/Entity Name:*', layout=Layout(grid_area='widget001…"
      ]
     },
     "metadata": {},
     "output_type": "display_data"
    },
    {
     "data": {
      "text/html": [
       "<span style=border-width: 1px;border-style: solid;border-color: 42A5F5;width: 100%;padding: 5px; class=\"ansi-green-fg\"> TOTAL SEARCH RESULTS: 30</span>"
      ],
      "text/plain": [
       "<IPython.core.display.HTML object>"
      ]
     },
     "metadata": {},
     "output_type": "display_data"
    },
    {
     "data": {
      "text/html": [
       "<span style=border-width: 1px;border-style: solid;border-color: 42A5F5;width: 100%;padding: 5px; class=\"ansi-green-fg\"> Exhibits Records (exe) Ignored: 21</span>"
      ],
      "text/plain": [
       "<IPython.core.display.HTML object>"
      ]
     },
     "metadata": {},
     "output_type": "display_data"
    },
    {
     "name": "stdout",
     "output_type": "stream",
     "text": [
      "{'file_date': '2022-01-28', 'filing_no': '000032019322000007', 'file_type': '10-Q', 'file_name': 'aapl-20211225.htm', 'ticker': '0000320193', 'period_ending': '2021-12-25', 'display_names': 'Apple Inc.  (AAPL)  (CIK 0000320193)', 'filing_summa_xml_path': 'https://www.sec.gov/Archives/edgar/data/0000320193/000032019322000007/FilingSummary.xml', 'file_path': 'https://www.sec.gov/Archives/edgar/data/0000320193/000032019322000007/aapl-20211225.htm', 'index_page': 'https://www.sec.gov/Archives/edgar/data/0000320193/000032019322000007', 'txt_file_path': 'https://www.sec.gov/Archives/edgar/data/320193/000032019322000007/0000320193-22-000007.txt'}\n",
      "{'ticker': 'aapl', 'filing_type': '10-Q', 'target': '2', 'filing_date_start': None, 'filing_date_end': None, 'search_type': 'i', 'part': 'Part I.', 'next_target': '3'}\n",
      "\n",
      "https://www.sec.gov/Archives/edgar/data/0000320193/000032019322000007/aapl-20211225.htm\n",
      "2 None\n",
      "3 None\n",
      "from 2Properties to 3Legal Proceedings\n",
      "[]\n",
      "[]\n",
      "Candidates\n",
      "[]\n"
     ]
    }
   ],
   "source": [
    "import setup\n",
    "setup.display(setup.create_task_1_UI())"
   ]
  },
  {
   "cell_type": "code",
   "execution_count": null,
   "id": "34293a5d",
   "metadata": {},
   "outputs": [],
   "source": []
  }
 ],
 "metadata": {
  "hide_input": true,
  "interpreter": {
   "hash": "bc3ded521ee48927cd256be851c757c3495791bf0a02a2a9e3c6b3044ceb0e23"
  },
  "kernelspec": {
   "display_name": "env",
   "language": "python",
   "name": "env"
  },
  "language_info": {
   "codemirror_mode": {
    "name": "ipython",
    "version": 3
   },
   "file_extension": ".py",
   "mimetype": "text/x-python",
   "name": "python",
   "nbconvert_exporter": "python",
   "pygments_lexer": "ipython3",
   "version": "3.10.1"
  },
  "widgets": {
   "application/vnd.jupyter.widget-state+json": {
    "state": {
     "000619fa219146968e4d152f2f98b994": {
      "model_module": "@jupyter-widgets/controls",
      "model_module_version": "1.5.0",
      "model_name": "GridBoxModel",
      "state": {
       "children": [
        "IPY_MODEL_b6aef60c52b0475d9ffca357f7c45a34",
        "IPY_MODEL_7c388903ecab449b93827d957218f914",
        "IPY_MODEL_c9550883f72e4c49a33ddfdbe0b735ef",
        "IPY_MODEL_f11484a8ce6f457f96a8036ecf8fcb58",
        "IPY_MODEL_47b8b6cbbdd245558cd68d9d2f95faeb",
        "IPY_MODEL_f8aaa91bcfbc4529bcae1e68c9e2cac8"
       ],
       "layout": "IPY_MODEL_15ce0d5074e54f06b7ebfe5913f88bb9"
      }
     },
     "00264a072c4e4d09a6b969beab59f8d8": {
      "model_module": "@jupyter-widgets/controls",
      "model_module_version": "1.5.0",
      "model_name": "DescriptionStyleModel",
      "state": {
       "description_width": "initial"
      }
     },
     "002b439975774b2080b6ab2e52d7a792": {
      "model_module": "@jupyter-widgets/base",
      "model_module_version": "1.2.0",
      "model_name": "LayoutModel",
      "state": {
       "grid_area": "widget005"
      }
     },
     "003273caa28b4bf5b3519521376a90fd": {
      "model_module": "@jupyter-widgets/controls",
      "model_module_version": "1.5.0",
      "model_name": "DescriptionStyleModel",
      "state": {
       "description_width": ""
      }
     },
     "007a7a71ba054625ae080b6b0d04c6c0": {
      "model_module": "@jupyter-widgets/base",
      "model_module_version": "1.2.0",
      "model_name": "LayoutModel",
      "state": {
       "grid_area": "widget004"
      }
     },
     "0081d58d7c3342c6b49786f8adf3a3c7": {
      "model_module": "@jupyter-widgets/controls",
      "model_module_version": "1.5.0",
      "model_name": "ButtonStyleModel",
      "state": {}
     },
     "00d7f578ff424517bc313e2b43b7324e": {
      "model_module": "@jupyter-widgets/base",
      "model_module_version": "1.2.0",
      "model_name": "LayoutModel",
      "state": {
       "grid_area": "widget006"
      }
     },
     "00e61be7554f4c088ff9d71e885f86ea": {
      "model_module": "@jupyter-widgets/base",
      "model_module_version": "1.2.0",
      "model_name": "LayoutModel",
      "state": {
       "grid_area": "widget004"
      }
     },
     "010d36f9eb0745f7afc0bcaac133aafc": {
      "model_module": "@jupyter-widgets/controls",
      "model_module_version": "1.5.0",
      "model_name": "DatePickerModel",
      "state": {
       "description": "Pick a Date:",
       "disabled": false,
       "layout": "IPY_MODEL_5255dc5096734c629b98a87c7f1d4bb8",
       "style": "IPY_MODEL_5d096345f623423184ed3a9303c81f61"
      }
     },
     "0136723ab51c411d8ee4cf82e6ed65d5": {
      "model_module": "@jupyter-widgets/controls",
      "model_module_version": "1.5.0",
      "model_name": "DescriptionStyleModel",
      "state": {
       "description_width": ""
      }
     },
     "0146434aacc4400e8439a6c3ff868f59": {
      "model_module": "@jupyter-widgets/controls",
      "model_module_version": "1.5.0",
      "model_name": "DescriptionStyleModel",
      "state": {
       "description_width": "initial"
      }
     },
     "015c5ff2dbe847498fa92be738fcb65c": {
      "model_module": "@jupyter-widgets/controls",
      "model_module_version": "1.5.0",
      "model_name": "DropdownModel",
      "state": {
       "_options_labels": [
        "Income Statement",
        "Balance Sheet",
        "Statements of Cash Flow",
        "Statements of Convertible Preferred Stock and Stockholder’s Equity"
       ],
       "description": "Financial Statement:*",
       "index": 0,
       "layout": "IPY_MODEL_007a7a71ba054625ae080b6b0d04c6c0",
       "style": "IPY_MODEL_07f01305ce3f45b0b2d58eabc98f0e3e"
      }
     },
     "017a3fb2d00a4b7686a7380f2153d952": {
      "model_module": "@jupyter-widgets/controls",
      "model_module_version": "1.5.0",
      "model_name": "ComboboxModel",
      "state": {
       "description": "Filing Type:",
       "ensure_option": true,
       "layout": "IPY_MODEL_aa5dbe846ed644e6a6d9ffca234b30b2",
       "options": [
        "",
        "10-Q",
        "10-K",
        "10-Q/A",
        "10-QSB",
        "10-QT",
        "10-QT/A",
        "10-QSB",
        "10-QSB/A",
        "10-QSB12B",
        "10-K/A",
        "10-K405",
        "10-K405/A",
        "10-KSB",
        "10-KT",
        "10-KT/A"
       ],
       "placeholder": "Enter..",
       "style": "IPY_MODEL_da3904f183b04bfe90b2155923d54918"
      }
     },
     "01810ca9ee3a4fcaabb9ca84eb9b3acf": {
      "model_module": "@jupyter-widgets/controls",
      "model_module_version": "1.5.0",
      "model_name": "DescriptionStyleModel",
      "state": {
       "description_width": "initial"
      }
     },
     "01b6bc03daf343a2875dceb3576d1b35": {
      "model_module": "@jupyter-widgets/base",
      "model_module_version": "1.2.0",
      "model_name": "LayoutModel",
      "state": {
       "grid_area": "widget006"
      }
     },
     "01c322a0c0ba40a9af1665020610e721": {
      "model_module": "@jupyter-widgets/controls",
      "model_module_version": "1.5.0",
      "model_name": "DropdownModel",
      "state": {
       "_options_labels": [
        "Income Statement",
        "Balance Sheet",
        "Statements of Cash Flow",
        "Statements of Convertible Preferred Stock and Stockholder’s Equity"
       ],
       "description": "Financial Statement:*",
       "index": 0,
       "layout": "IPY_MODEL_58e70c6b4161444db48676a9417239dc",
       "style": "IPY_MODEL_934a0a579b8b4db6b044f532474cfd86"
      }
     },
     "01e36343e3034ea8baeef7abfb21a0ae": {
      "model_module": "@jupyter-widgets/base",
      "model_module_version": "1.2.0",
      "model_name": "LayoutModel",
      "state": {
       "grid_template_areas": "\"widget001 .\"\n\"widget002 .\"\n\"widget003 .\"\n\"widget004 .\"\n\"widget005 .\"\n\"widget006 .\"\n\"widget007 widget007\"",
       "grid_template_columns": "repeat(2, 1fr)",
       "grid_template_rows": "repeat(7, 1fr)"
      }
     },
     "023c3525bd2f4255b8b9de894c403c02": {
      "model_module": "@jupyter-widgets/controls",
      "model_module_version": "1.5.0",
      "model_name": "DescriptionStyleModel",
      "state": {
       "description_width": ""
      }
     },
     "0241525beb6f42f991e019f52ecac1f9": {
      "model_module": "@jupyter-widgets/controls",
      "model_module_version": "1.5.0",
      "model_name": "DescriptionStyleModel",
      "state": {
       "description_width": "initial"
      }
     },
     "02e057ab1894492489d1b1b9e85235a4": {
      "model_module": "@jupyter-widgets/base",
      "model_module_version": "1.2.0",
      "model_name": "LayoutModel",
      "state": {
       "grid_area": "widget002"
      }
     },
     "034b02be14f94fe8b893e6a1374c4af3": {
      "model_module": "@jupyter-widgets/controls",
      "model_module_version": "1.5.0",
      "model_name": "DescriptionStyleModel",
      "state": {
       "description_width": ""
      }
     },
     "03633b4321bc4b0e88b41f1004fb0f25": {
      "model_module": "@jupyter-widgets/base",
      "model_module_version": "1.2.0",
      "model_name": "LayoutModel",
      "state": {
       "grid_area": "widget003"
      }
     },
     "03975edea59f4e9a802bcbbe365b9647": {
      "model_module": "@jupyter-widgets/base",
      "model_module_version": "1.2.0",
      "model_name": "LayoutModel",
      "state": {
       "grid_template_areas": "\"widget001 .\"\n\"widget002 .\"\n\"widget003 .\"\n\"widget004 .\"\n\"widget005 .\"\n\"widget006 widget006\"",
       "grid_template_columns": "repeat(2, 1fr)",
       "grid_template_rows": "repeat(6, 1fr)"
      }
     },
     "03da0671dea94a53945d0a8bae2305a3": {
      "model_module": "@jupyter-widgets/base",
      "model_module_version": "1.2.0",
      "model_name": "LayoutModel",
      "state": {
       "grid_area": "widget005"
      }
     },
     "03e1ef5036b643b19cac534e5116f1b8": {
      "model_module": "@jupyter-widgets/controls",
      "model_module_version": "1.5.0",
      "model_name": "ButtonStyleModel",
      "state": {}
     },
     "043f58d610d6422cb889feced4d39b65": {
      "model_module": "@jupyter-widgets/controls",
      "model_module_version": "1.5.0",
      "model_name": "DropdownModel",
      "state": {
       "_options_labels": [
        "Income Statement",
        "Balance Sheet",
        "Statements of Cash Flow",
        "Statements of Convertible Preferred Stock and Stockholder’s Equity"
       ],
       "description": "Financial Statement:*",
       "index": 0,
       "layout": "IPY_MODEL_ca861682728d4665a2db3ee4a371409c",
       "style": "IPY_MODEL_38347930110246bcb903d073de404ef4"
      }
     },
     "0450fbbfd5a7475ebde97b65302a517e": {
      "model_module": "@jupyter-widgets/controls",
      "model_module_version": "1.5.0",
      "model_name": "DatePickerModel",
      "state": {
       "description": "Pick a Date:",
       "disabled": false,
       "layout": "IPY_MODEL_f19766d9712f42f09a1a0cd2c7841d73",
       "style": "IPY_MODEL_82fb86f0bad44469a9de0244019705da"
      }
     },
     "047d542ffe644394af275999e01b9cb3": {
      "model_module": "@jupyter-widgets/base",
      "model_module_version": "1.2.0",
      "model_name": "LayoutModel",
      "state": {
       "grid_area": "widget003"
      }
     },
     "048b6c369a524abeb7be6606438b7a41": {
      "model_module": "@jupyter-widgets/controls",
      "model_module_version": "1.5.0",
      "model_name": "DescriptionStyleModel",
      "state": {
       "description_width": "initial"
      }
     },
     "04ac8326025b42f5939318fedfd6b913": {
      "model_module": "@jupyter-widgets/controls",
      "model_module_version": "1.5.0",
      "model_name": "DatePickerModel",
      "state": {
       "description": "Pick a Date:",
       "disabled": false,
       "layout": "IPY_MODEL_28779ad46b7949c1b024de1e4d2e0340",
       "style": "IPY_MODEL_235893fee74248c0957872e191ffbd37"
      }
     },
     "04c41ac7b78e4201a7ba5bd9a3b055ce": {
      "model_module": "@jupyter-widgets/controls",
      "model_module_version": "1.5.0",
      "model_name": "DescriptionStyleModel",
      "state": {
       "description_width": ""
      }
     },
     "04c785fa16cd41458868b9050a6e87d2": {
      "model_module": "@jupyter-widgets/controls",
      "model_module_version": "1.5.0",
      "model_name": "DatePickerModel",
      "state": {
       "description": "Pick a Date:",
       "disabled": false,
       "layout": "IPY_MODEL_cf0010be59f345118e0eb7139230cadb",
       "style": "IPY_MODEL_23b6b2ae61af45fcb57b21e5842524d6"
      }
     },
     "04ee9bb1f6d44afa89bfa3bfd886cc6e": {
      "model_module": "@jupyter-widgets/base",
      "model_module_version": "1.2.0",
      "model_name": "LayoutModel",
      "state": {
       "grid_area": "widget002"
      }
     },
     "054671e31bc4444dafe6bc744ff5e940": {
      "model_module": "@jupyter-widgets/base",
      "model_module_version": "1.2.0",
      "model_name": "LayoutModel",
      "state": {
       "grid_area": "widget003"
      }
     },
     "05702fe069464c63b5fb1e62b9c3bc08": {
      "model_module": "@jupyter-widgets/base",
      "model_module_version": "1.2.0",
      "model_name": "LayoutModel",
      "state": {
       "grid_area": "widget003"
      }
     },
     "05710ef55cf34e128c9d919c7c699218": {
      "model_module": "@jupyter-widgets/controls",
      "model_module_version": "1.5.0",
      "model_name": "DatePickerModel",
      "state": {
       "description": "Pick a Date:",
       "disabled": false,
       "layout": "IPY_MODEL_7144d4243f66429595c3eae4fc3a2222",
       "style": "IPY_MODEL_8db6603d2e204ab7a9ce33f1167ced49"
      }
     },
     "0577767c869b40778ccdd794db81a973": {
      "model_module": "@jupyter-widgets/controls",
      "model_module_version": "1.5.0",
      "model_name": "TextModel",
      "state": {
       "description": "Ticker/Entity Name:*",
       "layout": "IPY_MODEL_078b9c84ff154fbaa8f914871f8286aa",
       "placeholder": "Enter..",
       "style": "IPY_MODEL_da6fec54185042bcac7414dbb40d58e7",
       "value": "msft"
      }
     },
     "05c93a2f80ac43fcb963ebf0f24b49d8": {
      "model_module": "@jupyter-widgets/base",
      "model_module_version": "1.2.0",
      "model_name": "LayoutModel",
      "state": {}
     },
     "05e7f506af554142b5362fefc85df37d": {
      "model_module": "@jupyter-widgets/controls",
      "model_module_version": "1.5.0",
      "model_name": "DescriptionStyleModel",
      "state": {
       "description_width": "initial"
      }
     },
     "05f64d67b01149d7ba9e49ef09e3b868": {
      "model_module": "@jupyter-widgets/controls",
      "model_module_version": "1.5.0",
      "model_name": "DescriptionStyleModel",
      "state": {
       "description_width": ""
      }
     },
     "065066cc75da402790d5fed67dbe54c3": {
      "model_module": "@jupyter-widgets/base",
      "model_module_version": "1.2.0",
      "model_name": "LayoutModel",
      "state": {
       "grid_area": "widget006"
      }
     },
     "065a274a473b46e9bc728beedb4ff15c": {
      "model_module": "@jupyter-widgets/controls",
      "model_module_version": "1.5.0",
      "model_name": "DropdownModel",
      "state": {
       "_options_labels": [
        "Income Statement",
        "Balance Sheet",
        "Statements of Cash Flow",
        "Statements of Convertible Preferred Stock and Stockholder’s Equity"
       ],
       "description": "Financial Statement:*",
       "index": 0,
       "layout": "IPY_MODEL_211faf62d3fd4996bf9710a51bfdccaa",
       "style": "IPY_MODEL_c72ffc3c7e3042319406fa5a2340074c"
      }
     },
     "06b7ebc8d47a447ab2e6b69a71c3f768": {
      "model_module": "@jupyter-widgets/controls",
      "model_module_version": "1.5.0",
      "model_name": "DropdownModel",
      "state": {
       "_options_labels": [
        "Income Statement",
        "Balance Sheet",
        "Statements of Cash Flow",
        "Statements of Convertible Preferred Stock and Stockholder’s Equity"
       ],
       "description": "Financial Statement:*",
       "index": 0,
       "layout": "IPY_MODEL_eba33592187642e9adc5a3b7948e235b",
       "style": "IPY_MODEL_5fc22ce8689f4f03a4996b5f4f0b284c"
      }
     },
     "06ef6b6fb22849d3b524a752fb474990": {
      "model_module": "@jupyter-widgets/controls",
      "model_module_version": "1.5.0",
      "model_name": "ButtonModel",
      "state": {
       "description": "Search",
       "icon": "search",
       "layout": "IPY_MODEL_a15f8180530e4c67a435b882084cf679",
       "style": "IPY_MODEL_5960abd4dee447f6b4100c6e9f809ba5",
       "tooltip": "Search"
      }
     },
     "06f7af151ae0417ebe01e57e446f746c": {
      "model_module": "@jupyter-widgets/base",
      "model_module_version": "1.2.0",
      "model_name": "LayoutModel",
      "state": {
       "grid_area": "widget004"
      }
     },
     "06ff80bba708420c9e97093287551a2e": {
      "model_module": "@jupyter-widgets/base",
      "model_module_version": "1.2.0",
      "model_name": "LayoutModel",
      "state": {
       "grid_area": "widget004"
      }
     },
     "072df864fca64286b959a7124901743f": {
      "model_module": "@jupyter-widgets/controls",
      "model_module_version": "1.5.0",
      "model_name": "TextModel",
      "state": {
       "description": "Ticker/Entity Name:*",
       "layout": "IPY_MODEL_3c0ce786c6724f4bb10133eee4d853b4",
       "placeholder": "Enter..",
       "style": "IPY_MODEL_048b6c369a524abeb7be6606438b7a41"
      }
     },
     "074188133e5b43659ae2771e8502ab70": {
      "model_module": "@jupyter-widgets/controls",
      "model_module_version": "1.5.0",
      "model_name": "DropdownModel",
      "state": {
       "_options_labels": [
        "Income Statement",
        "Balance Sheet",
        "Statements of Cash Flow",
        "Statements of Convertible Preferred Stock and Stockholder’s Equity"
       ],
       "description": "Financial Statement:*",
       "index": 0,
       "layout": "IPY_MODEL_59dff22c2b054fd0af10b78838b2d029",
       "style": "IPY_MODEL_54ed09fb7d354b35aafc1678647281e3"
      }
     },
     "0769e20fbbe44069bbe6a8bc8ec60ddd": {
      "model_module": "@jupyter-widgets/base",
      "model_module_version": "1.2.0",
      "model_name": "LayoutModel",
      "state": {
       "grid_area": "widget004"
      }
     },
     "0786b5fcca014c129921330d80604d26": {
      "model_module": "@jupyter-widgets/controls",
      "model_module_version": "1.5.0",
      "model_name": "DescriptionStyleModel",
      "state": {
       "description_width": ""
      }
     },
     "078b9c84ff154fbaa8f914871f8286aa": {
      "model_module": "@jupyter-widgets/base",
      "model_module_version": "1.2.0",
      "model_name": "LayoutModel",
      "state": {
       "grid_area": "widget001"
      }
     },
     "07a878fe35bc497c8a657f6d7fe533e9": {
      "model_module": "@jupyter-widgets/base",
      "model_module_version": "1.2.0",
      "model_name": "LayoutModel",
      "state": {
       "grid_area": "widget006"
      }
     },
     "07da0cfb911a4e04abc16972b3801df7": {
      "model_module": "@jupyter-widgets/controls",
      "model_module_version": "1.5.0",
      "model_name": "ComboboxModel",
      "state": {
       "description": "Filing Type:",
       "ensure_option": true,
       "layout": "IPY_MODEL_1f545105cd8244b4b03ac2238701d78c",
       "options": [
        "",
        "10-Q",
        "10-K",
        "10-Q/A",
        "10-QSB",
        "10-QT",
        "10-QT/A",
        "10-QSB",
        "10-QSB/A",
        "10-QSB12B",
        "10-K/A",
        "10-K405",
        "10-K405/A",
        "10-KSB",
        "10-KT",
        "10-KT/A"
       ],
       "placeholder": "Enter..",
       "style": "IPY_MODEL_ffb72bc8489d484f89e6aed8d3973e55",
       "value": "10-K"
      }
     },
     "07f01305ce3f45b0b2d58eabc98f0e3e": {
      "model_module": "@jupyter-widgets/controls",
      "model_module_version": "1.5.0",
      "model_name": "DescriptionStyleModel",
      "state": {
       "description_width": "initial"
      }
     },
     "081ba12cb5684d7b8d05f6d1d6ac37c4": {
      "model_module": "@jupyter-widgets/controls",
      "model_module_version": "1.5.0",
      "model_name": "DescriptionStyleModel",
      "state": {
       "description_width": ""
      }
     },
     "08ac6429986b47e089101b6a2e0a278d": {
      "model_module": "@jupyter-widgets/base",
      "model_module_version": "1.2.0",
      "model_name": "LayoutModel",
      "state": {
       "grid_area": "widget002"
      }
     },
     "09176babb5f04cbdb70fca74aa572cd5": {
      "model_module": "@jupyter-widgets/base",
      "model_module_version": "1.2.0",
      "model_name": "LayoutModel",
      "state": {
       "grid_area": "widget006"
      }
     },
     "0947ea9301814bcb9e53f52fd42f0eff": {
      "model_module": "@jupyter-widgets/controls",
      "model_module_version": "1.5.0",
      "model_name": "DescriptionStyleModel",
      "state": {
       "description_width": "initial"
      }
     },
     "09577e62dade4d619687790aa8fe4202": {
      "model_module": "@jupyter-widgets/controls",
      "model_module_version": "1.5.0",
      "model_name": "GridBoxModel",
      "state": {
       "children": [
        "IPY_MODEL_d90af34e5cdc462db4b42e55b1e784b5",
        "IPY_MODEL_017a3fb2d00a4b7686a7380f2153d952",
        "IPY_MODEL_cbf8a06c857c4db8a485373bd26b658f",
        "IPY_MODEL_b03df6735a03468dbc179e7d76f326a2",
        "IPY_MODEL_fd0768dc2882425d8d73ef4ef3a712a4",
        "IPY_MODEL_f7b31710f6a2492ab6b5000a176e0821"
       ],
       "layout": "IPY_MODEL_1320ebdeb21d457192a317a0b07266db"
      }
     },
     "096b8c2b676a46cda6b3d23db903f4c9": {
      "model_module": "@jupyter-widgets/base",
      "model_module_version": "1.2.0",
      "model_name": "LayoutModel",
      "state": {
       "grid_area": "widget001"
      }
     },
     "09b0bb8323704a1d91e3375c82a4b030": {
      "model_module": "@jupyter-widgets/controls",
      "model_module_version": "1.5.0",
      "model_name": "DropdownModel",
      "state": {
       "_options_labels": [
        "Financial Statement",
        "Item"
       ],
       "description": "Required Information:*",
       "index": 1,
       "layout": "IPY_MODEL_d9c3af4dab824ee1b385319c2b1cc30f",
       "style": "IPY_MODEL_331c3bf755e948b683e71c5df30e1494"
      }
     },
     "09e50264e8eb459685338775eaf95fac": {
      "model_module": "@jupyter-widgets/controls",
      "model_module_version": "1.5.0",
      "model_name": "DescriptionStyleModel",
      "state": {
       "description_width": ""
      }
     },
     "09fc2c74a27244bd8352acdc2f77bdc2": {
      "model_module": "@jupyter-widgets/controls",
      "model_module_version": "1.5.0",
      "model_name": "ButtonStyleModel",
      "state": {}
     },
     "09ffe0ee9f6f4a27b3b8553eb1056f2f": {
      "model_module": "@jupyter-widgets/base",
      "model_module_version": "1.2.0",
      "model_name": "LayoutModel",
      "state": {
       "grid_area": "widget001"
      }
     },
     "0a22ae4fffe04097beab3e4ccf8e811c": {
      "model_module": "@jupyter-widgets/base",
      "model_module_version": "1.2.0",
      "model_name": "LayoutModel",
      "state": {
       "grid_area": "widget005"
      }
     },
     "0a87013e767d4a21acb591ca3d55010a": {
      "model_module": "@jupyter-widgets/controls",
      "model_module_version": "1.5.0",
      "model_name": "TextModel",
      "state": {
       "description": "Ticker/Entity Name:*",
       "layout": "IPY_MODEL_85c82a78cf134d868ddd6f017aa6aa92",
       "placeholder": "Enter..",
       "style": "IPY_MODEL_b77993fcf3e840bdb43b3c301dc51a62",
       "value": "msft"
      }
     },
     "0a905c1c1b62426abe77022022810c16": {
      "model_module": "@jupyter-widgets/base",
      "model_module_version": "1.2.0",
      "model_name": "LayoutModel",
      "state": {
       "grid_area": "widget002"
      }
     },
     "0aa0531ce7864822aabc2bf109dd1daf": {
      "model_module": "@jupyter-widgets/controls",
      "model_module_version": "1.5.0",
      "model_name": "DescriptionStyleModel",
      "state": {
       "description_width": "initial"
      }
     },
     "0aeeb6a7136d4881b7a4c520173a0212": {
      "model_module": "@jupyter-widgets/controls",
      "model_module_version": "1.5.0",
      "model_name": "DescriptionStyleModel",
      "state": {
       "description_width": ""
      }
     },
     "0b65ab5aff114322baf4fd1ed1128130": {
      "model_module": "@jupyter-widgets/controls",
      "model_module_version": "1.5.0",
      "model_name": "DescriptionStyleModel",
      "state": {
       "description_width": ""
      }
     },
     "0b68026fc56540f080f424c223738161": {
      "model_module": "@jupyter-widgets/controls",
      "model_module_version": "1.5.0",
      "model_name": "DescriptionStyleModel",
      "state": {
       "description_width": ""
      }
     },
     "0bb8d667b88c4437b24e7803a235deb5": {
      "model_module": "@jupyter-widgets/controls",
      "model_module_version": "1.5.0",
      "model_name": "DatePickerModel",
      "state": {
       "description": "Pick a Date:",
       "disabled": false,
       "layout": "IPY_MODEL_ad2bfd7939cd4deebb083e42671e4ad6",
       "style": "IPY_MODEL_b4e0ea2e793844f8adec688be13e7229"
      }
     },
     "0bc70237b19343e791460e165e588a1b": {
      "model_module": "@jupyter-widgets/controls",
      "model_module_version": "1.5.0",
      "model_name": "DescriptionStyleModel",
      "state": {
       "description_width": "initial"
      }
     },
     "0c47d71d88be457888833047367db128": {
      "model_module": "@jupyter-widgets/controls",
      "model_module_version": "1.5.0",
      "model_name": "DropdownModel",
      "state": {
       "_options_labels": [
        "Income Statement",
        "Balance Sheet",
        "Statements of Cash Flow",
        "Statements of Convertible Preferred Stock and Stockholder’s Equity"
       ],
       "description": "Financial Statement:*",
       "index": 0,
       "layout": "IPY_MODEL_94738f8f74444d8cbae02cbaad3b6f5d",
       "style": "IPY_MODEL_67a2cd44079e4554bbc3d1089fefff30"
      }
     },
     "0c5a0a7d95d6434784312eccd5eaf151": {
      "model_module": "@jupyter-widgets/base",
      "model_module_version": "1.2.0",
      "model_name": "LayoutModel",
      "state": {
       "grid_area": "widget004"
      }
     },
     "0c7aeaa43e3b4186aa7be53e710e4549": {
      "model_module": "@jupyter-widgets/base",
      "model_module_version": "1.2.0",
      "model_name": "LayoutModel",
      "state": {
       "grid_area": "widget003"
      }
     },
     "0cac3e68463b4f88b32fe83b73e72b0a": {
      "model_module": "@jupyter-widgets/controls",
      "model_module_version": "1.5.0",
      "model_name": "DescriptionStyleModel",
      "state": {
       "description_width": ""
      }
     },
     "0cb3ccc654d3455cb9f32ab2d14107c5": {
      "model_module": "@jupyter-widgets/base",
      "model_module_version": "1.2.0",
      "model_name": "LayoutModel",
      "state": {
       "grid_area": "widget003"
      }
     },
     "0cb4ee0f49484513bec0a4bebc8f77e3": {
      "model_module": "@jupyter-widgets/controls",
      "model_module_version": "1.5.0",
      "model_name": "ComboboxModel",
      "state": {
       "description": "Filing Type:",
       "ensure_option": true,
       "layout": "IPY_MODEL_32bfddbe4b4a4d93b9e0a3e0bff9757e",
       "options": [
        "",
        "10-Q",
        "10-K",
        "10-Q/A",
        "10-QSB",
        "10-QT",
        "10-QT/A",
        "10-QSB",
        "10-QSB/A",
        "10-QSB12B",
        "10-K/A",
        "10-K405",
        "10-K405/A",
        "10-KSB",
        "10-KT",
        "10-KT/A"
       ],
       "placeholder": "Enter..",
       "style": "IPY_MODEL_afecdc2d32154dde8df49bb4fa6a185f"
      }
     },
     "0ccf54005cc2403bb97db6693bfcaabb": {
      "model_module": "@jupyter-widgets/controls",
      "model_module_version": "1.5.0",
      "model_name": "ButtonStyleModel",
      "state": {}
     },
     "0d2087684ad949779f48e2fa4b1ebea1": {
      "model_module": "@jupyter-widgets/base",
      "model_module_version": "1.2.0",
      "model_name": "LayoutModel",
      "state": {
       "grid_area": "widget001"
      }
     },
     "0daf64ed2dd94beb8ba78c16dda73711": {
      "model_module": "@jupyter-widgets/controls",
      "model_module_version": "1.5.0",
      "model_name": "DescriptionStyleModel",
      "state": {
       "description_width": "initial"
      }
     },
     "0db2b2f750e84c8ea999806b6492dc59": {
      "model_module": "@jupyter-widgets/controls",
      "model_module_version": "1.5.0",
      "model_name": "DatePickerModel",
      "state": {
       "description": "Pick a Date:",
       "disabled": false,
       "layout": "IPY_MODEL_dccd8eacf3c64e5ba9565279df921a01",
       "style": "IPY_MODEL_3a27350ea67e42528db726e55274ff34"
      }
     },
     "0dd67a16f55347a392061a23b0d51d3f": {
      "model_module": "@jupyter-widgets/base",
      "model_module_version": "1.2.0",
      "model_name": "LayoutModel",
      "state": {
       "grid_area": "widget004"
      }
     },
     "0e11dd3ee5114ef381eb741f87ff75e8": {
      "model_module": "@jupyter-widgets/controls",
      "model_module_version": "1.5.0",
      "model_name": "DescriptionStyleModel",
      "state": {
       "description_width": ""
      }
     },
     "0e5194bcb37d4ddfb7f2a64e83d7d99f": {
      "model_module": "@jupyter-widgets/controls",
      "model_module_version": "1.5.0",
      "model_name": "GridBoxModel",
      "state": {
       "children": [
        "IPY_MODEL_7f46ce98b7d140ae8040c2fbbc7fecce",
        "IPY_MODEL_43fc6cfb98ce42c7a94e220053f46982",
        "IPY_MODEL_73ba5a5d3ceb4844a8abdbfbad5bf746",
        "IPY_MODEL_2a4383699db44dc2a6d012b3b47eb6de",
        "IPY_MODEL_cee3fbba52d6449cb6690b2221a77865",
        "IPY_MODEL_5e97ef7ea32443c0965e5eaf30cc4a0e"
       ],
       "layout": "IPY_MODEL_4d94066f2331468fbcc06a907f328cb2"
      }
     },
     "0e5df2f48bf24c20a3980624600e2f5d": {
      "model_module": "@jupyter-widgets/controls",
      "model_module_version": "1.5.0",
      "model_name": "DescriptionStyleModel",
      "state": {
       "description_width": "initial"
      }
     },
     "0e68a9bd724e485ab83008ed521492c5": {
      "model_module": "@jupyter-widgets/base",
      "model_module_version": "1.2.0",
      "model_name": "LayoutModel",
      "state": {
       "grid_area": "widget002"
      }
     },
     "0e68dfa94d874be88b4fb9ffd01b4356": {
      "model_module": "@jupyter-widgets/base",
      "model_module_version": "1.2.0",
      "model_name": "LayoutModel",
      "state": {
       "grid_area": "widget001"
      }
     },
     "0e6c72096e61427886d669c5c4836288": {
      "model_module": "@jupyter-widgets/controls",
      "model_module_version": "1.5.0",
      "model_name": "DescriptionStyleModel",
      "state": {
       "description_width": ""
      }
     },
     "0e8ecd95282d4992b1f6b3be228c2cb7": {
      "model_module": "@jupyter-widgets/base",
      "model_module_version": "1.2.0",
      "model_name": "LayoutModel",
      "state": {
       "grid_template_areas": "\"widget001 .\"\n\"widget002 .\"\n\"widget003 .\"\n\"widget004 .\"\n\"widget005 .\"\n\"widget006 .\"\n\"widget007 widget007\"",
       "grid_template_columns": "repeat(2, 1fr)",
       "grid_template_rows": "repeat(7, 1fr)"
      }
     },
     "0eacbd0af7b84076bee60917035d4049": {
      "model_module": "@jupyter-widgets/controls",
      "model_module_version": "1.5.0",
      "model_name": "DatePickerModel",
      "state": {
       "description": "Pick a Date:",
       "disabled": false,
       "layout": "IPY_MODEL_377eaa05930a4c32af069b8667c273e1",
       "style": "IPY_MODEL_f78c442df8e9497d9423ece19050b706"
      }
     },
     "0ecc17df7892465e981d6a8ce179341d": {
      "model_module": "@jupyter-widgets/controls",
      "model_module_version": "1.5.0",
      "model_name": "TextModel",
      "state": {
       "description": "Ticker/Entity Name:*",
       "layout": "IPY_MODEL_807c3ec161ad49bc994626ec8ebcf8e4",
       "placeholder": "Enter..",
       "style": "IPY_MODEL_71501dd671034e46b6d88d55e23b20fb",
       "value": "msft"
      }
     },
     "0f2c46c040b1495e87106fc49da69ada": {
      "model_module": "@jupyter-widgets/base",
      "model_module_version": "1.2.0",
      "model_name": "LayoutModel",
      "state": {
       "grid_template_areas": "\"widget001 .\"\n\"widget002 .\"\n\"widget003 .\"\n\"widget004 .\"\n\"widget005 .\"\n\"widget006 .\"\n\"widget007 widget007\"",
       "grid_template_columns": "repeat(2, 1fr)",
       "grid_template_rows": "repeat(7, 1fr)"
      }
     },
     "0f68b8ef9f974429a152595ed9894856": {
      "model_module": "@jupyter-widgets/base",
      "model_module_version": "1.2.0",
      "model_name": "LayoutModel",
      "state": {
       "grid_area": "widget004"
      }
     },
     "108b652fabc34b44ad31218b02a60947": {
      "model_module": "@jupyter-widgets/controls",
      "model_module_version": "1.5.0",
      "model_name": "DescriptionStyleModel",
      "state": {
       "description_width": ""
      }
     },
     "1093bfe2e25f415cb654d9433e56f205": {
      "model_module": "@jupyter-widgets/controls",
      "model_module_version": "1.5.0",
      "model_name": "ButtonModel",
      "state": {
       "description": "Search",
       "icon": "search",
       "layout": "IPY_MODEL_7a3d16c16ea54441b11d6875e9899427",
       "style": "IPY_MODEL_e94528b60ad7409a8cacefd37f5658aa",
       "tooltip": "Search"
      }
     },
     "109e7c6c313d44249bd8d0e1aa71ad4f": {
      "model_module": "@jupyter-widgets/controls",
      "model_module_version": "1.5.0",
      "model_name": "DescriptionStyleModel",
      "state": {
       "description_width": "initial"
      }
     },
     "11242248b8714341b760ff4831295b29": {
      "model_module": "@jupyter-widgets/base",
      "model_module_version": "1.2.0",
      "model_name": "LayoutModel",
      "state": {
       "grid_area": "widget004"
      }
     },
     "11adfc75b73348a4b561a8bae51378d8": {
      "model_module": "@jupyter-widgets/base",
      "model_module_version": "1.2.0",
      "model_name": "LayoutModel",
      "state": {
       "grid_area": "widget001"
      }
     },
     "1217e47ca90e419383c6edca3ac368d8": {
      "model_module": "@jupyter-widgets/base",
      "model_module_version": "1.2.0",
      "model_name": "LayoutModel",
      "state": {
       "grid_area": "widget004"
      }
     },
     "12afe4fbd93c4674a614b3523ce11ce1": {
      "model_module": "@jupyter-widgets/controls",
      "model_module_version": "1.5.0",
      "model_name": "TextModel",
      "state": {
       "description": "Ticker/Entity Name:*",
       "layout": "IPY_MODEL_cf42561392114030bbda55e311243bdf",
       "placeholder": "Enter..",
       "style": "IPY_MODEL_565ad864686046d7854830789fef2e88",
       "value": "msft"
      }
     },
     "12b28c18feee428f83718cdb24761e75": {
      "model_module": "@jupyter-widgets/controls",
      "model_module_version": "1.5.0",
      "model_name": "DatePickerModel",
      "state": {
       "description": "Pick a Date:",
       "disabled": false,
       "layout": "IPY_MODEL_c7b2be4497704513b3693e0c3cc650cb",
       "style": "IPY_MODEL_d363803b6233472e8c328475e86cae41"
      }
     },
     "12b90d3572814f0c91c37152ac584cdf": {
      "model_module": "@jupyter-widgets/controls",
      "model_module_version": "1.5.0",
      "model_name": "DescriptionStyleModel",
      "state": {
       "description_width": ""
      }
     },
     "12cc32879de84970bde212b5d55b0686": {
      "model_module": "@jupyter-widgets/base",
      "model_module_version": "1.2.0",
      "model_name": "LayoutModel",
      "state": {
       "grid_template_areas": "\"widget001 .\"\n\"widget002 .\"\n\"widget003 .\"\n\"widget004 .\"\n\"widget005 .\"\n\"widget006 .\"\n\"widget007 widget007\"",
       "grid_template_columns": "repeat(2, 1fr)",
       "grid_template_rows": "repeat(7, 1fr)"
      }
     },
     "1320ebdeb21d457192a317a0b07266db": {
      "model_module": "@jupyter-widgets/base",
      "model_module_version": "1.2.0",
      "model_name": "LayoutModel",
      "state": {
       "grid_template_areas": "\"widget001 .\"\n\"widget002 .\"\n\"widget003 .\"\n\"widget004 .\"\n\"widget005 .\"\n\"widget006 widget006\"",
       "grid_template_columns": "repeat(2, 1fr)",
       "grid_template_rows": "repeat(6, 1fr)"
      }
     },
     "13267ee2b650414fba050636fddbbbba": {
      "model_module": "@jupyter-widgets/controls",
      "model_module_version": "1.5.0",
      "model_name": "ComboboxModel",
      "state": {
       "description": "Filing Type:",
       "ensure_option": true,
       "layout": "IPY_MODEL_8cec290e57954d6dbbce885ad20e4878",
       "options": [
        "",
        "10-Q",
        "10-K",
        "10-Q/A",
        "10-QSB",
        "10-QT",
        "10-QT/A",
        "10-QSB",
        "10-QSB/A",
        "10-QSB12B",
        "10-K/A",
        "10-K405",
        "10-K405/A",
        "10-KSB",
        "10-KT",
        "10-KT/A"
       ],
       "placeholder": "Enter..",
       "style": "IPY_MODEL_6f3edf3fbac946c683472599282998d9"
      }
     },
     "136554ea090e40168ebc8f794af3919f": {
      "model_module": "@jupyter-widgets/controls",
      "model_module_version": "1.5.0",
      "model_name": "DescriptionStyleModel",
      "state": {
       "description_width": "initial"
      }
     },
     "138b8507541a4ae992f049708a0a00bf": {
      "model_module": "@jupyter-widgets/controls",
      "model_module_version": "1.5.0",
      "model_name": "ComboboxModel",
      "state": {
       "description": "Filing Type:",
       "ensure_option": true,
       "layout": "IPY_MODEL_6959f60cdc8247aab004f90c3ad5427c",
       "options": [
        "",
        "10-Q",
        "10-K",
        "10-Q/A",
        "10-QSB",
        "10-QT",
        "10-QT/A",
        "10-QSB",
        "10-QSB/A",
        "10-QSB12B",
        "10-K/A",
        "10-K405",
        "10-K405/A",
        "10-KSB",
        "10-KT",
        "10-KT/A"
       ],
       "placeholder": "Enter..",
       "style": "IPY_MODEL_05f64d67b01149d7ba9e49ef09e3b868"
      }
     },
     "14585cdedfdb458f801d797407bb1936": {
      "model_module": "@jupyter-widgets/base",
      "model_module_version": "1.2.0",
      "model_name": "LayoutModel",
      "state": {
       "grid_area": "widget001"
      }
     },
     "146a110ca8f24ced96c4eb4ae5fe3441": {
      "model_module": "@jupyter-widgets/controls",
      "model_module_version": "1.5.0",
      "model_name": "DatePickerModel",
      "state": {
       "description": "Pick a Date:",
       "disabled": false,
       "layout": "IPY_MODEL_88e90106fd0d4593af61a6ad2e9e0d5d",
       "style": "IPY_MODEL_1af0634567c34b5f9bc34e2f73ca7e53"
      }
     },
     "1485b80efc8b49c8ae30f1231d013d0e": {
      "model_module": "@jupyter-widgets/controls",
      "model_module_version": "1.5.0",
      "model_name": "DescriptionStyleModel",
      "state": {
       "description_width": ""
      }
     },
     "149165aa1031404fab9c98c752fefc17": {
      "model_module": "@jupyter-widgets/controls",
      "model_module_version": "1.5.0",
      "model_name": "ComboboxModel",
      "state": {
       "description": "Filing Type:",
       "ensure_option": true,
       "layout": "IPY_MODEL_ed46b8c652c6499c9d996b62d5a2b898",
       "options": [
        "",
        "10-Q",
        "10-K",
        "10-Q/A",
        "10-QSB",
        "10-QT",
        "10-QT/A",
        "10-QSB",
        "10-QSB/A",
        "10-QSB12B",
        "10-K/A",
        "10-K405",
        "10-K405/A",
        "10-KSB",
        "10-KT",
        "10-KT/A"
       ],
       "placeholder": "Enter..",
       "style": "IPY_MODEL_3b8524e6faa0434bb8d62e2c9f69cc00"
      }
     },
     "150dd1e261cd4887876ad5d7054e4bcb": {
      "model_module": "@jupyter-widgets/controls",
      "model_module_version": "1.5.0",
      "model_name": "DatePickerModel",
      "state": {
       "description": "Pick a Date:",
       "disabled": false,
       "layout": "IPY_MODEL_7ba2b66f97fe49afbe03177ef9cdea81",
       "style": "IPY_MODEL_e05b6db27d6a40c6b25e5b71e6748797"
      }
     },
     "1521ddf98793407f9e22ce0c835b7e66": {
      "model_module": "@jupyter-widgets/controls",
      "model_module_version": "1.5.0",
      "model_name": "DescriptionStyleModel",
      "state": {
       "description_width": ""
      }
     },
     "15278184296049608a1edeb73080ed9b": {
      "model_module": "@jupyter-widgets/controls",
      "model_module_version": "1.5.0",
      "model_name": "ButtonStyleModel",
      "state": {}
     },
     "154d616d17ac4662bd5c8ac37f11cac5": {
      "model_module": "@jupyter-widgets/controls",
      "model_module_version": "1.5.0",
      "model_name": "DropdownModel",
      "state": {
       "_options_labels": [
        "Income Statement",
        "Balance Sheet",
        "Statements of Cash Flow",
        "Statements of Convertible Preferred Stock and Stockholder’s Equity"
       ],
       "description": "Financial Statement:*",
       "index": 0,
       "layout": "IPY_MODEL_05702fe069464c63b5fb1e62b9c3bc08",
       "style": "IPY_MODEL_955b93155cc246b4b621d29148909a83"
      }
     },
     "157385dc35914f38a0896a786e3f22e5": {
      "model_module": "@jupyter-widgets/controls",
      "model_module_version": "1.5.0",
      "model_name": "DescriptionStyleModel",
      "state": {
       "description_width": "initial"
      }
     },
     "15ce0d5074e54f06b7ebfe5913f88bb9": {
      "model_module": "@jupyter-widgets/base",
      "model_module_version": "1.2.0",
      "model_name": "LayoutModel",
      "state": {
       "grid_template_areas": "\"widget001 .\"\n\"widget002 .\"\n\"widget003 .\"\n\"widget004 .\"\n\"widget005 .\"\n\"widget006 widget006\"",
       "grid_template_columns": "repeat(2, 1fr)",
       "grid_template_rows": "repeat(6, 1fr)"
      }
     },
     "15ed8404dd7e46b2894216829991b9df": {
      "model_module": "@jupyter-widgets/controls",
      "model_module_version": "1.5.0",
      "model_name": "DatePickerModel",
      "state": {
       "description": "Pick a Date:",
       "disabled": false,
       "layout": "IPY_MODEL_ceb73f9915bc473891555d6a66bdf5da",
       "style": "IPY_MODEL_18ba25b856614d1185e450e96f0d14ac"
      }
     },
     "16203e8ceaf044a8ac8807c5a97922cd": {
      "model_module": "@jupyter-widgets/controls",
      "model_module_version": "1.5.0",
      "model_name": "DescriptionStyleModel",
      "state": {
       "description_width": "initial"
      }
     },
     "162b7c1c9be844578f49d03f71f68042": {
      "model_module": "@jupyter-widgets/base",
      "model_module_version": "1.2.0",
      "model_name": "LayoutModel",
      "state": {
       "grid_area": "widget003"
      }
     },
     "163c637fba0b4c44930853d26de44457": {
      "model_module": "@jupyter-widgets/controls",
      "model_module_version": "1.5.0",
      "model_name": "DescriptionStyleModel",
      "state": {
       "description_width": ""
      }
     },
     "1651a0bf89b54e6e90bb651be331b282": {
      "model_module": "@jupyter-widgets/controls",
      "model_module_version": "1.5.0",
      "model_name": "GridBoxModel",
      "state": {
       "children": [
        "IPY_MODEL_256647bcdd25460480ce136935c7f383",
        "IPY_MODEL_443e279e50904c8184fa2b94ee7fda5b",
        "IPY_MODEL_9963f1fe50f2410e9c04c06309e78a20",
        "IPY_MODEL_a4630834c5b54f2886439c335ef8d4d7",
        "IPY_MODEL_65fbccdadfbf4c1f84d038f1e1c86ed0",
        "IPY_MODEL_ad6924ffe26b4e3bae7bca95941a9b6e"
       ],
       "layout": "IPY_MODEL_9c44874de1a243439a2f3d665781687b"
      }
     },
     "1687403753044a60829198d803539513": {
      "model_module": "@jupyter-widgets/base",
      "model_module_version": "1.2.0",
      "model_name": "LayoutModel",
      "state": {
       "grid_area": "widget004"
      }
     },
     "1697743fcc9b4760ac115cc4d1156088": {
      "model_module": "@jupyter-widgets/base",
      "model_module_version": "1.2.0",
      "model_name": "LayoutModel",
      "state": {
       "grid_area": "widget002"
      }
     },
     "169dd854f974418aa4b8a0c4bbabf7c0": {
      "model_module": "@jupyter-widgets/controls",
      "model_module_version": "1.5.0",
      "model_name": "DescriptionStyleModel",
      "state": {
       "description_width": "initial"
      }
     },
     "16c5f05c5529410c8af98756e3b162bb": {
      "model_module": "@jupyter-widgets/base",
      "model_module_version": "1.2.0",
      "model_name": "LayoutModel",
      "state": {
       "grid_area": "widget002"
      }
     },
     "1743a255db6a444a8ae2599aa5a253e0": {
      "model_module": "@jupyter-widgets/controls",
      "model_module_version": "1.5.0",
      "model_name": "ComboboxModel",
      "state": {
       "description": "Filing Type:",
       "ensure_option": true,
       "layout": "IPY_MODEL_19812229e5ec473c875073d6be7931bd",
       "options": [
        "",
        "10-Q",
        "10-K",
        "10-Q/A",
        "10-QSB",
        "10-QT",
        "10-QT/A",
        "10-QSB",
        "10-QSB/A",
        "10-QSB12B",
        "10-K/A",
        "10-K405",
        "10-K405/A",
        "10-KSB",
        "10-KT",
        "10-KT/A"
       ],
       "placeholder": "Enter..",
       "style": "IPY_MODEL_d0b03c549e9a4d31ae27c8a34092c23b"
      }
     },
     "175bec7a3bac47f480374b5691ab32d5": {
      "model_module": "@jupyter-widgets/base",
      "model_module_version": "1.2.0",
      "model_name": "LayoutModel",
      "state": {
       "grid_area": "widget002"
      }
     },
     "175d84f7c5584bba91aa10e5c5c5fc50": {
      "model_module": "@jupyter-widgets/base",
      "model_module_version": "1.2.0",
      "model_name": "LayoutModel",
      "state": {
       "grid_template_areas": "\"widget001 .\"\n\"widget002 .\"\n\"widget003 .\"\n\"widget004 .\"\n\"widget005 .\"\n\"widget006 widget006\"",
       "grid_template_columns": "repeat(2, 1fr)",
       "grid_template_rows": "repeat(6, 1fr)"
      }
     },
     "17aab03250e14d8aa669f28f099b5c80": {
      "model_module": "@jupyter-widgets/controls",
      "model_module_version": "1.5.0",
      "model_name": "DescriptionStyleModel",
      "state": {
       "description_width": ""
      }
     },
     "17e01a8b1dfa4e53b2d62e832883ed1c": {
      "model_module": "@jupyter-widgets/controls",
      "model_module_version": "1.5.0",
      "model_name": "ButtonModel",
      "state": {
       "description": "Search",
       "icon": "search",
       "layout": "IPY_MODEL_dcaddd82585e4ea4be1491b2e6064ae9",
       "style": "IPY_MODEL_42baab4e4390466d8257247e20aa8f4e",
       "tooltip": "Search"
      }
     },
     "18780ec667ed41ec918f7a6defd747cb": {
      "model_module": "@jupyter-widgets/controls",
      "model_module_version": "1.5.0",
      "model_name": "DescriptionStyleModel",
      "state": {
       "description_width": ""
      }
     },
     "1895ef0a75a246d485c2bacbf230e69d": {
      "model_module": "@jupyter-widgets/base",
      "model_module_version": "1.2.0",
      "model_name": "LayoutModel",
      "state": {
       "grid_template_areas": "\"widget001 .\"\n\"widget002 .\"\n\"widget003 .\"\n\"widget004 .\"\n\"widget005 .\"\n\"widget006 widget006\"",
       "grid_template_columns": "repeat(2, 1fr)",
       "grid_template_rows": "repeat(6, 1fr)"
      }
     },
     "18ba25b856614d1185e450e96f0d14ac": {
      "model_module": "@jupyter-widgets/controls",
      "model_module_version": "1.5.0",
      "model_name": "DescriptionStyleModel",
      "state": {
       "description_width": ""
      }
     },
     "1951752a500c4c2fb5dd36ccccf4c85e": {
      "model_module": "@jupyter-widgets/controls",
      "model_module_version": "1.5.0",
      "model_name": "DescriptionStyleModel",
      "state": {
       "description_width": ""
      }
     },
     "19812229e5ec473c875073d6be7931bd": {
      "model_module": "@jupyter-widgets/base",
      "model_module_version": "1.2.0",
      "model_name": "LayoutModel",
      "state": {
       "grid_area": "widget002"
      }
     },
     "1a0088a9789344ada1f3ff6e3a767a74": {
      "model_module": "@jupyter-widgets/controls",
      "model_module_version": "1.5.0",
      "model_name": "DatePickerModel",
      "state": {
       "description": "Pick a Date:",
       "disabled": false,
       "layout": "IPY_MODEL_99e43348e58340b7802ddb932f7b6c56",
       "style": "IPY_MODEL_9e5dcd6d13614f06b0e3cfc96864e5a1"
      }
     },
     "1a2e504100c449948c3747b3debb85ae": {
      "model_module": "@jupyter-widgets/controls",
      "model_module_version": "1.5.0",
      "model_name": "ButtonModel",
      "state": {
       "description": "Search",
       "icon": "search",
       "layout": "IPY_MODEL_e0815e51185e46d48e6da69bd2657654",
       "style": "IPY_MODEL_95f8bd5b7775437db851e44786cde173",
       "tooltip": "Search"
      }
     },
     "1a66afd0d147469a80bbdfdf1ef64b27": {
      "model_module": "@jupyter-widgets/base",
      "model_module_version": "1.2.0",
      "model_name": "LayoutModel",
      "state": {
       "grid_area": "widget004"
      }
     },
     "1a771a148b05430286c3e3f551049fbb": {
      "model_module": "@jupyter-widgets/controls",
      "model_module_version": "1.5.0",
      "model_name": "DescriptionStyleModel",
      "state": {
       "description_width": "initial"
      }
     },
     "1aa8d0c35d5648a6961e378805ff42d6": {
      "model_module": "@jupyter-widgets/base",
      "model_module_version": "1.2.0",
      "model_name": "LayoutModel",
      "state": {
       "grid_area": "widget003"
      }
     },
     "1af0634567c34b5f9bc34e2f73ca7e53": {
      "model_module": "@jupyter-widgets/controls",
      "model_module_version": "1.5.0",
      "model_name": "DescriptionStyleModel",
      "state": {
       "description_width": ""
      }
     },
     "1af1789b51584f2fae6b8ca0fe44db6a": {
      "model_module": "@jupyter-widgets/controls",
      "model_module_version": "1.5.0",
      "model_name": "DropdownModel",
      "state": {
       "_options_labels": [
        "Income Statement",
        "Balance Sheet",
        "Statements of Cash Flow",
        "Statements of Convertible Preferred Stock and Stockholder’s Equity"
       ],
       "description": "Financial Statement:*",
       "index": 0,
       "layout": "IPY_MODEL_5fc862a8130a4d5ea2d7b2a9b7d945c8",
       "style": "IPY_MODEL_e45878835b6f498ebb602c950bbf0b54"
      }
     },
     "1b2084e5180947e29dfa733069566b7b": {
      "model_module": "@jupyter-widgets/controls",
      "model_module_version": "1.5.0",
      "model_name": "DatePickerModel",
      "state": {
       "description": "Pick a Date:",
       "disabled": false,
       "layout": "IPY_MODEL_aaf4b7cc7962448b8404f8832475897d",
       "style": "IPY_MODEL_c05880a5774d456e9a25cd461a65129d"
      }
     },
     "1b31953661f646049d6fcd587a83bd5f": {
      "model_module": "@jupyter-widgets/base",
      "model_module_version": "1.2.0",
      "model_name": "LayoutModel",
      "state": {
       "grid_area": "widget003"
      }
     },
     "1ba9645b4c5942fcb5371bba934afa1c": {
      "model_module": "@jupyter-widgets/base",
      "model_module_version": "1.2.0",
      "model_name": "LayoutModel",
      "state": {
       "grid_area": "widget004"
      }
     },
     "1bd8bab3c5c544a4aabd9beb34d857b9": {
      "model_module": "@jupyter-widgets/controls",
      "model_module_version": "1.5.0",
      "model_name": "DatePickerModel",
      "state": {
       "description": "Pick a Date:",
       "disabled": false,
       "layout": "IPY_MODEL_a1f94cf4e58248de97e151c2e383fa9c",
       "style": "IPY_MODEL_1521ddf98793407f9e22ce0c835b7e66"
      }
     },
     "1bf2c08fc82c4409ae4491a7f80617cf": {
      "model_module": "@jupyter-widgets/controls",
      "model_module_version": "1.5.0",
      "model_name": "DescriptionStyleModel",
      "state": {
       "description_width": "initial"
      }
     },
     "1c0ba179bdd747baaa246e03d31aaad7": {
      "model_module": "@jupyter-widgets/controls",
      "model_module_version": "1.5.0",
      "model_name": "DatePickerModel",
      "state": {
       "description": "Pick a Date:",
       "disabled": false,
       "layout": "IPY_MODEL_43cc60d153e1405abbc530ae3905563d",
       "style": "IPY_MODEL_081ba12cb5684d7b8d05f6d1d6ac37c4"
      }
     },
     "1c236a57777d466e82f61bb2bf412a28": {
      "model_module": "@jupyter-widgets/controls",
      "model_module_version": "1.5.0",
      "model_name": "DescriptionStyleModel",
      "state": {
       "description_width": ""
      }
     },
     "1c28162c6b974a64ad104c1d45621084": {
      "model_module": "@jupyter-widgets/base",
      "model_module_version": "1.2.0",
      "model_name": "LayoutModel",
      "state": {
       "grid_area": "widget005"
      }
     },
     "1d04e024b47843bb81bbbc08e0c0646b": {
      "model_module": "@jupyter-widgets/base",
      "model_module_version": "1.2.0",
      "model_name": "LayoutModel",
      "state": {
       "grid_area": "widget004"
      }
     },
     "1d261ee172644ac488b0b7b7e5a5028b": {
      "model_module": "@jupyter-widgets/base",
      "model_module_version": "1.2.0",
      "model_name": "LayoutModel",
      "state": {
       "grid_area": "widget005"
      }
     },
     "1d85fcb1f1cb43a5b45549b5e5bff832": {
      "model_module": "@jupyter-widgets/controls",
      "model_module_version": "1.5.0",
      "model_name": "ButtonModel",
      "state": {
       "description": "Search",
       "icon": "search",
       "layout": "IPY_MODEL_d19ec0eafdd5461fadfe4c21fb382650",
       "style": "IPY_MODEL_252b2f4bfff9465eadbc7d9df245d525",
       "tooltip": "Search"
      }
     },
     "1dfeae6a45374997ad854c0d9e125b44": {
      "model_module": "@jupyter-widgets/base",
      "model_module_version": "1.2.0",
      "model_name": "LayoutModel",
      "state": {
       "grid_area": "widget001"
      }
     },
     "1e23697bfd6b403581477a34ed231684": {
      "model_module": "@jupyter-widgets/base",
      "model_module_version": "1.2.0",
      "model_name": "LayoutModel",
      "state": {
       "grid_area": "widget001"
      }
     },
     "1f1b4e4319c048d6beeed89ffba15e1c": {
      "model_module": "@jupyter-widgets/controls",
      "model_module_version": "1.5.0",
      "model_name": "DescriptionStyleModel",
      "state": {
       "description_width": ""
      }
     },
     "1f2d1b8012144f5ebefb74fb14aa7866": {
      "model_module": "@jupyter-widgets/base",
      "model_module_version": "1.2.0",
      "model_name": "LayoutModel",
      "state": {
       "grid_area": "widget005"
      }
     },
     "1f3dfd184d7b40978abd6ce0d9ce6659": {
      "model_module": "@jupyter-widgets/controls",
      "model_module_version": "1.5.0",
      "model_name": "DescriptionStyleModel",
      "state": {
       "description_width": ""
      }
     },
     "1f4007d783d547bea96d5ced4f94f78a": {
      "model_module": "@jupyter-widgets/base",
      "model_module_version": "1.2.0",
      "model_name": "LayoutModel",
      "state": {
       "grid_area": "widget003"
      }
     },
     "1f545105cd8244b4b03ac2238701d78c": {
      "model_module": "@jupyter-widgets/base",
      "model_module_version": "1.2.0",
      "model_name": "LayoutModel",
      "state": {
       "grid_area": "widget002"
      }
     },
     "1fda0f32438f4864a9b9b7bb95d97b8b": {
      "model_module": "@jupyter-widgets/controls",
      "model_module_version": "1.5.0",
      "model_name": "GridBoxModel",
      "state": {
       "children": [
        "IPY_MODEL_e9adc86fd23b436599cec4108892834e",
        "IPY_MODEL_aeaea9333abe44d8ad57c5a20db6aad0",
        "IPY_MODEL_d42910d47d6e416d9bcadccad6a96ec0",
        "IPY_MODEL_75937374c29e4353926c653c4157cfd2",
        "IPY_MODEL_7ee018f651f448359f59f4dd82f5654a",
        "IPY_MODEL_31b81cf920d54c338e513cab8f264ca1"
       ],
       "layout": "IPY_MODEL_4de7e53a3cba45f1a5960bfc293a6fa4"
      }
     },
     "203f36ab4b094323abed97ce1aaa10df": {
      "model_module": "@jupyter-widgets/base",
      "model_module_version": "1.2.0",
      "model_name": "LayoutModel",
      "state": {
       "grid_template_areas": "\"widget001 .\"\n\"widget002 .\"\n\"widget003 .\"\n\"widget004 .\"\n\"widget005 .\"\n\"widget006 widget006\"",
       "grid_template_columns": "repeat(2, 1fr)",
       "grid_template_rows": "repeat(6, 1fr)"
      }
     },
     "20b91eecd77f4f35af4225ad43510df7": {
      "model_module": "@jupyter-widgets/controls",
      "model_module_version": "1.5.0",
      "model_name": "DescriptionStyleModel",
      "state": {
       "description_width": ""
      }
     },
     "210f43d6ed744e6cab36f1e9b58705bf": {
      "model_module": "@jupyter-widgets/controls",
      "model_module_version": "1.5.0",
      "model_name": "DescriptionStyleModel",
      "state": {
       "description_width": "initial"
      }
     },
     "211faf62d3fd4996bf9710a51bfdccaa": {
      "model_module": "@jupyter-widgets/base",
      "model_module_version": "1.2.0",
      "model_name": "LayoutModel",
      "state": {
       "grid_area": "widget004"
      }
     },
     "213ef4485c294be394b4adef753f2967": {
      "model_module": "@jupyter-widgets/controls",
      "model_module_version": "1.5.0",
      "model_name": "DescriptionStyleModel",
      "state": {
       "description_width": ""
      }
     },
     "213f0aa215a7462dac6e6729eb12737c": {
      "model_module": "@jupyter-widgets/controls",
      "model_module_version": "1.5.0",
      "model_name": "DescriptionStyleModel",
      "state": {
       "description_width": ""
      }
     },
     "2159f792e05647029499bf55cee4ffdf": {
      "model_module": "@jupyter-widgets/controls",
      "model_module_version": "1.5.0",
      "model_name": "ComboboxModel",
      "state": {
       "description": "Filing Type:",
       "ensure_option": true,
       "layout": "IPY_MODEL_7f6a2d95e11f45e381a37e3f554d9d59",
       "options": [
        "",
        "10-Q",
        "10-K",
        "10-Q/A",
        "10-QSB",
        "10-QT",
        "10-QT/A",
        "10-QSB",
        "10-QSB/A",
        "10-QSB12B",
        "10-K/A",
        "10-K405",
        "10-K405/A",
        "10-KSB",
        "10-KT",
        "10-KT/A"
       ],
       "placeholder": "Enter..",
       "style": "IPY_MODEL_bd0a5f3f38594331bfd723884427f1cf"
      }
     },
     "21832dc8b7ea4e05951ef2505e18767f": {
      "model_module": "@jupyter-widgets/base",
      "model_module_version": "1.2.0",
      "model_name": "LayoutModel",
      "state": {
       "grid_template_areas": "\"widget001 .\"\n\"widget002 .\"\n\"widget003 .\"\n\"widget004 .\"\n\"widget005 .\"\n\"widget006 widget006\"",
       "grid_template_columns": "repeat(2, 1fr)",
       "grid_template_rows": "repeat(6, 1fr)"
      }
     },
     "21e2504f2d6846d78f21cb7cae83f5c4": {
      "model_module": "@jupyter-widgets/controls",
      "model_module_version": "1.5.0",
      "model_name": "DescriptionStyleModel",
      "state": {
       "description_width": ""
      }
     },
     "21efc446011940fdbfbd19de72d4fd91": {
      "model_module": "@jupyter-widgets/controls",
      "model_module_version": "1.5.0",
      "model_name": "DatePickerModel",
      "state": {
       "description": "Pick a Date:",
       "disabled": false,
       "layout": "IPY_MODEL_7ada34396e3d4da98d5b425b4bfc5f5c",
       "style": "IPY_MODEL_a34498eb383449a4812c3afe2f24e10b"
      }
     },
     "223806666d87401aaad17779e3d32270": {
      "model_module": "@jupyter-widgets/controls",
      "model_module_version": "1.5.0",
      "model_name": "DescriptionStyleModel",
      "state": {
       "description_width": ""
      }
     },
     "22388f50f8cd47f2b82623f98901cc06": {
      "model_module": "@jupyter-widgets/controls",
      "model_module_version": "1.5.0",
      "model_name": "GridBoxModel",
      "state": {
       "children": [
        "IPY_MODEL_5417a49e4bf74beda72785caa4f05966",
        "IPY_MODEL_b1f972ba3fa34271b9abf1ecc1dd6815",
        "IPY_MODEL_a22914d7632448a4b95dee442c5c179b",
        "IPY_MODEL_da3e1b07a4ac4623823bac679e757bdd",
        "IPY_MODEL_84422671d32a4b0f94c789342ba29255",
        "IPY_MODEL_c7cbc779cbab413a8e97c3ba3b33a454"
       ],
       "layout": "IPY_MODEL_7d5a8f3f86a34bb9b003f737d76c1d86"
      }
     },
     "224727736f4040bba1e969b808b456e9": {
      "model_module": "@jupyter-widgets/controls",
      "model_module_version": "1.5.0",
      "model_name": "DescriptionStyleModel",
      "state": {
       "description_width": "initial"
      }
     },
     "22d43a695e1d4a7986f5542397979fcc": {
      "model_module": "@jupyter-widgets/base",
      "model_module_version": "1.2.0",
      "model_name": "LayoutModel",
      "state": {
       "grid_area": "widget002"
      }
     },
     "230bea4c1018407296b3ee72bf2f9703": {
      "model_module": "@jupyter-widgets/base",
      "model_module_version": "1.2.0",
      "model_name": "LayoutModel",
      "state": {
       "grid_area": "widget002"
      }
     },
     "235893fee74248c0957872e191ffbd37": {
      "model_module": "@jupyter-widgets/controls",
      "model_module_version": "1.5.0",
      "model_name": "DescriptionStyleModel",
      "state": {
       "description_width": ""
      }
     },
     "23a76936e9a44511a1029ac3fe1f5941": {
      "model_module": "@jupyter-widgets/controls",
      "model_module_version": "1.5.0",
      "model_name": "ButtonStyleModel",
      "state": {}
     },
     "23ae54ea88a74ce99e4776fd7c53447a": {
      "model_module": "@jupyter-widgets/base",
      "model_module_version": "1.2.0",
      "model_name": "LayoutModel",
      "state": {
       "grid_area": "widget005"
      }
     },
     "23b6b2ae61af45fcb57b21e5842524d6": {
      "model_module": "@jupyter-widgets/controls",
      "model_module_version": "1.5.0",
      "model_name": "DescriptionStyleModel",
      "state": {
       "description_width": ""
      }
     },
     "23e0621896dc4007903d95ac36946b6c": {
      "model_module": "@jupyter-widgets/controls",
      "model_module_version": "1.5.0",
      "model_name": "DatePickerModel",
      "state": {
       "description": "Pick a Date:",
       "disabled": false,
       "layout": "IPY_MODEL_c47a33e868d44027b011b75f08e22ee3",
       "style": "IPY_MODEL_347ce6d52b6e466281168d1b1e67d88a"
      }
     },
     "2417a8b6194d4487a6588cf79e605333": {
      "model_module": "@jupyter-widgets/base",
      "model_module_version": "1.2.0",
      "model_name": "LayoutModel",
      "state": {
       "grid_area": "widget001"
      }
     },
     "2426ef6ab68b474fa2d43a92858b4bbd": {
      "model_module": "@jupyter-widgets/controls",
      "model_module_version": "1.5.0",
      "model_name": "DescriptionStyleModel",
      "state": {
       "description_width": "initial"
      }
     },
     "249f9e1bcc4c4ccfbc4d7b65a47ac0c3": {
      "model_module": "@jupyter-widgets/controls",
      "model_module_version": "1.5.0",
      "model_name": "DescriptionStyleModel",
      "state": {
       "description_width": ""
      }
     },
     "24df79d932034b4cbf27e5e5f12c3cfa": {
      "model_module": "@jupyter-widgets/base",
      "model_module_version": "1.2.0",
      "model_name": "LayoutModel",
      "state": {
       "grid_area": "widget003"
      }
     },
     "252b2f4bfff9465eadbc7d9df245d525": {
      "model_module": "@jupyter-widgets/controls",
      "model_module_version": "1.5.0",
      "model_name": "ButtonStyleModel",
      "state": {}
     },
     "25546d4c18884b81a8e563c6f347d989": {
      "model_module": "@jupyter-widgets/base",
      "model_module_version": "1.2.0",
      "model_name": "LayoutModel",
      "state": {
       "grid_area": "widget001"
      }
     },
     "256647bcdd25460480ce136935c7f383": {
      "model_module": "@jupyter-widgets/controls",
      "model_module_version": "1.5.0",
      "model_name": "TextModel",
      "state": {
       "description": "Ticker/Entity Name:*",
       "layout": "IPY_MODEL_1dfeae6a45374997ad854c0d9e125b44",
       "placeholder": "Enter..",
       "style": "IPY_MODEL_5fa740cc383140e69f1c9efdb6e4cfcd"
      }
     },
     "25ac0dae9340401a9787ae4d73c93bb7": {
      "model_module": "@jupyter-widgets/controls",
      "model_module_version": "1.5.0",
      "model_name": "GridBoxModel",
      "state": {
       "children": [
        "IPY_MODEL_75c725397234410ea7f14a4d5cd22a88",
        "IPY_MODEL_e89ef5a513f7483ea335696463bf20d0",
        "IPY_MODEL_6080438b5ea74b3b8ec5eb647db1399b",
        "IPY_MODEL_e08ac6f8fc3049b4a543c8f7c3ee9d05",
        "IPY_MODEL_f00c7d535aff470cbf9f9a56650e1512",
        "IPY_MODEL_26fa332bb54f440983faca4f1a9aa42a"
       ],
       "layout": "IPY_MODEL_94606a20aa81462b9b907cc9df073c7b"
      }
     },
     "25b7b2f993b944e59de24d50437ebb98": {
      "model_module": "@jupyter-widgets/controls",
      "model_module_version": "1.5.0",
      "model_name": "ButtonModel",
      "state": {
       "description": "Search",
       "icon": "search",
       "layout": "IPY_MODEL_67dcf8b33e174ca6bf31225af314e596",
       "style": "IPY_MODEL_c4b262788afb4c628a515ceb3cd47d7f",
       "tooltip": "Search"
      }
     },
     "25cd7c0b5089466daa5c2e6004927d82": {
      "model_module": "@jupyter-widgets/base",
      "model_module_version": "1.2.0",
      "model_name": "LayoutModel",
      "state": {
       "grid_area": "widget004"
      }
     },
     "26029fd3a9994d7da10eb158ba2a5f5d": {
      "model_module": "@jupyter-widgets/controls",
      "model_module_version": "1.5.0",
      "model_name": "DropdownModel",
      "state": {
       "_options_labels": [
        "Financial Statement",
        "Item"
       ],
       "description": "Required Information:",
       "index": 0,
       "layout": "IPY_MODEL_fcaa0d85686d445d96c65218b218bb09",
       "style": "IPY_MODEL_3a76c41955834ad9b69f34c01e2569ae"
      }
     },
     "2613a79aa2394be4a05039ad43bcdefd": {
      "model_module": "@jupyter-widgets/base",
      "model_module_version": "1.2.0",
      "model_name": "LayoutModel",
      "state": {
       "grid_template_areas": "\"widget001 .\"\n\"widget002 .\"\n\"widget003 .\"\n\"widget004 .\"\n\"widget005 .\"\n\"widget006 widget006\"",
       "grid_template_columns": "repeat(2, 1fr)",
       "grid_template_rows": "repeat(6, 1fr)"
      }
     },
     "2634ef44d96a46acb1ea94f0ef9fc8c8": {
      "model_module": "@jupyter-widgets/controls",
      "model_module_version": "1.5.0",
      "model_name": "ComboboxModel",
      "state": {
       "description": "Filing Type:",
       "ensure_option": true,
       "layout": "IPY_MODEL_cc640ac703034daca87c85bfac4ba477",
       "options": [
        "",
        "10-Q",
        "10-K",
        "10-Q/A",
        "10-QSB",
        "10-QT",
        "10-QT/A",
        "10-QSB",
        "10-QSB/A",
        "10-QSB12B",
        "10-K/A",
        "10-K405",
        "10-K405/A",
        "10-KSB",
        "10-KT",
        "10-KT/A"
       ],
       "placeholder": "Enter..",
       "style": "IPY_MODEL_f9db051addc84bf28c87862a6e1223da"
      }
     },
     "263a3d9e5ccc497099298bdc09307e86": {
      "model_module": "@jupyter-widgets/controls",
      "model_module_version": "1.5.0",
      "model_name": "DescriptionStyleModel",
      "state": {
       "description_width": ""
      }
     },
     "26e8947ecdbb4f76bf217e913d409a29": {
      "model_module": "@jupyter-widgets/base",
      "model_module_version": "1.2.0",
      "model_name": "LayoutModel",
      "state": {
       "grid_area": "widget005"
      }
     },
     "26f2709ff6a74ff7ae4296a0dd7d2576": {
      "model_module": "@jupyter-widgets/base",
      "model_module_version": "1.2.0",
      "model_name": "LayoutModel",
      "state": {
       "grid_area": "widget006"
      }
     },
     "26fa332bb54f440983faca4f1a9aa42a": {
      "model_module": "@jupyter-widgets/controls",
      "model_module_version": "1.5.0",
      "model_name": "ButtonModel",
      "state": {
       "description": "Search",
       "icon": "search",
       "layout": "IPY_MODEL_4ccde7abc5f14c99942fed98060cc3dd",
       "style": "IPY_MODEL_f3b46a421e9a42c5baa36b5136f817cc",
       "tooltip": "Search"
      }
     },
     "270d7df16afb42538127aad2166b8162": {
      "model_module": "@jupyter-widgets/base",
      "model_module_version": "1.2.0",
      "model_name": "LayoutModel",
      "state": {
       "grid_area": "widget006"
      }
     },
     "2735259ad2f749f8b0b5a6bc6973dfeb": {
      "model_module": "@jupyter-widgets/controls",
      "model_module_version": "1.5.0",
      "model_name": "ButtonModel",
      "state": {
       "description": "Search",
       "icon": "search",
       "layout": "IPY_MODEL_eda21242c5ea47be91903806b992000d",
       "style": "IPY_MODEL_9a1b13cace874d8d89fde239c35d3b58",
       "tooltip": "Search"
      }
     },
     "2737bb8bed504408a39c0b13ba9e0271": {
      "model_module": "@jupyter-widgets/controls",
      "model_module_version": "1.5.0",
      "model_name": "GridBoxModel",
      "state": {
       "children": [
        "IPY_MODEL_5298d20414f2434dbf4706035a06aea6",
        "IPY_MODEL_e619aa75fbaa48a78871ae4780d507dd",
        "IPY_MODEL_fcffc138f38b4a75b75183f63bd5d212",
        "IPY_MODEL_fb336cb95f1c4c44a6e55937aedae529",
        "IPY_MODEL_150dd1e261cd4887876ad5d7054e4bcb",
        "IPY_MODEL_87fa9ceef9cc40f391b699d37ed96544"
       ],
       "layout": "IPY_MODEL_31f05ffbe0284e518fed8537401d2951"
      }
     },
     "278efd6507ec4084a4ff99a5aefd7bae": {
      "model_module": "@jupyter-widgets/base",
      "model_module_version": "1.2.0",
      "model_name": "LayoutModel",
      "state": {
       "grid_area": "widget001"
      }
     },
     "27c7e3144ee44467be809e7a2e3fd29f": {
      "model_module": "@jupyter-widgets/controls",
      "model_module_version": "1.5.0",
      "model_name": "DropdownModel",
      "state": {
       "_options_labels": [
        "Income Statement",
        "Balance Sheet",
        "Statements of Cash Flow",
        "Statements of Convertible Preferred Stock and Stockholder’s Equity"
       ],
       "description": "Financial Statement:*",
       "index": 0,
       "layout": "IPY_MODEL_0f68b8ef9f974429a152595ed9894856",
       "style": "IPY_MODEL_8cdb83f9c2764a41aae8070ebd26757c"
      }
     },
     "27ea0bcc23444d3c8ba00de7788b9cba": {
      "model_module": "@jupyter-widgets/base",
      "model_module_version": "1.2.0",
      "model_name": "LayoutModel",
      "state": {
       "grid_area": "widget005"
      }
     },
     "27eca29bd760417eae857298caa62bd3": {
      "model_module": "@jupyter-widgets/controls",
      "model_module_version": "1.5.0",
      "model_name": "DescriptionStyleModel",
      "state": {
       "description_width": ""
      }
     },
     "285093cc404b4e00b55ce03bd5fbf135": {
      "model_module": "@jupyter-widgets/base",
      "model_module_version": "1.2.0",
      "model_name": "LayoutModel",
      "state": {
       "grid_area": "widget006"
      }
     },
     "28779ad46b7949c1b024de1e4d2e0340": {
      "model_module": "@jupyter-widgets/base",
      "model_module_version": "1.2.0",
      "model_name": "LayoutModel",
      "state": {
       "grid_area": "widget006"
      }
     },
     "28d369f12b0548e394fa05e30c41e769": {
      "model_module": "@jupyter-widgets/controls",
      "model_module_version": "1.5.0",
      "model_name": "ButtonModel",
      "state": {
       "description": "Search",
       "icon": "search",
       "layout": "IPY_MODEL_a2ffa2d105fd4beeba63dbc83c7b1de8",
       "style": "IPY_MODEL_7eec66226c9646daa5a85b7a9fe3db68",
       "tooltip": "Search"
      }
     },
     "28dfffdeac3b4f3f993c2175ae51d2c2": {
      "model_module": "@jupyter-widgets/controls",
      "model_module_version": "1.5.0",
      "model_name": "DatePickerModel",
      "state": {
       "description": "Pick a Date:",
       "disabled": false,
       "layout": "IPY_MODEL_712673d751d447b682d16e117f61dcf0",
       "style": "IPY_MODEL_023c3525bd2f4255b8b9de894c403c02"
      }
     },
     "28f648fc312a472aa7237b7184aed27f": {
      "model_module": "@jupyter-widgets/controls",
      "model_module_version": "1.5.0",
      "model_name": "DatePickerModel",
      "state": {
       "description": "Pick a Date:",
       "disabled": false,
       "layout": "IPY_MODEL_ed38d172c69e4903809617c13c246a78",
       "style": "IPY_MODEL_ed0a6d5661b040a19a11c3d83d1a72a5"
      }
     },
     "29715a88d1a444e9ac795b66ad38943f": {
      "model_module": "@jupyter-widgets/controls",
      "model_module_version": "1.5.0",
      "model_name": "TextModel",
      "state": {
       "description": "Ticker/Entity Name:*",
       "layout": "IPY_MODEL_b6ee6aa4f9884ed9bd9c65d22e7571dc",
       "placeholder": "Enter..",
       "style": "IPY_MODEL_c05c5faee24a460ea27e71cce77937df"
      }
     },
     "297997d66d1941f29d5140245801f2da": {
      "model_module": "@jupyter-widgets/controls",
      "model_module_version": "1.5.0",
      "model_name": "DescriptionStyleModel",
      "state": {
       "description_width": "initial"
      }
     },
     "299437ed753e4076ae036e3d8593df7b": {
      "model_module": "@jupyter-widgets/controls",
      "model_module_version": "1.5.0",
      "model_name": "ComboboxModel",
      "state": {
       "description": "Filing Type:",
       "ensure_option": true,
       "layout": "IPY_MODEL_9d4332161c3948959f1e3073b1a6a167",
       "options": [
        "1",
        "1A",
        "1B",
        "2",
        "3",
        "4",
        "6",
        "7",
        "7A",
        "8",
        "9",
        "9A",
        "9B",
        "10",
        "11",
        "12",
        "13",
        "14",
        "2.1",
        "2.1A",
        "2.2",
        "2.3",
        "2.4",
        "2.5"
       ],
       "placeholder": "Enter..",
       "style": "IPY_MODEL_4213c1477f924f61a129c4183d713964",
       "value": "10-Q"
      }
     },
     "29969239f96c441ba3447c5c4a43ca4e": {
      "model_module": "@jupyter-widgets/controls",
      "model_module_version": "1.5.0",
      "model_name": "DescriptionStyleModel",
      "state": {
       "description_width": ""
      }
     },
     "29a9c1779fc1440a90caa89362531198": {
      "model_module": "@jupyter-widgets/base",
      "model_module_version": "1.2.0",
      "model_name": "LayoutModel",
      "state": {
       "grid_area": "widget004"
      }
     },
     "2a23fb4785a44b27b9ae2f37d942ccfb": {
      "model_module": "@jupyter-widgets/controls",
      "model_module_version": "1.5.0",
      "model_name": "ButtonModel",
      "state": {
       "description": "Search",
       "icon": "search",
       "layout": "IPY_MODEL_83f4b60714e64ebcb63e77af5a8fdb7c",
       "style": "IPY_MODEL_b75aba8e73844c91a363d26eee0b6124",
       "tooltip": "Search"
      }
     },
     "2a4383699db44dc2a6d012b3b47eb6de": {
      "model_module": "@jupyter-widgets/controls",
      "model_module_version": "1.5.0",
      "model_name": "DatePickerModel",
      "state": {
       "description": "Pick a Date:",
       "disabled": false,
       "layout": "IPY_MODEL_1217e47ca90e419383c6edca3ac368d8",
       "style": "IPY_MODEL_48e08a1507674fd5840012698e9226a4"
      }
     },
     "2a528f70284b434283391fce7dc8d02e": {
      "model_module": "@jupyter-widgets/controls",
      "model_module_version": "1.5.0",
      "model_name": "DatePickerModel",
      "state": {
       "description": "Pick a Date:",
       "disabled": false,
       "layout": "IPY_MODEL_26e8947ecdbb4f76bf217e913d409a29",
       "style": "IPY_MODEL_b9fc978317ca4749bede4189349ea1fb"
      }
     },
     "2a84ac79ae5a47f482c4d21af266b864": {
      "model_module": "@jupyter-widgets/controls",
      "model_module_version": "1.5.0",
      "model_name": "DescriptionStyleModel",
      "state": {
       "description_width": ""
      }
     },
     "2a85b4e9dce64f25a43d715890be512a": {
      "model_module": "@jupyter-widgets/controls",
      "model_module_version": "1.5.0",
      "model_name": "TextModel",
      "state": {
       "description": "Ticker/Entity Name:*",
       "layout": "IPY_MODEL_c65cd3086ec9463eb9f59b7793a3eebd",
       "placeholder": "Enter..",
       "style": "IPY_MODEL_0aa0531ce7864822aabc2bf109dd1daf"
      }
     },
     "2a8b391b29ba452494a67581c66cd523": {
      "model_module": "@jupyter-widgets/base",
      "model_module_version": "1.2.0",
      "model_name": "LayoutModel",
      "state": {
       "grid_area": "widget006"
      }
     },
     "2ad50c23430a471798062eed0c53c842": {
      "model_module": "@jupyter-widgets/controls",
      "model_module_version": "1.5.0",
      "model_name": "ButtonModel",
      "state": {
       "description": "Search",
       "icon": "search",
       "layout": "IPY_MODEL_6870ed2d1af647499ca5685e11476564",
       "style": "IPY_MODEL_92610f399b9d48c7a7cba3408da59b8e",
       "tooltip": "Search"
      }
     },
     "2b5919c919ac4ad2852ff54efd973841": {
      "model_module": "@jupyter-widgets/base",
      "model_module_version": "1.2.0",
      "model_name": "LayoutModel",
      "state": {
       "grid_area": "widget007"
      }
     },
     "2b6e6795b44046898f65fe1cdba912b7": {
      "model_module": "@jupyter-widgets/controls",
      "model_module_version": "1.5.0",
      "model_name": "DescriptionStyleModel",
      "state": {
       "description_width": "initial"
      }
     },
     "2b704421bafa47d6b0a3e0514fb773cd": {
      "model_module": "@jupyter-widgets/base",
      "model_module_version": "1.2.0",
      "model_name": "LayoutModel",
      "state": {
       "grid_area": "widget002"
      }
     },
     "2c60064fd719495fbdc1c32efee71e75": {
      "model_module": "@jupyter-widgets/base",
      "model_module_version": "1.2.0",
      "model_name": "LayoutModel",
      "state": {
       "grid_template_areas": "\"widget001 .\"\n\"widget002 .\"\n\"widget003 .\"\n\"widget004 .\"\n\"widget005 .\"\n\"widget006 widget006\"",
       "grid_template_columns": "repeat(2, 1fr)",
       "grid_template_rows": "repeat(6, 1fr)"
      }
     },
     "2c714b536730466f8d971ba788ef31a5": {
      "model_module": "@jupyter-widgets/base",
      "model_module_version": "1.2.0",
      "model_name": "LayoutModel",
      "state": {
       "grid_template_areas": "\"widget001 .\"\n\"widget002 .\"\n\"widget003 .\"\n\"widget004 .\"\n\"widget005 .\"\n\"widget006 .\"\n\"widget007 widget007\"",
       "grid_template_columns": "repeat(2, 1fr)",
       "grid_template_rows": "repeat(7, 1fr)"
      }
     },
     "2c8cf7bd29324df996cf2532d68ae476": {
      "model_module": "@jupyter-widgets/controls",
      "model_module_version": "1.5.0",
      "model_name": "DescriptionStyleModel",
      "state": {
       "description_width": "initial"
      }
     },
     "2cc9f9b32dc341e58beb95170889045b": {
      "model_module": "@jupyter-widgets/controls",
      "model_module_version": "1.5.0",
      "model_name": "DropdownModel",
      "state": {
       "_options_labels": [
        "Financial Statement",
        "Item"
       ],
       "description": "Required Information:*",
       "index": 0,
       "layout": "IPY_MODEL_7e5b3e8d78ae4329b4f5823e1267f4db",
       "style": "IPY_MODEL_e9eef37722394288851f8963d77cadb1"
      }
     },
     "2ce6d34a824b4d4597faf7921ec0ae25": {
      "model_module": "@jupyter-widgets/controls",
      "model_module_version": "1.5.0",
      "model_name": "ButtonModel",
      "state": {
       "description": "Search",
       "icon": "search",
       "layout": "IPY_MODEL_c5ebe4ca484a4ef69030fcf35f090d9c",
       "style": "IPY_MODEL_c3217b283b94408ea69426f27d712706",
       "tooltip": "Search"
      }
     },
     "2cf4b1e696ee418881d958a4c6f9edae": {
      "model_module": "@jupyter-widgets/controls",
      "model_module_version": "1.5.0",
      "model_name": "TextModel",
      "state": {
       "description": "Ticker/Entity Name:*",
       "layout": "IPY_MODEL_1e23697bfd6b403581477a34ed231684",
       "placeholder": "Enter..",
       "style": "IPY_MODEL_169dd854f974418aa4b8a0c4bbabf7c0",
       "value": "msft"
      }
     },
     "2d38dbc694ea4d0da7085b53d8b38f8a": {
      "model_module": "@jupyter-widgets/base",
      "model_module_version": "1.2.0",
      "model_name": "LayoutModel",
      "state": {
       "grid_area": "widget006"
      }
     },
     "2d39b42e402a4a4d8ccfbbecdcb48c31": {
      "model_module": "@jupyter-widgets/controls",
      "model_module_version": "1.5.0",
      "model_name": "DescriptionStyleModel",
      "state": {
       "description_width": ""
      }
     },
     "2d733a4025a3460083e81cf0b20a6f98": {
      "model_module": "@jupyter-widgets/base",
      "model_module_version": "1.2.0",
      "model_name": "LayoutModel",
      "state": {
       "grid_area": "widget002"
      }
     },
     "2dd44dc29e444228ba18daf888b5883f": {
      "model_module": "@jupyter-widgets/base",
      "model_module_version": "1.2.0",
      "model_name": "LayoutModel",
      "state": {
       "grid_area": "widget005"
      }
     },
     "2dd666089a204fde9f0efc5961b173bf": {
      "model_module": "@jupyter-widgets/controls",
      "model_module_version": "1.5.0",
      "model_name": "DescriptionStyleModel",
      "state": {
       "description_width": ""
      }
     },
     "2ddacbe9081f42948009fa22beac693c": {
      "model_module": "@jupyter-widgets/base",
      "model_module_version": "1.2.0",
      "model_name": "LayoutModel",
      "state": {
       "grid_area": "widget004"
      }
     },
     "2e0c315cbf384bd6840103ee5cc52971": {
      "model_module": "@jupyter-widgets/controls",
      "model_module_version": "1.5.0",
      "model_name": "TextModel",
      "state": {
       "description": "Ticker/Entity Name:*",
       "layout": "IPY_MODEL_278efd6507ec4084a4ff99a5aefd7bae",
       "placeholder": "Enter..",
       "style": "IPY_MODEL_caf036cb03604f109ee577443bce384f",
       "value": "msft"
      }
     },
     "2e176c5e65964a10849d03aa9ae9541c": {
      "model_module": "@jupyter-widgets/controls",
      "model_module_version": "1.5.0",
      "model_name": "DatePickerModel",
      "state": {
       "description": "Pick a Date:",
       "disabled": false,
       "layout": "IPY_MODEL_2f13b795d43e4e63bcc4712c918222ed",
       "style": "IPY_MODEL_853571a9f6bb4608bebf1773d2498bec"
      }
     },
     "2e3d744c14924efb8a8fa58c1687970e": {
      "model_module": "@jupyter-widgets/controls",
      "model_module_version": "1.5.0",
      "model_name": "DescriptionStyleModel",
      "state": {
       "description_width": ""
      }
     },
     "2e51babcc75e4f728325f0c3c67a81ae": {
      "model_module": "@jupyter-widgets/controls",
      "model_module_version": "1.5.0",
      "model_name": "ButtonStyleModel",
      "state": {}
     },
     "2e55bef9c0934804baa9e9eb379f2253": {
      "model_module": "@jupyter-widgets/controls",
      "model_module_version": "1.5.0",
      "model_name": "ButtonStyleModel",
      "state": {}
     },
     "2e665be351144eae8e2bd029d87d2150": {
      "model_module": "@jupyter-widgets/controls",
      "model_module_version": "1.5.0",
      "model_name": "DropdownModel",
      "state": {
       "_options_labels": [
        "Financial Statement",
        "Item"
       ],
       "description": "Required Information:*",
       "index": 1,
       "layout": "IPY_MODEL_937383fc81dd4277912d94b1d58c02f2",
       "style": "IPY_MODEL_39c0bd6a757d4ee0b68ffc657420b993"
      }
     },
     "2ea80c861bae4bfa943109b37a87bc58": {
      "model_module": "@jupyter-widgets/controls",
      "model_module_version": "1.5.0",
      "model_name": "DatePickerModel",
      "state": {
       "description": "Pick a Date:",
       "disabled": false,
       "layout": "IPY_MODEL_e07d565e1deb40088937713d5d2444af",
       "style": "IPY_MODEL_b99e8c7692b74019bfd4e3753303a844"
      }
     },
     "2edecd59765444a1a0b55818af9c80be": {
      "model_module": "@jupyter-widgets/controls",
      "model_module_version": "1.5.0",
      "model_name": "DescriptionStyleModel",
      "state": {
       "description_width": ""
      }
     },
     "2f13b795d43e4e63bcc4712c918222ed": {
      "model_module": "@jupyter-widgets/base",
      "model_module_version": "1.2.0",
      "model_name": "LayoutModel",
      "state": {
       "grid_area": "widget006"
      }
     },
     "2f3cd704047b45f9a3cc74261292e054": {
      "model_module": "@jupyter-widgets/controls",
      "model_module_version": "1.5.0",
      "model_name": "DescriptionStyleModel",
      "state": {
       "description_width": ""
      }
     },
     "2f80feb3932b4cbc9d2ff373732b16a6": {
      "model_module": "@jupyter-widgets/base",
      "model_module_version": "1.2.0",
      "model_name": "LayoutModel",
      "state": {
       "grid_area": "widget006"
      }
     },
     "2f857f1b9bcf441b947acf7c9fb15d5f": {
      "model_module": "@jupyter-widgets/controls",
      "model_module_version": "1.5.0",
      "model_name": "DescriptionStyleModel",
      "state": {
       "description_width": "initial"
      }
     },
     "2f984a9707694f1aa122b19b7a380049": {
      "model_module": "@jupyter-widgets/controls",
      "model_module_version": "1.5.0",
      "model_name": "DescriptionStyleModel",
      "state": {
       "description_width": ""
      }
     },
     "2fb37935cfeb49bc81bbf2577882bb38": {
      "model_module": "@jupyter-widgets/base",
      "model_module_version": "1.2.0",
      "model_name": "LayoutModel",
      "state": {
       "grid_area": "widget002"
      }
     },
     "3070e88f65c74105a8e735c4cdb5bccf": {
      "model_module": "@jupyter-widgets/base",
      "model_module_version": "1.2.0",
      "model_name": "LayoutModel",
      "state": {
       "grid_area": "widget002"
      }
     },
     "31119ddf917b4d5c804125cc61d2428c": {
      "model_module": "@jupyter-widgets/base",
      "model_module_version": "1.2.0",
      "model_name": "LayoutModel",
      "state": {
       "grid_area": "widget004"
      }
     },
     "313ab703bc2f4b07a50b5e1f4fa9d279": {
      "model_module": "@jupyter-widgets/controls",
      "model_module_version": "1.5.0",
      "model_name": "DescriptionStyleModel",
      "state": {
       "description_width": "initial"
      }
     },
     "314f4176f4e44a65a3b8c631d8b5b864": {
      "model_module": "@jupyter-widgets/controls",
      "model_module_version": "1.5.0",
      "model_name": "DropdownModel",
      "state": {
       "_options_labels": [
        "Financial Statement",
        "Item"
       ],
       "description": "Required Information:*",
       "index": 1,
       "layout": "IPY_MODEL_3586b5671e4e41f1b5a901503651d15a",
       "style": "IPY_MODEL_91049ad1eba24459a9afcf44428358f8"
      }
     },
     "317259d933644b479a65d352f98b679f": {
      "model_module": "@jupyter-widgets/controls",
      "model_module_version": "1.5.0",
      "model_name": "DescriptionStyleModel",
      "state": {
       "description_width": ""
      }
     },
     "31a57320a742444cad35d01312a84400": {
      "model_module": "@jupyter-widgets/base",
      "model_module_version": "1.2.0",
      "model_name": "LayoutModel",
      "state": {
       "grid_area": "widget005"
      }
     },
     "31b81cf920d54c338e513cab8f264ca1": {
      "model_module": "@jupyter-widgets/controls",
      "model_module_version": "1.5.0",
      "model_name": "ButtonModel",
      "state": {
       "description": "Search",
       "icon": "search",
       "layout": "IPY_MODEL_62af2c6c6b3c4bf39373a5ee64070e20",
       "style": "IPY_MODEL_dbd50141d20e415390d4db948ff5ed04",
       "tooltip": "Search"
      }
     },
     "31daa00a1e1b4d128a7075e774ae88f1": {
      "model_module": "@jupyter-widgets/base",
      "model_module_version": "1.2.0",
      "model_name": "LayoutModel",
      "state": {
       "grid_area": "widget004"
      }
     },
     "31f05ffbe0284e518fed8537401d2951": {
      "model_module": "@jupyter-widgets/base",
      "model_module_version": "1.2.0",
      "model_name": "LayoutModel",
      "state": {
       "grid_template_areas": "\"widget001 .\"\n\"widget002 .\"\n\"widget003 .\"\n\"widget004 .\"\n\"widget005 .\"\n\"widget006 widget006\"",
       "grid_template_columns": "repeat(2, 1fr)",
       "grid_template_rows": "repeat(6, 1fr)"
      }
     },
     "31f672e74b0d48749b9308e7489c2c91": {
      "model_module": "@jupyter-widgets/base",
      "model_module_version": "1.2.0",
      "model_name": "LayoutModel",
      "state": {
       "grid_area": "widget004"
      }
     },
     "3228f7cbfb474cfd8eb3d0b970abefe1": {
      "model_module": "@jupyter-widgets/base",
      "model_module_version": "1.2.0",
      "model_name": "LayoutModel",
      "state": {
       "grid_template_areas": "\"widget001 .\"\n\"widget002 .\"\n\"widget003 .\"\n\"widget004 .\"\n\"widget005 .\"\n\"widget006 widget006\"",
       "grid_template_columns": "repeat(2, 1fr)",
       "grid_template_rows": "repeat(6, 1fr)"
      }
     },
     "322d3c2a1a0342c1bf56e96dd0811056": {
      "model_module": "@jupyter-widgets/controls",
      "model_module_version": "1.5.0",
      "model_name": "DescriptionStyleModel",
      "state": {
       "description_width": "initial"
      }
     },
     "3290e01ddcc04272b2dae0017b98d219": {
      "model_module": "@jupyter-widgets/controls",
      "model_module_version": "1.5.0",
      "model_name": "DescriptionStyleModel",
      "state": {
       "description_width": ""
      }
     },
     "3291eec5a27a4abeb72fd793586e4796": {
      "model_module": "@jupyter-widgets/controls",
      "model_module_version": "1.5.0",
      "model_name": "ComboboxModel",
      "state": {
       "description": "Filing Type:",
       "ensure_option": true,
       "layout": "IPY_MODEL_757da11915c7499f9c3ef025e97c6596",
       "options": [
        "",
        "10-Q",
        "10-K",
        "10-Q/A",
        "10-QSB",
        "10-QT",
        "10-QT/A",
        "10-QSB",
        "10-QSB/A",
        "10-QSB12B",
        "10-K/A",
        "10-K405",
        "10-K405/A",
        "10-KSB",
        "10-KT",
        "10-KT/A"
       ],
       "placeholder": "Enter..",
       "style": "IPY_MODEL_d5c423d0e1fe4f04bed7a637d30cf52b"
      }
     },
     "32bfddbe4b4a4d93b9e0a3e0bff9757e": {
      "model_module": "@jupyter-widgets/base",
      "model_module_version": "1.2.0",
      "model_name": "LayoutModel",
      "state": {
       "grid_area": "widget002"
      }
     },
     "331c3bf755e948b683e71c5df30e1494": {
      "model_module": "@jupyter-widgets/controls",
      "model_module_version": "1.5.0",
      "model_name": "DescriptionStyleModel",
      "state": {
       "description_width": "initial"
      }
     },
     "335317df7d3849818137fe4adeab256c": {
      "model_module": "@jupyter-widgets/base",
      "model_module_version": "1.2.0",
      "model_name": "LayoutModel",
      "state": {
       "grid_area": "widget005"
      }
     },
     "3381919ae38f4cacbafc713172a57afc": {
      "model_module": "@jupyter-widgets/controls",
      "model_module_version": "1.5.0",
      "model_name": "DescriptionStyleModel",
      "state": {
       "description_width": "initial"
      }
     },
     "34641f8670694e45a4b8468079337188": {
      "model_module": "@jupyter-widgets/base",
      "model_module_version": "1.2.0",
      "model_name": "LayoutModel",
      "state": {
       "grid_area": "widget006"
      }
     },
     "3474cf9f84ea4d0a90b2bd38cfa5f7a4": {
      "model_module": "@jupyter-widgets/controls",
      "model_module_version": "1.5.0",
      "model_name": "TextModel",
      "state": {
       "description": "Ticker/Entity Name:*",
       "layout": "IPY_MODEL_7a2006d148854c738ca70a1ee2a2693b",
       "placeholder": "Enter..",
       "style": "IPY_MODEL_6e59bd612c6c4a809199579a34e766c3",
       "value": "msft"
      }
     },
     "347ce6d52b6e466281168d1b1e67d88a": {
      "model_module": "@jupyter-widgets/controls",
      "model_module_version": "1.5.0",
      "model_name": "DescriptionStyleModel",
      "state": {
       "description_width": ""
      }
     },
     "348b67e4e7b44c6fa43f22a26d46c397": {
      "model_module": "@jupyter-widgets/controls",
      "model_module_version": "1.5.0",
      "model_name": "GridBoxModel",
      "state": {
       "children": [
        "IPY_MODEL_4c33183c7a0647db85d74329d7d76ad3",
        "IPY_MODEL_58d2b0137bde46c5bf8916d786344cf5",
        "IPY_MODEL_78183f2c42a348bd8065245e13c7f1d3",
        "IPY_MODEL_0450fbbfd5a7475ebde97b65302a517e",
        "IPY_MODEL_8e4a2c670d964292b68092055a4477e9",
        "IPY_MODEL_6470b45272814b0f90030c934c62d973"
       ],
       "layout": "IPY_MODEL_21832dc8b7ea4e05951ef2505e18767f"
      }
     },
     "34bc7d8c83cc4c60afaa916e47173578": {
      "model_module": "@jupyter-widgets/controls",
      "model_module_version": "1.5.0",
      "model_name": "DescriptionStyleModel",
      "state": {
       "description_width": ""
      }
     },
     "34c5be83b3de42789987f462e8e5b425": {
      "model_module": "@jupyter-widgets/controls",
      "model_module_version": "1.5.0",
      "model_name": "DescriptionStyleModel",
      "state": {
       "description_width": "initial"
      }
     },
     "3530bdcaee864af2be694be1930e52fa": {
      "model_module": "@jupyter-widgets/controls",
      "model_module_version": "1.5.0",
      "model_name": "DescriptionStyleModel",
      "state": {
       "description_width": "initial"
      }
     },
     "356d04a64ec24bea99b9b43b10bf7266": {
      "model_module": "@jupyter-widgets/controls",
      "model_module_version": "1.5.0",
      "model_name": "DatePickerModel",
      "state": {
       "description": "Pick a Date:",
       "disabled": false,
       "layout": "IPY_MODEL_5798dd44ccb74c9ab9ac7e8f8da2ca33",
       "style": "IPY_MODEL_0136723ab51c411d8ee4cf82e6ed65d5"
      }
     },
     "3579b5890a42453d8fc53f3e31ae3e0a": {
      "model_module": "@jupyter-widgets/base",
      "model_module_version": "1.2.0",
      "model_name": "LayoutModel",
      "state": {
       "grid_area": "widget004"
      }
     },
     "3586b5671e4e41f1b5a901503651d15a": {
      "model_module": "@jupyter-widgets/base",
      "model_module_version": "1.2.0",
      "model_name": "LayoutModel",
      "state": {
       "grid_area": "widget003"
      }
     },
     "363b0436e4e9479f8cbe875686e2a19a": {
      "model_module": "@jupyter-widgets/controls",
      "model_module_version": "1.5.0",
      "model_name": "DescriptionStyleModel",
      "state": {
       "description_width": "initial"
      }
     },
     "36a618418d3a4e04a3f5e0d6c8811bc6": {
      "model_module": "@jupyter-widgets/controls",
      "model_module_version": "1.5.0",
      "model_name": "ButtonModel",
      "state": {
       "description": "Search",
       "icon": "search",
       "layout": "IPY_MODEL_58c39b73acd14d1ab9f33e20159fd2c0",
       "style": "IPY_MODEL_b2b5d529013c4ea1b50da7185a50f140",
       "tooltip": "Search"
      }
     },
     "36e47b6c20834d6691abaec4e43ba4f2": {
      "model_module": "@jupyter-widgets/controls",
      "model_module_version": "1.5.0",
      "model_name": "DatePickerModel",
      "state": {
       "description": "Pick a Date:",
       "disabled": false,
       "layout": "IPY_MODEL_a598e3734c654ec583196d9a571f1547",
       "style": "IPY_MODEL_c0d796627d5a4363818f508bd671656f"
      }
     },
     "370db0f76d32445da0469bb7aaca855b": {
      "model_module": "@jupyter-widgets/controls",
      "model_module_version": "1.5.0",
      "model_name": "ButtonModel",
      "state": {
       "description": "Search",
       "icon": "search",
       "layout": "IPY_MODEL_065066cc75da402790d5fed67dbe54c3",
       "style": "IPY_MODEL_c115e5e24a8043ec894423b3b21d4421",
       "tooltip": "Search"
      }
     },
     "374f7fdee4e24bcfb0cb17a736abfed7": {
      "model_module": "@jupyter-widgets/base",
      "model_module_version": "1.2.0",
      "model_name": "LayoutModel",
      "state": {
       "grid_area": "widget002"
      }
     },
     "377eaa05930a4c32af069b8667c273e1": {
      "model_module": "@jupyter-widgets/base",
      "model_module_version": "1.2.0",
      "model_name": "LayoutModel",
      "state": {}
     },
     "38347930110246bcb903d073de404ef4": {
      "model_module": "@jupyter-widgets/controls",
      "model_module_version": "1.5.0",
      "model_name": "DescriptionStyleModel",
      "state": {
       "description_width": "initial"
      }
     },
     "38fcbd30a3cd4be9b685dda1f3bcfeac": {
      "model_module": "@jupyter-widgets/base",
      "model_module_version": "1.2.0",
      "model_name": "LayoutModel",
      "state": {
       "grid_area": "widget004"
      }
     },
     "3945ab580b644fb2a6ab056059e5ea81": {
      "model_module": "@jupyter-widgets/controls",
      "model_module_version": "1.5.0",
      "model_name": "ButtonStyleModel",
      "state": {}
     },
     "397ea061c9ec4ce585af1694bbc57f7d": {
      "model_module": "@jupyter-widgets/controls",
      "model_module_version": "1.5.0",
      "model_name": "TextModel",
      "state": {
       "description": "Ticker/Entity Name:*",
       "layout": "IPY_MODEL_a9f6f0fc3d2346258a0d9f9c9f48153f",
       "placeholder": "Enter..",
       "style": "IPY_MODEL_da0a13e1accd4d94b5e1b97dbbebafad",
       "value": "msft"
      }
     },
     "3993a18bb2414016b29f5a6edacdfa79": {
      "model_module": "@jupyter-widgets/controls",
      "model_module_version": "1.5.0",
      "model_name": "TextModel",
      "state": {
       "description": "Ticker/Entity Name:*",
       "layout": "IPY_MODEL_cbe00dc9f3ed4d55ba3de868f8ac7d5e",
       "placeholder": "Enter..",
       "style": "IPY_MODEL_224727736f4040bba1e969b808b456e9"
      }
     },
     "39986856eb8c4a50934ca5ac2668905b": {
      "model_module": "@jupyter-widgets/base",
      "model_module_version": "1.2.0",
      "model_name": "LayoutModel",
      "state": {
       "grid_area": "widget002"
      }
     },
     "399cccbafbc74a67adbc2401e9e901c2": {
      "model_module": "@jupyter-widgets/controls",
      "model_module_version": "1.5.0",
      "model_name": "DescriptionStyleModel",
      "state": {
       "description_width": ""
      }
     },
     "39a90c8a1a4f4273b3faa00b095f0578": {
      "model_module": "@jupyter-widgets/base",
      "model_module_version": "1.2.0",
      "model_name": "LayoutModel",
      "state": {
       "grid_template_areas": "\"widget001 .\"\n\"widget002 .\"\n\"widget003 .\"\n\"widget004 .\"\n\"widget005 .\"\n\"widget006 widget006\"",
       "grid_template_columns": "repeat(2, 1fr)",
       "grid_template_rows": "repeat(6, 1fr)"
      }
     },
     "39a97b1ed87e4cbbaaea9c7d6bb15d81": {
      "model_module": "@jupyter-widgets/controls",
      "model_module_version": "1.5.0",
      "model_name": "ButtonStyleModel",
      "state": {}
     },
     "39aa3e5b254c40f594958cc84ad38094": {
      "model_module": "@jupyter-widgets/controls",
      "model_module_version": "1.5.0",
      "model_name": "DatePickerModel",
      "state": {
       "description": "Pick a Date:",
       "disabled": false,
       "layout": "IPY_MODEL_960188e21fbe450c91f86030d790cd25",
       "style": "IPY_MODEL_d25dd0c056e44081baf4576fc0f26ee7"
      }
     },
     "39c0bd6a757d4ee0b68ffc657420b993": {
      "model_module": "@jupyter-widgets/controls",
      "model_module_version": "1.5.0",
      "model_name": "DescriptionStyleModel",
      "state": {
       "description_width": "initial"
      }
     },
     "3a27350ea67e42528db726e55274ff34": {
      "model_module": "@jupyter-widgets/controls",
      "model_module_version": "1.5.0",
      "model_name": "DescriptionStyleModel",
      "state": {
       "description_width": ""
      }
     },
     "3a3e25b26289404694357e007556543a": {
      "model_module": "@jupyter-widgets/controls",
      "model_module_version": "1.5.0",
      "model_name": "GridBoxModel",
      "state": {
       "children": [
        "IPY_MODEL_943b5e22b34b4ba3b41ea58b0a7527fd",
        "IPY_MODEL_e14ef63b05184301ade59ad88ba3b22e",
        "IPY_MODEL_7822e4ffb58d4ae981d8cab99001690b",
        "IPY_MODEL_3fb52b0147ec4e9c8ca62d49fa1d3a13",
        "IPY_MODEL_b97325133e9d431bb82ac5dcf00bbc08",
        "IPY_MODEL_d8851faffcb849f2a8ce7645b15c6752"
       ],
       "layout": "IPY_MODEL_cde47d29aaa0419db2ebe75ba8ba037b"
      }
     },
     "3a55acb5b68c4ab18eeab433ee2ad76a": {
      "model_module": "@jupyter-widgets/base",
      "model_module_version": "1.2.0",
      "model_name": "LayoutModel",
      "state": {
       "grid_template_areas": "\"widget001 .\"\n\"widget002 .\"\n\"widget003 .\"\n\"widget004 .\"\n\"widget005 .\"\n\"widget006 .\"\n\"widget007 widget007\"",
       "grid_template_columns": "repeat(2, 1fr)",
       "grid_template_rows": "repeat(7, 1fr)"
      }
     },
     "3a76c41955834ad9b69f34c01e2569ae": {
      "model_module": "@jupyter-widgets/controls",
      "model_module_version": "1.5.0",
      "model_name": "DescriptionStyleModel",
      "state": {
       "description_width": "initial"
      }
     },
     "3b19b8463f664991bf848b3083739135": {
      "model_module": "@jupyter-widgets/controls",
      "model_module_version": "1.5.0",
      "model_name": "DescriptionStyleModel",
      "state": {
       "description_width": "initial"
      }
     },
     "3b664e83090f4854841a6d186e6c95e6": {
      "model_module": "@jupyter-widgets/controls",
      "model_module_version": "1.5.0",
      "model_name": "DescriptionStyleModel",
      "state": {
       "description_width": ""
      }
     },
     "3b8524e6faa0434bb8d62e2c9f69cc00": {
      "model_module": "@jupyter-widgets/controls",
      "model_module_version": "1.5.0",
      "model_name": "DescriptionStyleModel",
      "state": {
       "description_width": ""
      }
     },
     "3bd700c55ac64909a96cece298da5fc4": {
      "model_module": "@jupyter-widgets/controls",
      "model_module_version": "1.5.0",
      "model_name": "TextModel",
      "state": {
       "description": "Ticker/Entity Name:*",
       "layout": "IPY_MODEL_407745dd515f42d39199ea71a1a745e6",
       "placeholder": "Enter..",
       "style": "IPY_MODEL_8598450c1745430b87698fb3da912b68",
       "value": "msft"
      }
     },
     "3be9d75fc0234923a3ab70cc7515a6e9": {
      "model_module": "@jupyter-widgets/controls",
      "model_module_version": "1.5.0",
      "model_name": "ButtonModel",
      "state": {
       "description": "Search",
       "icon": "search",
       "layout": "IPY_MODEL_270d7df16afb42538127aad2166b8162",
       "style": "IPY_MODEL_be4bf9aa9c624625bd8c59c390483e78",
       "tooltip": "Search"
      }
     },
     "3bf6db2f605f4589baadb0ec3ac7d514": {
      "model_module": "@jupyter-widgets/base",
      "model_module_version": "1.2.0",
      "model_name": "LayoutModel",
      "state": {
       "grid_area": "widget006"
      }
     },
     "3c0ce786c6724f4bb10133eee4d853b4": {
      "model_module": "@jupyter-widgets/base",
      "model_module_version": "1.2.0",
      "model_name": "LayoutModel",
      "state": {
       "grid_area": "widget001"
      }
     },
     "3c45815828434fe2984894921646e099": {
      "model_module": "@jupyter-widgets/controls",
      "model_module_version": "1.5.0",
      "model_name": "GridBoxModel",
      "state": {
       "children": [
        "IPY_MODEL_b70840a9e9654c8baac6d7f537dc2073",
        "IPY_MODEL_3ea56b2b38904c2586e7137e86a019d9",
        "IPY_MODEL_835d695d566442989a73bc27e0ffde31",
        "IPY_MODEL_e05e0e0fce2741dc94c5b7ea9aa21eb6",
        "IPY_MODEL_91135708bea54c8ca5018ac20336142e",
        "IPY_MODEL_557352a9d5b04ccab58c14eed130113e",
        "IPY_MODEL_25b7b2f993b944e59de24d50437ebb98"
       ],
       "layout": "IPY_MODEL_edaae8d91d224f6faccbd844c86d4396"
      }
     },
     "3c556769f0b349b084b5c2f3fbe1adad": {
      "model_module": "@jupyter-widgets/controls",
      "model_module_version": "1.5.0",
      "model_name": "ButtonModel",
      "state": {
       "description": "Search",
       "icon": "search",
       "layout": "IPY_MODEL_afec74b3234941888ee8be3480fc20ad",
       "style": "IPY_MODEL_5d86b5ddba95462e92315c85ad2ec1ce",
       "tooltip": "Search"
      }
     },
     "3cd448b5c5f8462fb8d1f945d45cd053": {
      "model_module": "@jupyter-widgets/controls",
      "model_module_version": "1.5.0",
      "model_name": "DescriptionStyleModel",
      "state": {
       "description_width": ""
      }
     },
     "3ce65e89c56e44fca7a07528a7358ed9": {
      "model_module": "@jupyter-widgets/base",
      "model_module_version": "1.2.0",
      "model_name": "LayoutModel",
      "state": {
       "grid_area": "widget004"
      }
     },
     "3d0fa35168aa4699bb488f3489b9415f": {
      "model_module": "@jupyter-widgets/base",
      "model_module_version": "1.2.0",
      "model_name": "LayoutModel",
      "state": {
       "grid_area": "widget005"
      }
     },
     "3d180377a5a3463c9965e70bf3c88303": {
      "model_module": "@jupyter-widgets/base",
      "model_module_version": "1.2.0",
      "model_name": "LayoutModel",
      "state": {
       "grid_area": "widget004"
      }
     },
     "3d6022e4bfd34df3a4cde6a4280c6f09": {
      "model_module": "@jupyter-widgets/controls",
      "model_module_version": "1.5.0",
      "model_name": "ButtonStyleModel",
      "state": {}
     },
     "3d680cb6596e4850bb1c3a7736d1e323": {
      "model_module": "@jupyter-widgets/controls",
      "model_module_version": "1.5.0",
      "model_name": "ButtonModel",
      "state": {
       "description": "Search",
       "icon": "search",
       "layout": "IPY_MODEL_89e18da204df432d848318be0745aedd",
       "style": "IPY_MODEL_905cc26b336b418c8006a86f8376308e",
       "tooltip": "Search"
      }
     },
     "3d84804526954053b65d32352e581f74": {
      "model_module": "@jupyter-widgets/base",
      "model_module_version": "1.2.0",
      "model_name": "LayoutModel",
      "state": {
       "grid_area": "widget005"
      }
     },
     "3d93708da71e42e3a4f58c81bc409475": {
      "model_module": "@jupyter-widgets/controls",
      "model_module_version": "1.5.0",
      "model_name": "DescriptionStyleModel",
      "state": {
       "description_width": "initial"
      }
     },
     "3dd002c3d2b74e8885477b7f8e160f0b": {
      "model_module": "@jupyter-widgets/controls",
      "model_module_version": "1.5.0",
      "model_name": "DescriptionStyleModel",
      "state": {
       "description_width": "initial"
      }
     },
     "3e24e17243a34611b0e2b0a869d64185": {
      "model_module": "@jupyter-widgets/controls",
      "model_module_version": "1.5.0",
      "model_name": "DescriptionStyleModel",
      "state": {
       "description_width": "initial"
      }
     },
     "3e337f18b32d478aa89ed446960a262b": {
      "model_module": "@jupyter-widgets/base",
      "model_module_version": "1.2.0",
      "model_name": "LayoutModel",
      "state": {
       "grid_area": "widget001"
      }
     },
     "3e50f1d5ffe141208fd497e10b78d4bb": {
      "model_module": "@jupyter-widgets/base",
      "model_module_version": "1.2.0",
      "model_name": "LayoutModel",
      "state": {}
     },
     "3e7b161a7bc449de9c7caf6bef767f80": {
      "model_module": "@jupyter-widgets/base",
      "model_module_version": "1.2.0",
      "model_name": "LayoutModel",
      "state": {
       "grid_template_areas": "\"widget001 .\"\n\"widget002 .\"\n\"widget003 .\"\n\"widget004 .\"\n\"widget005 .\"\n\"widget006 widget006\"",
       "grid_template_columns": "repeat(2, 1fr)",
       "grid_template_rows": "repeat(6, 1fr)"
      }
     },
     "3ea56b2b38904c2586e7137e86a019d9": {
      "model_module": "@jupyter-widgets/controls",
      "model_module_version": "1.5.0",
      "model_name": "ComboboxModel",
      "state": {
       "description": "Filing Type:",
       "ensure_option": true,
       "layout": "IPY_MODEL_02e057ab1894492489d1b1b9e85235a4",
       "options": [
        "",
        "10-Q",
        "10-K",
        "10-Q/A",
        "10-QSB",
        "10-QT",
        "10-QT/A",
        "10-QSB",
        "10-QSB/A",
        "10-QSB12B",
        "10-K/A",
        "10-K405",
        "10-K405/A",
        "10-KSB",
        "10-KT",
        "10-KT/A"
       ],
       "placeholder": "Enter..",
       "style": "IPY_MODEL_a1049e8ec2fc402092ac72f855163e1e",
       "value": "10-Q"
      }
     },
     "3ec3fe92a7284f4b839f4a306b847411": {
      "model_module": "@jupyter-widgets/base",
      "model_module_version": "1.2.0",
      "model_name": "LayoutModel",
      "state": {
       "grid_area": "widget003"
      }
     },
     "3fb52b0147ec4e9c8ca62d49fa1d3a13": {
      "model_module": "@jupyter-widgets/controls",
      "model_module_version": "1.5.0",
      "model_name": "DatePickerModel",
      "state": {
       "description": "Pick a Date:",
       "disabled": false,
       "layout": "IPY_MODEL_0dd67a16f55347a392061a23b0d51d3f",
       "style": "IPY_MODEL_7e3bb1395f6445b18816247908f19df0"
      }
     },
     "3fcb63723c074f26bdd9335211cb1066": {
      "model_module": "@jupyter-widgets/controls",
      "model_module_version": "1.5.0",
      "model_name": "DatePickerModel",
      "state": {
       "description": "Pick a Date:",
       "disabled": false,
       "layout": "IPY_MODEL_c173770dbc414eb5a9db93f8f3cdac9f",
       "style": "IPY_MODEL_f7a1eecbdb994b6190c458a67984f01f"
      }
     },
     "3fd0942c05a544508eba4215e8459842": {
      "model_module": "@jupyter-widgets/base",
      "model_module_version": "1.2.0",
      "model_name": "LayoutModel",
      "state": {
       "grid_area": "widget001"
      }
     },
     "40075eee1e8148c691a968b25ac84bd5": {
      "model_module": "@jupyter-widgets/controls",
      "model_module_version": "1.5.0",
      "model_name": "GridBoxModel",
      "state": {
       "children": [
        "IPY_MODEL_dee3e1a7d7484da786ed2d7aa456f3d5",
        "IPY_MODEL_ed7190d246744887a07ff6e3c5b3d43d",
        "IPY_MODEL_7d126f4ba705432a92e57c832f4c97ed",
        "IPY_MODEL_12b28c18feee428f83718cdb24761e75",
        "IPY_MODEL_8097a7a793ea47878333a113d129d6ca",
        "IPY_MODEL_7f96be4e80d2419b82786ad54e7c9c90"
       ],
       "layout": "IPY_MODEL_468b42f249f84beeb48b441f559b5685"
      }
     },
     "404a3e697c304ab08e857373d3de5758": {
      "model_module": "@jupyter-widgets/controls",
      "model_module_version": "1.5.0",
      "model_name": "DescriptionStyleModel",
      "state": {
       "description_width": ""
      }
     },
     "407745dd515f42d39199ea71a1a745e6": {
      "model_module": "@jupyter-widgets/base",
      "model_module_version": "1.2.0",
      "model_name": "LayoutModel",
      "state": {
       "grid_area": "widget001"
      }
     },
     "408ff34601e24770a77c2f877d7efd72": {
      "model_module": "@jupyter-widgets/base",
      "model_module_version": "1.2.0",
      "model_name": "LayoutModel",
      "state": {
       "grid_area": "widget003"
      }
     },
     "40f152a1c94a430da152926da09cd0ab": {
      "model_module": "@jupyter-widgets/base",
      "model_module_version": "1.2.0",
      "model_name": "LayoutModel",
      "state": {
       "grid_area": "widget003"
      }
     },
     "4213c1477f924f61a129c4183d713964": {
      "model_module": "@jupyter-widgets/controls",
      "model_module_version": "1.5.0",
      "model_name": "DescriptionStyleModel",
      "state": {
       "description_width": ""
      }
     },
     "4281a7b369ed41afb49a5b3b2b4f1567": {
      "model_module": "@jupyter-widgets/controls",
      "model_module_version": "1.5.0",
      "model_name": "GridBoxModel",
      "state": {
       "children": [
        "IPY_MODEL_e783819100264e5a9b00edcb15e95879",
        "IPY_MODEL_b739a9def4074bdba1aa8cdb1ecf4e66",
        "IPY_MODEL_e44bb5f5f27049238f2622de94305f54",
        "IPY_MODEL_fd0abe34752d4f04a208c790e29c972d",
        "IPY_MODEL_57f8cb0d41a64625b4247196cf335b86",
        "IPY_MODEL_f73837bf26c241519d5a1519e469b402"
       ],
       "layout": "IPY_MODEL_63d99394f1f14873a7793146896ce6c3"
      }
     },
     "42baab4e4390466d8257247e20aa8f4e": {
      "model_module": "@jupyter-widgets/controls",
      "model_module_version": "1.5.0",
      "model_name": "ButtonStyleModel",
      "state": {}
     },
     "430dab0ef69145deaa92701c6e37dac5": {
      "model_module": "@jupyter-widgets/controls",
      "model_module_version": "1.5.0",
      "model_name": "GridBoxModel",
      "state": {
       "children": [
        "IPY_MODEL_0a87013e767d4a21acb591ca3d55010a",
        "IPY_MODEL_2159f792e05647029499bf55cee4ffdf",
        "IPY_MODEL_63625faf7e8b48cc8a4fa8acdd00889d",
        "IPY_MODEL_1bd8bab3c5c544a4aabd9beb34d857b9",
        "IPY_MODEL_62c83ff3c11e4972a2affc588970da1d",
        "IPY_MODEL_ad8578b34c0e412888095e676dc96fe8"
       ],
       "layout": "IPY_MODEL_203f36ab4b094323abed97ce1aaa10df"
      }
     },
     "4384e17cd0d14ca88a1117a45a7fe1e4": {
      "model_module": "@jupyter-widgets/controls",
      "model_module_version": "1.5.0",
      "model_name": "DescriptionStyleModel",
      "state": {
       "description_width": "initial"
      }
     },
     "438abd63fd5d4aa2a9ead23c1db10bb5": {
      "model_module": "@jupyter-widgets/controls",
      "model_module_version": "1.5.0",
      "model_name": "DropdownModel",
      "state": {
       "_options_labels": [
        "Income Statement",
        "Balance Sheet",
        "Statements of Cash Flow",
        "Statements of Convertible Preferred Stock and Stockholder’s Equity"
       ],
       "description": "Financial Statement:*",
       "index": 0,
       "layout": "IPY_MODEL_d591bfc86866448389543e29595809a3",
       "style": "IPY_MODEL_7e4516b26cdf4aee8ce096c73f19e331"
      }
     },
     "43b819e0b633472eab01acf5b5c9b92a": {
      "model_module": "@jupyter-widgets/controls",
      "model_module_version": "1.5.0",
      "model_name": "TextModel",
      "state": {
       "description": "Ticker/Entity Name:*",
       "layout": "IPY_MODEL_5cf1bd36d23d4c218edb5fd6db97892e",
       "placeholder": "Enter..",
       "style": "IPY_MODEL_d2a1df4e6c964031a1dda46feda8e29e",
       "value": "msft"
      }
     },
     "43cc60d153e1405abbc530ae3905563d": {
      "model_module": "@jupyter-widgets/base",
      "model_module_version": "1.2.0",
      "model_name": "LayoutModel",
      "state": {
       "grid_area": "widget004"
      }
     },
     "43f82414e22e4a1688a3e040270760cc": {
      "model_module": "@jupyter-widgets/controls",
      "model_module_version": "1.5.0",
      "model_name": "ComboboxModel",
      "state": {
       "description": "Filing Type:",
       "ensure_option": true,
       "layout": "IPY_MODEL_1697743fcc9b4760ac115cc4d1156088",
       "options": [
        "",
        "10-Q",
        "10-K",
        "10-Q/A",
        "10-QSB",
        "10-QT",
        "10-QT/A",
        "10-QSB",
        "10-QSB/A",
        "10-QSB12B",
        "10-K/A",
        "10-K405",
        "10-K405/A",
        "10-KSB",
        "10-KT",
        "10-KT/A"
       ],
       "placeholder": "Enter..",
       "style": "IPY_MODEL_1c236a57777d466e82f61bb2bf412a28"
      }
     },
     "43fc6cfb98ce42c7a94e220053f46982": {
      "model_module": "@jupyter-widgets/controls",
      "model_module_version": "1.5.0",
      "model_name": "ComboboxModel",
      "state": {
       "description": "Filing Type:",
       "ensure_option": true,
       "layout": "IPY_MODEL_2b704421bafa47d6b0a3e0514fb773cd",
       "options": [
        "",
        "10-Q",
        "10-K",
        "10-Q/A",
        "10-QSB",
        "10-QT",
        "10-QT/A",
        "10-QSB",
        "10-QSB/A",
        "10-QSB12B",
        "10-K/A",
        "10-K405",
        "10-K405/A",
        "10-KSB",
        "10-KT",
        "10-KT/A"
       ],
       "placeholder": "Enter..",
       "style": "IPY_MODEL_fc139bf7dbe44205845c550d548cb0e0"
      }
     },
     "4429001bf9c747c89c44e23a9d69d02c": {
      "model_module": "@jupyter-widgets/controls",
      "model_module_version": "1.5.0",
      "model_name": "TextModel",
      "state": {
       "description": "Ticker/Entity Name:*",
       "layout": "IPY_MODEL_4f47c628885648dc8714c24c8f373b78",
       "placeholder": "Enter..",
       "style": "IPY_MODEL_b82e5c89d64a46a086671df2372ff9dd",
       "value": "aapl"
      }
     },
     "443746dc17be445582d0ff1e8519d554": {
      "model_module": "@jupyter-widgets/controls",
      "model_module_version": "1.5.0",
      "model_name": "DescriptionStyleModel",
      "state": {
       "description_width": "initial"
      }
     },
     "443e279e50904c8184fa2b94ee7fda5b": {
      "model_module": "@jupyter-widgets/controls",
      "model_module_version": "1.5.0",
      "model_name": "ComboboxModel",
      "state": {
       "description": "Filing Type:",
       "ensure_option": true,
       "layout": "IPY_MODEL_d34dd3a9e054426cabc3d29048fd9a9c",
       "options": [
        "",
        "10-Q",
        "10-K",
        "10-Q/A",
        "10-QSB",
        "10-QT",
        "10-QT/A",
        "10-QSB",
        "10-QSB/A",
        "10-QSB12B",
        "10-K/A",
        "10-K405",
        "10-K405/A",
        "10-KSB",
        "10-KT",
        "10-KT/A"
       ],
       "placeholder": "Enter..",
       "style": "IPY_MODEL_4c197cd01ff94d85a2d467842a4faf5e"
      }
     },
     "445486bdd35848e4b47049dbd1325125": {
      "model_module": "@jupyter-widgets/controls",
      "model_module_version": "1.5.0",
      "model_name": "DropdownModel",
      "state": {
       "_options_labels": [
        "Income Statement",
        "Balance Sheet",
        "Statements of Cash Flow",
        "Statements of Convertible Preferred Stock and Stockholder’s Equity"
       ],
       "description": "Financial Statement:*",
       "index": 1,
       "layout": "IPY_MODEL_f471c2c2ef4b4a2386b83ff1a05cc456",
       "style": "IPY_MODEL_1bf2c08fc82c4409ae4491a7f80617cf"
      }
     },
     "44d59cd6f6a34becb3f953391269db30": {
      "model_module": "@jupyter-widgets/controls",
      "model_module_version": "1.5.0",
      "model_name": "GridBoxModel",
      "state": {
       "children": [
        "IPY_MODEL_ef57ecdec7264e9aa9a79b8719e531ff",
        "IPY_MODEL_bad389e0b5fd44c0a60e9f2167688cb8",
        "IPY_MODEL_d4114634183c4de2a0fbd91af6360d5c",
        "IPY_MODEL_1b2084e5180947e29dfa733069566b7b",
        "IPY_MODEL_fbbf54fa701947bf81bebf2c1ebadcda",
        "IPY_MODEL_ce1b50e27c33483bb299e58085b0f172"
       ],
       "layout": "IPY_MODEL_91e2d82de76d4e6b89d765657abe97ed"
      }
     },
     "44e4515af46a4bc2b4e09ed70c91b25f": {
      "model_module": "@jupyter-widgets/controls",
      "model_module_version": "1.5.0",
      "model_name": "DatePickerModel",
      "state": {
       "description": "Pick a Date:",
       "disabled": false,
       "layout": "IPY_MODEL_986d08b85e534f1ea551bd7c708ffacb",
       "style": "IPY_MODEL_f45d79a39e8640efa0a867f2beb3837d"
      }
     },
     "4510ad0683464ac0b868da5e07fcff91": {
      "model_module": "@jupyter-widgets/controls",
      "model_module_version": "1.5.0",
      "model_name": "DatePickerModel",
      "state": {
       "description": "Pick a Date:",
       "disabled": false,
       "layout": "IPY_MODEL_5b15caca7ff344168a3596ea9b572fbd",
       "style": "IPY_MODEL_f1448786f3004f1cb4ca79a4e7e9c44e"
      }
     },
     "45ce2a7598dc496ca8867f00aed2fd78": {
      "model_module": "@jupyter-widgets/controls",
      "model_module_version": "1.5.0",
      "model_name": "ComboboxModel",
      "state": {
       "description": "Filing Type:",
       "ensure_option": true,
       "layout": "IPY_MODEL_374f7fdee4e24bcfb0cb17a736abfed7",
       "options": [
        "",
        "10-Q",
        "10-K",
        "10-Q/A",
        "10-QSB",
        "10-QT",
        "10-QT/A",
        "10-QSB",
        "10-QSB/A",
        "10-QSB12B",
        "10-K/A",
        "10-K405",
        "10-K405/A",
        "10-KSB",
        "10-KT",
        "10-KT/A"
       ],
       "placeholder": "Enter..",
       "style": "IPY_MODEL_c047a0b4605c4d2da145458f7762fd90"
      }
     },
     "45feb6a3069c460fb9e3f154c6894021": {
      "model_module": "@jupyter-widgets/controls",
      "model_module_version": "1.5.0",
      "model_name": "DatePickerModel",
      "state": {
       "description": "Pick a Date:",
       "disabled": false,
       "layout": "IPY_MODEL_8c7708a424b841e591408dffe3066e0c",
       "style": "IPY_MODEL_0e6c72096e61427886d669c5c4836288"
      }
     },
     "4610a97d58d54217a631e302f4ae35b0": {
      "model_module": "@jupyter-widgets/controls",
      "model_module_version": "1.5.0",
      "model_name": "DropdownModel",
      "state": {
       "_options_labels": [
        "Income Statement",
        "Balance Sheet",
        "Statements of Cash Flow",
        "Statements of Convertible Preferred Stock and Stockholder’s Equity"
       ],
       "description": "Required Information:*",
       "index": 0,
       "layout": "IPY_MODEL_047d542ffe644394af275999e01b9cb3",
       "style": "IPY_MODEL_48f9acc831d443b38e45392fad236a67"
      }
     },
     "468289ed6b8f4ae1a9677c8c0b0879d2": {
      "model_module": "@jupyter-widgets/controls",
      "model_module_version": "1.5.0",
      "model_name": "DatePickerModel",
      "state": {
       "description": "Pick a Date:",
       "disabled": false,
       "layout": "IPY_MODEL_a15fbdedeaa94eab95ad6e13d4df1324",
       "style": "IPY_MODEL_6d21f6e33651494c9735ccb9e65bb154"
      }
     },
     "4684955926c94d3ab4cbe0ce24e116ce": {
      "model_module": "@jupyter-widgets/base",
      "model_module_version": "1.2.0",
      "model_name": "LayoutModel",
      "state": {}
     },
     "468b42f249f84beeb48b441f559b5685": {
      "model_module": "@jupyter-widgets/base",
      "model_module_version": "1.2.0",
      "model_name": "LayoutModel",
      "state": {
       "grid_template_areas": "\"widget001 .\"\n\"widget002 .\"\n\"widget003 .\"\n\"widget004 .\"\n\"widget005 .\"\n\"widget006 widget006\"",
       "grid_template_columns": "repeat(2, 1fr)",
       "grid_template_rows": "repeat(6, 1fr)"
      }
     },
     "468e1e8681674d2499168cfc6f46d773": {
      "model_module": "@jupyter-widgets/base",
      "model_module_version": "1.2.0",
      "model_name": "LayoutModel",
      "state": {
       "grid_area": "widget001"
      }
     },
     "47b8b6cbbdd245558cd68d9d2f95faeb": {
      "model_module": "@jupyter-widgets/controls",
      "model_module_version": "1.5.0",
      "model_name": "DatePickerModel",
      "state": {
       "description": "Pick a Date:",
       "disabled": false,
       "layout": "IPY_MODEL_23ae54ea88a74ce99e4776fd7c53447a",
       "style": "IPY_MODEL_b957489455fa4b8a9289b617b6f109de"
      }
     },
     "47e800194ea84161afba1fc07a10e5dd": {
      "model_module": "@jupyter-widgets/controls",
      "model_module_version": "1.5.0",
      "model_name": "DescriptionStyleModel",
      "state": {
       "description_width": ""
      }
     },
     "48e08a1507674fd5840012698e9226a4": {
      "model_module": "@jupyter-widgets/controls",
      "model_module_version": "1.5.0",
      "model_name": "DescriptionStyleModel",
      "state": {
       "description_width": ""
      }
     },
     "48f9acc831d443b38e45392fad236a67": {
      "model_module": "@jupyter-widgets/controls",
      "model_module_version": "1.5.0",
      "model_name": "DescriptionStyleModel",
      "state": {
       "description_width": "initial"
      }
     },
     "48fbd072ec7a4ccc84cc1d11ced47cdf": {
      "model_module": "@jupyter-widgets/controls",
      "model_module_version": "1.5.0",
      "model_name": "DatePickerModel",
      "state": {
       "description": "Pick a Date:",
       "disabled": false,
       "layout": "IPY_MODEL_1c28162c6b974a64ad104c1d45621084",
       "style": "IPY_MODEL_81c7ff0b07e145bda140a4ef22639efb"
      }
     },
     "49149e8091054ec29f4fbf8e14d16a22": {
      "model_module": "@jupyter-widgets/controls",
      "model_module_version": "1.5.0",
      "model_name": "TextModel",
      "state": {
       "description": "Ticker/Entity Name:*",
       "layout": "IPY_MODEL_2417a8b6194d4487a6588cf79e605333",
       "placeholder": "Enter..",
       "style": "IPY_MODEL_f27f45b04bfc4f118471206ec2fe90d5",
       "value": "MSFT"
      }
     },
     "4926c42440524349a54fd133702bc3eb": {
      "model_module": "@jupyter-widgets/controls",
      "model_module_version": "1.5.0",
      "model_name": "DescriptionStyleModel",
      "state": {
       "description_width": "initial"
      }
     },
     "4961d1b0df434b05ae64b28f6087d9f3": {
      "model_module": "@jupyter-widgets/base",
      "model_module_version": "1.2.0",
      "model_name": "LayoutModel",
      "state": {
       "grid_area": "widget004"
      }
     },
     "4a2e8c7f07f74f0f9d525dae6aa29905": {
      "model_module": "@jupyter-widgets/base",
      "model_module_version": "1.2.0",
      "model_name": "LayoutModel",
      "state": {
       "grid_area": "widget005"
      }
     },
     "4a3aecde210846b28423470f60aee31c": {
      "model_module": "@jupyter-widgets/controls",
      "model_module_version": "1.5.0",
      "model_name": "DropdownModel",
      "state": {
       "_options_labels": [
        "Income Statement",
        "Balance Sheet",
        "Statements of Cash Flow",
        "Statements of Convertible Preferred Stock and Stockholder’s Equity"
       ],
       "description": "Financial Statement:*",
       "index": 0,
       "layout": "IPY_MODEL_6dab86dfd9154fdd97503646593af080",
       "style": "IPY_MODEL_d83f1c7940ff4cada680c35bea4cae0c"
      }
     },
     "4a629303732d49e5a3a9d0184e65b140": {
      "model_module": "@jupyter-widgets/base",
      "model_module_version": "1.2.0",
      "model_name": "LayoutModel",
      "state": {
       "grid_template_areas": "\"widget001 .\"\n\"widget002 .\"\n\"widget003 .\"\n\"widget004 .\"\n\"widget005 .\"\n\"widget006 widget006\"",
       "grid_template_columns": "repeat(2, 1fr)",
       "grid_template_rows": "repeat(6, 1fr)"
      }
     },
     "4a943cde29064439acf634b6311abd5c": {
      "model_module": "@jupyter-widgets/base",
      "model_module_version": "1.2.0",
      "model_name": "LayoutModel",
      "state": {
       "grid_area": "widget002"
      }
     },
     "4afe265df58a4438b08a66334b143683": {
      "model_module": "@jupyter-widgets/controls",
      "model_module_version": "1.5.0",
      "model_name": "TextModel",
      "state": {
       "description": "Ticker/Entity Name:*",
       "layout": "IPY_MODEL_468e1e8681674d2499168cfc6f46d773",
       "placeholder": "Enter..",
       "style": "IPY_MODEL_0241525beb6f42f991e019f52ecac1f9"
      }
     },
     "4b0d66cd6b29492b9fd4693a939328e2": {
      "model_module": "@jupyter-widgets/controls",
      "model_module_version": "1.5.0",
      "model_name": "DescriptionStyleModel",
      "state": {
       "description_width": "initial"
      }
     },
     "4b61fe774ccd4dea845bcff9197770c9": {
      "model_module": "@jupyter-widgets/controls",
      "model_module_version": "1.5.0",
      "model_name": "ButtonModel",
      "state": {
       "description": "Search",
       "icon": "search",
       "layout": "IPY_MODEL_3bf6db2f605f4589baadb0ec3ac7d514",
       "style": "IPY_MODEL_3d6022e4bfd34df3a4cde6a4280c6f09",
       "tooltip": "Search"
      }
     },
     "4b6a8cacc98342cca4d29a597b95697f": {
      "model_module": "@jupyter-widgets/base",
      "model_module_version": "1.2.0",
      "model_name": "LayoutModel",
      "state": {
       "grid_area": "widget004"
      }
     },
     "4bc2e9ffabe845e2aa62a39e15de4f7b": {
      "model_module": "@jupyter-widgets/controls",
      "model_module_version": "1.5.0",
      "model_name": "DatePickerModel",
      "state": {
       "description": "Pick a Date:",
       "disabled": false,
       "layout": "IPY_MODEL_b32bb30a51f04df5b6670637e558b4bf",
       "style": "IPY_MODEL_213f0aa215a7462dac6e6729eb12737c"
      }
     },
     "4bd1c4c4a143475da34aba7234e27645": {
      "model_module": "@jupyter-widgets/controls",
      "model_module_version": "1.5.0",
      "model_name": "ComboboxModel",
      "state": {
       "description": "Filing Type:",
       "ensure_option": true,
       "layout": "IPY_MODEL_a2cb6f669e47414ba0de6bb7b4cd35de",
       "options": [
        "",
        "10-Q",
        "10-K",
        "10-Q/A",
        "10-QSB",
        "10-QT",
        "10-QT/A",
        "10-QSB",
        "10-QSB/A",
        "10-QSB12B",
        "10-K/A",
        "10-K405",
        "10-K405/A",
        "10-KSB",
        "10-KT",
        "10-KT/A"
       ],
       "placeholder": "Enter..",
       "style": "IPY_MODEL_1485b80efc8b49c8ae30f1231d013d0e"
      }
     },
     "4c197cd01ff94d85a2d467842a4faf5e": {
      "model_module": "@jupyter-widgets/controls",
      "model_module_version": "1.5.0",
      "model_name": "DescriptionStyleModel",
      "state": {
       "description_width": ""
      }
     },
     "4c2e084fd59b483cbed5325a52933352": {
      "model_module": "@jupyter-widgets/controls",
      "model_module_version": "1.5.0",
      "model_name": "DropdownModel",
      "state": {
       "_options_labels": [
        "Income Statement",
        "Balance Sheet",
        "Statements of Cash Flow",
        "Statements of Convertible Preferred Stock and Stockholder’s Equity"
       ],
       "description": "Financial Statement:*",
       "index": 0,
       "layout": "IPY_MODEL_31f672e74b0d48749b9308e7489c2c91",
       "style": "IPY_MODEL_d5ea9b59022c4c1bb170b248a00f2b05"
      }
     },
     "4c30c1c53e3a4667a22bccc58026bf8e": {
      "model_module": "@jupyter-widgets/controls",
      "model_module_version": "1.5.0",
      "model_name": "DescriptionStyleModel",
      "state": {
       "description_width": "initial"
      }
     },
     "4c33183c7a0647db85d74329d7d76ad3": {
      "model_module": "@jupyter-widgets/controls",
      "model_module_version": "1.5.0",
      "model_name": "TextModel",
      "state": {
       "description": "Ticker/Entity Name:*",
       "layout": "IPY_MODEL_626005116d024f9e93ce3fbedc810c49",
       "placeholder": "Enter..",
       "style": "IPY_MODEL_c39122ef429541b8830424a8252c0ba6"
      }
     },
     "4c5ddd2f832f4861b1f572ed2d324843": {
      "model_module": "@jupyter-widgets/base",
      "model_module_version": "1.2.0",
      "model_name": "LayoutModel",
      "state": {
       "grid_template_areas": "\"widget001 .\"\n\"widget002 .\"\n\"widget003 .\"\n\"widget004 .\"\n\"widget005 .\"\n\"widget006 widget006\"",
       "grid_template_columns": "repeat(2, 1fr)",
       "grid_template_rows": "repeat(6, 1fr)"
      }
     },
     "4c92cde128b04f7c8c209690cf6bf510": {
      "model_module": "@jupyter-widgets/controls",
      "model_module_version": "1.5.0",
      "model_name": "ButtonStyleModel",
      "state": {}
     },
     "4c9671b4922a4b1fafad30702eeae24a": {
      "model_module": "@jupyter-widgets/controls",
      "model_module_version": "1.5.0",
      "model_name": "DescriptionStyleModel",
      "state": {
       "description_width": ""
      }
     },
     "4ca3b633c65b4bbd98af70280f6404e8": {
      "model_module": "@jupyter-widgets/base",
      "model_module_version": "1.2.0",
      "model_name": "LayoutModel",
      "state": {
       "grid_area": "widget006"
      }
     },
     "4ccde7abc5f14c99942fed98060cc3dd": {
      "model_module": "@jupyter-widgets/base",
      "model_module_version": "1.2.0",
      "model_name": "LayoutModel",
      "state": {
       "grid_area": "widget006"
      }
     },
     "4d0353cf28f44696b29bfc51c95dfe78": {
      "model_module": "@jupyter-widgets/base",
      "model_module_version": "1.2.0",
      "model_name": "LayoutModel",
      "state": {
       "grid_template_areas": "\"widget001 .\"\n\"widget002 .\"\n\"widget003 .\"\n\"widget004 .\"\n\"widget005 .\"\n\"widget006 widget006\"",
       "grid_template_columns": "repeat(2, 1fr)",
       "grid_template_rows": "repeat(6, 1fr)"
      }
     },
     "4d5b9176427f4f758db43f5619a42fdc": {
      "model_module": "@jupyter-widgets/base",
      "model_module_version": "1.2.0",
      "model_name": "LayoutModel",
      "state": {
       "grid_area": "widget007"
      }
     },
     "4d94066f2331468fbcc06a907f328cb2": {
      "model_module": "@jupyter-widgets/base",
      "model_module_version": "1.2.0",
      "model_name": "LayoutModel",
      "state": {
       "grid_template_areas": "\"widget001 .\"\n\"widget002 .\"\n\"widget003 .\"\n\"widget004 .\"\n\"widget005 .\"\n\"widget006 widget006\"",
       "grid_template_columns": "repeat(2, 1fr)",
       "grid_template_rows": "repeat(6, 1fr)"
      }
     },
     "4de7e53a3cba45f1a5960bfc293a6fa4": {
      "model_module": "@jupyter-widgets/base",
      "model_module_version": "1.2.0",
      "model_name": "LayoutModel",
      "state": {
       "grid_template_areas": "\"widget001 .\"\n\"widget002 .\"\n\"widget003 .\"\n\"widget004 .\"\n\"widget005 .\"\n\"widget006 widget006\"",
       "grid_template_columns": "repeat(2, 1fr)",
       "grid_template_rows": "repeat(6, 1fr)"
      }
     },
     "4df94ae15c914a3a907974636c48d2c0": {
      "model_module": "@jupyter-widgets/controls",
      "model_module_version": "1.5.0",
      "model_name": "DropdownModel",
      "state": {
       "_options_labels": [
        "Income Statement",
        "Balance Sheet",
        "Statements of Cash Flow",
        "Statements of Convertible Preferred Stock and Stockholder’s Equity"
       ],
       "description": "Document Section:*",
       "index": 2,
       "layout": "IPY_MODEL_00e61be7554f4c088ff9d71e885f86ea",
       "style": "IPY_MODEL_78578dddf4544300b00d8c34f1d77a7f"
      }
     },
     "4ec997234b1343fc945b31c737165453": {
      "model_module": "@jupyter-widgets/controls",
      "model_module_version": "1.5.0",
      "model_name": "GridBoxModel",
      "state": {
       "children": [
        "IPY_MODEL_8080a179a74745fb961f1173b29c36fa",
        "IPY_MODEL_6afd0144a5294ee795f0addab21d4c02",
        "IPY_MODEL_d1bd32f9422d452e8ff894bace898dd8",
        "IPY_MODEL_6a9b2c43fbd2449fa4d70e2abc9114cc",
        "IPY_MODEL_05710ef55cf34e128c9d919c7c699218",
        "IPY_MODEL_1093bfe2e25f415cb654d9433e56f205"
       ],
       "layout": "IPY_MODEL_d0aefa5ee198462398fd05a536eb5ee4"
      }
     },
     "4ef82772d4d54aaf817de556f8aca4d4": {
      "model_module": "@jupyter-widgets/controls",
      "model_module_version": "1.5.0",
      "model_name": "ButtonStyleModel",
      "state": {}
     },
     "4f1133cccd7b4ada874a6c3a2f958d89": {
      "model_module": "@jupyter-widgets/base",
      "model_module_version": "1.2.0",
      "model_name": "LayoutModel",
      "state": {
       "grid_area": "widget001"
      }
     },
     "4f1a5d7b10724ce395246d0ee83a3e11": {
      "model_module": "@jupyter-widgets/controls",
      "model_module_version": "1.5.0",
      "model_name": "ComboboxModel",
      "state": {
       "description": "Filing Type:",
       "ensure_option": true,
       "layout": "IPY_MODEL_4a943cde29064439acf634b6311abd5c",
       "options": [
        "",
        "10-Q",
        "10-K",
        "10-Q/A",
        "10-QSB",
        "10-QT",
        "10-QT/A",
        "10-QSB",
        "10-QSB/A",
        "10-QSB12B",
        "10-K/A",
        "10-K405",
        "10-K405/A",
        "10-KSB",
        "10-KT",
        "10-KT/A"
       ],
       "placeholder": "Enter..",
       "style": "IPY_MODEL_7a72671320b2407dbc5701dfccb1b781"
      }
     },
     "4f47c628885648dc8714c24c8f373b78": {
      "model_module": "@jupyter-widgets/base",
      "model_module_version": "1.2.0",
      "model_name": "LayoutModel",
      "state": {
       "grid_area": "widget001"
      }
     },
     "4f8afd68217543e39b92318df2a65d83": {
      "model_module": "@jupyter-widgets/controls",
      "model_module_version": "1.5.0",
      "model_name": "DescriptionStyleModel",
      "state": {
       "description_width": ""
      }
     },
     "4fdbb74bf7f549b59a9db39bbb15f7ae": {
      "model_module": "@jupyter-widgets/base",
      "model_module_version": "1.2.0",
      "model_name": "LayoutModel",
      "state": {
       "grid_area": "widget005"
      }
     },
     "5080329641c2400e9e98341c51fe8b98": {
      "model_module": "@jupyter-widgets/base",
      "model_module_version": "1.2.0",
      "model_name": "LayoutModel",
      "state": {
       "grid_area": "widget006"
      }
     },
     "50bb2d95a0dc4cc3873c01fa998b7732": {
      "model_module": "@jupyter-widgets/controls",
      "model_module_version": "1.5.0",
      "model_name": "ComboboxModel",
      "state": {
       "description": "Filing Type:",
       "ensure_option": true,
       "layout": "IPY_MODEL_8e5f1ad79d1e47258426c523c3d25a88",
       "options": [
        "",
        "10-Q",
        "10-K",
        "10-Q/A",
        "10-QSB",
        "10-QT",
        "10-QT/A",
        "10-QSB",
        "10-QSB/A",
        "10-QSB12B",
        "10-K/A",
        "10-K405",
        "10-K405/A",
        "10-KSB",
        "10-KT",
        "10-KT/A"
       ],
       "placeholder": "Enter..",
       "style": "IPY_MODEL_e5656064126940f79c8158565329c85b"
      }
     },
     "51390d44b10c400f8ebdcfa907c2d847": {
      "model_module": "@jupyter-widgets/base",
      "model_module_version": "1.2.0",
      "model_name": "LayoutModel",
      "state": {
       "grid_area": "widget005"
      }
     },
     "5185260521284bfaa3b191a737314a6a": {
      "model_module": "@jupyter-widgets/controls",
      "model_module_version": "1.5.0",
      "model_name": "DescriptionStyleModel",
      "state": {
       "description_width": ""
      }
     },
     "51de84400ccb4b1197cda8a1c31a95c8": {
      "model_module": "@jupyter-widgets/controls",
      "model_module_version": "1.5.0",
      "model_name": "ButtonModel",
      "state": {
       "description": "Search",
       "icon": "search",
       "layout": "IPY_MODEL_285093cc404b4e00b55ce03bd5fbf135",
       "style": "IPY_MODEL_0ccf54005cc2403bb97db6693bfcaabb",
       "tooltip": "Search"
      }
     },
     "51e45d6540cb4e68a63edfb814e2d255": {
      "model_module": "@jupyter-widgets/controls",
      "model_module_version": "1.5.0",
      "model_name": "ComboboxModel",
      "state": {
       "description": "Filing Type:",
       "ensure_option": true,
       "layout": "IPY_MODEL_22d43a695e1d4a7986f5542397979fcc",
       "options": [
        "",
        "10-Q",
        "10-K",
        "10-Q/A",
        "10-QSB",
        "10-QT",
        "10-QT/A",
        "10-QSB",
        "10-QSB/A",
        "10-QSB12B",
        "10-K/A",
        "10-K405",
        "10-K405/A",
        "10-KSB",
        "10-KT",
        "10-KT/A"
       ],
       "placeholder": "Enter..",
       "style": "IPY_MODEL_2a84ac79ae5a47f482c4d21af266b864",
       "value": "10-K"
      }
     },
     "5249b9a45d8b440f97c07795b2ed7452": {
      "model_module": "@jupyter-widgets/controls",
      "model_module_version": "1.5.0",
      "model_name": "DescriptionStyleModel",
      "state": {
       "description_width": "initial"
      }
     },
     "5255dc5096734c629b98a87c7f1d4bb8": {
      "model_module": "@jupyter-widgets/base",
      "model_module_version": "1.2.0",
      "model_name": "LayoutModel",
      "state": {
       "grid_area": "widget005"
      }
     },
     "5298d20414f2434dbf4706035a06aea6": {
      "model_module": "@jupyter-widgets/controls",
      "model_module_version": "1.5.0",
      "model_name": "TextModel",
      "state": {
       "description": "Ticker/Entity Name:*",
       "layout": "IPY_MODEL_0e68dfa94d874be88b4fb9ffd01b4356",
       "placeholder": "Enter..",
       "style": "IPY_MODEL_df2df70e2fd848998cbf7f0a585cc5a7",
       "value": "msft"
      }
     },
     "53ee162c2ac4400fb7cded496659913b": {
      "model_module": "@jupyter-widgets/controls",
      "model_module_version": "1.5.0",
      "model_name": "TextModel",
      "state": {
       "description": "Ticker/Entity Name:*",
       "layout": "IPY_MODEL_f17c479cc78f4722a24c97189e35a558",
       "placeholder": "Enter..",
       "style": "IPY_MODEL_b79bb5f9eb1e49f88cc1f24e396a5a18",
       "value": "msft"
      }
     },
     "5417a49e4bf74beda72785caa4f05966": {
      "model_module": "@jupyter-widgets/controls",
      "model_module_version": "1.5.0",
      "model_name": "TextModel",
      "state": {
       "description": "Ticker/Entity Name:*",
       "layout": "IPY_MODEL_7cfb832ba9a4442ba2e4195b8c10ff4a",
       "placeholder": "Enter..",
       "style": "IPY_MODEL_72bff191d42f4f79b6f022d79602fb2d",
       "value": "msft"
      }
     },
     "54db108ee67847eaa60fd0f61b10df52": {
      "model_module": "@jupyter-widgets/controls",
      "model_module_version": "1.5.0",
      "model_name": "DescriptionStyleModel",
      "state": {
       "description_width": "initial"
      }
     },
     "54eb20ced1b643098f9fdd79e455f042": {
      "model_module": "@jupyter-widgets/base",
      "model_module_version": "1.2.0",
      "model_name": "LayoutModel",
      "state": {
       "grid_area": "widget002"
      }
     },
     "54ed09fb7d354b35aafc1678647281e3": {
      "model_module": "@jupyter-widgets/controls",
      "model_module_version": "1.5.0",
      "model_name": "DescriptionStyleModel",
      "state": {
       "description_width": "initial"
      }
     },
     "54f741584c8a4fa3a1b584d99b75bb30": {
      "model_module": "@jupyter-widgets/controls",
      "model_module_version": "1.5.0",
      "model_name": "ComboboxModel",
      "state": {
       "description": "Filing Type:",
       "ensure_option": true,
       "layout": "IPY_MODEL_8ff8bbf504254203aee103af7ec0acb9",
       "options": [
        "",
        "10-Q",
        "10-K",
        "10-Q/A",
        "10-QSB",
        "10-QT",
        "10-QT/A",
        "10-QSB",
        "10-QSB/A",
        "10-QSB12B",
        "10-K/A",
        "10-K405",
        "10-K405/A",
        "10-KSB",
        "10-KT",
        "10-KT/A"
       ],
       "placeholder": "Enter..",
       "style": "IPY_MODEL_2f984a9707694f1aa122b19b7a380049"
      }
     },
     "551b0101bc9b4bfbb51879c542361aa5": {
      "model_module": "@jupyter-widgets/controls",
      "model_module_version": "1.5.0",
      "model_name": "DropdownModel",
      "state": {
       "_options_labels": [
        "Income Statement",
        "Balance Sheet",
        "Statements of Cash Flow",
        "Statements of Convertible Preferred Stock and Stockholder’s Equity"
       ],
       "description": "Financial Statement:*",
       "index": 0,
       "layout": "IPY_MODEL_b9da6f2536e2433aa6f2988c73ba505c",
       "style": "IPY_MODEL_eca946fdb8604fc2a1ad3d6af037c418"
      }
     },
     "553ff932391e415cb1648be6c666ad67": {
      "model_module": "@jupyter-widgets/controls",
      "model_module_version": "1.5.0",
      "model_name": "DescriptionStyleModel",
      "state": {
       "description_width": "initial"
      }
     },
     "554397e5fa6a4dc7905442e43f570b8d": {
      "model_module": "@jupyter-widgets/controls",
      "model_module_version": "1.5.0",
      "model_name": "DescriptionStyleModel",
      "state": {
       "description_width": ""
      }
     },
     "5546e354b6cb482d945bf98c89a51487": {
      "model_module": "@jupyter-widgets/base",
      "model_module_version": "1.2.0",
      "model_name": "LayoutModel",
      "state": {
       "grid_area": "widget004"
      }
     },
     "557352a9d5b04ccab58c14eed130113e": {
      "model_module": "@jupyter-widgets/controls",
      "model_module_version": "1.5.0",
      "model_name": "DatePickerModel",
      "state": {
       "description": "Pick a Date:",
       "disabled": false,
       "layout": "IPY_MODEL_4ca3b633c65b4bbd98af70280f6404e8",
       "style": "IPY_MODEL_842195feafc44dd19ec7c3acfcd6ae8b"
      }
     },
     "55abfe0098ef4ca0a8c6331af8e188a5": {
      "model_module": "@jupyter-widgets/base",
      "model_module_version": "1.2.0",
      "model_name": "LayoutModel",
      "state": {
       "grid_area": "widget004"
      }
     },
     "55d7122e1f064afa9f2e747af76d050b": {
      "model_module": "@jupyter-widgets/controls",
      "model_module_version": "1.5.0",
      "model_name": "TextModel",
      "state": {
       "description": "Ticker/Entity Name:*",
       "layout": "IPY_MODEL_d75a331f352942378db22c54097e9f44",
       "placeholder": "Enter..",
       "style": "IPY_MODEL_297997d66d1941f29d5140245801f2da",
       "value": "amzn"
      }
     },
     "564aeb11922a42058636243dc0ad1efd": {
      "model_module": "@jupyter-widgets/base",
      "model_module_version": "1.2.0",
      "model_name": "LayoutModel",
      "state": {
       "grid_template_areas": "\"widget001 .\"\n\"widget002 .\"\n\"widget003 .\"\n\"widget004 .\"\n\"widget005 .\"\n\"widget006 widget006\"",
       "grid_template_columns": "repeat(2, 1fr)",
       "grid_template_rows": "repeat(6, 1fr)"
      }
     },
     "565ad864686046d7854830789fef2e88": {
      "model_module": "@jupyter-widgets/controls",
      "model_module_version": "1.5.0",
      "model_name": "DescriptionStyleModel",
      "state": {
       "description_width": "initial"
      }
     },
     "56a51584f8cd432eb999cd3533b811d4": {
      "model_module": "@jupyter-widgets/base",
      "model_module_version": "1.2.0",
      "model_name": "LayoutModel",
      "state": {}
     },
     "56add6604f4548f7a8f9aadf356dffa5": {
      "model_module": "@jupyter-widgets/base",
      "model_module_version": "1.2.0",
      "model_name": "LayoutModel",
      "state": {
       "grid_area": "widget002"
      }
     },
     "56ffc7ab2a9b4b79828ae588ed20071d": {
      "model_module": "@jupyter-widgets/base",
      "model_module_version": "1.2.0",
      "model_name": "LayoutModel",
      "state": {
       "grid_area": "widget006"
      }
     },
     "5764329384d9410197406507f4122305": {
      "model_module": "@jupyter-widgets/base",
      "model_module_version": "1.2.0",
      "model_name": "LayoutModel",
      "state": {
       "grid_area": "widget003"
      }
     },
     "5798dd44ccb74c9ab9ac7e8f8da2ca33": {
      "model_module": "@jupyter-widgets/base",
      "model_module_version": "1.2.0",
      "model_name": "LayoutModel",
      "state": {
       "grid_area": "widget005"
      }
     },
     "57cfe9e4fc4a41b5923688bce8c2f110": {
      "model_module": "@jupyter-widgets/controls",
      "model_module_version": "1.5.0",
      "model_name": "DatePickerModel",
      "state": {
       "description": "Pick a Date:",
       "disabled": false,
       "layout": "IPY_MODEL_9eb3a0eae47544f8b1046b263379361e",
       "style": "IPY_MODEL_b5ebe6dc07c6408c9ed7149c038b735b"
      }
     },
     "57d7ff5a0a204107a1fb03c85785f4df": {
      "model_module": "@jupyter-widgets/controls",
      "model_module_version": "1.5.0",
      "model_name": "DescriptionStyleModel",
      "state": {
       "description_width": ""
      }
     },
     "57f8cb0d41a64625b4247196cf335b86": {
      "model_module": "@jupyter-widgets/controls",
      "model_module_version": "1.5.0",
      "model_name": "DatePickerModel",
      "state": {
       "description": "Pick a Date:",
       "disabled": false,
       "layout": "IPY_MODEL_87ad18b14f8448a6a3a96c48ffd67d7b",
       "style": "IPY_MODEL_317259d933644b479a65d352f98b679f"
      }
     },
     "5847641961294a8b808416a972c7c950": {
      "model_module": "@jupyter-widgets/controls",
      "model_module_version": "1.5.0",
      "model_name": "GridBoxModel",
      "state": {
       "children": [
        "IPY_MODEL_c4cacdf699d24629b4ea483c7da05cb6",
        "IPY_MODEL_9fee6b1d5b6b4230a7d39b2278f7c2c3",
        "IPY_MODEL_8bf9610b9bba4f7d94e2dbc72dddb035",
        "IPY_MODEL_a55b6df95b0944dba58f148e34dc2b28",
        "IPY_MODEL_9e82bc774acb4c11a522eadcdd83822c",
        "IPY_MODEL_f7b18a84a0fe47bc80dee1992d9b1141"
       ],
       "layout": "IPY_MODEL_39a90c8a1a4f4273b3faa00b095f0578"
      }
     },
     "58c39b73acd14d1ab9f33e20159fd2c0": {
      "model_module": "@jupyter-widgets/base",
      "model_module_version": "1.2.0",
      "model_name": "LayoutModel",
      "state": {
       "grid_area": "widget006"
      }
     },
     "58d2b0137bde46c5bf8916d786344cf5": {
      "model_module": "@jupyter-widgets/controls",
      "model_module_version": "1.5.0",
      "model_name": "ComboboxModel",
      "state": {
       "description": "Filing Type:",
       "ensure_option": true,
       "layout": "IPY_MODEL_3070e88f65c74105a8e735c4cdb5bccf",
       "options": [
        "",
        "10-Q",
        "10-K",
        "10-Q/A",
        "10-QSB",
        "10-QT",
        "10-QT/A",
        "10-QSB",
        "10-QSB/A",
        "10-QSB12B",
        "10-K/A",
        "10-K405",
        "10-K405/A",
        "10-KSB",
        "10-KT",
        "10-KT/A"
       ],
       "placeholder": "Enter..",
       "style": "IPY_MODEL_62f15bdd54524964b4db6e49d6c347d4"
      }
     },
     "58e70c6b4161444db48676a9417239dc": {
      "model_module": "@jupyter-widgets/base",
      "model_module_version": "1.2.0",
      "model_name": "LayoutModel",
      "state": {
       "grid_area": "widget003"
      }
     },
     "5960abd4dee447f6b4100c6e9f809ba5": {
      "model_module": "@jupyter-widgets/controls",
      "model_module_version": "1.5.0",
      "model_name": "ButtonStyleModel",
      "state": {}
     },
     "59d5ffe2390b4c9a8532895d39aa67b3": {
      "model_module": "@jupyter-widgets/controls",
      "model_module_version": "1.5.0",
      "model_name": "GridBoxModel",
      "state": {
       "children": [
        "IPY_MODEL_7e41bfc622e4488cbd1b75e8c695417c",
        "IPY_MODEL_13267ee2b650414fba050636fddbbbba",
        "IPY_MODEL_2cc9f9b32dc341e58beb95170889045b",
        "IPY_MODEL_438abd63fd5d4aa2a9ead23c1db10bb5",
        "IPY_MODEL_b0ef34ec43f34cc4a530190daf7033bc",
        "IPY_MODEL_aa05640f6eb4403fa2e21ad294967f5a",
        "IPY_MODEL_d3fd17d3996940779ea93840c31a1d3f"
       ],
       "layout": "IPY_MODEL_0f2c46c040b1495e87106fc49da69ada"
      }
     },
     "59dff22c2b054fd0af10b78838b2d029": {
      "model_module": "@jupyter-widgets/base",
      "model_module_version": "1.2.0",
      "model_name": "LayoutModel",
      "state": {
       "grid_area": "widget003"
      }
     },
     "5b15caca7ff344168a3596ea9b572fbd": {
      "model_module": "@jupyter-widgets/base",
      "model_module_version": "1.2.0",
      "model_name": "LayoutModel",
      "state": {
       "grid_area": "widget004"
      }
     },
     "5b3cec33c1e44751b41bc60048356b77": {
      "model_module": "@jupyter-widgets/controls",
      "model_module_version": "1.5.0",
      "model_name": "DescriptionStyleModel",
      "state": {
       "description_width": "initial"
      }
     },
     "5b612d8f614a412c8a47e53d2a3ad545": {
      "model_module": "@jupyter-widgets/controls",
      "model_module_version": "1.5.0",
      "model_name": "GridBoxModel",
      "state": {
       "children": [
        "IPY_MODEL_072df864fca64286b959a7124901743f",
        "IPY_MODEL_0cb4ee0f49484513bec0a4bebc8f77e3",
        "IPY_MODEL_99858355ab6f4bd89457cf359fd06326",
        "IPY_MODEL_1c0ba179bdd747baaa246e03d31aaad7",
        "IPY_MODEL_ebd6f6584aa64d1fb36e6d8efa10697e",
        "IPY_MODEL_3c556769f0b349b084b5c2f3fbe1adad"
       ],
       "layout": "IPY_MODEL_c0f4658c0e1043c786465458456ec8af"
      }
     },
     "5c0925cb57384135b47a6b6901fe3e8d": {
      "model_module": "@jupyter-widgets/controls",
      "model_module_version": "1.5.0",
      "model_name": "DropdownModel",
      "state": {
       "_options_labels": [
        "Financial Statement",
        "Item"
       ],
       "description": "Required Information:*",
       "index": 0,
       "layout": "IPY_MODEL_24df79d932034b4cbf27e5e5f12c3cfa",
       "style": "IPY_MODEL_01810ca9ee3a4fcaabb9ca84eb9b3acf"
      }
     },
     "5c0d558919314cd3b9f0690c9683bb40": {
      "model_module": "@jupyter-widgets/controls",
      "model_module_version": "1.5.0",
      "model_name": "DescriptionStyleModel",
      "state": {
       "description_width": "initial"
      }
     },
     "5c2daa3c7b684f1c9ecd49e4aed72c47": {
      "model_module": "@jupyter-widgets/controls",
      "model_module_version": "1.5.0",
      "model_name": "DropdownModel",
      "state": {
       "_options_labels": [
        "Income Statement",
        "Balance Sheet",
        "Statements of Cash Flow",
        "Statements of Convertible Preferred Stock and Stockholder’s Equity"
       ],
       "description": "Financial Statement:*",
       "index": 0,
       "layout": "IPY_MODEL_ac821c3ebac949b18b815f9ab646f3c5",
       "style": "IPY_MODEL_d25b9853c42f414cba324441da7de75d"
      }
     },
     "5c4e4f38a5824bf0a6552e7a2b426c2f": {
      "model_module": "@jupyter-widgets/controls",
      "model_module_version": "1.5.0",
      "model_name": "ButtonModel",
      "state": {
       "description": "Search",
       "icon": "search",
       "layout": "IPY_MODEL_2b5919c919ac4ad2852ff54efd973841",
       "style": "IPY_MODEL_9f469c19599147648a926bc9811bd349",
       "tooltip": "Search"
      }
     },
     "5c55b6e8f4f645eead8ca42a517d690c": {
      "model_module": "@jupyter-widgets/controls",
      "model_module_version": "1.5.0",
      "model_name": "ButtonModel",
      "state": {
       "description": "Search",
       "icon": "search",
       "layout": "IPY_MODEL_e86584f0cea44e3aaf04652deb27cfdc",
       "style": "IPY_MODEL_af63c42e27fa4ad9ab7a989ae4ab0709",
       "tooltip": "Search"
      }
     },
     "5c5bed980dae4a63a6802e6846ac7272": {
      "model_module": "@jupyter-widgets/controls",
      "model_module_version": "1.5.0",
      "model_name": "DescriptionStyleModel",
      "state": {
       "description_width": "initial"
      }
     },
     "5c80c7c3bbce4c1999dd3bffe5666d41": {
      "model_module": "@jupyter-widgets/base",
      "model_module_version": "1.2.0",
      "model_name": "LayoutModel",
      "state": {
       "grid_area": "widget002"
      }
     },
     "5cce5b222f99442f8c07b569f4b8774d": {
      "model_module": "@jupyter-widgets/base",
      "model_module_version": "1.2.0",
      "model_name": "LayoutModel",
      "state": {
       "grid_area": "widget006"
      }
     },
     "5cd2980c59f740af8235657ab769302e": {
      "model_module": "@jupyter-widgets/base",
      "model_module_version": "1.2.0",
      "model_name": "LayoutModel",
      "state": {
       "grid_area": "widget006"
      }
     },
     "5cf1bd36d23d4c218edb5fd6db97892e": {
      "model_module": "@jupyter-widgets/base",
      "model_module_version": "1.2.0",
      "model_name": "LayoutModel",
      "state": {
       "grid_area": "widget001"
      }
     },
     "5d096345f623423184ed3a9303c81f61": {
      "model_module": "@jupyter-widgets/controls",
      "model_module_version": "1.5.0",
      "model_name": "DescriptionStyleModel",
      "state": {
       "description_width": ""
      }
     },
     "5d51a36fb4d3405d8ad06dbcbd03aec2": {
      "model_module": "@jupyter-widgets/base",
      "model_module_version": "1.2.0",
      "model_name": "LayoutModel",
      "state": {
       "grid_area": "widget001"
      }
     },
     "5d7e92dc1f51413bafb6c75b3fb4eb77": {
      "model_module": "@jupyter-widgets/controls",
      "model_module_version": "1.5.0",
      "model_name": "DropdownModel",
      "state": {
       "_options_labels": [
        "Income Statement",
        "Balance Sheet",
        "Statements of Cash Flow",
        "Statements of Convertible Preferred Stock and Stockholder’s Equity"
       ],
       "description": "Financial Statement:*",
       "index": 0,
       "layout": "IPY_MODEL_7cf65f61eb38473e9430038012509296",
       "style": "IPY_MODEL_adc2b933df784b7fa30a5e4768ed9df1"
      }
     },
     "5d86b5ddba95462e92315c85ad2ec1ce": {
      "model_module": "@jupyter-widgets/controls",
      "model_module_version": "1.5.0",
      "model_name": "ButtonStyleModel",
      "state": {}
     },
     "5de03aad80d74861bce6f21677bd2d24": {
      "model_module": "@jupyter-widgets/controls",
      "model_module_version": "1.5.0",
      "model_name": "DropdownModel",
      "state": {
       "_options_labels": [
        "Income Statement",
        "Balance Sheet",
        "Statements of Cash Flow",
        "Statements of Convertible Preferred Stock and Stockholder’s Equity"
       ],
       "description": "Financial Statement:*",
       "index": 0,
       "layout": "IPY_MODEL_5edffc3713fd4052b0310ee5005e987c",
       "style": "IPY_MODEL_3381919ae38f4cacbafc713172a57afc"
      }
     },
     "5e256310aa92404bbd61114fe178b0b7": {
      "model_module": "@jupyter-widgets/controls",
      "model_module_version": "1.5.0",
      "model_name": "DescriptionStyleModel",
      "state": {
       "description_width": ""
      }
     },
     "5e7820d6230849ca8459dfef50cd8039": {
      "model_module": "@jupyter-widgets/base",
      "model_module_version": "1.2.0",
      "model_name": "LayoutModel",
      "state": {
       "grid_area": "widget001"
      }
     },
     "5e907294783b42228ffb34a438958909": {
      "model_module": "@jupyter-widgets/controls",
      "model_module_version": "1.5.0",
      "model_name": "ButtonStyleModel",
      "state": {}
     },
     "5e97ef7ea32443c0965e5eaf30cc4a0e": {
      "model_module": "@jupyter-widgets/controls",
      "model_module_version": "1.5.0",
      "model_name": "ButtonModel",
      "state": {
       "description": "Search",
       "icon": "search",
       "layout": "IPY_MODEL_601875d809434df4819b32b596962eb9",
       "style": "IPY_MODEL_2e55bef9c0934804baa9e9eb379f2253",
       "tooltip": "Search"
      }
     },
     "5edffc3713fd4052b0310ee5005e987c": {
      "model_module": "@jupyter-widgets/base",
      "model_module_version": "1.2.0",
      "model_name": "LayoutModel",
      "state": {}
     },
     "5ee08acd31a54c51b25e744d9ce1ed5a": {
      "model_module": "@jupyter-widgets/controls",
      "model_module_version": "1.5.0",
      "model_name": "DescriptionStyleModel",
      "state": {
       "description_width": ""
      }
     },
     "5f441c0d2243445bb2d79ac94ec14981": {
      "model_module": "@jupyter-widgets/controls",
      "model_module_version": "1.5.0",
      "model_name": "DescriptionStyleModel",
      "state": {
       "description_width": ""
      }
     },
     "5fa383537c9046be804538848e3de190": {
      "model_module": "@jupyter-widgets/controls",
      "model_module_version": "1.5.0",
      "model_name": "DescriptionStyleModel",
      "state": {
       "description_width": "initial"
      }
     },
     "5fa740cc383140e69f1c9efdb6e4cfcd": {
      "model_module": "@jupyter-widgets/controls",
      "model_module_version": "1.5.0",
      "model_name": "DescriptionStyleModel",
      "state": {
       "description_width": "initial"
      }
     },
     "5fc22ce8689f4f03a4996b5f4f0b284c": {
      "model_module": "@jupyter-widgets/controls",
      "model_module_version": "1.5.0",
      "model_name": "DescriptionStyleModel",
      "state": {
       "description_width": "initial"
      }
     },
     "5fc862a8130a4d5ea2d7b2a9b7d945c8": {
      "model_module": "@jupyter-widgets/base",
      "model_module_version": "1.2.0",
      "model_name": "LayoutModel",
      "state": {
       "grid_area": "widget003"
      }
     },
     "601875d809434df4819b32b596962eb9": {
      "model_module": "@jupyter-widgets/base",
      "model_module_version": "1.2.0",
      "model_name": "LayoutModel",
      "state": {
       "grid_area": "widget006"
      }
     },
     "6020fd817c444dcfbc1f13f3667285cd": {
      "model_module": "@jupyter-widgets/base",
      "model_module_version": "1.2.0",
      "model_name": "LayoutModel",
      "state": {
       "grid_area": "widget005"
      }
     },
     "603be10b6b7e40768e70b201be6332be": {
      "model_module": "@jupyter-widgets/controls",
      "model_module_version": "1.5.0",
      "model_name": "GridBoxModel",
      "state": {
       "children": [
        "IPY_MODEL_8cd0870c914c40b19a76bc658535737c",
        "IPY_MODEL_43f82414e22e4a1688a3e040270760cc",
        "IPY_MODEL_6b6359940ab44cfab53bcea5b554beec",
        "IPY_MODEL_9a23c6a5ebc34a36b5238fefd6329e69",
        "IPY_MODEL_e2bc86be1d464f9bb968304386854a06",
        "IPY_MODEL_a7fed476d0394d5db4ba237260ea34b1"
       ],
       "layout": "IPY_MODEL_7664fa84ead74f2ba2a1bb12dcb57e8d"
      }
     },
     "603fcb1c0d494e4ba89d0c5511581e72": {
      "model_module": "@jupyter-widgets/controls",
      "model_module_version": "1.5.0",
      "model_name": "DatePickerModel",
      "state": {
       "description": "Pick a Date:",
       "disabled": false,
       "layout": "IPY_MODEL_335317df7d3849818137fe4adeab256c",
       "style": "IPY_MODEL_94e2aec3fe3f417f994c19cb515b363f",
       "value": {
        "date": 1,
        "month": 0,
        "year": 2022
       }
      }
     },
     "604e08a0293742d39eb0fab7c0baa60e": {
      "model_module": "@jupyter-widgets/controls",
      "model_module_version": "1.5.0",
      "model_name": "GridBoxModel",
      "state": {
       "children": [
        "IPY_MODEL_6193576dd96744bc8f5295d9188653a3",
        "IPY_MODEL_07da0cfb911a4e04abc16972b3801df7",
        "IPY_MODEL_0c47d71d88be457888833047367db128",
        "IPY_MODEL_a1c061b6913547cbbe7195c2e0664a3c",
        "IPY_MODEL_c26ec1553b8247f78a90805c7f6322a4",
        "IPY_MODEL_36a618418d3a4e04a3f5e0d6c8811bc6"
       ],
       "layout": "IPY_MODEL_f7ec9277d5a04642aa9230f951ce2a13"
      }
     },
     "6080438b5ea74b3b8ec5eb647db1399b": {
      "model_module": "@jupyter-widgets/controls",
      "model_module_version": "1.5.0",
      "model_name": "DropdownModel",
      "state": {
       "_options_labels": [
        "Income Statement",
        "Balance Sheet",
        "Statements of Cash Flow",
        "Statements of Convertible Preferred Stock and Stockholder’s Equity"
       ],
       "description": "Financial Statement:*",
       "index": 0,
       "layout": "IPY_MODEL_dd832e8b37954e48a4c3f421791728ce",
       "style": "IPY_MODEL_ea8e13fa886f41a4827e95164701c804"
      }
     },
     "60891e1bee9c43e8aa60644188ac252e": {
      "model_module": "@jupyter-widgets/base",
      "model_module_version": "1.2.0",
      "model_name": "LayoutModel",
      "state": {
       "grid_area": "widget002"
      }
     },
     "610f7c5b03cf45789f24a393b9dccc11": {
      "model_module": "@jupyter-widgets/base",
      "model_module_version": "1.2.0",
      "model_name": "LayoutModel",
      "state": {
       "grid_area": "widget004"
      }
     },
     "611f0762c4e942b8aa654a835f38be23": {
      "model_module": "@jupyter-widgets/base",
      "model_module_version": "1.2.0",
      "model_name": "LayoutModel",
      "state": {
       "grid_area": "widget003"
      }
     },
     "6155eb1ac3744b64bf096588619e22bb": {
      "model_module": "@jupyter-widgets/controls",
      "model_module_version": "1.5.0",
      "model_name": "DescriptionStyleModel",
      "state": {
       "description_width": ""
      }
     },
     "6193576dd96744bc8f5295d9188653a3": {
      "model_module": "@jupyter-widgets/controls",
      "model_module_version": "1.5.0",
      "model_name": "TextModel",
      "state": {
       "description": "Ticker/Entity Name:*",
       "layout": "IPY_MODEL_0d2087684ad949779f48e2fa4b1ebea1",
       "placeholder": "Enter..",
       "style": "IPY_MODEL_c2a9302c8bb446c088d2c41e8f9cd34c",
       "value": "msft"
      }
     },
     "624f807e6ab74393bb18fea8e2a43744": {
      "model_module": "@jupyter-widgets/base",
      "model_module_version": "1.2.0",
      "model_name": "LayoutModel",
      "state": {}
     },
     "626005116d024f9e93ce3fbedc810c49": {
      "model_module": "@jupyter-widgets/base",
      "model_module_version": "1.2.0",
      "model_name": "LayoutModel",
      "state": {
       "grid_area": "widget001"
      }
     },
     "62af2c6c6b3c4bf39373a5ee64070e20": {
      "model_module": "@jupyter-widgets/base",
      "model_module_version": "1.2.0",
      "model_name": "LayoutModel",
      "state": {
       "grid_area": "widget006"
      }
     },
     "62c83ff3c11e4972a2affc588970da1d": {
      "model_module": "@jupyter-widgets/controls",
      "model_module_version": "1.5.0",
      "model_name": "DatePickerModel",
      "state": {
       "description": "Pick a Date:",
       "disabled": false,
       "layout": "IPY_MODEL_c942904dafc9465985b45433b87750ad",
       "style": "IPY_MODEL_0cac3e68463b4f88b32fe83b73e72b0a"
      }
     },
     "62f15bdd54524964b4db6e49d6c347d4": {
      "model_module": "@jupyter-widgets/controls",
      "model_module_version": "1.5.0",
      "model_name": "DescriptionStyleModel",
      "state": {
       "description_width": ""
      }
     },
     "6324da8dd33b4084851c44ede27dbf47": {
      "model_module": "@jupyter-widgets/base",
      "model_module_version": "1.2.0",
      "model_name": "LayoutModel",
      "state": {
       "grid_template_areas": "\"widget001 .\"\n\"widget002 .\"\n\"widget003 .\"\n\"widget004 .\"\n\"widget005 .\"\n\"widget006 widget006\"",
       "grid_template_columns": "repeat(2, 1fr)",
       "grid_template_rows": "repeat(6, 1fr)"
      }
     },
     "633152e9b52b4d3bbc8b6bd67cc32dcd": {
      "model_module": "@jupyter-widgets/controls",
      "model_module_version": "1.5.0",
      "model_name": "DatePickerModel",
      "state": {
       "description": "Pick a Date:",
       "disabled": false,
       "layout": "IPY_MODEL_7a7ea33bf16e4ae18e8cf8b66573c1de",
       "style": "IPY_MODEL_83e031ef77f847718f8d6560f1844737"
      }
     },
     "6340c37fca654a9d984eecd0d03628e9": {
      "model_module": "@jupyter-widgets/controls",
      "model_module_version": "1.5.0",
      "model_name": "DescriptionStyleModel",
      "state": {
       "description_width": ""
      }
     },
     "63625faf7e8b48cc8a4fa8acdd00889d": {
      "model_module": "@jupyter-widgets/controls",
      "model_module_version": "1.5.0",
      "model_name": "DropdownModel",
      "state": {
       "_options_labels": [
        "Income Statement",
        "Balance Sheet",
        "Statements of Cash Flow",
        "Statements of Convertible Preferred Stock and Stockholder’s Equity"
       ],
       "description": "Financial Statement:*",
       "index": 0,
       "layout": "IPY_MODEL_a496ef8dc337464ca503bec9c03db83d",
       "style": "IPY_MODEL_aadff09a232843fcbf3a72e94cd7d03a"
      }
     },
     "6378e53b60924728943a49ea52fe7369": {
      "model_module": "@jupyter-widgets/controls",
      "model_module_version": "1.5.0",
      "model_name": "DescriptionStyleModel",
      "state": {
       "description_width": ""
      }
     },
     "63adf7dcfebc4178a2c94e0f7825d3d9": {
      "model_module": "@jupyter-widgets/base",
      "model_module_version": "1.2.0",
      "model_name": "LayoutModel",
      "state": {
       "grid_area": "widget002"
      }
     },
     "63c9c5206de9429f8ff85979f55cd14c": {
      "model_module": "@jupyter-widgets/controls",
      "model_module_version": "1.5.0",
      "model_name": "DatePickerModel",
      "state": {
       "description": "Pick a Date:",
       "disabled": false,
       "layout": "IPY_MODEL_7ebf778010664f918472300fc31f66b2",
       "style": "IPY_MODEL_77fa302c5a644231b790ca06a8bcdfe0"
      }
     },
     "63d99394f1f14873a7793146896ce6c3": {
      "model_module": "@jupyter-widgets/base",
      "model_module_version": "1.2.0",
      "model_name": "LayoutModel",
      "state": {
       "grid_template_areas": "\"widget001 .\"\n\"widget002 .\"\n\"widget003 .\"\n\"widget004 .\"\n\"widget005 .\"\n\"widget006 widget006\"",
       "grid_template_columns": "repeat(2, 1fr)",
       "grid_template_rows": "repeat(6, 1fr)"
      }
     },
     "6403fb2fe2cf4744973bb486ffe5d543": {
      "model_module": "@jupyter-widgets/base",
      "model_module_version": "1.2.0",
      "model_name": "LayoutModel",
      "state": {
       "grid_area": "widget003"
      }
     },
     "6416c91d98944529a06f096751764615": {
      "model_module": "@jupyter-widgets/base",
      "model_module_version": "1.2.0",
      "model_name": "LayoutModel",
      "state": {
       "grid_area": "widget005"
      }
     },
     "6465e8a6daaf4337a524b7b8c6210b0b": {
      "model_module": "@jupyter-widgets/controls",
      "model_module_version": "1.5.0",
      "model_name": "DescriptionStyleModel",
      "state": {
       "description_width": ""
      }
     },
     "6470b45272814b0f90030c934c62d973": {
      "model_module": "@jupyter-widgets/controls",
      "model_module_version": "1.5.0",
      "model_name": "ButtonModel",
      "state": {
       "description": "Search",
       "icon": "search",
       "layout": "IPY_MODEL_e6ac2e98336a425cbdef5f1e6a7efcb8",
       "style": "IPY_MODEL_e9f6238689804e6f8be5d449203c5581",
       "tooltip": "Search"
      }
     },
     "6487544983bf4da9943c8ab7f1b1f4ca": {
      "model_module": "@jupyter-widgets/controls",
      "model_module_version": "1.5.0",
      "model_name": "DescriptionStyleModel",
      "state": {
       "description_width": ""
      }
     },
     "64aa257dadec4d6daf4831718c040c67": {
      "model_module": "@jupyter-widgets/controls",
      "model_module_version": "1.5.0",
      "model_name": "TextModel",
      "state": {
       "description": "Ticker/Entity Name:*",
       "layout": "IPY_MODEL_ed46083c7ff542d4a4a30f8eb0ec1ad8",
       "placeholder": "Enter..",
       "style": "IPY_MODEL_7b4f153f7ffe4fc3a0a9ba29616632d9"
      }
     },
     "64f9c53cf518490db5a2180165da8bde": {
      "model_module": "@jupyter-widgets/controls",
      "model_module_version": "1.5.0",
      "model_name": "DatePickerModel",
      "state": {
       "description": "Pick a Date:",
       "disabled": false,
       "layout": "IPY_MODEL_5cce5b222f99442f8c07b569f4b8774d",
       "style": "IPY_MODEL_7622e709292546a281a969e8bc798f1c"
      }
     },
     "655938a0c67242d3b4bdff12b6e1095e": {
      "model_module": "@jupyter-widgets/controls",
      "model_module_version": "1.5.0",
      "model_name": "GridBoxModel",
      "state": {
       "children": [
        "IPY_MODEL_2cf4b1e696ee418881d958a4c6f9edae",
        "IPY_MODEL_875b43e91d834ff2a760f753e20ac1ec",
        "IPY_MODEL_fbdab16941454094b81fd609cfd910b7",
        "IPY_MODEL_44e4515af46a4bc2b4e09ed70c91b25f",
        "IPY_MODEL_69b8527605be4312991262d35278d748",
        "IPY_MODEL_2ce6d34a824b4d4597faf7921ec0ae25"
       ],
       "layout": "IPY_MODEL_3e7b161a7bc449de9c7caf6bef767f80"
      }
     },
     "659285fd8d0b4bef9311fb543c732037": {
      "model_module": "@jupyter-widgets/controls",
      "model_module_version": "1.5.0",
      "model_name": "TextModel",
      "state": {
       "description": "Ticker/Entity Name:*",
       "layout": "IPY_MODEL_c6362ef509ee4e3e89b9fdd22c15e63a",
       "placeholder": "Enter..",
       "style": "IPY_MODEL_0146434aacc4400e8439a6c3ff868f59"
      }
     },
     "65b3a21406244d2d9d928818f5f92b73": {
      "model_module": "@jupyter-widgets/controls",
      "model_module_version": "1.5.0",
      "model_name": "ButtonStyleModel",
      "state": {}
     },
     "65b59baa84384c5b8df707c170e8c0a8": {
      "model_module": "@jupyter-widgets/controls",
      "model_module_version": "1.5.0",
      "model_name": "DatePickerModel",
      "state": {
       "description": "Pick a Date:",
       "disabled": false,
       "layout": "IPY_MODEL_f63180e3177744fa8ad7b3f10cc7e2d4",
       "style": "IPY_MODEL_892094798b3945db829d21ff44a9a46a"
      }
     },
     "65c1884baed443ca9e905f054a4d0d8c": {
      "model_module": "@jupyter-widgets/base",
      "model_module_version": "1.2.0",
      "model_name": "LayoutModel",
      "state": {
       "grid_area": "widget002"
      }
     },
     "65fbccdadfbf4c1f84d038f1e1c86ed0": {
      "model_module": "@jupyter-widgets/controls",
      "model_module_version": "1.5.0",
      "model_name": "DatePickerModel",
      "state": {
       "description": "Pick a Date:",
       "disabled": false,
       "layout": "IPY_MODEL_9b9cf3842e44426b86ab52842c2bcd7e",
       "style": "IPY_MODEL_1f3dfd184d7b40978abd6ce0d9ce6659"
      }
     },
     "6611db36a9244e1f8d4d5e26ecc04ba0": {
      "model_module": "@jupyter-widgets/base",
      "model_module_version": "1.2.0",
      "model_name": "LayoutModel",
      "state": {
       "grid_area": "widget001"
      }
     },
     "668527139c66483ea3d52a37ce370727": {
      "model_module": "@jupyter-widgets/controls",
      "model_module_version": "1.5.0",
      "model_name": "TextModel",
      "state": {
       "description": "Ticker/Entity Name:*",
       "layout": "IPY_MODEL_ef657ef8b3c3477e9821f22f37b5bc66",
       "placeholder": "Enter..",
       "style": "IPY_MODEL_8f6f1547206f4e0a9c677a1dbe1eee9e"
      }
     },
     "66c24ed25e1a4a29a1c27f9dc061a0ec": {
      "model_module": "@jupyter-widgets/base",
      "model_module_version": "1.2.0",
      "model_name": "LayoutModel",
      "state": {}
     },
     "673790d2d5ef46da86159f15f2196dde": {
      "model_module": "@jupyter-widgets/controls",
      "model_module_version": "1.5.0",
      "model_name": "GridBoxModel",
      "state": {
       "children": [
        "IPY_MODEL_64aa257dadec4d6daf4831718c040c67",
        "IPY_MODEL_d34a96ceee0c4ac8b3316f384bebfe01",
        "IPY_MODEL_ae330f3451114674a992c6c3419fd3f0",
        "IPY_MODEL_b1e9f6714ef444749797c6aaef7feae3",
        "IPY_MODEL_48fbd072ec7a4ccc84cc1d11ced47cdf",
        "IPY_MODEL_64f9c53cf518490db5a2180165da8bde",
        "IPY_MODEL_79dd0fc7b43d4b4bb9a663161e180117"
       ],
       "layout": "IPY_MODEL_2c714b536730466f8d971ba788ef31a5"
      }
     },
     "67981a5a7881437ea3ff26d606595e73": {
      "model_module": "@jupyter-widgets/controls",
      "model_module_version": "1.5.0",
      "model_name": "DropdownModel",
      "state": {
       "_options_labels": [
        "Income Statement",
        "Balance Sheet",
        "Statements of Cash Flow",
        "Statements of Convertible Preferred Stock and Stockholder’s Equity"
       ],
       "description": "Financial Statement:*",
       "index": 0,
       "layout": "IPY_MODEL_408ff34601e24770a77c2f877d7efd72",
       "style": "IPY_MODEL_7c8800203bbe430992cc1bab53a645bf"
      }
     },
     "67a2cd44079e4554bbc3d1089fefff30": {
      "model_module": "@jupyter-widgets/controls",
      "model_module_version": "1.5.0",
      "model_name": "DescriptionStyleModel",
      "state": {
       "description_width": "initial"
      }
     },
     "67dcf8b33e174ca6bf31225af314e596": {
      "model_module": "@jupyter-widgets/base",
      "model_module_version": "1.2.0",
      "model_name": "LayoutModel",
      "state": {
       "grid_area": "widget007"
      }
     },
     "6819a69d5be243ee972447adab10d22b": {
      "model_module": "@jupyter-widgets/base",
      "model_module_version": "1.2.0",
      "model_name": "LayoutModel",
      "state": {
       "grid_template_areas": "\"widget001 .\"\n\"widget002 .\"\n\"widget003 .\"\n\"widget004 .\"\n\"widget005 .\"\n\"widget006 .\"\n\"widget007 widget007\"",
       "grid_template_columns": "repeat(2, 1fr)",
       "grid_template_rows": "repeat(7, 1fr)"
      }
     },
     "681dc0a51e1f4f8ea36ef635021d35ec": {
      "model_module": "@jupyter-widgets/base",
      "model_module_version": "1.2.0",
      "model_name": "LayoutModel",
      "state": {
       "grid_area": "widget006"
      }
     },
     "6861a43e951f4e779cd4430e512df459": {
      "model_module": "@jupyter-widgets/controls",
      "model_module_version": "1.5.0",
      "model_name": "TextModel",
      "state": {
       "description": "Ticker/Entity Name:*",
       "layout": "IPY_MODEL_71d5a47cbb6749739e9df75136a375ce",
       "placeholder": "Enter..",
       "style": "IPY_MODEL_c642bab73ef94bc58fa8b96060ba16bb"
      }
     },
     "6870ed2d1af647499ca5685e11476564": {
      "model_module": "@jupyter-widgets/base",
      "model_module_version": "1.2.0",
      "model_name": "LayoutModel",
      "state": {}
     },
     "6894404584b1408dad07909e5d154bd4": {
      "model_module": "@jupyter-widgets/controls",
      "model_module_version": "1.5.0",
      "model_name": "ButtonStyleModel",
      "state": {}
     },
     "68b9ec50b4de4c66b206cd7e7b40f5a0": {
      "model_module": "@jupyter-widgets/controls",
      "model_module_version": "1.5.0",
      "model_name": "ComboboxModel",
      "state": {
       "description": "Filing Type:",
       "ensure_option": true,
       "layout": "IPY_MODEL_54eb20ced1b643098f9fdd79e455f042",
       "options": [
        "",
        "10-Q",
        "10-K",
        "10-Q/A",
        "10-QSB",
        "10-QT",
        "10-QT/A",
        "10-QSB",
        "10-QSB/A",
        "10-QSB12B",
        "10-K/A",
        "10-K405",
        "10-K405/A",
        "10-KSB",
        "10-KT",
        "10-KT/A"
       ],
       "placeholder": "Enter..",
       "style": "IPY_MODEL_2e3d744c14924efb8a8fa58c1687970e"
      }
     },
     "68d8a7de6f47447bbd191d25892457b0": {
      "model_module": "@jupyter-widgets/base",
      "model_module_version": "1.2.0",
      "model_name": "LayoutModel",
      "state": {
       "grid_area": "widget001"
      }
     },
     "68e836d2c1e348028b765f55b4860e7c": {
      "model_module": "@jupyter-widgets/controls",
      "model_module_version": "1.5.0",
      "model_name": "ComboboxModel",
      "state": {
       "description": "Filing Type:",
       "ensure_option": true,
       "layout": "IPY_MODEL_8f171997010a4e18873dbc1c56a01f36",
       "options": [
        "",
        "10-Q",
        "10-K",
        "10-Q/A",
        "10-QSB",
        "10-QT",
        "10-QT/A",
        "10-QSB",
        "10-QSB/A",
        "10-QSB12B",
        "10-K/A",
        "10-K405",
        "10-K405/A",
        "10-KSB",
        "10-KT",
        "10-KT/A"
       ],
       "placeholder": "Enter..",
       "style": "IPY_MODEL_554397e5fa6a4dc7905442e43f570b8d"
      }
     },
     "694155106d5c430a8e03e4688b3e83b0": {
      "model_module": "@jupyter-widgets/controls",
      "model_module_version": "1.5.0",
      "model_name": "DescriptionStyleModel",
      "state": {
       "description_width": ""
      }
     },
     "6959f60cdc8247aab004f90c3ad5427c": {
      "model_module": "@jupyter-widgets/base",
      "model_module_version": "1.2.0",
      "model_name": "LayoutModel",
      "state": {
       "grid_area": "widget002"
      }
     },
     "69825bd062d34971b8125ca3f90f9fde": {
      "model_module": "@jupyter-widgets/controls",
      "model_module_version": "1.5.0",
      "model_name": "ComboboxModel",
      "state": {
       "description": "Filing Type:",
       "ensure_option": true,
       "layout": "IPY_MODEL_f8b84fde570249e7aff63e2418f51ac7",
       "options": [
        "",
        "10-Q",
        "10-K",
        "10-Q/A",
        "10-QSB",
        "10-QT",
        "10-QT/A",
        "10-QSB",
        "10-QSB/A",
        "10-QSB12B",
        "10-K/A",
        "10-K405",
        "10-K405/A",
        "10-KSB",
        "10-KT",
        "10-KT/A"
       ],
       "placeholder": "Enter..",
       "style": "IPY_MODEL_5f441c0d2243445bb2d79ac94ec14981",
       "value": "10-Q"
      }
     },
     "69965e3c30334aeb83163a61b976fc73": {
      "model_module": "@jupyter-widgets/base",
      "model_module_version": "1.2.0",
      "model_name": "LayoutModel",
      "state": {
       "grid_area": "widget005"
      }
     },
     "69b8527605be4312991262d35278d748": {
      "model_module": "@jupyter-widgets/controls",
      "model_module_version": "1.5.0",
      "model_name": "DatePickerModel",
      "state": {
       "description": "Pick a Date:",
       "disabled": false,
       "layout": "IPY_MODEL_e6053571317947dd8f0672b4960c49d2",
       "style": "IPY_MODEL_4f8afd68217543e39b92318df2a65d83"
      }
     },
     "6a524b72a0fd4868b25904710ea7a3be": {
      "model_module": "@jupyter-widgets/controls",
      "model_module_version": "1.5.0",
      "model_name": "ButtonModel",
      "state": {
       "description": "Search",
       "icon": "search",
       "layout": "IPY_MODEL_5cd2980c59f740af8235657ab769302e",
       "style": "IPY_MODEL_77a01bceba8d4dd2b56d722e830a380b",
       "tooltip": "Search"
      }
     },
     "6a9b2c43fbd2449fa4d70e2abc9114cc": {
      "model_module": "@jupyter-widgets/controls",
      "model_module_version": "1.5.0",
      "model_name": "DatePickerModel",
      "state": {
       "description": "Pick a Date:",
       "disabled": false,
       "layout": "IPY_MODEL_3ce65e89c56e44fca7a07528a7358ed9",
       "style": "IPY_MODEL_223806666d87401aaad17779e3d32270"
      }
     },
     "6ac5ad50599748918539fd8046144cd9": {
      "model_module": "@jupyter-widgets/controls",
      "model_module_version": "1.5.0",
      "model_name": "ButtonStyleModel",
      "state": {}
     },
     "6adc29e386704dc18701e47b834eea22": {
      "model_module": "@jupyter-widgets/controls",
      "model_module_version": "1.5.0",
      "model_name": "TextModel",
      "state": {
       "description": "Ticker/Entity Name:*",
       "layout": "IPY_MODEL_abab3f224405441189f9f5f1e7a780a9",
       "placeholder": "Enter..",
       "style": "IPY_MODEL_8dda0e01ca484351ae830433134f2a9e"
      }
     },
     "6afd0144a5294ee795f0addab21d4c02": {
      "model_module": "@jupyter-widgets/controls",
      "model_module_version": "1.5.0",
      "model_name": "ComboboxModel",
      "state": {
       "description": "Filing Type:",
       "ensure_option": true,
       "layout": "IPY_MODEL_2fb37935cfeb49bc81bbf2577882bb38",
       "options": [
        "",
        "10-Q",
        "10-K",
        "10-Q/A",
        "10-QSB",
        "10-QT",
        "10-QT/A",
        "10-QSB",
        "10-QSB/A",
        "10-QSB12B",
        "10-K/A",
        "10-K405",
        "10-K405/A",
        "10-KSB",
        "10-KT",
        "10-KT/A"
       ],
       "placeholder": "Enter..",
       "style": "IPY_MODEL_2f3cd704047b45f9a3cc74261292e054"
      }
     },
     "6b213d01e4874a7daece1038d673f6ca": {
      "model_module": "@jupyter-widgets/controls",
      "model_module_version": "1.5.0",
      "model_name": "DatePickerModel",
      "state": {
       "description": "Pick a Date:",
       "disabled": false,
       "layout": "IPY_MODEL_f23d782df5104761a3f54d561d6020ad",
       "style": "IPY_MODEL_b719489b46784176b4bc7d3edc49cf4f"
      }
     },
     "6b23ef62d22f4c1b941a3bb3e6310959": {
      "model_module": "@jupyter-widgets/controls",
      "model_module_version": "1.5.0",
      "model_name": "GridBoxModel",
      "state": {
       "children": [
        "IPY_MODEL_55d7122e1f064afa9f2e747af76d050b",
        "IPY_MODEL_69825bd062d34971b8125ca3f90f9fde",
        "IPY_MODEL_5c0925cb57384135b47a6b6901fe3e8d",
        "IPY_MODEL_4c2e084fd59b483cbed5325a52933352",
        "IPY_MODEL_2ea80c861bae4bfa943109b37a87bc58",
        "IPY_MODEL_fb49de9c26274b7182b87757f2152436",
        "IPY_MODEL_28d369f12b0548e394fa05e30c41e769"
       ],
       "layout": "IPY_MODEL_01e36343e3034ea8baeef7abfb21a0ae"
      }
     },
     "6b6359940ab44cfab53bcea5b554beec": {
      "model_module": "@jupyter-widgets/controls",
      "model_module_version": "1.5.0",
      "model_name": "DropdownModel",
      "state": {
       "_options_labels": [
        "Income Statement",
        "Balance Sheet",
        "Statements of Cash Flow",
        "Statements of Convertible Preferred Stock and Stockholder’s Equity"
       ],
       "description": "Financial Statement:*",
       "index": 0,
       "layout": "IPY_MODEL_a69f070cfcf54df48dc423831ed94a31",
       "style": "IPY_MODEL_00264a072c4e4d09a6b969beab59f8d8"
      }
     },
     "6b9180e8413a46a8a614b8ae7c271c00": {
      "model_module": "@jupyter-widgets/base",
      "model_module_version": "1.2.0",
      "model_name": "LayoutModel",
      "state": {
       "grid_area": "widget007"
      }
     },
     "6bb42746e30f4bddb7d55eb064be1f6f": {
      "model_module": "@jupyter-widgets/controls",
      "model_module_version": "1.5.0",
      "model_name": "DescriptionStyleModel",
      "state": {
       "description_width": ""
      }
     },
     "6c0b32950c29441fa8e908374b3b3c8c": {
      "model_module": "@jupyter-widgets/base",
      "model_module_version": "1.2.0",
      "model_name": "LayoutModel",
      "state": {
       "grid_area": "widget004"
      }
     },
     "6c139e1d97dd42f1a17d5fa711620413": {
      "model_module": "@jupyter-widgets/controls",
      "model_module_version": "1.5.0",
      "model_name": "DescriptionStyleModel",
      "state": {
       "description_width": ""
      }
     },
     "6c4df74e35804f3b8af1f07630e27324": {
      "model_module": "@jupyter-widgets/base",
      "model_module_version": "1.2.0",
      "model_name": "LayoutModel",
      "state": {
       "grid_area": "widget006"
      }
     },
     "6cbb93e1ef53430db4721fa393e6784b": {
      "model_module": "@jupyter-widgets/base",
      "model_module_version": "1.2.0",
      "model_name": "LayoutModel",
      "state": {
       "grid_area": "widget002"
      }
     },
     "6cd6e684f501452aa624024109214957": {
      "model_module": "@jupyter-widgets/controls",
      "model_module_version": "1.5.0",
      "model_name": "DescriptionStyleModel",
      "state": {
       "description_width": "initial"
      }
     },
     "6d21f6e33651494c9735ccb9e65bb154": {
      "model_module": "@jupyter-widgets/controls",
      "model_module_version": "1.5.0",
      "model_name": "DescriptionStyleModel",
      "state": {
       "description_width": ""
      }
     },
     "6d2957668a1f46e8962c07f3a84b9026": {
      "model_module": "@jupyter-widgets/base",
      "model_module_version": "1.2.0",
      "model_name": "LayoutModel",
      "state": {
       "grid_area": "widget007"
      }
     },
     "6d7f706265d24c688dcfd10892a0aa04": {
      "model_module": "@jupyter-widgets/base",
      "model_module_version": "1.2.0",
      "model_name": "LayoutModel",
      "state": {
       "grid_template_areas": "\"widget001 .\"\n\"widget002 .\"\n\"widget003 .\"\n\"widget004 .\"\n\"widget005 .\"\n\"widget006 widget006\"",
       "grid_template_columns": "repeat(2, 1fr)",
       "grid_template_rows": "repeat(6, 1fr)"
      }
     },
     "6da54ed26cf04ce29df91b9a8721c76b": {
      "model_module": "@jupyter-widgets/base",
      "model_module_version": "1.2.0",
      "model_name": "LayoutModel",
      "state": {
       "grid_template_areas": "\"widget001 .\"\n\"widget002 .\"\n\"widget003 .\"\n\"widget004 .\"\n\"widget005 .\"\n\"widget006 .\"\n\"widget007 widget007\"",
       "grid_template_columns": "repeat(2, 1fr)",
       "grid_template_rows": "repeat(7, 1fr)"
      }
     },
     "6dab86dfd9154fdd97503646593af080": {
      "model_module": "@jupyter-widgets/base",
      "model_module_version": "1.2.0",
      "model_name": "LayoutModel",
      "state": {
       "grid_area": "widget003"
      }
     },
     "6e59bd612c6c4a809199579a34e766c3": {
      "model_module": "@jupyter-widgets/controls",
      "model_module_version": "1.5.0",
      "model_name": "DescriptionStyleModel",
      "state": {
       "description_width": "initial"
      }
     },
     "6e6df985f887456b9822526a48858551": {
      "model_module": "@jupyter-widgets/controls",
      "model_module_version": "1.5.0",
      "model_name": "ButtonStyleModel",
      "state": {}
     },
     "6ea8ebc783d1419ca0c0f36e025e5195": {
      "model_module": "@jupyter-widgets/controls",
      "model_module_version": "1.5.0",
      "model_name": "GridBoxModel",
      "state": {
       "children": [
        "IPY_MODEL_c6bb58f6cad148ebae52b0f31ad6f9b9",
        "IPY_MODEL_149165aa1031404fab9c98c752fefc17",
        "IPY_MODEL_09b0bb8323704a1d91e3375c82a4b030",
        "IPY_MODEL_efd965fbf34e4804a9380a2931108f21",
        "IPY_MODEL_603fcb1c0d494e4ba89d0c5511581e72",
        "IPY_MODEL_2e176c5e65964a10849d03aa9ae9541c",
        "IPY_MODEL_6f7b42efb7d84ee8b8ca70418d2bf02f"
       ],
       "layout": "IPY_MODEL_812a4542232c45499bd8fe8da3f8c074"
      }
     },
     "6ef875dfea1f469494db064061eb6911": {
      "model_module": "@jupyter-widgets/controls",
      "model_module_version": "1.5.0",
      "model_name": "DropdownModel",
      "state": {
       "_options_labels": [
        "Income Statement",
        "Balance Sheet",
        "Statements of Cash Flow",
        "Statements of Convertible Preferred Stock and Stockholder’s Equity"
       ],
       "description": "Financial Statement:*",
       "index": 0,
       "layout": "IPY_MODEL_1b31953661f646049d6fcd587a83bd5f",
       "style": "IPY_MODEL_a0ff6bff3c8a44168d5abf810999ebc2"
      }
     },
     "6f021c9119b4442b8474efb7a64e6597": {
      "model_module": "@jupyter-widgets/base",
      "model_module_version": "1.2.0",
      "model_name": "LayoutModel",
      "state": {
       "grid_area": "widget001"
      }
     },
     "6f3edf3fbac946c683472599282998d9": {
      "model_module": "@jupyter-widgets/controls",
      "model_module_version": "1.5.0",
      "model_name": "DescriptionStyleModel",
      "state": {
       "description_width": ""
      }
     },
     "6f45b42d4c624d5ba328444c51abe2a7": {
      "model_module": "@jupyter-widgets/controls",
      "model_module_version": "1.5.0",
      "model_name": "TextModel",
      "state": {
       "description": "Ticker/Entity Name:*",
       "layout": "IPY_MODEL_6611db36a9244e1f8d4d5e26ecc04ba0",
       "placeholder": "Enter..",
       "style": "IPY_MODEL_ecfd66591cda4b50b6ab97414c95a300",
       "value": "msft"
      }
     },
     "6f7b42efb7d84ee8b8ca70418d2bf02f": {
      "model_module": "@jupyter-widgets/controls",
      "model_module_version": "1.5.0",
      "model_name": "ButtonModel",
      "state": {
       "description": "Search",
       "icon": "search",
       "layout": "IPY_MODEL_f844a5b96f4146d4945516340cbf702e",
       "style": "IPY_MODEL_fa717b26ffd34a9893d8157909469266",
       "tooltip": "Search"
      }
     },
     "6fef368696004249b0fc3e49646e0215": {
      "model_module": "@jupyter-widgets/base",
      "model_module_version": "1.2.0",
      "model_name": "LayoutModel",
      "state": {}
     },
     "701ae2075c934272952a1fe2ddbcbd09": {
      "model_module": "@jupyter-widgets/controls",
      "model_module_version": "1.5.0",
      "model_name": "DropdownModel",
      "state": {
       "_options_labels": [
        "Income Statement",
        "Balance Sheet",
        "Statements of Cash Flow",
        "Statements of Convertible Preferred Stock and Stockholder’s Equity"
       ],
       "description": "Financial Statement:*",
       "index": 0,
       "layout": "IPY_MODEL_d4c17884e31d4a32b5a6d788e52f3137",
       "style": "IPY_MODEL_e1bf44bb5bf9445ea049437d2cc057be"
      }
     },
     "707a78120c8d4262b063daf9d53da6fb": {
      "model_module": "@jupyter-widgets/controls",
      "model_module_version": "1.5.0",
      "model_name": "GridBoxModel",
      "state": {
       "children": [
        "IPY_MODEL_3993a18bb2414016b29f5a6edacdfa79",
        "IPY_MODEL_9d9ba3fb5c7b4f4797115749874ac849",
        "IPY_MODEL_7b7f62ce7b54444d87c1ff204b07e24e",
        "IPY_MODEL_27c7e3144ee44467be809e7a2e3fd29f",
        "IPY_MODEL_1a0088a9789344ada1f3ff6e3a767a74",
        "IPY_MODEL_f8d10b1cd3704d3a9da2352229149744",
        "IPY_MODEL_fd986d6ebb77431cb5e75fcd1b15ec53"
       ],
       "layout": "IPY_MODEL_d8c4e38514ac4b359df937624a00ebb4"
      }
     },
     "70ff69964f4d434682de9c61ab6b2f47": {
      "model_module": "@jupyter-widgets/controls",
      "model_module_version": "1.5.0",
      "model_name": "GridBoxModel",
      "state": {
       "children": [
        "IPY_MODEL_49149e8091054ec29f4fbf8e14d16a22",
        "IPY_MODEL_cef258e2e0744629aa26f119330feb62",
        "IPY_MODEL_5d7e92dc1f51413bafb6c75b3fb4eb77",
        "IPY_MODEL_146a110ca8f24ced96c4eb4ae5fe3441",
        "IPY_MODEL_356d04a64ec24bea99b9b43b10bf7266",
        "IPY_MODEL_a9a15bcdd58e459ab394c4440e1f51c7"
       ],
       "layout": "IPY_MODEL_e5e972027ef14a319d16ff90259cd440"
      }
     },
     "712673d751d447b682d16e117f61dcf0": {
      "model_module": "@jupyter-widgets/base",
      "model_module_version": "1.2.0",
      "model_name": "LayoutModel",
      "state": {
       "grid_area": "widget005"
      }
     },
     "7144d4243f66429595c3eae4fc3a2222": {
      "model_module": "@jupyter-widgets/base",
      "model_module_version": "1.2.0",
      "model_name": "LayoutModel",
      "state": {
       "grid_area": "widget005"
      }
     },
     "7147e62a68cc4e88b62d22f82e2ed1e0": {
      "model_module": "@jupyter-widgets/controls",
      "model_module_version": "1.5.0",
      "model_name": "ComboboxModel",
      "state": {
       "description": "Filing Type:",
       "ensure_option": true,
       "layout": "IPY_MODEL_c3f8393705f64ff4aa42247ef4866e9b",
       "options": [
        "",
        "10-Q",
        "10-K",
        "10-Q/A",
        "10-QSB",
        "10-QT",
        "10-QT/A",
        "10-QSB",
        "10-QSB/A",
        "10-QSB12B",
        "10-K/A",
        "10-K405",
        "10-K405/A",
        "10-KSB",
        "10-KT",
        "10-KT/A"
       ],
       "placeholder": "Enter..",
       "style": "IPY_MODEL_27eca29bd760417eae857298caa62bd3"
      }
     },
     "71501dd671034e46b6d88d55e23b20fb": {
      "model_module": "@jupyter-widgets/controls",
      "model_module_version": "1.5.0",
      "model_name": "DescriptionStyleModel",
      "state": {
       "description_width": "initial"
      }
     },
     "716d8e5c5fe54a45a6a3ab61c68e2099": {
      "model_module": "@jupyter-widgets/base",
      "model_module_version": "1.2.0",
      "model_name": "LayoutModel",
      "state": {
       "grid_area": "widget002"
      }
     },
     "71d5a47cbb6749739e9df75136a375ce": {
      "model_module": "@jupyter-widgets/base",
      "model_module_version": "1.2.0",
      "model_name": "LayoutModel",
      "state": {
       "grid_area": "widget001"
      }
     },
     "722668ee610d47ce952fcb2afbdbae20": {
      "model_module": "@jupyter-widgets/controls",
      "model_module_version": "1.5.0",
      "model_name": "ButtonStyleModel",
      "state": {}
     },
     "7254d9cc277045688a6c0b840884502c": {
      "model_module": "@jupyter-widgets/controls",
      "model_module_version": "1.5.0",
      "model_name": "DescriptionStyleModel",
      "state": {
       "description_width": "initial"
      }
     },
     "72bff191d42f4f79b6f022d79602fb2d": {
      "model_module": "@jupyter-widgets/controls",
      "model_module_version": "1.5.0",
      "model_name": "DescriptionStyleModel",
      "state": {
       "description_width": "initial"
      }
     },
     "7313715309fa44089eea4ef2e5860db2": {
      "model_module": "@jupyter-widgets/controls",
      "model_module_version": "1.5.0",
      "model_name": "DescriptionStyleModel",
      "state": {
       "description_width": ""
      }
     },
     "7364578bca7a4dec9cdc01efd6af6a3e": {
      "model_module": "@jupyter-widgets/controls",
      "model_module_version": "1.5.0",
      "model_name": "TextModel",
      "state": {
       "description": "Ticker/Entity Name:*",
       "layout": "IPY_MODEL_5d51a36fb4d3405d8ad06dbcbd03aec2",
       "placeholder": "Enter..",
       "style": "IPY_MODEL_3e24e17243a34611b0e2b0a869d64185"
      }
     },
     "73ba5a5d3ceb4844a8abdbfbad5bf746": {
      "model_module": "@jupyter-widgets/controls",
      "model_module_version": "1.5.0",
      "model_name": "DropdownModel",
      "state": {
       "_options_labels": [
        "Income Statement",
        "Balance Sheet",
        "Statements of Cash Flow",
        "Statements of Convertible Preferred Stock and Stockholder’s Equity"
       ],
       "description": "Financial Statement:*",
       "index": 0,
       "layout": "IPY_MODEL_88d28459986a4a119315aa332a72ad48",
       "style": "IPY_MODEL_a3e26d09aae34a33b28e63bf4b71f647"
      }
     },
     "744707f8a3f041908e917a35f6428ae7": {
      "model_module": "@jupyter-widgets/base",
      "model_module_version": "1.2.0",
      "model_name": "LayoutModel",
      "state": {
       "grid_area": "widget007"
      }
     },
     "7494438767d14c40922f0de146b4a6ec": {
      "model_module": "@jupyter-widgets/controls",
      "model_module_version": "1.5.0",
      "model_name": "DescriptionStyleModel",
      "state": {
       "description_width": ""
      }
     },
     "749dec7548674fadb026779aa57eaa83": {
      "model_module": "@jupyter-widgets/controls",
      "model_module_version": "1.5.0",
      "model_name": "DescriptionStyleModel",
      "state": {
       "description_width": ""
      }
     },
     "74ac8bdb94224cc0b0e7b0efeff4a254": {
      "model_module": "@jupyter-widgets/controls",
      "model_module_version": "1.5.0",
      "model_name": "ComboboxModel",
      "state": {
       "description": "Filing Type:",
       "ensure_option": true,
       "layout": "IPY_MODEL_92d11edd2b1d4f86ae54dfe27eff6514",
       "options": [
        "",
        "10-Q",
        "10-K",
        "10-Q/A",
        "10-QSB",
        "10-QT",
        "10-QT/A",
        "10-QSB",
        "10-QSB/A",
        "10-QSB12B",
        "10-K/A",
        "10-K405",
        "10-K405/A",
        "10-KSB",
        "10-KT",
        "10-KT/A"
       ],
       "placeholder": "Enter..",
       "style": "IPY_MODEL_0b65ab5aff114322baf4fd1ed1128130"
      }
     },
     "74e0639418d8421d99cb1efb965397a8": {
      "model_module": "@jupyter-widgets/controls",
      "model_module_version": "1.5.0",
      "model_name": "DatePickerModel",
      "state": {
       "description": "Pick a Date:",
       "disabled": false,
       "layout": "IPY_MODEL_b01b5f81fa6a470ab4857ae3e8daad85",
       "style": "IPY_MODEL_86044e278ebf4a0ba724506f115cad7a"
      }
     },
     "74e4d2bfeacb479a8a2c6007d2044ba7": {
      "model_module": "@jupyter-widgets/controls",
      "model_module_version": "1.5.0",
      "model_name": "DescriptionStyleModel",
      "state": {
       "description_width": ""
      }
     },
     "757da11915c7499f9c3ef025e97c6596": {
      "model_module": "@jupyter-widgets/base",
      "model_module_version": "1.2.0",
      "model_name": "LayoutModel",
      "state": {
       "grid_area": "widget002"
      }
     },
     "75937374c29e4353926c653c4157cfd2": {
      "model_module": "@jupyter-widgets/controls",
      "model_module_version": "1.5.0",
      "model_name": "DatePickerModel",
      "state": {
       "description": "Pick a Date:",
       "disabled": false,
       "layout": "IPY_MODEL_11242248b8714341b760ff4831295b29",
       "style": "IPY_MODEL_cbd892aa830540da9c5f938c61c2f78b"
      }
     },
     "75c725397234410ea7f14a4d5cd22a88": {
      "model_module": "@jupyter-widgets/controls",
      "model_module_version": "1.5.0",
      "model_name": "TextModel",
      "state": {
       "description": "Ticker/Entity Name:*",
       "layout": "IPY_MODEL_cf8f63e7b94b4107a826448cd8d76f72",
       "placeholder": "Enter..",
       "style": "IPY_MODEL_363b0436e4e9479f8cbe875686e2a19a",
       "value": "msft"
      }
     },
     "7601e881b6cd446c8c3ee60283d870c4": {
      "model_module": "@jupyter-widgets/controls",
      "model_module_version": "1.5.0",
      "model_name": "GridBoxModel",
      "state": {
       "children": [
        "IPY_MODEL_c01d10363bd4459d8249ed4cd0620ac9",
        "IPY_MODEL_7147e62a68cc4e88b62d22f82e2ed1e0",
        "IPY_MODEL_862a7260049e489a958813e6dcb3a9ac",
        "IPY_MODEL_cfff16a0a4394ace87f7a7e3c79de1bb",
        "IPY_MODEL_ce29b47128aa4616a7f7517eb85385c8",
        "IPY_MODEL_9e1848b1e49a47cfbbfa476398166470"
       ],
       "layout": "IPY_MODEL_d46fdec8e4a142f88b73b28ba64137ea"
      }
     },
     "7622e709292546a281a969e8bc798f1c": {
      "model_module": "@jupyter-widgets/controls",
      "model_module_version": "1.5.0",
      "model_name": "DescriptionStyleModel",
      "state": {
       "description_width": ""
      }
     },
     "7664fa84ead74f2ba2a1bb12dcb57e8d": {
      "model_module": "@jupyter-widgets/base",
      "model_module_version": "1.2.0",
      "model_name": "LayoutModel",
      "state": {
       "grid_template_areas": "\"widget001 .\"\n\"widget002 .\"\n\"widget003 .\"\n\"widget004 .\"\n\"widget005 .\"\n\"widget006 widget006\"",
       "grid_template_columns": "repeat(2, 1fr)",
       "grid_template_rows": "repeat(6, 1fr)"
      }
     },
     "766f3ff30457440c9c60b00829519d8d": {
      "model_module": "@jupyter-widgets/base",
      "model_module_version": "1.2.0",
      "model_name": "LayoutModel",
      "state": {
       "grid_area": "widget003"
      }
     },
     "76acc45f36c34d4987c8ed2af5359de7": {
      "model_module": "@jupyter-widgets/base",
      "model_module_version": "1.2.0",
      "model_name": "LayoutModel",
      "state": {
       "grid_area": "widget003"
      }
     },
     "76e2e6ef63984ab3ab4f5e8b5c28a21e": {
      "model_module": "@jupyter-widgets/base",
      "model_module_version": "1.2.0",
      "model_name": "LayoutModel",
      "state": {
       "grid_area": "widget003"
      }
     },
     "7766ac5c588c4edba7c96b52332ce1c8": {
      "model_module": "@jupyter-widgets/controls",
      "model_module_version": "1.5.0",
      "model_name": "DescriptionStyleModel",
      "state": {
       "description_width": ""
      }
     },
     "77a01bceba8d4dd2b56d722e830a380b": {
      "model_module": "@jupyter-widgets/controls",
      "model_module_version": "1.5.0",
      "model_name": "ButtonStyleModel",
      "state": {}
     },
     "77ae33b6db4b4baaaa768705135069e8": {
      "model_module": "@jupyter-widgets/controls",
      "model_module_version": "1.5.0",
      "model_name": "DatePickerModel",
      "state": {
       "description": "Pick a Date:",
       "disabled": false,
       "layout": "IPY_MODEL_66c24ed25e1a4a29a1c27f9dc061a0ec",
       "style": "IPY_MODEL_249f9e1bcc4c4ccfbc4d7b65a47ac0c3"
      }
     },
     "77fa302c5a644231b790ca06a8bcdfe0": {
      "model_module": "@jupyter-widgets/controls",
      "model_module_version": "1.5.0",
      "model_name": "DescriptionStyleModel",
      "state": {
       "description_width": ""
      }
     },
     "78183f2c42a348bd8065245e13c7f1d3": {
      "model_module": "@jupyter-widgets/controls",
      "model_module_version": "1.5.0",
      "model_name": "DropdownModel",
      "state": {
       "_options_labels": [
        "Income Statement",
        "Balance Sheet",
        "Statements of Cash Flow",
        "Statements of Convertible Preferred Stock and Stockholder’s Equity"
       ],
       "description": "Financial Statement:*",
       "index": 0,
       "layout": "IPY_MODEL_5764329384d9410197406507f4122305",
       "style": "IPY_MODEL_97ffe451f76948af906c8e8694274d9c"
      }
     },
     "7822e4ffb58d4ae981d8cab99001690b": {
      "model_module": "@jupyter-widgets/controls",
      "model_module_version": "1.5.0",
      "model_name": "DropdownModel",
      "state": {
       "_options_labels": [
        "Income Statement",
        "Balance Sheet",
        "Statements of Cash Flow",
        "Statements of Convertible Preferred Stock and Stockholder’s Equity"
       ],
       "description": "Financial Statement:*",
       "index": 0,
       "layout": "IPY_MODEL_76e2e6ef63984ab3ab4f5e8b5c28a21e",
       "style": "IPY_MODEL_322d3c2a1a0342c1bf56e96dd0811056"
      }
     },
     "784ec712714644c38537dc1fec8273ad": {
      "model_module": "@jupyter-widgets/controls",
      "model_module_version": "1.5.0",
      "model_name": "ComboboxModel",
      "state": {
       "description": "Filing Type:",
       "ensure_option": true,
       "layout": "IPY_MODEL_175bec7a3bac47f480374b5691ab32d5",
       "options": [
        "1",
        "1A",
        "1B",
        "2",
        "3",
        "4",
        "6",
        "7",
        "7A",
        "8",
        "9",
        "9A",
        "9B",
        "10",
        "11",
        "12",
        "13",
        "14",
        "2.1",
        "2.1A",
        "2.2",
        "2.3",
        "2.4",
        "2.5"
       ],
       "placeholder": "Enter..",
       "style": "IPY_MODEL_20b91eecd77f4f35af4225ad43510df7"
      }
     },
     "78578dddf4544300b00d8c34f1d77a7f": {
      "model_module": "@jupyter-widgets/controls",
      "model_module_version": "1.5.0",
      "model_name": "DescriptionStyleModel",
      "state": {
       "description_width": "initial"
      }
     },
     "78d3e1d4afe845f2937bf3cd9771844c": {
      "model_module": "@jupyter-widgets/controls",
      "model_module_version": "1.5.0",
      "model_name": "DescriptionStyleModel",
      "state": {
       "description_width": ""
      }
     },
     "78e9832e4f2e428abae02325284483a6": {
      "model_module": "@jupyter-widgets/controls",
      "model_module_version": "1.5.0",
      "model_name": "DescriptionStyleModel",
      "state": {
       "description_width": "initial"
      }
     },
     "7925f3f538c34d50bd9d96228e1af440": {
      "model_module": "@jupyter-widgets/base",
      "model_module_version": "1.2.0",
      "model_name": "LayoutModel",
      "state": {
       "grid_area": "widget004"
      }
     },
     "792d08a0ff6d4022a9a5d09a6610f20a": {
      "model_module": "@jupyter-widgets/base",
      "model_module_version": "1.2.0",
      "model_name": "LayoutModel",
      "state": {
       "grid_area": "widget005"
      }
     },
     "7956ee57b0c04e529d2186f077c701a0": {
      "model_module": "@jupyter-widgets/base",
      "model_module_version": "1.2.0",
      "model_name": "LayoutModel",
      "state": {
       "grid_area": "widget003"
      }
     },
     "79ae0dbc9d0845eda65ae6f698cf0913": {
      "model_module": "@jupyter-widgets/controls",
      "model_module_version": "1.5.0",
      "model_name": "DescriptionStyleModel",
      "state": {
       "description_width": "initial"
      }
     },
     "79dd0fc7b43d4b4bb9a663161e180117": {
      "model_module": "@jupyter-widgets/controls",
      "model_module_version": "1.5.0",
      "model_name": "ButtonModel",
      "state": {
       "description": "Search",
       "icon": "search",
       "layout": "IPY_MODEL_6b9180e8413a46a8a614b8ae7c271c00",
       "style": "IPY_MODEL_c3a6743fec284afba86269921be23013",
       "tooltip": "Search"
      }
     },
     "7a039d003cef41fc8cf30eaccc45b48e": {
      "model_module": "@jupyter-widgets/controls",
      "model_module_version": "1.5.0",
      "model_name": "DatePickerModel",
      "state": {
       "description": "Pick a Date:",
       "disabled": false,
       "layout": "IPY_MODEL_1d04e024b47843bb81bbbc08e0c0646b",
       "style": "IPY_MODEL_9b40fe2a1b7544f480ee3f75c805bd1d"
      }
     },
     "7a2006d148854c738ca70a1ee2a2693b": {
      "model_module": "@jupyter-widgets/base",
      "model_module_version": "1.2.0",
      "model_name": "LayoutModel",
      "state": {
       "grid_area": "widget001"
      }
     },
     "7a3d16c16ea54441b11d6875e9899427": {
      "model_module": "@jupyter-widgets/base",
      "model_module_version": "1.2.0",
      "model_name": "LayoutModel",
      "state": {
       "grid_area": "widget006"
      }
     },
     "7a72671320b2407dbc5701dfccb1b781": {
      "model_module": "@jupyter-widgets/controls",
      "model_module_version": "1.5.0",
      "model_name": "DescriptionStyleModel",
      "state": {
       "description_width": ""
      }
     },
     "7a7ea33bf16e4ae18e8cf8b66573c1de": {
      "model_module": "@jupyter-widgets/base",
      "model_module_version": "1.2.0",
      "model_name": "LayoutModel",
      "state": {
       "grid_area": "widget005"
      }
     },
     "7a9bde03eda44d5e8752192454af8c59": {
      "model_module": "@jupyter-widgets/controls",
      "model_module_version": "1.5.0",
      "model_name": "DatePickerModel",
      "state": {
       "description": "Pick a Date:",
       "disabled": false,
       "layout": "IPY_MODEL_6020fd817c444dcfbc1f13f3667285cd",
       "style": "IPY_MODEL_def9510805ba48dd97bef81cd6084bad"
      }
     },
     "7ab124375f384b52b34db655a3e77174": {
      "model_module": "@jupyter-widgets/controls",
      "model_module_version": "1.5.0",
      "model_name": "GridBoxModel",
      "state": {
       "children": [
        "IPY_MODEL_b7ea7e487cd94ad2bb3683e3b09ee08e",
        "IPY_MODEL_7f7bf96afa3d42a58f44019e4e9373c0",
        "IPY_MODEL_4a3aecde210846b28423470f60aee31c",
        "IPY_MODEL_74e0639418d8421d99cb1efb965397a8",
        "IPY_MODEL_0db2b2f750e84c8ea999806b6492dc59",
        "IPY_MODEL_f3065fe69067448aafcfec00a4ec231f"
       ],
       "layout": "IPY_MODEL_03975edea59f4e9a802bcbbe365b9647"
      }
     },
     "7ada34396e3d4da98d5b425b4bfc5f5c": {
      "model_module": "@jupyter-widgets/base",
      "model_module_version": "1.2.0",
      "model_name": "LayoutModel",
      "state": {
       "grid_area": "widget006"
      }
     },
     "7b4f153f7ffe4fc3a0a9ba29616632d9": {
      "model_module": "@jupyter-widgets/controls",
      "model_module_version": "1.5.0",
      "model_name": "DescriptionStyleModel",
      "state": {
       "description_width": "initial"
      }
     },
     "7b7da8fadc1a41f98792f0885497c639": {
      "model_module": "@jupyter-widgets/controls",
      "model_module_version": "1.5.0",
      "model_name": "DropdownModel",
      "state": {
       "_options_labels": [
        "Income Statement",
        "Balance Sheet",
        "Statements of Cash Flow",
        "Statements of Convertible Preferred Stock and Stockholder’s Equity"
       ],
       "description": "Financial Statement:*",
       "index": 0,
       "layout": "IPY_MODEL_b04f461c44054a80bacd750e72f2ed47",
       "style": "IPY_MODEL_acc8ca04db0f4a828ab30ef4833c0826"
      }
     },
     "7b7f62ce7b54444d87c1ff204b07e24e": {
      "model_module": "@jupyter-widgets/controls",
      "model_module_version": "1.5.0",
      "model_name": "DropdownModel",
      "state": {
       "_options_labels": [
        "Financial Statement",
        "Item"
       ],
       "description": "Required Information:*",
       "index": 1,
       "layout": "IPY_MODEL_e3f3f673f5484c1794e864ff0adcc27a",
       "style": "IPY_MODEL_c3f697917dad426abbe7a6fe0e5f4892"
      }
     },
     "7b97d90377b0476ba11894cd8ce97a05": {
      "model_module": "@jupyter-widgets/base",
      "model_module_version": "1.2.0",
      "model_name": "LayoutModel",
      "state": {
       "grid_area": "widget002"
      }
     },
     "7ba2b66f97fe49afbe03177ef9cdea81": {
      "model_module": "@jupyter-widgets/base",
      "model_module_version": "1.2.0",
      "model_name": "LayoutModel",
      "state": {
       "grid_area": "widget005"
      }
     },
     "7c388903ecab449b93827d957218f914": {
      "model_module": "@jupyter-widgets/controls",
      "model_module_version": "1.5.0",
      "model_name": "ComboboxModel",
      "state": {
       "description": "Filing Type:",
       "ensure_option": true,
       "layout": "IPY_MODEL_65c1884baed443ca9e905f054a4d0d8c",
       "options": [
        "",
        "10-Q",
        "10-K",
        "10-Q/A",
        "10-QSB",
        "10-QT",
        "10-QT/A",
        "10-QSB",
        "10-QSB/A",
        "10-QSB12B",
        "10-K/A",
        "10-K405",
        "10-K405/A",
        "10-KSB",
        "10-KT",
        "10-KT/A"
       ],
       "placeholder": "Enter..",
       "style": "IPY_MODEL_ce80ef81f10240008b6a4b7c13c9e77a",
       "value": "10-K"
      }
     },
     "7c8800203bbe430992cc1bab53a645bf": {
      "model_module": "@jupyter-widgets/controls",
      "model_module_version": "1.5.0",
      "model_name": "DescriptionStyleModel",
      "state": {
       "description_width": "initial"
      }
     },
     "7cf65f61eb38473e9430038012509296": {
      "model_module": "@jupyter-widgets/base",
      "model_module_version": "1.2.0",
      "model_name": "LayoutModel",
      "state": {
       "grid_area": "widget003"
      }
     },
     "7cfb832ba9a4442ba2e4195b8c10ff4a": {
      "model_module": "@jupyter-widgets/base",
      "model_module_version": "1.2.0",
      "model_name": "LayoutModel",
      "state": {
       "grid_area": "widget001"
      }
     },
     "7d126f4ba705432a92e57c832f4c97ed": {
      "model_module": "@jupyter-widgets/controls",
      "model_module_version": "1.5.0",
      "model_name": "DropdownModel",
      "state": {
       "_options_labels": [
        "Income Statement",
        "Balance Sheet",
        "Statements of Cash Flow",
        "Statements of Convertible Preferred Stock and Stockholder’s Equity"
       ],
       "description": "Financial Statement:*",
       "index": 0,
       "layout": "IPY_MODEL_cb3de3784ae64d0887eb818851ee8983",
       "style": "IPY_MODEL_cd633300bfee4aeda50e45b796a8995f"
      }
     },
     "7d150156628248e3b86c3659cae3796f": {
      "model_module": "@jupyter-widgets/controls",
      "model_module_version": "1.5.0",
      "model_name": "DescriptionStyleModel",
      "state": {
       "description_width": ""
      }
     },
     "7d5a8f3f86a34bb9b003f737d76c1d86": {
      "model_module": "@jupyter-widgets/base",
      "model_module_version": "1.2.0",
      "model_name": "LayoutModel",
      "state": {
       "grid_template_areas": "\"widget001 .\"\n\"widget002 .\"\n\"widget003 .\"\n\"widget004 .\"\n\"widget005 .\"\n\"widget006 widget006\"",
       "grid_template_columns": "repeat(2, 1fr)",
       "grid_template_rows": "repeat(6, 1fr)"
      }
     },
     "7d6a0ea9ca124df2b7d2ea832156ec13": {
      "model_module": "@jupyter-widgets/base",
      "model_module_version": "1.2.0",
      "model_name": "LayoutModel",
      "state": {
       "grid_area": "widget006"
      }
     },
     "7d754c0c47004feeb6140a5a2b88b9a0": {
      "model_module": "@jupyter-widgets/controls",
      "model_module_version": "1.5.0",
      "model_name": "ButtonModel",
      "state": {
       "description": "Search",
       "icon": "search",
       "layout": "IPY_MODEL_95f439d06c0e4233b2b5b6275ef03104",
       "style": "IPY_MODEL_9d1e0d72552b48fdbf3f4a655b506dad",
       "tooltip": "Search"
      }
     },
     "7d7e2647f40f4ed8ae038153ed18665d": {
      "model_module": "@jupyter-widgets/controls",
      "model_module_version": "1.5.0",
      "model_name": "DatePickerModel",
      "state": {
       "description": "Pick a Date:",
       "disabled": false,
       "layout": "IPY_MODEL_eb56df2f6188464a9b15534d23ec22bb",
       "style": "IPY_MODEL_d77e204747dd4f8b93cf50996ee86e3c"
      }
     },
     "7dcd174177954258b993e831b7966437": {
      "model_module": "@jupyter-widgets/controls",
      "model_module_version": "1.5.0",
      "model_name": "DatePickerModel",
      "state": {
       "description": "Pick a Date:",
       "disabled": false,
       "layout": "IPY_MODEL_db48844f6a5f495a903981ff2a04b921",
       "style": "IPY_MODEL_a901bdac97ab453c966fb7fbd3b71a88"
      }
     },
     "7dff3abb9b81419bbbd4c81e8aa9532f": {
      "model_module": "@jupyter-widgets/base",
      "model_module_version": "1.2.0",
      "model_name": "LayoutModel",
      "state": {
       "grid_template_areas": "\"widget001 .\"\n\"widget002 .\"\n\"widget003 .\"\n\"widget004 .\"\n\"widget005 .\"\n\"widget006 widget006\"",
       "grid_template_columns": "repeat(2, 1fr)",
       "grid_template_rows": "repeat(6, 1fr)"
      }
     },
     "7e11cbdb581d4317ab303a6a49f2e31d": {
      "model_module": "@jupyter-widgets/controls",
      "model_module_version": "1.5.0",
      "model_name": "DropdownModel",
      "state": {
       "_options_labels": [
        "Income Statement",
        "Balance Sheet",
        "Statements of Cash Flow",
        "Statements of Convertible Preferred Stock and Stockholder’s Equity"
       ],
       "description": "Financial Statement:*",
       "index": 0,
       "layout": "IPY_MODEL_40f152a1c94a430da152926da09cd0ab",
       "style": "IPY_MODEL_96b1d2b297dc4ae3ab2f6b40d6789e48"
      }
     },
     "7e2cd566a04f40969cc5dc4b78b79e4e": {
      "model_module": "@jupyter-widgets/controls",
      "model_module_version": "1.5.0",
      "model_name": "ButtonStyleModel",
      "state": {}
     },
     "7e3bb1395f6445b18816247908f19df0": {
      "model_module": "@jupyter-widgets/controls",
      "model_module_version": "1.5.0",
      "model_name": "DescriptionStyleModel",
      "state": {
       "description_width": ""
      }
     },
     "7e41bfc622e4488cbd1b75e8c695417c": {
      "model_module": "@jupyter-widgets/controls",
      "model_module_version": "1.5.0",
      "model_name": "TextModel",
      "state": {
       "description": "Ticker/Entity Name:*",
       "layout": "IPY_MODEL_11adfc75b73348a4b561a8bae51378d8",
       "placeholder": "Enter..",
       "style": "IPY_MODEL_0947ea9301814bcb9e53f52fd42f0eff"
      }
     },
     "7e4516b26cdf4aee8ce096c73f19e331": {
      "model_module": "@jupyter-widgets/controls",
      "model_module_version": "1.5.0",
      "model_name": "DescriptionStyleModel",
      "state": {
       "description_width": "initial"
      }
     },
     "7e5b3e8d78ae4329b4f5823e1267f4db": {
      "model_module": "@jupyter-widgets/base",
      "model_module_version": "1.2.0",
      "model_name": "LayoutModel",
      "state": {
       "grid_area": "widget003"
      }
     },
     "7e7a33263d254f8e9f11a1ea93777bc3": {
      "model_module": "@jupyter-widgets/base",
      "model_module_version": "1.2.0",
      "model_name": "LayoutModel",
      "state": {
       "grid_area": "widget004"
      }
     },
     "7eaca8d6e2c4485c8e3c14aff28ac66b": {
      "model_module": "@jupyter-widgets/base",
      "model_module_version": "1.2.0",
      "model_name": "LayoutModel",
      "state": {
       "grid_area": "widget001"
      }
     },
     "7ebf778010664f918472300fc31f66b2": {
      "model_module": "@jupyter-widgets/base",
      "model_module_version": "1.2.0",
      "model_name": "LayoutModel",
      "state": {
       "grid_area": "widget004"
      }
     },
     "7ee018f651f448359f59f4dd82f5654a": {
      "model_module": "@jupyter-widgets/controls",
      "model_module_version": "1.5.0",
      "model_name": "DatePickerModel",
      "state": {
       "description": "Pick a Date:",
       "disabled": false,
       "layout": "IPY_MODEL_0a22ae4fffe04097beab3e4ccf8e811c",
       "style": "IPY_MODEL_108b652fabc34b44ad31218b02a60947"
      }
     },
     "7eec66226c9646daa5a85b7a9fe3db68": {
      "model_module": "@jupyter-widgets/controls",
      "model_module_version": "1.5.0",
      "model_name": "ButtonStyleModel",
      "state": {}
     },
     "7f46ce98b7d140ae8040c2fbbc7fecce": {
      "model_module": "@jupyter-widgets/controls",
      "model_module_version": "1.5.0",
      "model_name": "TextModel",
      "state": {
       "description": "Ticker/Entity Name:*",
       "layout": "IPY_MODEL_ca274ddbb8c54f0fbb1b392117e1035c",
       "placeholder": "Enter..",
       "style": "IPY_MODEL_2426ef6ab68b474fa2d43a92858b4bbd",
       "value": "msft"
      }
     },
     "7f6a2d95e11f45e381a37e3f554d9d59": {
      "model_module": "@jupyter-widgets/base",
      "model_module_version": "1.2.0",
      "model_name": "LayoutModel",
      "state": {
       "grid_area": "widget002"
      }
     },
     "7f7bf96afa3d42a58f44019e4e9373c0": {
      "model_module": "@jupyter-widgets/controls",
      "model_module_version": "1.5.0",
      "model_name": "ComboboxModel",
      "state": {
       "description": "Filing Type:",
       "ensure_option": true,
       "layout": "IPY_MODEL_16c5f05c5529410c8af98756e3b162bb",
       "options": [
        "",
        "10-Q",
        "10-K",
        "10-Q/A",
        "10-QSB",
        "10-QT",
        "10-QT/A",
        "10-QSB",
        "10-QSB/A",
        "10-QSB12B",
        "10-K/A",
        "10-K405",
        "10-K405/A",
        "10-KSB",
        "10-KT",
        "10-KT/A"
       ],
       "placeholder": "Enter..",
       "style": "IPY_MODEL_6c139e1d97dd42f1a17d5fa711620413"
      }
     },
     "7f96be4e80d2419b82786ad54e7c9c90": {
      "model_module": "@jupyter-widgets/controls",
      "model_module_version": "1.5.0",
      "model_name": "ButtonModel",
      "state": {
       "description": "Search",
       "icon": "search",
       "layout": "IPY_MODEL_d118ae790b984df28031e84a9c674f66",
       "style": "IPY_MODEL_3945ab580b644fb2a6ab056059e5ea81",
       "tooltip": "Search"
      }
     },
     "807c3ec161ad49bc994626ec8ebcf8e4": {
      "model_module": "@jupyter-widgets/base",
      "model_module_version": "1.2.0",
      "model_name": "LayoutModel",
      "state": {
       "grid_area": "widget001"
      }
     },
     "807fb76ba3724d269fdba66e2025ec8c": {
      "model_module": "@jupyter-widgets/controls",
      "model_module_version": "1.5.0",
      "model_name": "ButtonModel",
      "state": {
       "description": "Search",
       "icon": "search",
       "layout": "IPY_MODEL_4d5b9176427f4f758db43f5619a42fdc",
       "style": "IPY_MODEL_2e51babcc75e4f728325f0c3c67a81ae",
       "tooltip": "Search"
      }
     },
     "8080a179a74745fb961f1173b29c36fa": {
      "model_module": "@jupyter-widgets/controls",
      "model_module_version": "1.5.0",
      "model_name": "TextModel",
      "state": {
       "description": "Ticker/Entity Name:*",
       "layout": "IPY_MODEL_fa94b6cb45b945d6814cd5eb04fdd546",
       "placeholder": "Enter..",
       "style": "IPY_MODEL_f6c65cf376ea450ba39e065f9ec1c410"
      }
     },
     "8097a7a793ea47878333a113d129d6ca": {
      "model_module": "@jupyter-widgets/controls",
      "model_module_version": "1.5.0",
      "model_name": "DatePickerModel",
      "state": {
       "description": "Pick a Date:",
       "disabled": false,
       "layout": "IPY_MODEL_a4a231d43be74083b743b4d5569419fb",
       "style": "IPY_MODEL_29969239f96c441ba3447c5c4a43ca4e"
      }
     },
     "80c9c44be8f545cf8a8adda562b7cdaf": {
      "model_module": "@jupyter-widgets/controls",
      "model_module_version": "1.5.0",
      "model_name": "GridBoxModel",
      "state": {
       "children": [
        "IPY_MODEL_0ecc17df7892465e981d6a8ce179341d",
        "IPY_MODEL_9b9e9495cd26432da2d4fa9af1778f01",
        "IPY_MODEL_074188133e5b43659ae2771e8502ab70",
        "IPY_MODEL_7dcd174177954258b993e831b7966437",
        "IPY_MODEL_4bc2e9ffabe845e2aa62a39e15de4f7b",
        "IPY_MODEL_1a2e504100c449948c3747b3debb85ae"
       ],
       "layout": "IPY_MODEL_6324da8dd33b4084851c44ede27dbf47"
      }
     },
     "812a4542232c45499bd8fe8da3f8c074": {
      "model_module": "@jupyter-widgets/base",
      "model_module_version": "1.2.0",
      "model_name": "LayoutModel",
      "state": {
       "grid_template_areas": "\"widget001 .\"\n\"widget002 .\"\n\"widget003 .\"\n\"widget004 .\"\n\"widget005 .\"\n\"widget006 .\"\n\"widget007 widget007\"",
       "grid_template_columns": "repeat(2, 1fr)",
       "grid_template_rows": "repeat(7, 1fr)"
      }
     },
     "818fb139940547d9a863efadf51a2c11": {
      "model_module": "@jupyter-widgets/controls",
      "model_module_version": "1.5.0",
      "model_name": "DescriptionStyleModel",
      "state": {
       "description_width": "initial"
      }
     },
     "81c7ff0b07e145bda140a4ef22639efb": {
      "model_module": "@jupyter-widgets/controls",
      "model_module_version": "1.5.0",
      "model_name": "DescriptionStyleModel",
      "state": {
       "description_width": ""
      }
     },
     "82fb86f0bad44469a9de0244019705da": {
      "model_module": "@jupyter-widgets/controls",
      "model_module_version": "1.5.0",
      "model_name": "DescriptionStyleModel",
      "state": {
       "description_width": ""
      }
     },
     "8348ac0e3ecb455898bdd7b01dee8229": {
      "model_module": "@jupyter-widgets/controls",
      "model_module_version": "1.5.0",
      "model_name": "DatePickerModel",
      "state": {
       "description": "Pick a Date:",
       "disabled": false,
       "layout": "IPY_MODEL_8f6701d833754a758e51ab2fbe7da571",
       "style": "IPY_MODEL_d060520069884e3bae6e805f5bbb5bfe"
      }
     },
     "835d695d566442989a73bc27e0ffde31": {
      "model_module": "@jupyter-widgets/controls",
      "model_module_version": "1.5.0",
      "model_name": "DropdownModel",
      "state": {
       "_options_labels": [
        "Financial Statement",
        "Item"
       ],
       "description": "Required Information:*",
       "index": 0,
       "layout": "IPY_MODEL_f9a4051eabce48d2a0972df20b014b42",
       "style": "IPY_MODEL_d011e02f7425431cb1c99239ff2599f7"
      }
     },
     "836bccf82edf4753b8a661bc1125de87": {
      "model_module": "@jupyter-widgets/controls",
      "model_module_version": "1.5.0",
      "model_name": "DescriptionStyleModel",
      "state": {
       "description_width": ""
      }
     },
     "83a6e58f164f4af9a3b296799f1ada96": {
      "model_module": "@jupyter-widgets/base",
      "model_module_version": "1.2.0",
      "model_name": "LayoutModel",
      "state": {
       "grid_area": "widget001"
      }
     },
     "83e031ef77f847718f8d6560f1844737": {
      "model_module": "@jupyter-widgets/controls",
      "model_module_version": "1.5.0",
      "model_name": "DescriptionStyleModel",
      "state": {
       "description_width": ""
      }
     },
     "83f4b60714e64ebcb63e77af5a8fdb7c": {
      "model_module": "@jupyter-widgets/base",
      "model_module_version": "1.2.0",
      "model_name": "LayoutModel",
      "state": {
       "grid_area": "widget007"
      }
     },
     "842195feafc44dd19ec7c3acfcd6ae8b": {
      "model_module": "@jupyter-widgets/controls",
      "model_module_version": "1.5.0",
      "model_name": "DescriptionStyleModel",
      "state": {
       "description_width": ""
      }
     },
     "84422671d32a4b0f94c789342ba29255": {
      "model_module": "@jupyter-widgets/controls",
      "model_module_version": "1.5.0",
      "model_name": "DatePickerModel",
      "state": {
       "description": "Pick a Date:",
       "disabled": false,
       "layout": "IPY_MODEL_002b439975774b2080b6ab2e52d7a792",
       "style": "IPY_MODEL_db35dd1fa66d427b9a4da9755bf7530e"
      }
     },
     "853571a9f6bb4608bebf1773d2498bec": {
      "model_module": "@jupyter-widgets/controls",
      "model_module_version": "1.5.0",
      "model_name": "DescriptionStyleModel",
      "state": {
       "description_width": ""
      }
     },
     "8598450c1745430b87698fb3da912b68": {
      "model_module": "@jupyter-widgets/controls",
      "model_module_version": "1.5.0",
      "model_name": "DescriptionStyleModel",
      "state": {
       "description_width": "initial"
      }
     },
     "85c82a78cf134d868ddd6f017aa6aa92": {
      "model_module": "@jupyter-widgets/base",
      "model_module_version": "1.2.0",
      "model_name": "LayoutModel",
      "state": {
       "grid_area": "widget001"
      }
     },
     "85e593f01733423c8c2aa2857b28b5b6": {
      "model_module": "@jupyter-widgets/controls",
      "model_module_version": "1.5.0",
      "model_name": "ButtonStyleModel",
      "state": {}
     },
     "8600ccfeb2f94a259ae57f3cb046ed25": {
      "model_module": "@jupyter-widgets/controls",
      "model_module_version": "1.5.0",
      "model_name": "DropdownModel",
      "state": {
       "_options_labels": [
        "Income Statement",
        "Balance Sheet",
        "Statements of Cash Flow",
        "Statements of Convertible Preferred Stock and Stockholder’s Equity"
       ],
       "description": "Financial Statement:*",
       "index": 0,
       "layout": "IPY_MODEL_29a9c1779fc1440a90caa89362531198",
       "style": "IPY_MODEL_2b6e6795b44046898f65fe1cdba912b7"
      }
     },
     "86044e278ebf4a0ba724506f115cad7a": {
      "model_module": "@jupyter-widgets/controls",
      "model_module_version": "1.5.0",
      "model_name": "DescriptionStyleModel",
      "state": {
       "description_width": ""
      }
     },
     "86161713d66a4834b208ebdb8f869d38": {
      "model_module": "@jupyter-widgets/controls",
      "model_module_version": "1.5.0",
      "model_name": "GridBoxModel",
      "state": {
       "children": [
        "IPY_MODEL_bc07e96234de4c5499bd653494b3835c",
        "IPY_MODEL_bed71f71791b41aca55ce1bb0fa464d7",
        "IPY_MODEL_e914745260a24be8945e9674855fe016",
        "IPY_MODEL_a19910e4e6f442a2a254e3a08085e098",
        "IPY_MODEL_bc6c119815974fa0ab7b3142ff4c6e19",
        "IPY_MODEL_d1165ce8c6e149769dcbaff706b7eb3b",
        "IPY_MODEL_1d85fcb1f1cb43a5b45549b5e5bff832"
       ],
       "layout": "IPY_MODEL_3a55acb5b68c4ab18eeab433ee2ad76a"
      }
     },
     "86220204195a412797420d82102ab230": {
      "model_module": "@jupyter-widgets/base",
      "model_module_version": "1.2.0",
      "model_name": "LayoutModel",
      "state": {
       "grid_area": "widget003"
      }
     },
     "862a7260049e489a958813e6dcb3a9ac": {
      "model_module": "@jupyter-widgets/controls",
      "model_module_version": "1.5.0",
      "model_name": "DropdownModel",
      "state": {
       "_options_labels": [
        "Income Statement",
        "Balance Sheet",
        "Statements of Cash Flow",
        "Statements of Convertible Preferred Stock and Stockholder’s Equity"
       ],
       "description": "Financial Statement:*",
       "index": 0,
       "layout": "IPY_MODEL_162b7c1c9be844578f49d03f71f68042",
       "style": "IPY_MODEL_210f43d6ed744e6cab36f1e9b58705bf"
      }
     },
     "86fe5caa38884a238f9f8b6c9cf517ee": {
      "model_module": "@jupyter-widgets/controls",
      "model_module_version": "1.5.0",
      "model_name": "TextModel",
      "state": {
       "description": "Ticker/Entity Name:*",
       "layout": "IPY_MODEL_d93c58bd6a5a476b9fd9177233ba3d73",
       "placeholder": "Enter..",
       "style": "IPY_MODEL_157385dc35914f38a0896a786e3f22e5"
      }
     },
     "8709ca2979a347f6a8affa11bb6b10b6": {
      "model_module": "@jupyter-widgets/controls",
      "model_module_version": "1.5.0",
      "model_name": "ButtonStyleModel",
      "state": {}
     },
     "874539a5c6ed4548aadee194b7f018f7": {
      "model_module": "@jupyter-widgets/base",
      "model_module_version": "1.2.0",
      "model_name": "LayoutModel",
      "state": {
       "grid_area": "widget006"
      }
     },
     "875b43e91d834ff2a760f753e20ac1ec": {
      "model_module": "@jupyter-widgets/controls",
      "model_module_version": "1.5.0",
      "model_name": "ComboboxModel",
      "state": {
       "description": "Filing Type:",
       "ensure_option": true,
       "layout": "IPY_MODEL_5c80c7c3bbce4c1999dd3bffe5666d41",
       "options": [
        "",
        "10-Q",
        "10-K",
        "10-Q/A",
        "10-QSB",
        "10-QT",
        "10-QT/A",
        "10-QSB",
        "10-QSB/A",
        "10-QSB12B",
        "10-K/A",
        "10-K405",
        "10-K405/A",
        "10-KSB",
        "10-KT",
        "10-KT/A"
       ],
       "placeholder": "Enter..",
       "style": "IPY_MODEL_b3c8065a734b45e59064323310a1eeda"
      }
     },
     "877921250726420d9b9562b61e2fb360": {
      "model_module": "@jupyter-widgets/controls",
      "model_module_version": "1.5.0",
      "model_name": "ButtonStyleModel",
      "state": {}
     },
     "87ad18b14f8448a6a3a96c48ffd67d7b": {
      "model_module": "@jupyter-widgets/base",
      "model_module_version": "1.2.0",
      "model_name": "LayoutModel",
      "state": {
       "grid_area": "widget005"
      }
     },
     "87b250dd7371414499b58af12059d40d": {
      "model_module": "@jupyter-widgets/controls",
      "model_module_version": "1.5.0",
      "model_name": "ComboboxModel",
      "state": {
       "description": "Filing Type:",
       "ensure_option": true,
       "layout": "IPY_MODEL_60891e1bee9c43e8aa60644188ac252e",
       "options": [
        "",
        "10-Q",
        "10-K",
        "10-Q/A",
        "10-QSB",
        "10-QT",
        "10-QT/A",
        "10-QSB",
        "10-QSB/A",
        "10-QSB12B",
        "10-K/A",
        "10-K405",
        "10-K405/A",
        "10-KSB",
        "10-KT",
        "10-KT/A"
       ],
       "placeholder": "Enter..",
       "style": "IPY_MODEL_b2f683495a8d4990adaa128b3a95f8f2",
       "value": "10-K"
      }
     },
     "87fa9ceef9cc40f391b699d37ed96544": {
      "model_module": "@jupyter-widgets/controls",
      "model_module_version": "1.5.0",
      "model_name": "ButtonModel",
      "state": {
       "description": "Search",
       "icon": "search",
       "layout": "IPY_MODEL_b6df4ddbc1644a4390a3761fdbe8a333",
       "style": "IPY_MODEL_15278184296049608a1edeb73080ed9b",
       "tooltip": "Search"
      }
     },
     "886748e1449944f995ec723c94bb4033": {
      "model_module": "@jupyter-widgets/controls",
      "model_module_version": "1.5.0",
      "model_name": "DescriptionStyleModel",
      "state": {
       "description_width": ""
      }
     },
     "88a822733c9b435e8751f07ed792a38f": {
      "model_module": "@jupyter-widgets/controls",
      "model_module_version": "1.5.0",
      "model_name": "DescriptionStyleModel",
      "state": {
       "description_width": "initial"
      }
     },
     "88d28459986a4a119315aa332a72ad48": {
      "model_module": "@jupyter-widgets/base",
      "model_module_version": "1.2.0",
      "model_name": "LayoutModel",
      "state": {
       "grid_area": "widget003"
      }
     },
     "88e90106fd0d4593af61a6ad2e9e0d5d": {
      "model_module": "@jupyter-widgets/base",
      "model_module_version": "1.2.0",
      "model_name": "LayoutModel",
      "state": {
       "grid_area": "widget004"
      }
     },
     "892094798b3945db829d21ff44a9a46a": {
      "model_module": "@jupyter-widgets/controls",
      "model_module_version": "1.5.0",
      "model_name": "DescriptionStyleModel",
      "state": {
       "description_width": ""
      }
     },
     "89e18da204df432d848318be0745aedd": {
      "model_module": "@jupyter-widgets/base",
      "model_module_version": "1.2.0",
      "model_name": "LayoutModel",
      "state": {
       "grid_area": "widget006"
      }
     },
     "89fd7b290d65493fbcee391e48a2ad0b": {
      "model_module": "@jupyter-widgets/controls",
      "model_module_version": "1.5.0",
      "model_name": "GridBoxModel",
      "state": {
       "children": [
        "IPY_MODEL_3474cf9f84ea4d0a90b2bd38cfa5f7a4",
        "IPY_MODEL_299437ed753e4076ae036e3d8593df7b",
        "IPY_MODEL_314f4176f4e44a65a3b8c631d8b5b864",
        "IPY_MODEL_8600ccfeb2f94a259ae57f3cb046ed25",
        "IPY_MODEL_45feb6a3069c460fb9e3f154c6894021",
        "IPY_MODEL_21efc446011940fdbfbd19de72d4fd91",
        "IPY_MODEL_d6cf891a449e47bfb25263e82cf3c2c1"
       ],
       "layout": "IPY_MODEL_a8d3e002cfa6465a9bcb017a2dfebcad"
      }
     },
     "8a0d1662eaa14a9d8608467d5239ebda": {
      "model_module": "@jupyter-widgets/base",
      "model_module_version": "1.2.0",
      "model_name": "LayoutModel",
      "state": {
       "grid_area": "widget002"
      }
     },
     "8aa080a14fab4ee2808b579beb978d9a": {
      "model_module": "@jupyter-widgets/controls",
      "model_module_version": "1.5.0",
      "model_name": "DropdownModel",
      "state": {
       "_options_labels": [
        "Income Statement",
        "Balance Sheet",
        "Statements of Cash Flow",
        "Statements of Convertible Preferred Stock and Stockholder’s Equity"
       ],
       "description": "Financial Statement:*",
       "index": 0,
       "layout": "IPY_MODEL_8f3337446a094b24accac5441bb8ebd6",
       "style": "IPY_MODEL_98effe038f4440e29a38afef137b990b"
      }
     },
     "8aa0ca5cf85549ac827dc70b33701845": {
      "model_module": "@jupyter-widgets/controls",
      "model_module_version": "1.5.0",
      "model_name": "DatePickerModel",
      "state": {
       "description": "Pick a Date:",
       "disabled": false,
       "layout": "IPY_MODEL_1ba9645b4c5942fcb5371bba934afa1c",
       "style": "IPY_MODEL_fcb1cc1b113c4487af6b8a1c53dc0f5a"
      }
     },
     "8bf9610b9bba4f7d94e2dbc72dddb035": {
      "model_module": "@jupyter-widgets/controls",
      "model_module_version": "1.5.0",
      "model_name": "DropdownModel",
      "state": {
       "_options_labels": [
        "Income Statement",
        "Balance Sheet",
        "Statements of Cash Flow",
        "Statements of Convertible Preferred Stock and Stockholder’s Equity"
       ],
       "description": "Financial Statement:*",
       "index": 0,
       "layout": "IPY_MODEL_3ec3fe92a7284f4b839f4a306b847411",
       "style": "IPY_MODEL_e6d1eab5ab244c1e9f5f25232343701b"
      }
     },
     "8c261fff954e406096ce6d878ecce912": {
      "model_module": "@jupyter-widgets/controls",
      "model_module_version": "1.5.0",
      "model_name": "DatePickerModel",
      "state": {
       "description": "Pick a Date:",
       "disabled": false,
       "layout": "IPY_MODEL_31119ddf917b4d5c804125cc61d2428c",
       "style": "IPY_MODEL_d72f36e2bf4847468ee2f87e62e82f95"
      }
     },
     "8c7708a424b841e591408dffe3066e0c": {
      "model_module": "@jupyter-widgets/base",
      "model_module_version": "1.2.0",
      "model_name": "LayoutModel",
      "state": {
       "grid_area": "widget005"
      }
     },
     "8cd0870c914c40b19a76bc658535737c": {
      "model_module": "@jupyter-widgets/controls",
      "model_module_version": "1.5.0",
      "model_name": "TextModel",
      "state": {
       "description": "Ticker/Entity Name:*",
       "layout": "IPY_MODEL_68d8a7de6f47447bbd191d25892457b0",
       "placeholder": "Enter..",
       "style": "IPY_MODEL_4b0d66cd6b29492b9fd4693a939328e2",
       "value": "amzn"
      }
     },
     "8cdb83f9c2764a41aae8070ebd26757c": {
      "model_module": "@jupyter-widgets/controls",
      "model_module_version": "1.5.0",
      "model_name": "DescriptionStyleModel",
      "state": {
       "description_width": "initial"
      }
     },
     "8cec290e57954d6dbbce885ad20e4878": {
      "model_module": "@jupyter-widgets/base",
      "model_module_version": "1.2.0",
      "model_name": "LayoutModel",
      "state": {
       "grid_area": "widget002"
      }
     },
     "8d734aa50c484ed5906d568b3f7b781c": {
      "model_module": "@jupyter-widgets/controls",
      "model_module_version": "1.5.0",
      "model_name": "ButtonStyleModel",
      "state": {}
     },
     "8db6603d2e204ab7a9ce33f1167ced49": {
      "model_module": "@jupyter-widgets/controls",
      "model_module_version": "1.5.0",
      "model_name": "DescriptionStyleModel",
      "state": {
       "description_width": ""
      }
     },
     "8dcd43fda1364e76828bb73170340cb6": {
      "model_module": "@jupyter-widgets/controls",
      "model_module_version": "1.5.0",
      "model_name": "ComboboxModel",
      "state": {
       "description": "Filing Type:",
       "ensure_option": true,
       "layout": "IPY_MODEL_08ac6429986b47e089101b6a2e0a278d",
       "options": [
        "",
        "10-Q",
        "10-K",
        "10-Q/A",
        "10-QSB",
        "10-QT",
        "10-QT/A",
        "10-QSB",
        "10-QSB/A",
        "10-QSB12B",
        "10-K/A",
        "10-K405",
        "10-K405/A",
        "10-KSB",
        "10-KT",
        "10-KT/A"
       ],
       "placeholder": "Enter..",
       "style": "IPY_MODEL_886748e1449944f995ec723c94bb4033"
      }
     },
     "8dda0e01ca484351ae830433134f2a9e": {
      "model_module": "@jupyter-widgets/controls",
      "model_module_version": "1.5.0",
      "model_name": "DescriptionStyleModel",
      "state": {
       "description_width": "initial"
      }
     },
     "8de38e4bb87f41ee808e50108786c32f": {
      "model_module": "@jupyter-widgets/controls",
      "model_module_version": "1.5.0",
      "model_name": "DatePickerModel",
      "state": {
       "description": "Pick a Date:",
       "disabled": false,
       "layout": "IPY_MODEL_ebced43f470e498e8a24c41a1ea8fe45",
       "style": "IPY_MODEL_aa84a5749f6b4db0959a02c7e8e192db"
      }
     },
     "8de8a0c205c14d648dbecd0cd7fe703f": {
      "model_module": "@jupyter-widgets/controls",
      "model_module_version": "1.5.0",
      "model_name": "DescriptionStyleModel",
      "state": {
       "description_width": ""
      }
     },
     "8deb8d337cb74631975528d639a640e8": {
      "model_module": "@jupyter-widgets/base",
      "model_module_version": "1.2.0",
      "model_name": "LayoutModel",
      "state": {
       "grid_area": "widget005"
      }
     },
     "8e4a2c670d964292b68092055a4477e9": {
      "model_module": "@jupyter-widgets/controls",
      "model_module_version": "1.5.0",
      "model_name": "DatePickerModel",
      "state": {
       "description": "Pick a Date:",
       "disabled": false,
       "layout": "IPY_MODEL_be9c7868bb184ec98da39817bc1bbf53",
       "style": "IPY_MODEL_2edecd59765444a1a0b55818af9c80be"
      }
     },
     "8e5f1ad79d1e47258426c523c3d25a88": {
      "model_module": "@jupyter-widgets/base",
      "model_module_version": "1.2.0",
      "model_name": "LayoutModel",
      "state": {
       "grid_area": "widget002"
      }
     },
     "8e82e34228c14bc894d13dcbea5e5841": {
      "model_module": "@jupyter-widgets/controls",
      "model_module_version": "1.5.0",
      "model_name": "DatePickerModel",
      "state": {
       "description": "Pick a Date:",
       "disabled": false,
       "layout": "IPY_MODEL_b4264be978a7426a8c805e353332b8fb",
       "style": "IPY_MODEL_3b664e83090f4854841a6d186e6c95e6"
      }
     },
     "8efb764b0e6442d8a7ff45adfde627fc": {
      "model_module": "@jupyter-widgets/controls",
      "model_module_version": "1.5.0",
      "model_name": "DescriptionStyleModel",
      "state": {
       "description_width": ""
      }
     },
     "8f171997010a4e18873dbc1c56a01f36": {
      "model_module": "@jupyter-widgets/base",
      "model_module_version": "1.2.0",
      "model_name": "LayoutModel",
      "state": {
       "grid_area": "widget002"
      }
     },
     "8f3337446a094b24accac5441bb8ebd6": {
      "model_module": "@jupyter-widgets/base",
      "model_module_version": "1.2.0",
      "model_name": "LayoutModel",
      "state": {
       "grid_area": "widget003"
      }
     },
     "8f3b91d5b32c41c3803e7cda387b3965": {
      "model_module": "@jupyter-widgets/controls",
      "model_module_version": "1.5.0",
      "model_name": "DescriptionStyleModel",
      "state": {
       "description_width": ""
      }
     },
     "8f47af6a03724274b387498b228a53eb": {
      "model_module": "@jupyter-widgets/controls",
      "model_module_version": "1.5.0",
      "model_name": "TextModel",
      "state": {
       "description": "Ticker/Entity Name:*",
       "layout": "IPY_MODEL_f48c8bfc2a724b12b7e37ae9b6ff6a2d",
       "placeholder": "Enter..",
       "style": "IPY_MODEL_553ff932391e415cb1648be6c666ad67",
       "value": "msft"
      }
     },
     "8f4ba6053e4f4d8ea2ac499221a46aa9": {
      "model_module": "@jupyter-widgets/base",
      "model_module_version": "1.2.0",
      "model_name": "LayoutModel",
      "state": {
       "grid_area": "widget004"
      }
     },
     "8f6701d833754a758e51ab2fbe7da571": {
      "model_module": "@jupyter-widgets/base",
      "model_module_version": "1.2.0",
      "model_name": "LayoutModel",
      "state": {
       "grid_area": "widget004"
      }
     },
     "8f6f1547206f4e0a9c677a1dbe1eee9e": {
      "model_module": "@jupyter-widgets/controls",
      "model_module_version": "1.5.0",
      "model_name": "DescriptionStyleModel",
      "state": {
       "description_width": "initial"
      }
     },
     "8f847898870646c98ffbc06fa6eef175": {
      "model_module": "@jupyter-widgets/controls",
      "model_module_version": "1.5.0",
      "model_name": "ComboboxModel",
      "state": {
       "description": "Filing Type:",
       "ensure_option": true,
       "layout": "IPY_MODEL_6cbb93e1ef53430db4721fa393e6784b",
       "options": [
        "",
        "10-Q",
        "10-K",
        "10-Q/A",
        "10-QSB",
        "10-QT",
        "10-QT/A",
        "10-QSB",
        "10-QSB/A",
        "10-QSB12B",
        "10-K/A",
        "10-K405",
        "10-K405/A",
        "10-KSB",
        "10-KT",
        "10-KT/A"
       ],
       "placeholder": "Enter..",
       "style": "IPY_MODEL_399cccbafbc74a67adbc2401e9e901c2"
      }
     },
     "8fc0e5247d20461caab7cc023f071fdb": {
      "model_module": "@jupyter-widgets/base",
      "model_module_version": "1.2.0",
      "model_name": "LayoutModel",
      "state": {
       "grid_area": "widget004"
      }
     },
     "8ff8bbf504254203aee103af7ec0acb9": {
      "model_module": "@jupyter-widgets/base",
      "model_module_version": "1.2.0",
      "model_name": "LayoutModel",
      "state": {
       "grid_area": "widget002"
      }
     },
     "905cc26b336b418c8006a86f8376308e": {
      "model_module": "@jupyter-widgets/controls",
      "model_module_version": "1.5.0",
      "model_name": "ButtonStyleModel",
      "state": {}
     },
     "91049ad1eba24459a9afcf44428358f8": {
      "model_module": "@jupyter-widgets/controls",
      "model_module_version": "1.5.0",
      "model_name": "DescriptionStyleModel",
      "state": {
       "description_width": "initial"
      }
     },
     "91135708bea54c8ca5018ac20336142e": {
      "model_module": "@jupyter-widgets/controls",
      "model_module_version": "1.5.0",
      "model_name": "DatePickerModel",
      "state": {
       "description": "Pick a Date:",
       "disabled": false,
       "layout": "IPY_MODEL_a0b22da8cd334b69ba554f19e1b467fb",
       "style": "IPY_MODEL_263a3d9e5ccc497099298bdc09307e86"
      }
     },
     "912bfa625ec74e19a879303494994cda": {
      "model_module": "@jupyter-widgets/base",
      "model_module_version": "1.2.0",
      "model_name": "LayoutModel",
      "state": {
       "grid_template_areas": "\"widget001 .\"\n\"widget002 .\"\n\"widget003 .\"\n\"widget004 .\"\n\"widget005 .\"\n\"widget006 .\"\n\"widget007 widget007\"",
       "grid_template_columns": "repeat(2, 1fr)",
       "grid_template_rows": "repeat(7, 1fr)"
      }
     },
     "919cd896a846419ca5b6ec8088ef8769": {
      "model_module": "@jupyter-widgets/base",
      "model_module_version": "1.2.0",
      "model_name": "LayoutModel",
      "state": {
       "grid_area": "widget006"
      }
     },
     "91e2d82de76d4e6b89d765657abe97ed": {
      "model_module": "@jupyter-widgets/base",
      "model_module_version": "1.2.0",
      "model_name": "LayoutModel",
      "state": {
       "grid_template_areas": "\"widget001 .\"\n\"widget002 .\"\n\"widget003 .\"\n\"widget004 .\"\n\"widget005 .\"\n\"widget006 widget006\"",
       "grid_template_columns": "repeat(2, 1fr)",
       "grid_template_rows": "repeat(6, 1fr)"
      }
     },
     "92610f399b9d48c7a7cba3408da59b8e": {
      "model_module": "@jupyter-widgets/controls",
      "model_module_version": "1.5.0",
      "model_name": "ButtonStyleModel",
      "state": {}
     },
     "92814a5846e5418d86fe9d3ea2bb24c5": {
      "model_module": "@jupyter-widgets/controls",
      "model_module_version": "1.5.0",
      "model_name": "GridBoxModel",
      "state": {
       "children": [
        "IPY_MODEL_f5598ee3d6cf4c969a9353728776bfed",
        "IPY_MODEL_50bb2d95a0dc4cc3873c01fa998b7732",
        "IPY_MODEL_d4778188c35f4bccac1f512d24111617",
        "IPY_MODEL_4df94ae15c914a3a907974636c48d2c0",
        "IPY_MODEL_0bb8d667b88c4437b24e7803a235deb5",
        "IPY_MODEL_6b213d01e4874a7daece1038d673f6ca",
        "IPY_MODEL_807fb76ba3724d269fdba66e2025ec8c"
       ],
       "layout": "IPY_MODEL_6da54ed26cf04ce29df91b9a8721c76b"
      }
     },
     "928576d0e36f4904a8287487a8256f82": {
      "model_module": "@jupyter-widgets/controls",
      "model_module_version": "1.5.0",
      "model_name": "ComboboxModel",
      "state": {
       "description": "Filing Type:",
       "ensure_option": true,
       "layout": "IPY_MODEL_aff181dfb0fd4144bfda6711d5c0d5a5",
       "options": [
        "",
        "10-Q",
        "10-K",
        "10-Q/A",
        "10-QSB",
        "10-QT",
        "10-QT/A",
        "10-QSB",
        "10-QSB/A",
        "10-QSB12B",
        "10-K/A",
        "10-K405",
        "10-K405/A",
        "10-KSB",
        "10-KT",
        "10-KT/A"
       ],
       "placeholder": "Enter..",
       "style": "IPY_MODEL_f9035f06c9994a48955ea7c4c9c56395"
      }
     },
     "929afb5a7d6a42599fedc59e30e1fc42": {
      "model_module": "@jupyter-widgets/controls",
      "model_module_version": "1.5.0",
      "model_name": "TextModel",
      "state": {
       "description": "Ticker/Entity Name:*",
       "layout": "IPY_MODEL_5e7820d6230849ca8459dfef50cd8039",
       "placeholder": "Enter..",
       "style": "IPY_MODEL_2f857f1b9bcf441b947acf7c9fb15d5f"
      }
     },
     "92d11edd2b1d4f86ae54dfe27eff6514": {
      "model_module": "@jupyter-widgets/base",
      "model_module_version": "1.2.0",
      "model_name": "LayoutModel",
      "state": {
       "grid_area": "widget002"
      }
     },
     "92f483763d1b47238829b02933c5191b": {
      "model_module": "@jupyter-widgets/base",
      "model_module_version": "1.2.0",
      "model_name": "LayoutModel",
      "state": {
       "grid_area": "widget001"
      }
     },
     "934a0a579b8b4db6b044f532474cfd86": {
      "model_module": "@jupyter-widgets/controls",
      "model_module_version": "1.5.0",
      "model_name": "DescriptionStyleModel",
      "state": {
       "description_width": "initial"
      }
     },
     "937383fc81dd4277912d94b1d58c02f2": {
      "model_module": "@jupyter-widgets/base",
      "model_module_version": "1.2.0",
      "model_name": "LayoutModel",
      "state": {
       "grid_area": "widget003"
      }
     },
     "942cb6b5654b4d659b00c58790154156": {
      "model_module": "@jupyter-widgets/controls",
      "model_module_version": "1.5.0",
      "model_name": "GridBoxModel",
      "state": {
       "children": [
        "IPY_MODEL_659285fd8d0b4bef9311fb543c732037",
        "IPY_MODEL_3291eec5a27a4abeb72fd793586e4796",
        "IPY_MODEL_1af1789b51584f2fae6b8ca0fe44db6a",
        "IPY_MODEL_8de38e4bb87f41ee808e50108786c32f",
        "IPY_MODEL_23e0621896dc4007903d95ac36946b6c",
        "IPY_MODEL_ae21090e31294087bcef4d49c0a19d85"
       ],
       "layout": "IPY_MODEL_175d84f7c5584bba91aa10e5c5c5fc50"
      }
     },
     "943b5e22b34b4ba3b41ea58b0a7527fd": {
      "model_module": "@jupyter-widgets/controls",
      "model_module_version": "1.5.0",
      "model_name": "TextModel",
      "state": {
       "description": "Ticker/Entity Name:*",
       "layout": "IPY_MODEL_3e337f18b32d478aa89ed446960a262b",
       "placeholder": "Enter..",
       "style": "IPY_MODEL_3530bdcaee864af2be694be1930e52fa",
       "value": "msft"
      }
     },
     "94606a20aa81462b9b907cc9df073c7b": {
      "model_module": "@jupyter-widgets/base",
      "model_module_version": "1.2.0",
      "model_name": "LayoutModel",
      "state": {
       "grid_template_areas": "\"widget001 .\"\n\"widget002 .\"\n\"widget003 .\"\n\"widget004 .\"\n\"widget005 .\"\n\"widget006 widget006\"",
       "grid_template_columns": "repeat(2, 1fr)",
       "grid_template_rows": "repeat(6, 1fr)"
      }
     },
     "94738f8f74444d8cbae02cbaad3b6f5d": {
      "model_module": "@jupyter-widgets/base",
      "model_module_version": "1.2.0",
      "model_name": "LayoutModel",
      "state": {
       "grid_area": "widget003"
      }
     },
     "9495b0f9322c45faa2bd7f81b5537039": {
      "model_module": "@jupyter-widgets/controls",
      "model_module_version": "1.5.0",
      "model_name": "DescriptionStyleModel",
      "state": {
       "description_width": "initial"
      }
     },
     "94a6130ee69f472e8dda7e913a519019": {
      "model_module": "@jupyter-widgets/controls",
      "model_module_version": "1.5.0",
      "model_name": "DatePickerModel",
      "state": {
       "description": "Pick a Date:",
       "disabled": false,
       "layout": "IPY_MODEL_6416c91d98944529a06f096751764615",
       "style": "IPY_MODEL_0aeeb6a7136d4881b7a4c520173a0212"
      }
     },
     "94e2aec3fe3f417f994c19cb515b363f": {
      "model_module": "@jupyter-widgets/controls",
      "model_module_version": "1.5.0",
      "model_name": "DescriptionStyleModel",
      "state": {
       "description_width": ""
      }
     },
     "955b93155cc246b4b621d29148909a83": {
      "model_module": "@jupyter-widgets/controls",
      "model_module_version": "1.5.0",
      "model_name": "DescriptionStyleModel",
      "state": {
       "description_width": "initial"
      }
     },
     "95b1e3c061b94afb8836a6670c4a30f8": {
      "model_module": "@jupyter-widgets/controls",
      "model_module_version": "1.5.0",
      "model_name": "DescriptionStyleModel",
      "state": {
       "description_width": ""
      }
     },
     "95f439d06c0e4233b2b5b6275ef03104": {
      "model_module": "@jupyter-widgets/base",
      "model_module_version": "1.2.0",
      "model_name": "LayoutModel",
      "state": {
       "grid_area": "widget006"
      }
     },
     "95f8bd5b7775437db851e44786cde173": {
      "model_module": "@jupyter-widgets/controls",
      "model_module_version": "1.5.0",
      "model_name": "ButtonStyleModel",
      "state": {}
     },
     "960188e21fbe450c91f86030d790cd25": {
      "model_module": "@jupyter-widgets/base",
      "model_module_version": "1.2.0",
      "model_name": "LayoutModel",
      "state": {
       "grid_area": "widget004"
      }
     },
     "96114bb0f0874d009590a992346d80f2": {
      "model_module": "@jupyter-widgets/base",
      "model_module_version": "1.2.0",
      "model_name": "LayoutModel",
      "state": {
       "grid_area": "widget006"
      }
     },
     "96b1d2b297dc4ae3ab2f6b40d6789e48": {
      "model_module": "@jupyter-widgets/controls",
      "model_module_version": "1.5.0",
      "model_name": "DescriptionStyleModel",
      "state": {
       "description_width": "initial"
      }
     },
     "9748c0eb92944cb8a82221da217c9a2e": {
      "model_module": "@jupyter-widgets/controls",
      "model_module_version": "1.5.0",
      "model_name": "DatePickerModel",
      "state": {
       "description": "Pick a Date:",
       "disabled": false,
       "layout": "IPY_MODEL_e79cb2eeed3f4b4fb08a083766647ce4",
       "style": "IPY_MODEL_6340c37fca654a9d984eecd0d03628e9"
      }
     },
     "978816246e7a40a6b8c31494bf8e0dd3": {
      "model_module": "@jupyter-widgets/base",
      "model_module_version": "1.2.0",
      "model_name": "LayoutModel",
      "state": {
       "grid_template_areas": "\"widget001 .\"\n\"widget002 .\"\n\"widget003 .\"\n\"widget004 .\"\n\"widget005 .\"\n\"widget006 widget006\"",
       "grid_template_columns": "repeat(2, 1fr)",
       "grid_template_rows": "repeat(6, 1fr)"
      }
     },
     "9796dd13998b4037b6f87686c55f19e7": {
      "model_module": "@jupyter-widgets/base",
      "model_module_version": "1.2.0",
      "model_name": "LayoutModel",
      "state": {
       "grid_area": "widget002"
      }
     },
     "97f7982ec1474758a33474b32662c28e": {
      "model_module": "@jupyter-widgets/controls",
      "model_module_version": "1.5.0",
      "model_name": "TextModel",
      "state": {
       "description": "Ticker/Entity Name:*",
       "layout": "IPY_MODEL_988c350525a74686b518dad029cf3b2a",
       "placeholder": "Enter..",
       "style": "IPY_MODEL_7254d9cc277045688a6c0b840884502c"
      }
     },
     "97ffe451f76948af906c8e8694274d9c": {
      "model_module": "@jupyter-widgets/controls",
      "model_module_version": "1.5.0",
      "model_name": "DescriptionStyleModel",
      "state": {
       "description_width": "initial"
      }
     },
     "986d08b85e534f1ea551bd7c708ffacb": {
      "model_module": "@jupyter-widgets/base",
      "model_module_version": "1.2.0",
      "model_name": "LayoutModel",
      "state": {
       "grid_area": "widget004"
      }
     },
     "988c350525a74686b518dad029cf3b2a": {
      "model_module": "@jupyter-widgets/base",
      "model_module_version": "1.2.0",
      "model_name": "LayoutModel",
      "state": {
       "grid_area": "widget001"
      }
     },
     "9892aa7939394fe5854b48e3a789a193": {
      "model_module": "@jupyter-widgets/base",
      "model_module_version": "1.2.0",
      "model_name": "LayoutModel",
      "state": {
       "grid_template_areas": "\"widget001 .\"\n\"widget002 .\"\n\"widget003 .\"\n\"widget004 .\"\n\"widget005 .\"\n\"widget006 widget006\"",
       "grid_template_columns": "repeat(2, 1fr)",
       "grid_template_rows": "repeat(6, 1fr)"
      }
     },
     "98bff7e796214d47ab95dd2ee64d3cce": {
      "model_module": "@jupyter-widgets/controls",
      "model_module_version": "1.5.0",
      "model_name": "DescriptionStyleModel",
      "state": {
       "description_width": ""
      }
     },
     "98effe038f4440e29a38afef137b990b": {
      "model_module": "@jupyter-widgets/controls",
      "model_module_version": "1.5.0",
      "model_name": "DescriptionStyleModel",
      "state": {
       "description_width": "initial"
      }
     },
     "9963f1fe50f2410e9c04c06309e78a20": {
      "model_module": "@jupyter-widgets/controls",
      "model_module_version": "1.5.0",
      "model_name": "DropdownModel",
      "state": {
       "_options_labels": [
        "Income Statement",
        "Balance Sheet",
        "Statements of Cash Flow",
        "Statements of Convertible Preferred Stock and Stockholder’s Equity"
       ],
       "description": "Financial Statement:*",
       "index": 0,
       "layout": "IPY_MODEL_a7084506fe1b4b96b434c1375a853b7f",
       "style": "IPY_MODEL_109e7c6c313d44249bd8d0e1aa71ad4f"
      }
     },
     "99858355ab6f4bd89457cf359fd06326": {
      "model_module": "@jupyter-widgets/controls",
      "model_module_version": "1.5.0",
      "model_name": "DropdownModel",
      "state": {
       "_options_labels": [
        "Income Statement",
        "Balance Sheet",
        "Statements of Cash Flow",
        "Statements of Convertible Preferred Stock and Stockholder’s Equity"
       ],
       "description": "Financial Statement:*",
       "index": 0,
       "layout": "IPY_MODEL_7956ee57b0c04e529d2186f077c701a0",
       "style": "IPY_MODEL_e2ac46f79bbb43c48ec00d5bdac1bfc3"
      }
     },
     "99be496b91cb4128947ed2e435e52c6b": {
      "model_module": "@jupyter-widgets/controls",
      "model_module_version": "1.5.0",
      "model_name": "DatePickerModel",
      "state": {
       "description": "Pick a Date:",
       "disabled": false,
       "layout": "IPY_MODEL_1687403753044a60829198d803539513",
       "style": "IPY_MODEL_b37e97ff14fe4f618a4158e629053276"
      }
     },
     "99e43348e58340b7802ddb932f7b6c56": {
      "model_module": "@jupyter-widgets/base",
      "model_module_version": "1.2.0",
      "model_name": "LayoutModel",
      "state": {
       "grid_area": "widget005"
      }
     },
     "9a13f50da80e47888b7d91dcc5c18dd5": {
      "model_module": "@jupyter-widgets/controls",
      "model_module_version": "1.5.0",
      "model_name": "DescriptionStyleModel",
      "state": {
       "description_width": "initial"
      }
     },
     "9a1b13cace874d8d89fde239c35d3b58": {
      "model_module": "@jupyter-widgets/controls",
      "model_module_version": "1.5.0",
      "model_name": "ButtonStyleModel",
      "state": {}
     },
     "9a23c6a5ebc34a36b5238fefd6329e69": {
      "model_module": "@jupyter-widgets/controls",
      "model_module_version": "1.5.0",
      "model_name": "DatePickerModel",
      "state": {
       "description": "Pick a Date:",
       "disabled": false,
       "layout": "IPY_MODEL_4b6a8cacc98342cca4d29a597b95697f",
       "style": "IPY_MODEL_09e50264e8eb459685338775eaf95fac"
      }
     },
     "9b105ec7a60e4d27b4ee5c8f2eff9157": {
      "model_module": "@jupyter-widgets/base",
      "model_module_version": "1.2.0",
      "model_name": "LayoutModel",
      "state": {
       "grid_area": "widget002"
      }
     },
     "9b3740e243e6430ba35baab7691c5118": {
      "model_module": "@jupyter-widgets/base",
      "model_module_version": "1.2.0",
      "model_name": "LayoutModel",
      "state": {
       "grid_area": "widget003"
      }
     },
     "9b377fd6bcb34aae886db845ffbccb9e": {
      "model_module": "@jupyter-widgets/controls",
      "model_module_version": "1.5.0",
      "model_name": "GridBoxModel",
      "state": {
       "children": [
        "IPY_MODEL_4429001bf9c747c89c44e23a9d69d02c",
        "IPY_MODEL_adcd1edc196047e09bf271b2527224dd",
        "IPY_MODEL_26029fd3a9994d7da10eb158ba2a5f5d",
        "IPY_MODEL_065a274a473b46e9bc728beedb4ff15c",
        "IPY_MODEL_633152e9b52b4d3bbc8b6bd67cc32dcd",
        "IPY_MODEL_04ac8326025b42f5939318fedfd6b913",
        "IPY_MODEL_5c55b6e8f4f645eead8ca42a517d690c"
       ],
       "layout": "IPY_MODEL_912bfa625ec74e19a879303494994cda"
      }
     },
     "9b40fe2a1b7544f480ee3f75c805bd1d": {
      "model_module": "@jupyter-widgets/controls",
      "model_module_version": "1.5.0",
      "model_name": "DescriptionStyleModel",
      "state": {
       "description_width": ""
      }
     },
     "9b8651937db149e593015fe919e48b2e": {
      "model_module": "@jupyter-widgets/controls",
      "model_module_version": "1.5.0",
      "model_name": "DescriptionStyleModel",
      "state": {
       "description_width": "initial"
      }
     },
     "9b9cf3842e44426b86ab52842c2bcd7e": {
      "model_module": "@jupyter-widgets/base",
      "model_module_version": "1.2.0",
      "model_name": "LayoutModel",
      "state": {
       "grid_area": "widget005"
      }
     },
     "9b9e61e8d74942e58756788c0b0f3b32": {
      "model_module": "@jupyter-widgets/controls",
      "model_module_version": "1.5.0",
      "model_name": "DatePickerModel",
      "state": {
       "description": "Pick a Date:",
       "disabled": false,
       "layout": "IPY_MODEL_792d08a0ff6d4022a9a5d09a6610f20a",
       "style": "IPY_MODEL_6155eb1ac3744b64bf096588619e22bb"
      }
     },
     "9b9e9495cd26432da2d4fa9af1778f01": {
      "model_module": "@jupyter-widgets/controls",
      "model_module_version": "1.5.0",
      "model_name": "ComboboxModel",
      "state": {
       "description": "Filing Type:",
       "ensure_option": true,
       "layout": "IPY_MODEL_716d8e5c5fe54a45a6a3ab61c68e2099",
       "options": [
        "",
        "10-Q",
        "10-K",
        "10-Q/A",
        "10-QSB",
        "10-QT",
        "10-QT/A",
        "10-QSB",
        "10-QSB/A",
        "10-QSB12B",
        "10-K/A",
        "10-K405",
        "10-K405/A",
        "10-KSB",
        "10-KT",
        "10-KT/A"
       ],
       "placeholder": "Enter..",
       "style": "IPY_MODEL_95b1e3c061b94afb8836a6670c4a30f8",
       "value": "10-K"
      }
     },
     "9c44874de1a243439a2f3d665781687b": {
      "model_module": "@jupyter-widgets/base",
      "model_module_version": "1.2.0",
      "model_name": "LayoutModel",
      "state": {
       "grid_template_areas": "\"widget001 .\"\n\"widget002 .\"\n\"widget003 .\"\n\"widget004 .\"\n\"widget005 .\"\n\"widget006 widget006\"",
       "grid_template_columns": "repeat(2, 1fr)",
       "grid_template_rows": "repeat(6, 1fr)"
      }
     },
     "9c4705b06deb4fba8da2b297b99b7a0a": {
      "model_module": "@jupyter-widgets/base",
      "model_module_version": "1.2.0",
      "model_name": "LayoutModel",
      "state": {
       "grid_area": "widget003"
      }
     },
     "9c4c6deed0b74153a6851993a07f2be7": {
      "model_module": "@jupyter-widgets/controls",
      "model_module_version": "1.5.0",
      "model_name": "DescriptionStyleModel",
      "state": {
       "description_width": ""
      }
     },
     "9cb63b0482294e91a21c287f579d8be3": {
      "model_module": "@jupyter-widgets/controls",
      "model_module_version": "1.5.0",
      "model_name": "DatePickerModel",
      "state": {
       "description": "Pick a Date:",
       "disabled": false,
       "layout": "IPY_MODEL_beee87e079cc4642a09e7a8a9f72e191",
       "style": "IPY_MODEL_17aab03250e14d8aa669f28f099b5c80"
      }
     },
     "9d1e0d72552b48fdbf3f4a655b506dad": {
      "model_module": "@jupyter-widgets/controls",
      "model_module_version": "1.5.0",
      "model_name": "ButtonStyleModel",
      "state": {}
     },
     "9d2b620b74354fdf9ff3d2cbf5f2552f": {
      "model_module": "@jupyter-widgets/base",
      "model_module_version": "1.2.0",
      "model_name": "LayoutModel",
      "state": {
       "grid_template_areas": "\"widget001 .\"\n\"widget002 .\"\n\"widget003 .\"\n\"widget004 .\"\n\"widget005 .\"\n\"widget006 widget006\"",
       "grid_template_columns": "repeat(2, 1fr)",
       "grid_template_rows": "repeat(6, 1fr)"
      }
     },
     "9d4332161c3948959f1e3073b1a6a167": {
      "model_module": "@jupyter-widgets/base",
      "model_module_version": "1.2.0",
      "model_name": "LayoutModel",
      "state": {
       "grid_area": "widget002"
      }
     },
     "9d9ba3fb5c7b4f4797115749874ac849": {
      "model_module": "@jupyter-widgets/controls",
      "model_module_version": "1.5.0",
      "model_name": "ComboboxModel",
      "state": {
       "description": "Filing Type:",
       "ensure_option": true,
       "layout": "IPY_MODEL_cb38c1e252a7419baef19843045acc21",
       "options": [
        "",
        "10-Q",
        "10-K",
        "10-Q/A",
        "10-QSB",
        "10-QT",
        "10-QT/A",
        "10-QSB",
        "10-QSB/A",
        "10-QSB12B",
        "10-K/A",
        "10-K405",
        "10-K405/A",
        "10-KSB",
        "10-KT",
        "10-KT/A"
       ],
       "placeholder": "Enter..",
       "style": "IPY_MODEL_6378e53b60924728943a49ea52fe7369"
      }
     },
     "9df251677b374b4a9f0d800024e12267": {
      "model_module": "@jupyter-widgets/controls",
      "model_module_version": "1.5.0",
      "model_name": "DatePickerModel",
      "state": {
       "description": "Pick a Date:",
       "disabled": false,
       "layout": "IPY_MODEL_feadb134963048bcaffd6f5eefa203b7",
       "style": "IPY_MODEL_d445ae809b30499dbf2fc51838052d81"
      }
     },
     "9df530d903054b71b23a356b3728515f": {
      "model_module": "@jupyter-widgets/base",
      "model_module_version": "1.2.0",
      "model_name": "LayoutModel",
      "state": {
       "grid_area": "widget001"
      }
     },
     "9e1848b1e49a47cfbbfa476398166470": {
      "model_module": "@jupyter-widgets/controls",
      "model_module_version": "1.5.0",
      "model_name": "ButtonModel",
      "state": {
       "description": "Search",
       "icon": "search",
       "layout": "IPY_MODEL_5080329641c2400e9e98341c51fe8b98",
       "style": "IPY_MODEL_c9c736fb77af421489c905d5b86a6117",
       "tooltip": "Search"
      }
     },
     "9e5dcd6d13614f06b0e3cfc96864e5a1": {
      "model_module": "@jupyter-widgets/controls",
      "model_module_version": "1.5.0",
      "model_name": "DescriptionStyleModel",
      "state": {
       "description_width": ""
      }
     },
     "9e82bc774acb4c11a522eadcdd83822c": {
      "model_module": "@jupyter-widgets/controls",
      "model_module_version": "1.5.0",
      "model_name": "DatePickerModel",
      "state": {
       "description": "Pick a Date:",
       "disabled": false,
       "layout": "IPY_MODEL_1d261ee172644ac488b0b7b7e5a5028b",
       "style": "IPY_MODEL_7d150156628248e3b86c3659cae3796f"
      }
     },
     "9eb3a0eae47544f8b1046b263379361e": {
      "model_module": "@jupyter-widgets/base",
      "model_module_version": "1.2.0",
      "model_name": "LayoutModel",
      "state": {
       "grid_area": "widget005"
      }
     },
     "9f469c19599147648a926bc9811bd349": {
      "model_module": "@jupyter-widgets/controls",
      "model_module_version": "1.5.0",
      "model_name": "ButtonStyleModel",
      "state": {}
     },
     "9f59af50499045e28bf5426a5fd305bb": {
      "model_module": "@jupyter-widgets/controls",
      "model_module_version": "1.5.0",
      "model_name": "DescriptionStyleModel",
      "state": {
       "description_width": "initial"
      }
     },
     "9f8e22cfc93740439b187fe1e305a8b6": {
      "model_module": "@jupyter-widgets/controls",
      "model_module_version": "1.5.0",
      "model_name": "ComboboxModel",
      "state": {
       "description": "Filing Type:",
       "ensure_option": true,
       "layout": "IPY_MODEL_611f0762c4e942b8aa654a835f38be23",
       "options": [
        "",
        "10-Q",
        "10-K",
        "10-Q/A",
        "10-QSB",
        "10-QT",
        "10-QT/A",
        "10-QSB",
        "10-QSB/A",
        "10-QSB12B",
        "10-K/A",
        "10-K405",
        "10-K405/A",
        "10-KSB",
        "10-KT",
        "10-KT/A"
       ],
       "placeholder": "Enter..",
       "style": "IPY_MODEL_57d7ff5a0a204107a1fb03c85785f4df"
      }
     },
     "9fee6b1d5b6b4230a7d39b2278f7c2c3": {
      "model_module": "@jupyter-widgets/controls",
      "model_module_version": "1.5.0",
      "model_name": "ComboboxModel",
      "state": {
       "description": "Filing Type:",
       "ensure_option": true,
       "layout": "IPY_MODEL_9796dd13998b4037b6f87686c55f19e7",
       "options": [
        "",
        "10-Q",
        "10-K",
        "10-Q/A",
        "10-QSB",
        "10-QT",
        "10-QT/A",
        "10-QSB",
        "10-QSB/A",
        "10-QSB12B",
        "10-K/A",
        "10-K405",
        "10-K405/A",
        "10-KSB",
        "10-KT",
        "10-KT/A"
       ],
       "placeholder": "Enter..",
       "style": "IPY_MODEL_e5367cd066ce4e73830c3b9413ecb71a"
      }
     },
     "9ffb48295c004ac1bffbafcd06c4e3e6": {
      "model_module": "@jupyter-widgets/controls",
      "model_module_version": "1.5.0",
      "model_name": "ButtonModel",
      "state": {
       "description": "Search",
       "icon": "search",
       "layout": "IPY_MODEL_e832f1c4f8714632b342e1ba1f930602",
       "style": "IPY_MODEL_6ac5ad50599748918539fd8046144cd9",
       "tooltip": "Search"
      }
     },
     "a0525882dea04025b1f62594cd1e268d": {
      "model_module": "@jupyter-widgets/base",
      "model_module_version": "1.2.0",
      "model_name": "LayoutModel",
      "state": {
       "grid_area": "widget003"
      }
     },
     "a0b22da8cd334b69ba554f19e1b467fb": {
      "model_module": "@jupyter-widgets/base",
      "model_module_version": "1.2.0",
      "model_name": "LayoutModel",
      "state": {
       "grid_area": "widget005"
      }
     },
     "a0d5e7bf5d284c46b941dd11b0eeda0d": {
      "model_module": "@jupyter-widgets/controls",
      "model_module_version": "1.5.0",
      "model_name": "DescriptionStyleModel",
      "state": {
       "description_width": "initial"
      }
     },
     "a0def34009f44a6ebc3430d538fe2c0c": {
      "model_module": "@jupyter-widgets/controls",
      "model_module_version": "1.5.0",
      "model_name": "DescriptionStyleModel",
      "state": {
       "description_width": ""
      }
     },
     "a0df6e8915ca4a09aa6bc74de1089b42": {
      "model_module": "@jupyter-widgets/base",
      "model_module_version": "1.2.0",
      "model_name": "LayoutModel",
      "state": {
       "grid_area": "widget003"
      }
     },
     "a0e13fe387524936a93aff74b83ce1c6": {
      "model_module": "@jupyter-widgets/base",
      "model_module_version": "1.2.0",
      "model_name": "LayoutModel",
      "state": {
       "grid_area": "widget003"
      }
     },
     "a0efa5275cb84122b752c3fcb3add22e": {
      "model_module": "@jupyter-widgets/base",
      "model_module_version": "1.2.0",
      "model_name": "LayoutModel",
      "state": {
       "grid_area": "widget002"
      }
     },
     "a0ff6bff3c8a44168d5abf810999ebc2": {
      "model_module": "@jupyter-widgets/controls",
      "model_module_version": "1.5.0",
      "model_name": "DescriptionStyleModel",
      "state": {
       "description_width": "initial"
      }
     },
     "a0ffc2f4f1b742a489db23bc68f046fe": {
      "model_module": "@jupyter-widgets/controls",
      "model_module_version": "1.5.0",
      "model_name": "DropdownModel",
      "state": {
       "_options_labels": [
        "Income Statement",
        "Balance Sheet",
        "Statements of Cash Flow",
        "Statements of Convertible Preferred Stock and Stockholder’s Equity"
       ],
       "description": "Financial Statement:*",
       "index": 0,
       "layout": "IPY_MODEL_f992a45fad9443ba9134fee3d8ba0f50",
       "style": "IPY_MODEL_ef99c36b2efe47a5a0ccdf7fefc0ad71"
      }
     },
     "a1049e8ec2fc402092ac72f855163e1e": {
      "model_module": "@jupyter-widgets/controls",
      "model_module_version": "1.5.0",
      "model_name": "DescriptionStyleModel",
      "state": {
       "description_width": ""
      }
     },
     "a111de6c493d48b1b7de0868a723b303": {
      "model_module": "@jupyter-widgets/controls",
      "model_module_version": "1.5.0",
      "model_name": "GridBoxModel",
      "state": {
       "children": [
        "IPY_MODEL_929afb5a7d6a42599fedc59e30e1fc42",
        "IPY_MODEL_68e836d2c1e348028b765f55b4860e7c",
        "IPY_MODEL_8aa080a14fab4ee2808b579beb978d9a",
        "IPY_MODEL_4510ad0683464ac0b868da5e07fcff91",
        "IPY_MODEL_57cfe9e4fc4a41b5923688bce8c2f110",
        "IPY_MODEL_6a524b72a0fd4868b25904710ea7a3be"
       ],
       "layout": "IPY_MODEL_3228f7cbfb474cfd8eb3d0b970abefe1"
      }
     },
     "a15f8180530e4c67a435b882084cf679": {
      "model_module": "@jupyter-widgets/base",
      "model_module_version": "1.2.0",
      "model_name": "LayoutModel",
      "state": {
       "grid_area": "widget006"
      }
     },
     "a15fbdedeaa94eab95ad6e13d4df1324": {
      "model_module": "@jupyter-widgets/base",
      "model_module_version": "1.2.0",
      "model_name": "LayoutModel",
      "state": {
       "grid_area": "widget005"
      }
     },
     "a16404d815bb4491aee4ea3fa899184e": {
      "model_module": "@jupyter-widgets/controls",
      "model_module_version": "1.5.0",
      "model_name": "DescriptionStyleModel",
      "state": {
       "description_width": ""
      }
     },
     "a16ab8304eb44eea8c7d3c4711c86552": {
      "model_module": "@jupyter-widgets/controls",
      "model_module_version": "1.5.0",
      "model_name": "TextModel",
      "state": {
       "description": "Ticker/Entity Name:*",
       "layout": "IPY_MODEL_d7d3b0cbebf347a88d64d9b9a3793e58",
       "placeholder": "Enter..",
       "style": "IPY_MODEL_dd2fae7900724dbba4ce42e2468efff9"
      }
     },
     "a19910e4e6f442a2a254e3a08085e098": {
      "model_module": "@jupyter-widgets/controls",
      "model_module_version": "1.5.0",
      "model_name": "DropdownModel",
      "state": {
       "_options_labels": [
        "Income Statement",
        "Balance Sheet",
        "Statements of Cash Flow",
        "Statements of Convertible Preferred Stock and Stockholder’s Equity"
       ],
       "description": "Financial Statement:*",
       "index": 0,
       "layout": "IPY_MODEL_d726f956b1cb431e89283b9ba64f22ca",
       "style": "IPY_MODEL_d11ef84c429143f1b87d90d8f6a9f280"
      }
     },
     "a1c061b6913547cbbe7195c2e0664a3c": {
      "model_module": "@jupyter-widgets/controls",
      "model_module_version": "1.5.0",
      "model_name": "DatePickerModel",
      "state": {
       "description": "Pick a Date:",
       "disabled": false,
       "layout": "IPY_MODEL_8f4ba6053e4f4d8ea2ac499221a46aa9",
       "style": "IPY_MODEL_5185260521284bfaa3b191a737314a6a"
      }
     },
     "a1f94cf4e58248de97e151c2e383fa9c": {
      "model_module": "@jupyter-widgets/base",
      "model_module_version": "1.2.0",
      "model_name": "LayoutModel",
      "state": {
       "grid_area": "widget004"
      }
     },
     "a22914d7632448a4b95dee442c5c179b": {
      "model_module": "@jupyter-widgets/controls",
      "model_module_version": "1.5.0",
      "model_name": "DropdownModel",
      "state": {
       "_options_labels": [
        "Income Statement",
        "Balance Sheet",
        "Statements of Cash Flow",
        "Statements of Convertible Preferred Stock and Stockholder’s Equity"
       ],
       "description": "Financial Statement:*",
       "index": 0,
       "layout": "IPY_MODEL_9b3740e243e6430ba35baab7691c5118",
       "style": "IPY_MODEL_5249b9a45d8b440f97c07795b2ed7452"
      }
     },
     "a2cb6f669e47414ba0de6bb7b4cd35de": {
      "model_module": "@jupyter-widgets/base",
      "model_module_version": "1.2.0",
      "model_name": "LayoutModel",
      "state": {
       "grid_area": "widget002"
      }
     },
     "a2ffa2d105fd4beeba63dbc83c7b1de8": {
      "model_module": "@jupyter-widgets/base",
      "model_module_version": "1.2.0",
      "model_name": "LayoutModel",
      "state": {
       "grid_area": "widget007"
      }
     },
     "a34498eb383449a4812c3afe2f24e10b": {
      "model_module": "@jupyter-widgets/controls",
      "model_module_version": "1.5.0",
      "model_name": "DescriptionStyleModel",
      "state": {
       "description_width": ""
      }
     },
     "a37f023d96e94c109ab727d3a9063760": {
      "model_module": "@jupyter-widgets/controls",
      "model_module_version": "1.5.0",
      "model_name": "DescriptionStyleModel",
      "state": {
       "description_width": "initial"
      }
     },
     "a3e26d09aae34a33b28e63bf4b71f647": {
      "model_module": "@jupyter-widgets/controls",
      "model_module_version": "1.5.0",
      "model_name": "DescriptionStyleModel",
      "state": {
       "description_width": "initial"
      }
     },
     "a4630834c5b54f2886439c335ef8d4d7": {
      "model_module": "@jupyter-widgets/controls",
      "model_module_version": "1.5.0",
      "model_name": "DatePickerModel",
      "state": {
       "description": "Pick a Date:",
       "disabled": false,
       "layout": "IPY_MODEL_2ddacbe9081f42948009fa22beac693c",
       "style": "IPY_MODEL_e0c1114b1ce7424b998795d6620fd017"
      }
     },
     "a496ef8dc337464ca503bec9c03db83d": {
      "model_module": "@jupyter-widgets/base",
      "model_module_version": "1.2.0",
      "model_name": "LayoutModel",
      "state": {
       "grid_area": "widget003"
      }
     },
     "a4a231d43be74083b743b4d5569419fb": {
      "model_module": "@jupyter-widgets/base",
      "model_module_version": "1.2.0",
      "model_name": "LayoutModel",
      "state": {
       "grid_area": "widget005"
      }
     },
     "a55b6df95b0944dba58f148e34dc2b28": {
      "model_module": "@jupyter-widgets/controls",
      "model_module_version": "1.5.0",
      "model_name": "DatePickerModel",
      "state": {
       "description": "Pick a Date:",
       "disabled": false,
       "layout": "IPY_MODEL_8fc0e5247d20461caab7cc023f071fdb",
       "style": "IPY_MODEL_a8d19bd6db304cca8dba5f339880fff3"
      }
     },
     "a598e3734c654ec583196d9a571f1547": {
      "model_module": "@jupyter-widgets/base",
      "model_module_version": "1.2.0",
      "model_name": "LayoutModel",
      "state": {
       "grid_area": "widget005"
      }
     },
     "a5a377c7a2ee4e12a23e2da66361294f": {
      "model_module": "@jupyter-widgets/controls",
      "model_module_version": "1.5.0",
      "model_name": "DescriptionStyleModel",
      "state": {
       "description_width": ""
      }
     },
     "a5f029bb7ce4422aa7c780350568f211": {
      "model_module": "@jupyter-widgets/controls",
      "model_module_version": "1.5.0",
      "model_name": "TextModel",
      "state": {
       "description": "Ticker/Entity Name:*",
       "layout": "IPY_MODEL_25546d4c18884b81a8e563c6f347d989",
       "placeholder": "Enter..",
       "style": "IPY_MODEL_136554ea090e40168ebc8f794af3919f"
      }
     },
     "a69f070cfcf54df48dc423831ed94a31": {
      "model_module": "@jupyter-widgets/base",
      "model_module_version": "1.2.0",
      "model_name": "LayoutModel",
      "state": {
       "grid_area": "widget003"
      }
     },
     "a6e48007caa24f01a4568ef9bc553dcd": {
      "model_module": "@jupyter-widgets/controls",
      "model_module_version": "1.5.0",
      "model_name": "GridBoxModel",
      "state": {
       "children": [
        "IPY_MODEL_6f45b42d4c624d5ba328444c51abe2a7",
        "IPY_MODEL_fcc3aedceb994dcb927930dff5a5e819",
        "IPY_MODEL_6ef875dfea1f469494db064061eb6911",
        "IPY_MODEL_8aa0ca5cf85549ac827dc70b33701845",
        "IPY_MODEL_36e47b6c20834d6691abaec4e43ba4f2",
        "IPY_MODEL_06ef6b6fb22849d3b524a752fb474990"
       ],
       "layout": "IPY_MODEL_6d7f706265d24c688dcfd10892a0aa04"
      }
     },
     "a7084506fe1b4b96b434c1375a853b7f": {
      "model_module": "@jupyter-widgets/base",
      "model_module_version": "1.2.0",
      "model_name": "LayoutModel",
      "state": {
       "grid_area": "widget003"
      }
     },
     "a7e42c34ec614039866e7af8a598c05d": {
      "model_module": "@jupyter-widgets/controls",
      "model_module_version": "1.5.0",
      "model_name": "DatePickerModel",
      "state": {
       "description": "Pick a Date:",
       "disabled": false,
       "layout": "IPY_MODEL_c44b0575fde044618782692269e6a18b",
       "style": "IPY_MODEL_34bc7d8c83cc4c60afaa916e47173578"
      }
     },
     "a7fed476d0394d5db4ba237260ea34b1": {
      "model_module": "@jupyter-widgets/controls",
      "model_module_version": "1.5.0",
      "model_name": "ButtonModel",
      "state": {
       "description": "Search",
       "icon": "search",
       "layout": "IPY_MODEL_2f80feb3932b4cbc9d2ff373732b16a6",
       "style": "IPY_MODEL_a89d89c047eb4b5b9ca4cb5e0eb4f57c",
       "tooltip": "Search"
      }
     },
     "a87912f0043b4dc6a298ac1a86c34cdd": {
      "model_module": "@jupyter-widgets/controls",
      "model_module_version": "1.5.0",
      "model_name": "DropdownModel",
      "state": {
       "_options_labels": [
        "Income Statement",
        "Balance Sheet",
        "Statements of Cash Flow",
        "Statements of Convertible Preferred Stock and Stockholder’s Equity"
       ],
       "description": "Financial Statement:*",
       "index": 0,
       "layout": "IPY_MODEL_c4f25c113de54f0f9d3f9adce10aa212",
       "style": "IPY_MODEL_16203e8ceaf044a8ac8807c5a97922cd"
      }
     },
     "a8913cce8f254353a16f543ac59359e0": {
      "model_module": "@jupyter-widgets/controls",
      "model_module_version": "1.5.0",
      "model_name": "DescriptionStyleModel",
      "state": {
       "description_width": ""
      }
     },
     "a89d89c047eb4b5b9ca4cb5e0eb4f57c": {
      "model_module": "@jupyter-widgets/controls",
      "model_module_version": "1.5.0",
      "model_name": "ButtonStyleModel",
      "state": {}
     },
     "a8d19bd6db304cca8dba5f339880fff3": {
      "model_module": "@jupyter-widgets/controls",
      "model_module_version": "1.5.0",
      "model_name": "DescriptionStyleModel",
      "state": {
       "description_width": ""
      }
     },
     "a8d3e002cfa6465a9bcb017a2dfebcad": {
      "model_module": "@jupyter-widgets/base",
      "model_module_version": "1.2.0",
      "model_name": "LayoutModel",
      "state": {
       "grid_template_areas": "\"widget001 .\"\n\"widget002 .\"\n\"widget003 .\"\n\"widget004 .\"\n\"widget005 .\"\n\"widget006 .\"\n\"widget007 widget007\"",
       "grid_template_columns": "repeat(2, 1fr)",
       "grid_template_rows": "repeat(7, 1fr)"
      }
     },
     "a901bdac97ab453c966fb7fbd3b71a88": {
      "model_module": "@jupyter-widgets/controls",
      "model_module_version": "1.5.0",
      "model_name": "DescriptionStyleModel",
      "state": {
       "description_width": ""
      }
     },
     "a91c442588ad42fa8bab3dc113c6108a": {
      "model_module": "@jupyter-widgets/base",
      "model_module_version": "1.2.0",
      "model_name": "LayoutModel",
      "state": {
       "grid_area": "widget002"
      }
     },
     "a958a50bf1d84cd9b6194ee841579a62": {
      "model_module": "@jupyter-widgets/base",
      "model_module_version": "1.2.0",
      "model_name": "LayoutModel",
      "state": {
       "grid_area": "widget006"
      }
     },
     "a9a15bcdd58e459ab394c4440e1f51c7": {
      "model_module": "@jupyter-widgets/controls",
      "model_module_version": "1.5.0",
      "model_name": "ButtonModel",
      "state": {
       "description": "Search",
       "icon": "search",
       "layout": "IPY_MODEL_6c4df74e35804f3b8af1f07630e27324",
       "style": "IPY_MODEL_39a97b1ed87e4cbbaaea9c7d6bb15d81",
       "tooltip": "Search"
      }
     },
     "a9a610c35fba414fa8fc72219b1f34c8": {
      "model_module": "@jupyter-widgets/controls",
      "model_module_version": "1.5.0",
      "model_name": "GridBoxModel",
      "state": {
       "children": [
        "IPY_MODEL_397ea061c9ec4ce585af1694bbc57f7d",
        "IPY_MODEL_87b250dd7371414499b58af12059d40d",
        "IPY_MODEL_445486bdd35848e4b47049dbd1325125",
        "IPY_MODEL_63c9c5206de9429f8ff85979f55cd14c",
        "IPY_MODEL_15ed8404dd7e46b2894216829991b9df",
        "IPY_MODEL_bacf139637be4b01b78226d376937b1d"
       ],
       "layout": "IPY_MODEL_ec73324aeff84bfaa106611d4664bef3"
      }
     },
     "a9c2889c37ee4c358f73d00e09e1cff3": {
      "model_module": "@jupyter-widgets/base",
      "model_module_version": "1.2.0",
      "model_name": "LayoutModel",
      "state": {
       "grid_template_areas": "\"widget001 .\"\n\"widget002 .\"\n\"widget003 .\"\n\"widget004 .\"\n\"widget005 .\"\n\"widget006 widget006\"",
       "grid_template_columns": "repeat(2, 1fr)",
       "grid_template_rows": "repeat(6, 1fr)"
      }
     },
     "a9e350a695da466b948466a8364d001a": {
      "model_module": "@jupyter-widgets/controls",
      "model_module_version": "1.5.0",
      "model_name": "TextModel",
      "state": {
       "description": "Ticker/Entity Name:*",
       "layout": "IPY_MODEL_83a6e58f164f4af9a3b296799f1ada96",
       "placeholder": "Enter..",
       "style": "IPY_MODEL_d09ed67199fd4084b2ea789dc64d3b0c"
      }
     },
     "a9f6f0fc3d2346258a0d9f9c9f48153f": {
      "model_module": "@jupyter-widgets/base",
      "model_module_version": "1.2.0",
      "model_name": "LayoutModel",
      "state": {
       "grid_area": "widget001"
      }
     },
     "aa05640f6eb4403fa2e21ad294967f5a": {
      "model_module": "@jupyter-widgets/controls",
      "model_module_version": "1.5.0",
      "model_name": "DatePickerModel",
      "state": {
       "description": "Pick a Date:",
       "disabled": false,
       "layout": "IPY_MODEL_a958a50bf1d84cd9b6194ee841579a62",
       "style": "IPY_MODEL_d3be9c6abab54ec581cb0c7786b56730"
      }
     },
     "aa1498cc9baf40b3b1fcfa2e9ed8ffba": {
      "model_module": "@jupyter-widgets/controls",
      "model_module_version": "1.5.0",
      "model_name": "DescriptionStyleModel",
      "state": {
       "description_width": ""
      }
     },
     "aa2f00377c8b46988357a030df1bd28f": {
      "model_module": "@jupyter-widgets/controls",
      "model_module_version": "1.5.0",
      "model_name": "DatePickerModel",
      "state": {
       "description": "Pick a Date:",
       "disabled": false,
       "layout": "IPY_MODEL_4961d1b0df434b05ae64b28f6087d9f3",
       "style": "IPY_MODEL_003273caa28b4bf5b3519521376a90fd"
      }
     },
     "aa5dbe846ed644e6a6d9ffca234b30b2": {
      "model_module": "@jupyter-widgets/base",
      "model_module_version": "1.2.0",
      "model_name": "LayoutModel",
      "state": {
       "grid_area": "widget002"
      }
     },
     "aa84a5749f6b4db0959a02c7e8e192db": {
      "model_module": "@jupyter-widgets/controls",
      "model_module_version": "1.5.0",
      "model_name": "DescriptionStyleModel",
      "state": {
       "description_width": ""
      }
     },
     "aa904a57169846c58ab98591863ba41f": {
      "model_module": "@jupyter-widgets/controls",
      "model_module_version": "1.5.0",
      "model_name": "GridBoxModel",
      "state": {
       "children": [
        "IPY_MODEL_53ee162c2ac4400fb7cded496659913b",
        "IPY_MODEL_e1fad046cec94bd2a2b2d119e6f042af",
        "IPY_MODEL_701ae2075c934272952a1fe2ddbcbd09",
        "IPY_MODEL_f7cfb15655164e17b71dffdfcf26d8ef",
        "IPY_MODEL_e1f8cf060cc8413c8c9301874e09abb3",
        "IPY_MODEL_de60d599478243ffba792fa3e4a3f1d8"
       ],
       "layout": "IPY_MODEL_564aeb11922a42058636243dc0ad1efd"
      }
     },
     "aadff09a232843fcbf3a72e94cd7d03a": {
      "model_module": "@jupyter-widgets/controls",
      "model_module_version": "1.5.0",
      "model_name": "DescriptionStyleModel",
      "state": {
       "description_width": "initial"
      }
     },
     "aaf4b7cc7962448b8404f8832475897d": {
      "model_module": "@jupyter-widgets/base",
      "model_module_version": "1.2.0",
      "model_name": "LayoutModel",
      "state": {
       "grid_area": "widget004"
      }
     },
     "ab171378b8eb433f94d9ce79e08b5219": {
      "model_module": "@jupyter-widgets/controls",
      "model_module_version": "1.5.0",
      "model_name": "DatePickerModel",
      "state": {
       "description": "Pick a Date:",
       "disabled": false,
       "layout": "IPY_MODEL_c7b2b286d46a45ab8568f5415064a0d9",
       "style": "IPY_MODEL_c3fffdc2637740b19dd68a45c9773cbd"
      }
     },
     "ab742d123be847d0ae9f6910fc1a848c": {
      "model_module": "@jupyter-widgets/controls",
      "model_module_version": "1.5.0",
      "model_name": "DatePickerModel",
      "state": {
       "description": "Pick a Date:",
       "disabled": false,
       "layout": "IPY_MODEL_d9ed3417a9af48e185b1931090a20028",
       "style": "IPY_MODEL_1f1b4e4319c048d6beeed89ffba15e1c"
      }
     },
     "abab3f224405441189f9f5f1e7a780a9": {
      "model_module": "@jupyter-widgets/base",
      "model_module_version": "1.2.0",
      "model_name": "LayoutModel",
      "state": {
       "grid_area": "widget001"
      }
     },
     "abd187fa445b4148bce516a111b4acdc": {
      "model_module": "@jupyter-widgets/controls",
      "model_module_version": "1.5.0",
      "model_name": "DatePickerModel",
      "state": {
       "description": "Pick a Date:",
       "disabled": false,
       "layout": "IPY_MODEL_03da0671dea94a53945d0a8bae2305a3",
       "style": "IPY_MODEL_b39f69453ad348d59de9c4db5499b040"
      }
     },
     "ac784b3fbdff4315a1e16f36e36de720": {
      "model_module": "@jupyter-widgets/controls",
      "model_module_version": "1.5.0",
      "model_name": "DescriptionStyleModel",
      "state": {
       "description_width": ""
      }
     },
     "ac7a8422256e4ca8b165fb8e174ac5f3": {
      "model_module": "@jupyter-widgets/controls",
      "model_module_version": "1.5.0",
      "model_name": "DatePickerModel",
      "state": {
       "description": "Pick a Date:",
       "disabled": false,
       "layout": "IPY_MODEL_0c5a0a7d95d6434784312eccd5eaf151",
       "style": "IPY_MODEL_7494438767d14c40922f0de146b4a6ec"
      }
     },
     "ac821c3ebac949b18b815f9ab646f3c5": {
      "model_module": "@jupyter-widgets/base",
      "model_module_version": "1.2.0",
      "model_name": "LayoutModel",
      "state": {
       "grid_area": "widget004"
      }
     },
     "acab8c1a6d9444c48469343654a06c09": {
      "model_module": "@jupyter-widgets/controls",
      "model_module_version": "1.5.0",
      "model_name": "DropdownModel",
      "state": {
       "_options_labels": [
        "Income Statement",
        "Balance Sheet",
        "Statements of Cash Flow",
        "Statements of Convertible Preferred Stock and Stockholder’s Equity"
       ],
       "description": "Financial Statement:*",
       "index": 0,
       "layout": "IPY_MODEL_be15422d505c45768ed980c247576eb7",
       "style": "IPY_MODEL_313ab703bc2f4b07a50b5e1f4fa9d279"
      }
     },
     "acc8ca04db0f4a828ab30ef4833c0826": {
      "model_module": "@jupyter-widgets/controls",
      "model_module_version": "1.5.0",
      "model_name": "DescriptionStyleModel",
      "state": {
       "description_width": "initial"
      }
     },
     "ad2bfd7939cd4deebb083e42671e4ad6": {
      "model_module": "@jupyter-widgets/base",
      "model_module_version": "1.2.0",
      "model_name": "LayoutModel",
      "state": {
       "grid_area": "widget005"
      }
     },
     "ad6924ffe26b4e3bae7bca95941a9b6e": {
      "model_module": "@jupyter-widgets/controls",
      "model_module_version": "1.5.0",
      "model_name": "ButtonModel",
      "state": {
       "description": "Search",
       "icon": "search",
       "layout": "IPY_MODEL_b2dd447fabc24167a17838f41f89eefc",
       "style": "IPY_MODEL_6e6df985f887456b9822526a48858551",
       "tooltip": "Search"
      }
     },
     "ad8578b34c0e412888095e676dc96fe8": {
      "model_module": "@jupyter-widgets/controls",
      "model_module_version": "1.5.0",
      "model_name": "ButtonModel",
      "state": {
       "description": "Search",
       "icon": "search",
       "layout": "IPY_MODEL_2d38dbc694ea4d0da7085b53d8b38f8a",
       "style": "IPY_MODEL_b17b318e562e427aaea3d5ed02965707",
       "tooltip": "Search"
      }
     },
     "adc2b933df784b7fa30a5e4768ed9df1": {
      "model_module": "@jupyter-widgets/controls",
      "model_module_version": "1.5.0",
      "model_name": "DescriptionStyleModel",
      "state": {
       "description_width": "initial"
      }
     },
     "adcd1edc196047e09bf271b2527224dd": {
      "model_module": "@jupyter-widgets/controls",
      "model_module_version": "1.5.0",
      "model_name": "ComboboxModel",
      "state": {
       "description": "Filing Type:",
       "ensure_option": true,
       "layout": "IPY_MODEL_56add6604f4548f7a8f9aadf356dffa5",
       "options": [
        "",
        "10-Q",
        "10-K",
        "10-Q/A",
        "10-QSB",
        "10-QT",
        "10-QT/A",
        "10-QSB",
        "10-QSB/A",
        "10-QSB12B",
        "10-K/A",
        "10-K405",
        "10-K405/A",
        "10-KSB",
        "10-KT",
        "10-KT/A"
       ],
       "placeholder": "Enter..",
       "style": "IPY_MODEL_6487544983bf4da9943c8ab7f1b1f4ca",
       "value": "10-Q"
      }
     },
     "ae21090e31294087bcef4d49c0a19d85": {
      "model_module": "@jupyter-widgets/controls",
      "model_module_version": "1.5.0",
      "model_name": "ButtonModel",
      "state": {
       "description": "Search",
       "icon": "search",
       "layout": "IPY_MODEL_00d7f578ff424517bc313e2b43b7324e",
       "style": "IPY_MODEL_85e593f01733423c8c2aa2857b28b5b6",
       "tooltip": "Search"
      }
     },
     "ae330f3451114674a992c6c3419fd3f0": {
      "model_module": "@jupyter-widgets/controls",
      "model_module_version": "1.5.0",
      "model_name": "ComboboxModel",
      "state": {
       "description": "Filing Type:",
       "ensure_option": true,
       "layout": "IPY_MODEL_dd0b64240f4b4804be0910e34b51a289",
       "options": [
        "",
        "10-Q",
        "10-K",
        "10-Q/A",
        "10-QSB",
        "10-QT",
        "10-QT/A",
        "10-QSB",
        "10-QSB/A",
        "10-QSB12B",
        "10-K/A",
        "10-K405",
        "10-K405/A",
        "10-KSB",
        "10-KT",
        "10-KT/A"
       ],
       "placeholder": "Enter..",
       "style": "IPY_MODEL_2d39b42e402a4a4d8ccfbbecdcb48c31"
      }
     },
     "aeaea9333abe44d8ad57c5a20db6aad0": {
      "model_module": "@jupyter-widgets/controls",
      "model_module_version": "1.5.0",
      "model_name": "ComboboxModel",
      "state": {
       "description": "Filing Type:",
       "ensure_option": true,
       "layout": "IPY_MODEL_0a905c1c1b62426abe77022022810c16",
       "options": [
        "",
        "10-Q",
        "10-K",
        "10-Q/A",
        "10-QSB",
        "10-QT",
        "10-QT/A",
        "10-QSB",
        "10-QSB/A",
        "10-QSB12B",
        "10-K/A",
        "10-K405",
        "10-K405/A",
        "10-KSB",
        "10-KT",
        "10-KT/A"
       ],
       "placeholder": "Enter..",
       "style": "IPY_MODEL_7313715309fa44089eea4ef2e5860db2"
      }
     },
     "aec2c115765d4d569a13ce72882fc3e3": {
      "model_module": "@jupyter-widgets/controls",
      "model_module_version": "1.5.0",
      "model_name": "ComboboxModel",
      "state": {
       "description": "Filing Type:",
       "ensure_option": true,
       "layout": "IPY_MODEL_7b97d90377b0476ba11894cd8ce97a05",
       "options": [
        "",
        "10-Q",
        "10-K",
        "10-Q/A",
        "10-QSB",
        "10-QT",
        "10-QT/A",
        "10-QSB",
        "10-QSB/A",
        "10-QSB12B",
        "10-K/A",
        "10-K405",
        "10-K405/A",
        "10-KSB",
        "10-KT",
        "10-KT/A"
       ],
       "placeholder": "Enter..",
       "style": "IPY_MODEL_bd6b5040dff24d58a92a9f624a7a1984"
      }
     },
     "aed97791147543dca732182bcb7c71b0": {
      "model_module": "@jupyter-widgets/controls",
      "model_module_version": "1.5.0",
      "model_name": "GridBoxModel",
      "state": {
       "layout": "IPY_MODEL_3e50f1d5ffe141208fd497e10b78d4bb"
      }
     },
     "af63c42e27fa4ad9ab7a989ae4ab0709": {
      "model_module": "@jupyter-widgets/controls",
      "model_module_version": "1.5.0",
      "model_name": "ButtonStyleModel",
      "state": {}
     },
     "afe8a277ffca4d05b2210e74238ce5c2": {
      "model_module": "@jupyter-widgets/controls",
      "model_module_version": "1.5.0",
      "model_name": "GridBoxModel",
      "state": {
       "children": [
        "IPY_MODEL_97f7982ec1474758a33474b32662c28e",
        "IPY_MODEL_8dcd43fda1364e76828bb73170340cb6",
        "IPY_MODEL_f0348073ea7643d09d6f337bf99ee9dd",
        "IPY_MODEL_7a039d003cef41fc8cf30eaccc45b48e",
        "IPY_MODEL_8e82e34228c14bc894d13dcbea5e5841",
        "IPY_MODEL_bc03e4755cd4430e80a316d9e5639dee"
       ],
       "layout": "IPY_MODEL_fdd0f8afa86844b2b1cce8b4d21e766d"
      }
     },
     "afec74b3234941888ee8be3480fc20ad": {
      "model_module": "@jupyter-widgets/base",
      "model_module_version": "1.2.0",
      "model_name": "LayoutModel",
      "state": {
       "grid_area": "widget006"
      }
     },
     "afecdc2d32154dde8df49bb4fa6a185f": {
      "model_module": "@jupyter-widgets/controls",
      "model_module_version": "1.5.0",
      "model_name": "DescriptionStyleModel",
      "state": {
       "description_width": ""
      }
     },
     "aff181dfb0fd4144bfda6711d5c0d5a5": {
      "model_module": "@jupyter-widgets/base",
      "model_module_version": "1.2.0",
      "model_name": "LayoutModel",
      "state": {
       "grid_area": "widget002"
      }
     },
     "b01b5f81fa6a470ab4857ae3e8daad85": {
      "model_module": "@jupyter-widgets/base",
      "model_module_version": "1.2.0",
      "model_name": "LayoutModel",
      "state": {
       "grid_area": "widget004"
      }
     },
     "b03df6735a03468dbc179e7d76f326a2": {
      "model_module": "@jupyter-widgets/controls",
      "model_module_version": "1.5.0",
      "model_name": "DatePickerModel",
      "state": {
       "description": "Pick a Date:",
       "disabled": false,
       "layout": "IPY_MODEL_06ff80bba708420c9e97093287551a2e",
       "style": "IPY_MODEL_6465e8a6daaf4337a524b7b8c6210b0b"
      }
     },
     "b04f461c44054a80bacd750e72f2ed47": {
      "model_module": "@jupyter-widgets/base",
      "model_module_version": "1.2.0",
      "model_name": "LayoutModel",
      "state": {
       "grid_area": "widget003"
      }
     },
     "b08ce9e2d6834eb5a79d748854cf81cf": {
      "model_module": "@jupyter-widgets/controls",
      "model_module_version": "1.5.0",
      "model_name": "DescriptionStyleModel",
      "state": {
       "description_width": ""
      }
     },
     "b0cd31c2313747999aa301e58b215ed9": {
      "model_module": "@jupyter-widgets/base",
      "model_module_version": "1.2.0",
      "model_name": "LayoutModel",
      "state": {
       "grid_area": "widget006"
      }
     },
     "b0ef34ec43f34cc4a530190daf7033bc": {
      "model_module": "@jupyter-widgets/controls",
      "model_module_version": "1.5.0",
      "model_name": "DatePickerModel",
      "state": {
       "description": "Pick a Date:",
       "disabled": false,
       "layout": "IPY_MODEL_3d84804526954053b65d32352e581f74",
       "style": "IPY_MODEL_f846ab4feee64df181d24cd6782f7a08"
      }
     },
     "b1097458255c44779bdd610ac917c522": {
      "model_module": "@jupyter-widgets/controls",
      "model_module_version": "1.5.0",
      "model_name": "TextModel",
      "state": {
       "description": "Ticker/Entity Name:*",
       "layout": "IPY_MODEL_7eaca8d6e2c4485c8e3c14aff28ac66b",
       "placeholder": "Enter..",
       "style": "IPY_MODEL_d61c31b0f797429e8c794c60a01cc7df"
      }
     },
     "b17b318e562e427aaea3d5ed02965707": {
      "model_module": "@jupyter-widgets/controls",
      "model_module_version": "1.5.0",
      "model_name": "ButtonStyleModel",
      "state": {}
     },
     "b1e9f6714ef444749797c6aaef7feae3": {
      "model_module": "@jupyter-widgets/controls",
      "model_module_version": "1.5.0",
      "model_name": "DropdownModel",
      "state": {
       "_options_labels": [
        "Income Statement",
        "Balance Sheet",
        "Statements of Cash Flow",
        "Statements of Convertible Preferred Stock and Stockholder’s Equity"
       ],
       "description": "Financial Statement:*",
       "index": 0,
       "layout": "IPY_MODEL_31daa00a1e1b4d128a7075e774ae88f1",
       "style": "IPY_MODEL_2c8cf7bd29324df996cf2532d68ae476"
      }
     },
     "b1f972ba3fa34271b9abf1ecc1dd6815": {
      "model_module": "@jupyter-widgets/controls",
      "model_module_version": "1.5.0",
      "model_name": "ComboboxModel",
      "state": {
       "description": "Filing Type:",
       "ensure_option": true,
       "layout": "IPY_MODEL_2d733a4025a3460083e81cf0b20a6f98",
       "options": [
        "",
        "10-Q",
        "10-K",
        "10-Q/A",
        "10-QSB",
        "10-QT",
        "10-QT/A",
        "10-QSB",
        "10-QSB/A",
        "10-QSB12B",
        "10-K/A",
        "10-K405",
        "10-K405/A",
        "10-KSB",
        "10-KT",
        "10-KT/A"
       ],
       "placeholder": "Enter..",
       "style": "IPY_MODEL_04c41ac7b78e4201a7ba5bd9a3b055ce"
      }
     },
     "b29528a7d0dd4fce9226d783f3195844": {
      "model_module": "@jupyter-widgets/base",
      "model_module_version": "1.2.0",
      "model_name": "LayoutModel",
      "state": {
       "grid_area": "widget006"
      }
     },
     "b296d142deba45558d58fd52f37547c8": {
      "model_module": "@jupyter-widgets/controls",
      "model_module_version": "1.5.0",
      "model_name": "DescriptionStyleModel",
      "state": {
       "description_width": ""
      }
     },
     "b2b5d529013c4ea1b50da7185a50f140": {
      "model_module": "@jupyter-widgets/controls",
      "model_module_version": "1.5.0",
      "model_name": "ButtonStyleModel",
      "state": {}
     },
     "b2dd447fabc24167a17838f41f89eefc": {
      "model_module": "@jupyter-widgets/base",
      "model_module_version": "1.2.0",
      "model_name": "LayoutModel",
      "state": {
       "grid_area": "widget006"
      }
     },
     "b2f683495a8d4990adaa128b3a95f8f2": {
      "model_module": "@jupyter-widgets/controls",
      "model_module_version": "1.5.0",
      "model_name": "DescriptionStyleModel",
      "state": {
       "description_width": ""
      }
     },
     "b32bb30a51f04df5b6670637e558b4bf": {
      "model_module": "@jupyter-widgets/base",
      "model_module_version": "1.2.0",
      "model_name": "LayoutModel",
      "state": {
       "grid_area": "widget005"
      }
     },
     "b37e97ff14fe4f618a4158e629053276": {
      "model_module": "@jupyter-widgets/controls",
      "model_module_version": "1.5.0",
      "model_name": "DescriptionStyleModel",
      "state": {
       "description_width": ""
      }
     },
     "b39f69453ad348d59de9c4db5499b040": {
      "model_module": "@jupyter-widgets/controls",
      "model_module_version": "1.5.0",
      "model_name": "DescriptionStyleModel",
      "state": {
       "description_width": ""
      }
     },
     "b3a45f57ea614e65b21b1dd3ba93a564": {
      "model_module": "@jupyter-widgets/controls",
      "model_module_version": "1.5.0",
      "model_name": "DescriptionStyleModel",
      "state": {
       "description_width": ""
      }
     },
     "b3c8065a734b45e59064323310a1eeda": {
      "model_module": "@jupyter-widgets/controls",
      "model_module_version": "1.5.0",
      "model_name": "DescriptionStyleModel",
      "state": {
       "description_width": ""
      }
     },
     "b4264be978a7426a8c805e353332b8fb": {
      "model_module": "@jupyter-widgets/base",
      "model_module_version": "1.2.0",
      "model_name": "LayoutModel",
      "state": {
       "grid_area": "widget005"
      }
     },
     "b44af623203e4fc2baf44a47e37b14a4": {
      "model_module": "@jupyter-widgets/controls",
      "model_module_version": "1.5.0",
      "model_name": "DatePickerModel",
      "state": {
       "description": "Pick a Date:",
       "disabled": false,
       "layout": "IPY_MODEL_c86522a438e44e508e93f75c6c7215a2",
       "style": "IPY_MODEL_f763a21e36d24eddb40d8c9986989a60"
      }
     },
     "b4e0ea2e793844f8adec688be13e7229": {
      "model_module": "@jupyter-widgets/controls",
      "model_module_version": "1.5.0",
      "model_name": "DescriptionStyleModel",
      "state": {
       "description_width": ""
      }
     },
     "b5cb4186318f4e1a9f8642f2a7d82d20": {
      "model_module": "@jupyter-widgets/controls",
      "model_module_version": "1.5.0",
      "model_name": "GridBoxModel",
      "state": {
       "children": [
        "IPY_MODEL_a9e350a695da466b948466a8364d001a",
        "IPY_MODEL_784ec712714644c38537dc1fec8273ad",
        "IPY_MODEL_2e665be351144eae8e2bd029d87d2150",
        "IPY_MODEL_bca987fb88d44e2ebea5412a63db34d4",
        "IPY_MODEL_9b9e61e8d74942e58756788c0b0f3b32",
        "IPY_MODEL_f3f8e84fea9c45efaac45a942fb7475f",
        "IPY_MODEL_2735259ad2f749f8b0b5a6bc6973dfeb"
       ],
       "layout": "IPY_MODEL_12cc32879de84970bde212b5d55b0686"
      }
     },
     "b5ebe6dc07c6408c9ed7149c038b735b": {
      "model_module": "@jupyter-widgets/controls",
      "model_module_version": "1.5.0",
      "model_name": "DescriptionStyleModel",
      "state": {
       "description_width": ""
      }
     },
     "b6466f302d2543dca128c571ef1686c7": {
      "model_module": "@jupyter-widgets/controls",
      "model_module_version": "1.5.0",
      "model_name": "ButtonStyleModel",
      "state": {}
     },
     "b6aef60c52b0475d9ffca357f7c45a34": {
      "model_module": "@jupyter-widgets/controls",
      "model_module_version": "1.5.0",
      "model_name": "TextModel",
      "state": {
       "description": "Ticker/Entity Name:*",
       "layout": "IPY_MODEL_c7959d38df12499caab1b957127d78c8",
       "placeholder": "Enter..",
       "style": "IPY_MODEL_9a13f50da80e47888b7d91dcc5c18dd5",
       "value": "msft"
      }
     },
     "b6cc7168f6bd4b7b83866e7c13f9d44b": {
      "model_module": "@jupyter-widgets/controls",
      "model_module_version": "1.5.0",
      "model_name": "DropdownModel",
      "state": {
       "_options_labels": [
        "Income Statement",
        "Balance Sheet",
        "Statements of Cash Flow",
        "Statements of Convertible Preferred Stock and Stockholder’s Equity"
       ],
       "description": "Financial Statement:*",
       "index": 0,
       "layout": "IPY_MODEL_4684955926c94d3ab4cbe0ce24e116ce",
       "style": "IPY_MODEL_78e9832e4f2e428abae02325284483a6"
      }
     },
     "b6d5b2dbf5114eaea9a2bcd3243fb51c": {
      "model_module": "@jupyter-widgets/controls",
      "model_module_version": "1.5.0",
      "model_name": "DescriptionStyleModel",
      "state": {
       "description_width": "initial"
      }
     },
     "b6df4ddbc1644a4390a3761fdbe8a333": {
      "model_module": "@jupyter-widgets/base",
      "model_module_version": "1.2.0",
      "model_name": "LayoutModel",
      "state": {
       "grid_area": "widget006"
      }
     },
     "b6ee6aa4f9884ed9bd9c65d22e7571dc": {
      "model_module": "@jupyter-widgets/base",
      "model_module_version": "1.2.0",
      "model_name": "LayoutModel",
      "state": {
       "grid_area": "widget001"
      }
     },
     "b70840a9e9654c8baac6d7f537dc2073": {
      "model_module": "@jupyter-widgets/controls",
      "model_module_version": "1.5.0",
      "model_name": "TextModel",
      "state": {
       "description": "Ticker/Entity Name:*",
       "layout": "IPY_MODEL_9df530d903054b71b23a356b3728515f",
       "placeholder": "Enter..",
       "style": "IPY_MODEL_f59b6c15630d4a868b1c3cf5386da45c",
       "value": "pfe"
      }
     },
     "b70d8a55c4cd416da3f1e6be49f4faa1": {
      "model_module": "@jupyter-widgets/controls",
      "model_module_version": "1.5.0",
      "model_name": "TextModel",
      "state": {
       "description": "Ticker/Entity Name:*",
       "layout": "IPY_MODEL_feb03b50f1b6450f861c5bd8b0ffe5be",
       "placeholder": "Enter..",
       "style": "IPY_MODEL_e68a1d9ffbc24cb899a4b569c5351e74"
      }
     },
     "b719489b46784176b4bc7d3edc49cf4f": {
      "model_module": "@jupyter-widgets/controls",
      "model_module_version": "1.5.0",
      "model_name": "DescriptionStyleModel",
      "state": {
       "description_width": ""
      }
     },
     "b739a9def4074bdba1aa8cdb1ecf4e66": {
      "model_module": "@jupyter-widgets/controls",
      "model_module_version": "1.5.0",
      "model_name": "ComboboxModel",
      "state": {
       "description": "Filing Type:",
       "ensure_option": true,
       "layout": "IPY_MODEL_f83ad9ce40cd40e0b475a0fe068e5bf8",
       "options": [
        "",
        "10-Q",
        "10-K",
        "10-Q/A",
        "10-QSB",
        "10-QT",
        "10-QT/A",
        "10-QSB",
        "10-QSB/A",
        "10-QSB12B",
        "10-K/A",
        "10-K405",
        "10-K405/A",
        "10-KSB",
        "10-KT",
        "10-KT/A"
       ],
       "placeholder": "Enter..",
       "style": "IPY_MODEL_fe34344bd4c04e0bbd51219640e5b39e",
       "value": "10-K"
      }
     },
     "b75aba8e73844c91a363d26eee0b6124": {
      "model_module": "@jupyter-widgets/controls",
      "model_module_version": "1.5.0",
      "model_name": "ButtonStyleModel",
      "state": {}
     },
     "b763b878e15c40bfa5727edbc07a17d8": {
      "model_module": "@jupyter-widgets/controls",
      "model_module_version": "1.5.0",
      "model_name": "TextModel",
      "state": {
       "description": "Ticker/Entity Name:*",
       "layout": "IPY_MODEL_56a51584f8cd432eb999cd3533b811d4",
       "placeholder": "Enter..",
       "style": "IPY_MODEL_0bc70237b19343e791460e165e588a1b"
      }
     },
     "b77993fcf3e840bdb43b3c301dc51a62": {
      "model_module": "@jupyter-widgets/controls",
      "model_module_version": "1.5.0",
      "model_name": "DescriptionStyleModel",
      "state": {
       "description_width": "initial"
      }
     },
     "b7865c25cd844995a843d489d34cc263": {
      "model_module": "@jupyter-widgets/controls",
      "model_module_version": "1.5.0",
      "model_name": "ButtonModel",
      "state": {
       "description": "Search",
       "icon": "search",
       "layout": "IPY_MODEL_e0ae4277425b4702b269857e57bb2e34",
       "style": "IPY_MODEL_0081d58d7c3342c6b49786f8adf3a3c7",
       "tooltip": "Search"
      }
     },
     "b79bb5f9eb1e49f88cc1f24e396a5a18": {
      "model_module": "@jupyter-widgets/controls",
      "model_module_version": "1.5.0",
      "model_name": "DescriptionStyleModel",
      "state": {
       "description_width": "initial"
      }
     },
     "b7b37568aa6945a9b0c8d873f3fb7ec6": {
      "model_module": "@jupyter-widgets/controls",
      "model_module_version": "1.5.0",
      "model_name": "DatePickerModel",
      "state": {
       "description": "Pick a Date:",
       "disabled": false,
       "layout": "IPY_MODEL_51390d44b10c400f8ebdcfa907c2d847",
       "style": "IPY_MODEL_74e4d2bfeacb479a8a2c6007d2044ba7"
      }
     },
     "b7ea7e487cd94ad2bb3683e3b09ee08e": {
      "model_module": "@jupyter-widgets/controls",
      "model_module_version": "1.5.0",
      "model_name": "TextModel",
      "state": {
       "description": "Ticker/Entity Name:*",
       "layout": "IPY_MODEL_096b8c2b676a46cda6b3d23db903f4c9",
       "placeholder": "Enter..",
       "style": "IPY_MODEL_0e5df2f48bf24c20a3980624600e2f5d",
       "value": "ms"
      }
     },
     "b82e5c89d64a46a086671df2372ff9dd": {
      "model_module": "@jupyter-widgets/controls",
      "model_module_version": "1.5.0",
      "model_name": "DescriptionStyleModel",
      "state": {
       "description_width": "initial"
      }
     },
     "b83af1f5f9f641ecaf4722af934e5240": {
      "model_module": "@jupyter-widgets/controls",
      "model_module_version": "1.5.0",
      "model_name": "DescriptionStyleModel",
      "state": {
       "description_width": ""
      }
     },
     "b86397de76c24315b19793320dd2a940": {
      "model_module": "@jupyter-widgets/controls",
      "model_module_version": "1.5.0",
      "model_name": "ButtonStyleModel",
      "state": {}
     },
     "b889ed33ff8e4bff9b48161f50c76d15": {
      "model_module": "@jupyter-widgets/base",
      "model_module_version": "1.2.0",
      "model_name": "LayoutModel",
      "state": {
       "grid_area": "widget005"
      }
     },
     "b94978bf75ad4b5c982cb5e3e71529a3": {
      "model_module": "@jupyter-widgets/controls",
      "model_module_version": "1.5.0",
      "model_name": "ButtonModel",
      "state": {
       "description": "Search",
       "icon": "search",
       "layout": "IPY_MODEL_faaf1a9bd10344f8b816ccb4eaa92fe1",
       "style": "IPY_MODEL_65b3a21406244d2d9d928818f5f92b73",
       "tooltip": "Search"
      }
     },
     "b957489455fa4b8a9289b617b6f109de": {
      "model_module": "@jupyter-widgets/controls",
      "model_module_version": "1.5.0",
      "model_name": "DescriptionStyleModel",
      "state": {
       "description_width": ""
      }
     },
     "b97325133e9d431bb82ac5dcf00bbc08": {
      "model_module": "@jupyter-widgets/controls",
      "model_module_version": "1.5.0",
      "model_name": "DatePickerModel",
      "state": {
       "description": "Pick a Date:",
       "disabled": false,
       "layout": "IPY_MODEL_1f2d1b8012144f5ebefb74fb14aa7866",
       "style": "IPY_MODEL_2dd666089a204fde9f0efc5961b173bf"
      }
     },
     "b99e8c7692b74019bfd4e3753303a844": {
      "model_module": "@jupyter-widgets/controls",
      "model_module_version": "1.5.0",
      "model_name": "DescriptionStyleModel",
      "state": {
       "description_width": ""
      }
     },
     "b9da6f2536e2433aa6f2988c73ba505c": {
      "model_module": "@jupyter-widgets/base",
      "model_module_version": "1.2.0",
      "model_name": "LayoutModel",
      "state": {
       "grid_area": "widget003"
      }
     },
     "b9fc978317ca4749bede4189349ea1fb": {
      "model_module": "@jupyter-widgets/controls",
      "model_module_version": "1.5.0",
      "model_name": "DescriptionStyleModel",
      "state": {
       "description_width": ""
      }
     },
     "ba4a63a4f13a484689b7805ae327a48c": {
      "model_module": "@jupyter-widgets/base",
      "model_module_version": "1.2.0",
      "model_name": "LayoutModel",
      "state": {
       "grid_area": "widget006"
      }
     },
     "ba95053209424527a93d5912e5278112": {
      "model_module": "@jupyter-widgets/controls",
      "model_module_version": "1.5.0",
      "model_name": "DescriptionStyleModel",
      "state": {
       "description_width": ""
      }
     },
     "bacf139637be4b01b78226d376937b1d": {
      "model_module": "@jupyter-widgets/controls",
      "model_module_version": "1.5.0",
      "model_name": "ButtonModel",
      "state": {
       "description": "Search",
       "icon": "search",
       "layout": "IPY_MODEL_07a878fe35bc497c8a657f6d7fe533e9",
       "style": "IPY_MODEL_722668ee610d47ce952fcb2afbdbae20",
       "tooltip": "Search"
      }
     },
     "bad389e0b5fd44c0a60e9f2167688cb8": {
      "model_module": "@jupyter-widgets/controls",
      "model_module_version": "1.5.0",
      "model_name": "ComboboxModel",
      "state": {
       "description": "Filing Type:",
       "ensure_option": true,
       "layout": "IPY_MODEL_0e68a9bd724e485ab83008ed521492c5",
       "options": [
        "",
        "10-Q",
        "10-K",
        "10-Q/A",
        "10-QSB",
        "10-QT",
        "10-QT/A",
        "10-QSB",
        "10-QSB/A",
        "10-QSB12B",
        "10-K/A",
        "10-K405",
        "10-K405/A",
        "10-KSB",
        "10-KT",
        "10-KT/A"
       ],
       "placeholder": "Enter..",
       "style": "IPY_MODEL_d9658c8bca2a4489ae4e0d3e81e14034"
      }
     },
     "bb045c6a3ace4e93a9a9a09e8b131394": {
      "model_module": "@jupyter-widgets/base",
      "model_module_version": "1.2.0",
      "model_name": "LayoutModel",
      "state": {
       "grid_area": "widget002"
      }
     },
     "bb8f8ea9ca394f2bb31f82a200c1f5d7": {
      "model_module": "@jupyter-widgets/base",
      "model_module_version": "1.2.0",
      "model_name": "LayoutModel",
      "state": {
       "grid_area": "widget005"
      }
     },
     "bbafa8b7101148e9a2d59052c77ae4a4": {
      "model_module": "@jupyter-widgets/controls",
      "model_module_version": "1.5.0",
      "model_name": "DescriptionStyleModel",
      "state": {
       "description_width": ""
      }
     },
     "bc03e4755cd4430e80a316d9e5639dee": {
      "model_module": "@jupyter-widgets/controls",
      "model_module_version": "1.5.0",
      "model_name": "ButtonModel",
      "state": {
       "description": "Search",
       "icon": "search",
       "layout": "IPY_MODEL_ea472a3289174a76bb1ab2cee152685a",
       "style": "IPY_MODEL_6894404584b1408dad07909e5d154bd4",
       "tooltip": "Search"
      }
     },
     "bc07e96234de4c5499bd653494b3835c": {
      "model_module": "@jupyter-widgets/controls",
      "model_module_version": "1.5.0",
      "model_name": "TextModel",
      "state": {
       "description": "Ticker/Entity Name:*",
       "layout": "IPY_MODEL_14585cdedfdb458f801d797407bb1936",
       "placeholder": "Enter..",
       "style": "IPY_MODEL_1a771a148b05430286c3e3f551049fbb"
      }
     },
     "bc43c090c84e4362ad728b56eb260e24": {
      "model_module": "@jupyter-widgets/base",
      "model_module_version": "1.2.0",
      "model_name": "LayoutModel",
      "state": {
       "grid_area": "widget006"
      }
     },
     "bc6c119815974fa0ab7b3142ff4c6e19": {
      "model_module": "@jupyter-widgets/controls",
      "model_module_version": "1.5.0",
      "model_name": "DatePickerModel",
      "state": {
       "description": "Pick a Date:",
       "disabled": false,
       "layout": "IPY_MODEL_f7f1109ec0db4187882bb8eb73efe166",
       "style": "IPY_MODEL_c6fc53f3c0c54eb998fcb3c935c3233a"
      }
     },
     "bca987fb88d44e2ebea5412a63db34d4": {
      "model_module": "@jupyter-widgets/controls",
      "model_module_version": "1.5.0",
      "model_name": "DropdownModel",
      "state": {
       "_options_labels": [
        "Income Statement",
        "Balance Sheet",
        "Statements of Cash Flow",
        "Statements of Convertible Preferred Stock and Stockholder’s Equity"
       ],
       "description": "Financial Statement:*",
       "index": 0,
       "layout": "IPY_MODEL_25cd7c0b5089466daa5c2e6004927d82",
       "style": "IPY_MODEL_a0d5e7bf5d284c46b941dd11b0eeda0d"
      }
     },
     "bd0a5f3f38594331bfd723884427f1cf": {
      "model_module": "@jupyter-widgets/controls",
      "model_module_version": "1.5.0",
      "model_name": "DescriptionStyleModel",
      "state": {
       "description_width": ""
      }
     },
     "bd5bffa70bac408c8320a3c87fec457a": {
      "model_module": "@jupyter-widgets/controls",
      "model_module_version": "1.5.0",
      "model_name": "ButtonModel",
      "state": {
       "description": "Search",
       "icon": "search",
       "layout": "IPY_MODEL_f4ab42813b9344ddb40d99e3058396c3",
       "style": "IPY_MODEL_f29d298ad8264af49369070d243dc9a3",
       "tooltip": "Search"
      }
     },
     "bd6b5040dff24d58a92a9f624a7a1984": {
      "model_module": "@jupyter-widgets/controls",
      "model_module_version": "1.5.0",
      "model_name": "DescriptionStyleModel",
      "state": {
       "description_width": ""
      }
     },
     "be15422d505c45768ed980c247576eb7": {
      "model_module": "@jupyter-widgets/base",
      "model_module_version": "1.2.0",
      "model_name": "LayoutModel",
      "state": {
       "grid_area": "widget003"
      }
     },
     "be4bf9aa9c624625bd8c59c390483e78": {
      "model_module": "@jupyter-widgets/controls",
      "model_module_version": "1.5.0",
      "model_name": "ButtonStyleModel",
      "state": {}
     },
     "be9c7868bb184ec98da39817bc1bbf53": {
      "model_module": "@jupyter-widgets/base",
      "model_module_version": "1.2.0",
      "model_name": "LayoutModel",
      "state": {
       "grid_area": "widget005"
      }
     },
     "bed71f71791b41aca55ce1bb0fa464d7": {
      "model_module": "@jupyter-widgets/controls",
      "model_module_version": "1.5.0",
      "model_name": "ComboboxModel",
      "state": {
       "description": "Filing Type:",
       "ensure_option": true,
       "layout": "IPY_MODEL_e893c825bcd74a7082b688d4e91102b6",
       "options": [
        "",
        "10-Q",
        "10-K",
        "10-Q/A",
        "10-QSB",
        "10-QT",
        "10-QT/A",
        "10-QSB",
        "10-QSB/A",
        "10-QSB12B",
        "10-K/A",
        "10-K405",
        "10-K405/A",
        "10-KSB",
        "10-KT",
        "10-KT/A"
       ],
       "placeholder": "Enter..",
       "style": "IPY_MODEL_ed438894f04f4b5583368db37090377c"
      }
     },
     "beee87e079cc4642a09e7a8a9f72e191": {
      "model_module": "@jupyter-widgets/base",
      "model_module_version": "1.2.0",
      "model_name": "LayoutModel",
      "state": {
       "grid_area": "widget004"
      }
     },
     "bf89cac4d0ed40edb0b74585eea5244e": {
      "model_module": "@jupyter-widgets/controls",
      "model_module_version": "1.5.0",
      "model_name": "DescriptionStyleModel",
      "state": {
       "description_width": ""
      }
     },
     "c00aa9c9d8e7473daa55c50f1c6bfd70": {
      "model_module": "@jupyter-widgets/controls",
      "model_module_version": "1.5.0",
      "model_name": "ButtonModel",
      "state": {
       "description": "Search",
       "icon": "search",
       "layout": "IPY_MODEL_09176babb5f04cbdb70fca74aa572cd5",
       "style": "IPY_MODEL_b86397de76c24315b19793320dd2a940",
       "tooltip": "Search"
      }
     },
     "c01d10363bd4459d8249ed4cd0620ac9": {
      "model_module": "@jupyter-widgets/controls",
      "model_module_version": "1.5.0",
      "model_name": "TextModel",
      "state": {
       "description": "Ticker/Entity Name:*",
       "layout": "IPY_MODEL_ec220db3c5284c6f95bc6904d9eff455",
       "placeholder": "Enter..",
       "style": "IPY_MODEL_4926c42440524349a54fd133702bc3eb"
      }
     },
     "c047a0b4605c4d2da145458f7762fd90": {
      "model_module": "@jupyter-widgets/controls",
      "model_module_version": "1.5.0",
      "model_name": "DescriptionStyleModel",
      "state": {
       "description_width": ""
      }
     },
     "c054eaf627ee4fcbb682a2c8b1b2e202": {
      "model_module": "@jupyter-widgets/controls",
      "model_module_version": "1.5.0",
      "model_name": "DescriptionStyleModel",
      "state": {
       "description_width": ""
      }
     },
     "c05557e81dbe49a7a5be1e80ba80ee97": {
      "model_module": "@jupyter-widgets/controls",
      "model_module_version": "1.5.0",
      "model_name": "GridBoxModel",
      "state": {
       "children": [
        "IPY_MODEL_668527139c66483ea3d52a37ce370727",
        "IPY_MODEL_f216839a0da64b0dacbd8b90cd777702",
        "IPY_MODEL_4610a97d58d54217a631e302f4ae35b0",
        "IPY_MODEL_015c5ff2dbe847498fa92be738fcb65c",
        "IPY_MODEL_abd187fa445b4148bce516a111b4acdc",
        "IPY_MODEL_cb099c4de77a4cb3acf0bbb132c586cf",
        "IPY_MODEL_5c4e4f38a5824bf0a6552e7a2b426c2f"
       ],
       "layout": "IPY_MODEL_0e8ecd95282d4992b1f6b3be228c2cb7"
      }
     },
     "c05880a5774d456e9a25cd461a65129d": {
      "model_module": "@jupyter-widgets/controls",
      "model_module_version": "1.5.0",
      "model_name": "DescriptionStyleModel",
      "state": {
       "description_width": ""
      }
     },
     "c05c5faee24a460ea27e71cce77937df": {
      "model_module": "@jupyter-widgets/controls",
      "model_module_version": "1.5.0",
      "model_name": "DescriptionStyleModel",
      "state": {
       "description_width": "initial"
      }
     },
     "c069bf2d0f384919883814eef270b4e4": {
      "model_module": "@jupyter-widgets/controls",
      "model_module_version": "1.5.0",
      "model_name": "ComboboxModel",
      "state": {
       "description": "Filing Type:",
       "ensure_option": true,
       "layout": "IPY_MODEL_6fef368696004249b0fc3e49646e0215",
       "options": [
        "",
        "10-Q",
        "10-K",
        "10-Q/A",
        "10-QSB",
        "10-QT",
        "10-QT/A",
        "10-QSB",
        "10-QSB/A",
        "10-QSB12B",
        "10-K/A",
        "10-K405",
        "10-K405/A",
        "10-KSB",
        "10-KT",
        "10-KT/A"
       ],
       "placeholder": "Enter..",
       "style": "IPY_MODEL_163c637fba0b4c44930853d26de44457"
      }
     },
     "c0d796627d5a4363818f508bd671656f": {
      "model_module": "@jupyter-widgets/controls",
      "model_module_version": "1.5.0",
      "model_name": "DescriptionStyleModel",
      "state": {
       "description_width": ""
      }
     },
     "c0f4658c0e1043c786465458456ec8af": {
      "model_module": "@jupyter-widgets/base",
      "model_module_version": "1.2.0",
      "model_name": "LayoutModel",
      "state": {
       "grid_template_areas": "\"widget001 .\"\n\"widget002 .\"\n\"widget003 .\"\n\"widget004 .\"\n\"widget005 .\"\n\"widget006 widget006\"",
       "grid_template_columns": "repeat(2, 1fr)",
       "grid_template_rows": "repeat(6, 1fr)"
      }
     },
     "c115e5e24a8043ec894423b3b21d4421": {
      "model_module": "@jupyter-widgets/controls",
      "model_module_version": "1.5.0",
      "model_name": "ButtonStyleModel",
      "state": {}
     },
     "c13b88ea6a7d4a42be601121a4f72780": {
      "model_module": "@jupyter-widgets/base",
      "model_module_version": "1.2.0",
      "model_name": "LayoutModel",
      "state": {
       "grid_area": "widget006"
      }
     },
     "c14f2309589844b0834f7df5984f633d": {
      "model_module": "@jupyter-widgets/controls",
      "model_module_version": "1.5.0",
      "model_name": "DescriptionStyleModel",
      "state": {
       "description_width": "initial"
      }
     },
     "c173770dbc414eb5a9db93f8f3cdac9f": {
      "model_module": "@jupyter-widgets/base",
      "model_module_version": "1.2.0",
      "model_name": "LayoutModel",
      "state": {
       "grid_area": "widget004"
      }
     },
     "c1b22ceeea9f422792f74fbfb563210a": {
      "model_module": "@jupyter-widgets/controls",
      "model_module_version": "1.5.0",
      "model_name": "DatePickerModel",
      "state": {
       "description": "Pick a Date:",
       "disabled": false,
       "layout": "IPY_MODEL_f9d8b7997c2e4463a7a76f66dbadd4c1",
       "style": "IPY_MODEL_9c4c6deed0b74153a6851993a07f2be7"
      }
     },
     "c22c7328957f479e982894755b9d2de1": {
      "model_module": "@jupyter-widgets/controls",
      "model_module_version": "1.5.0",
      "model_name": "DatePickerModel",
      "state": {
       "description": "Pick a Date:",
       "disabled": false,
       "layout": "IPY_MODEL_7e7a33263d254f8e9f11a1ea93777bc3",
       "style": "IPY_MODEL_b3a45f57ea614e65b21b1dd3ba93a564"
      }
     },
     "c24e994515f4412a862e63afba642b4c": {
      "model_module": "@jupyter-widgets/base",
      "model_module_version": "1.2.0",
      "model_name": "LayoutModel",
      "state": {
       "grid_area": "widget002"
      }
     },
     "c26ec1553b8247f78a90805c7f6322a4": {
      "model_module": "@jupyter-widgets/controls",
      "model_module_version": "1.5.0",
      "model_name": "DatePickerModel",
      "state": {
       "description": "Pick a Date:",
       "disabled": false,
       "layout": "IPY_MODEL_2dd44dc29e444228ba18daf888b5883f",
       "style": "IPY_MODEL_98bff7e796214d47ab95dd2ee64d3cce"
      }
     },
     "c2a9302c8bb446c088d2c41e8f9cd34c": {
      "model_module": "@jupyter-widgets/controls",
      "model_module_version": "1.5.0",
      "model_name": "DescriptionStyleModel",
      "state": {
       "description_width": "initial"
      }
     },
     "c305b3d4d335440189ba7068dec76dab": {
      "model_module": "@jupyter-widgets/controls",
      "model_module_version": "1.5.0",
      "model_name": "ComboboxModel",
      "state": {
       "description": "Filing Type:",
       "ensure_option": true,
       "layout": "IPY_MODEL_c9b79595d39d4295922416315200221a",
       "options": [
        "",
        "10-Q",
        "10-K",
        "10-Q/A",
        "10-QSB",
        "10-QT",
        "10-QT/A",
        "10-QSB",
        "10-QSB/A",
        "10-QSB12B",
        "10-K/A",
        "10-K405",
        "10-K405/A",
        "10-KSB",
        "10-KT",
        "10-KT/A"
       ],
       "placeholder": "Enter..",
       "style": "IPY_MODEL_4c9671b4922a4b1fafad30702eeae24a"
      }
     },
     "c3217b283b94408ea69426f27d712706": {
      "model_module": "@jupyter-widgets/controls",
      "model_module_version": "1.5.0",
      "model_name": "ButtonStyleModel",
      "state": {}
     },
     "c39122ef429541b8830424a8252c0ba6": {
      "model_module": "@jupyter-widgets/controls",
      "model_module_version": "1.5.0",
      "model_name": "DescriptionStyleModel",
      "state": {
       "description_width": "initial"
      }
     },
     "c3a1dceabefa467a8f15a13c58658024": {
      "model_module": "@jupyter-widgets/controls",
      "model_module_version": "1.5.0",
      "model_name": "DescriptionStyleModel",
      "state": {
       "description_width": ""
      }
     },
     "c3a6743fec284afba86269921be23013": {
      "model_module": "@jupyter-widgets/controls",
      "model_module_version": "1.5.0",
      "model_name": "ButtonStyleModel",
      "state": {}
     },
     "c3c86eb4084d4cd1bbf852e2a9785c23": {
      "model_module": "@jupyter-widgets/controls",
      "model_module_version": "1.5.0",
      "model_name": "ButtonStyleModel",
      "state": {}
     },
     "c3f697917dad426abbe7a6fe0e5f4892": {
      "model_module": "@jupyter-widgets/controls",
      "model_module_version": "1.5.0",
      "model_name": "DescriptionStyleModel",
      "state": {
       "description_width": "initial"
      }
     },
     "c3f8393705f64ff4aa42247ef4866e9b": {
      "model_module": "@jupyter-widgets/base",
      "model_module_version": "1.2.0",
      "model_name": "LayoutModel",
      "state": {
       "grid_area": "widget002"
      }
     },
     "c3fffdc2637740b19dd68a45c9773cbd": {
      "model_module": "@jupyter-widgets/controls",
      "model_module_version": "1.5.0",
      "model_name": "DescriptionStyleModel",
      "state": {
       "description_width": ""
      }
     },
     "c409d859f61f4fe8891db71d6ad8741d": {
      "model_module": "@jupyter-widgets/controls",
      "model_module_version": "1.5.0",
      "model_name": "GridBoxModel",
      "state": {
       "children": [
        "IPY_MODEL_43b819e0b633472eab01acf5b5c9b92a",
        "IPY_MODEL_da18e43bc8c84d04bea7c2346d3b279d",
        "IPY_MODEL_f88673779c044d5d810275d5b4b46a2a",
        "IPY_MODEL_ce2cb5538a06415ba4c23bb5efcfb237",
        "IPY_MODEL_d95b3233563b4e8f86fb359347f459a4",
        "IPY_MODEL_51de84400ccb4b1197cda8a1c31a95c8"
       ],
       "layout": "IPY_MODEL_9d2b620b74354fdf9ff3d2cbf5f2552f"
      }
     },
     "c44b0575fde044618782692269e6a18b": {
      "model_module": "@jupyter-widgets/base",
      "model_module_version": "1.2.0",
      "model_name": "LayoutModel",
      "state": {
       "grid_area": "widget005"
      }
     },
     "c47a33e868d44027b011b75f08e22ee3": {
      "model_module": "@jupyter-widgets/base",
      "model_module_version": "1.2.0",
      "model_name": "LayoutModel",
      "state": {
       "grid_area": "widget005"
      }
     },
     "c4b262788afb4c628a515ceb3cd47d7f": {
      "model_module": "@jupyter-widgets/controls",
      "model_module_version": "1.5.0",
      "model_name": "ButtonStyleModel",
      "state": {}
     },
     "c4cacdf699d24629b4ea483c7da05cb6": {
      "model_module": "@jupyter-widgets/controls",
      "model_module_version": "1.5.0",
      "model_name": "TextModel",
      "state": {
       "description": "Ticker/Entity Name:*",
       "layout": "IPY_MODEL_eaede2c02100406fab36ad8311f467af",
       "placeholder": "Enter..",
       "style": "IPY_MODEL_818fb139940547d9a863efadf51a2c11"
      }
     },
     "c4e1833fc8004b029243ac79146fdccb": {
      "model_module": "@jupyter-widgets/controls",
      "model_module_version": "1.5.0",
      "model_name": "DescriptionStyleModel",
      "state": {
       "description_width": ""
      }
     },
     "c4e85fccbd314f259804bd2bc881bd56": {
      "model_module": "@jupyter-widgets/base",
      "model_module_version": "1.2.0",
      "model_name": "LayoutModel",
      "state": {
       "grid_template_areas": "\"widget001 .\"\n\"widget002 .\"\n\"widget003 .\"\n\"widget004 .\"\n\"widget005 .\"\n\"widget006 widget006\"",
       "grid_template_columns": "repeat(2, 1fr)",
       "grid_template_rows": "repeat(6, 1fr)"
      }
     },
     "c4f25c113de54f0f9d3f9adce10aa212": {
      "model_module": "@jupyter-widgets/base",
      "model_module_version": "1.2.0",
      "model_name": "LayoutModel",
      "state": {
       "grid_area": "widget003"
      }
     },
     "c55e270bd2b74cc692875232c0656e72": {
      "model_module": "@jupyter-widgets/controls",
      "model_module_version": "1.5.0",
      "model_name": "DescriptionStyleModel",
      "state": {
       "description_width": "initial"
      }
     },
     "c5b61496e4a4419cb14243209939aed3": {
      "model_module": "@jupyter-widgets/controls",
      "model_module_version": "1.5.0",
      "model_name": "GridBoxModel",
      "state": {
       "children": [
        "IPY_MODEL_2e0c315cbf384bd6840103ee5cc52971",
        "IPY_MODEL_aec2c115765d4d569a13ce72882fc3e3",
        "IPY_MODEL_01c322a0c0ba40a9af1665020610e721",
        "IPY_MODEL_aa2f00377c8b46988357a030df1bd28f",
        "IPY_MODEL_ab171378b8eb433f94d9ce79e08b5219",
        "IPY_MODEL_370db0f76d32445da0469bb7aaca855b"
       ],
       "layout": "IPY_MODEL_1895ef0a75a246d485c2bacbf230e69d"
      }
     },
     "c5ebe4ca484a4ef69030fcf35f090d9c": {
      "model_module": "@jupyter-widgets/base",
      "model_module_version": "1.2.0",
      "model_name": "LayoutModel",
      "state": {
       "grid_area": "widget006"
      }
     },
     "c6362ef509ee4e3e89b9fdd22c15e63a": {
      "model_module": "@jupyter-widgets/base",
      "model_module_version": "1.2.0",
      "model_name": "LayoutModel",
      "state": {
       "grid_area": "widget001"
      }
     },
     "c642bab73ef94bc58fa8b96060ba16bb": {
      "model_module": "@jupyter-widgets/controls",
      "model_module_version": "1.5.0",
      "model_name": "DescriptionStyleModel",
      "state": {
       "description_width": "initial"
      }
     },
     "c65cd3086ec9463eb9f59b7793a3eebd": {
      "model_module": "@jupyter-widgets/base",
      "model_module_version": "1.2.0",
      "model_name": "LayoutModel",
      "state": {
       "grid_area": "widget001"
      }
     },
     "c6bb58f6cad148ebae52b0f31ad6f9b9": {
      "model_module": "@jupyter-widgets/controls",
      "model_module_version": "1.5.0",
      "model_name": "TextModel",
      "state": {
       "description": "Ticker/Entity Name:*",
       "layout": "IPY_MODEL_f6acf76fe29b49e99c198891604fc6a0",
       "placeholder": "Enter..",
       "style": "IPY_MODEL_79ae0dbc9d0845eda65ae6f698cf0913",
       "value": "msft"
      }
     },
     "c6fc53f3c0c54eb998fcb3c935c3233a": {
      "model_module": "@jupyter-widgets/controls",
      "model_module_version": "1.5.0",
      "model_name": "DescriptionStyleModel",
      "state": {
       "description_width": ""
      }
     },
     "c72741b27f224557a22abc448848cf9b": {
      "model_module": "@jupyter-widgets/controls",
      "model_module_version": "1.5.0",
      "model_name": "GridBoxModel",
      "state": {
       "children": [
        "IPY_MODEL_a16ab8304eb44eea8c7d3c4711c86552",
        "IPY_MODEL_c305b3d4d335440189ba7068dec76dab",
        "IPY_MODEL_67981a5a7881437ea3ff26d606595e73",
        "IPY_MODEL_65b59baa84384c5b8df707c170e8c0a8",
        "IPY_MODEL_010d36f9eb0745f7afc0bcaac133aafc",
        "IPY_MODEL_4b61fe774ccd4dea845bcff9197770c9"
       ],
       "layout": "IPY_MODEL_c4e85fccbd314f259804bd2bc881bd56"
      }
     },
     "c72ffc3c7e3042319406fa5a2340074c": {
      "model_module": "@jupyter-widgets/controls",
      "model_module_version": "1.5.0",
      "model_name": "DescriptionStyleModel",
      "state": {
       "description_width": "initial"
      }
     },
     "c74358434301461da9afe3ce698ddb9d": {
      "model_module": "@jupyter-widgets/base",
      "model_module_version": "1.2.0",
      "model_name": "LayoutModel",
      "state": {
       "grid_area": "widget001"
      }
     },
     "c7959d38df12499caab1b957127d78c8": {
      "model_module": "@jupyter-widgets/base",
      "model_module_version": "1.2.0",
      "model_name": "LayoutModel",
      "state": {
       "grid_area": "widget001"
      }
     },
     "c7b2b286d46a45ab8568f5415064a0d9": {
      "model_module": "@jupyter-widgets/base",
      "model_module_version": "1.2.0",
      "model_name": "LayoutModel",
      "state": {
       "grid_area": "widget005"
      }
     },
     "c7b2be4497704513b3693e0c3cc650cb": {
      "model_module": "@jupyter-widgets/base",
      "model_module_version": "1.2.0",
      "model_name": "LayoutModel",
      "state": {
       "grid_area": "widget004"
      }
     },
     "c7cbc779cbab413a8e97c3ba3b33a454": {
      "model_module": "@jupyter-widgets/controls",
      "model_module_version": "1.5.0",
      "model_name": "ButtonModel",
      "state": {
       "description": "Search",
       "icon": "search",
       "layout": "IPY_MODEL_ff20e3b620fc48afb850ce3e57ee4972",
       "style": "IPY_MODEL_5e907294783b42228ffb34a438958909",
       "tooltip": "Search"
      }
     },
     "c808571260914b4aa63bc8a7e865586c": {
      "model_module": "@jupyter-widgets/controls",
      "model_module_version": "1.5.0",
      "model_name": "DropdownModel",
      "state": {
       "_options_labels": [
        "Financial Statement",
        "Item"
       ],
       "description": "Required Information:",
       "index": 0,
       "layout": "IPY_MODEL_624f807e6ab74393bb18fea8e2a43744",
       "style": "IPY_MODEL_f6d12c7f8204457fbff5aa8af9aafdd2"
      }
     },
     "c86522a438e44e508e93f75c6c7215a2": {
      "model_module": "@jupyter-widgets/base",
      "model_module_version": "1.2.0",
      "model_name": "LayoutModel",
      "state": {
       "grid_area": "widget004"
      }
     },
     "c89ccb303fae4e39bbacb187393c198e": {
      "model_module": "@jupyter-widgets/controls",
      "model_module_version": "1.5.0",
      "model_name": "DescriptionStyleModel",
      "state": {
       "description_width": ""
      }
     },
     "c8e16942489e4472acfcabbee9dc3e4b": {
      "model_module": "@jupyter-widgets/base",
      "model_module_version": "1.2.0",
      "model_name": "LayoutModel",
      "state": {
       "grid_area": "widget004"
      }
     },
     "c9022f87d0dd469db0ce69c630e24bb9": {
      "model_module": "@jupyter-widgets/base",
      "model_module_version": "1.2.0",
      "model_name": "LayoutModel",
      "state": {
       "grid_area": "widget002"
      }
     },
     "c928be9ceb6e43609dc50b580983e61a": {
      "model_module": "@jupyter-widgets/controls",
      "model_module_version": "1.5.0",
      "model_name": "GridBoxModel",
      "state": {
       "children": [
        "IPY_MODEL_d0dde53a9dab4ae998e3fd282bc1cbbd",
        "IPY_MODEL_d7204567610b4035a3f8cb9b07b5097f",
        "IPY_MODEL_9f8e22cfc93740439b187fe1e305a8b6",
        "IPY_MODEL_5c2daa3c7b684f1c9ecd49e4aed72c47",
        "IPY_MODEL_94a6130ee69f472e8dda7e913a519019",
        "IPY_MODEL_fdde893755824ed6a402e5eab88d7d51",
        "IPY_MODEL_2a23fb4785a44b27b9ae2f37d942ccfb"
       ],
       "layout": "IPY_MODEL_6819a69d5be243ee972447adab10d22b"
      }
     },
     "c942904dafc9465985b45433b87750ad": {
      "model_module": "@jupyter-widgets/base",
      "model_module_version": "1.2.0",
      "model_name": "LayoutModel",
      "state": {
       "grid_area": "widget005"
      }
     },
     "c9550883f72e4c49a33ddfdbe0b735ef": {
      "model_module": "@jupyter-widgets/controls",
      "model_module_version": "1.5.0",
      "model_name": "DropdownModel",
      "state": {
       "_options_labels": [
        "Income Statement",
        "Balance Sheet",
        "Statements of Cash Flow",
        "Statements of Convertible Preferred Stock and Stockholder’s Equity"
       ],
       "description": "Financial Statement:*",
       "index": 0,
       "layout": "IPY_MODEL_1aa8d0c35d5648a6961e378805ff42d6",
       "style": "IPY_MODEL_6cd6e684f501452aa624024109214957"
      }
     },
     "c95ab654d3784a31b4ccc8ede00fe981": {
      "model_module": "@jupyter-widgets/controls",
      "model_module_version": "1.5.0",
      "model_name": "GridBoxModel",
      "state": {
       "children": [
        "IPY_MODEL_7364578bca7a4dec9cdc01efd6af6a3e",
        "IPY_MODEL_928576d0e36f4904a8287487a8256f82",
        "IPY_MODEL_a0ffc2f4f1b742a489db23bc68f046fe",
        "IPY_MODEL_e7fec0b08d174252b5d1cc8105f9f7cf",
        "IPY_MODEL_7d7e2647f40f4ed8ae038153ed18665d",
        "IPY_MODEL_9ffb48295c004ac1bffbafcd06c4e3e6"
       ],
       "layout": "IPY_MODEL_4a629303732d49e5a3a9d0184e65b140"
      }
     },
     "c9b79595d39d4295922416315200221a": {
      "model_module": "@jupyter-widgets/base",
      "model_module_version": "1.2.0",
      "model_name": "LayoutModel",
      "state": {
       "grid_area": "widget002"
      }
     },
     "c9c736fb77af421489c905d5b86a6117": {
      "model_module": "@jupyter-widgets/controls",
      "model_module_version": "1.5.0",
      "model_name": "ButtonStyleModel",
      "state": {}
     },
     "c9df078d56304e2b91cc71100baf3d0c": {
      "model_module": "@jupyter-widgets/controls",
      "model_module_version": "1.5.0",
      "model_name": "DescriptionStyleModel",
      "state": {
       "description_width": "initial"
      }
     },
     "c9e9459342df4948aaa2f954cf1f2b1e": {
      "model_module": "@jupyter-widgets/controls",
      "model_module_version": "1.5.0",
      "model_name": "ButtonStyleModel",
      "state": {}
     },
     "ca274ddbb8c54f0fbb1b392117e1035c": {
      "model_module": "@jupyter-widgets/base",
      "model_module_version": "1.2.0",
      "model_name": "LayoutModel",
      "state": {
       "grid_area": "widget001"
      }
     },
     "ca6f065bb6084e98a3d719a00d289a47": {
      "model_module": "@jupyter-widgets/controls",
      "model_module_version": "1.5.0",
      "model_name": "DropdownModel",
      "state": {
       "_options_labels": [
        "Income Statement",
        "Balance Sheet",
        "Statements of Cash Flow",
        "Statements of Convertible Preferred Stock and Stockholder’s Equity"
       ],
       "description": "Financial Statement:*",
       "index": 0,
       "layout": "IPY_MODEL_dd2389feab144628b7ab3cff7c9e180a",
       "style": "IPY_MODEL_5fa383537c9046be804538848e3de190"
      }
     },
     "ca861682728d4665a2db3ee4a371409c": {
      "model_module": "@jupyter-widgets/base",
      "model_module_version": "1.2.0",
      "model_name": "LayoutModel",
      "state": {
       "grid_area": "widget003"
      }
     },
     "caf036cb03604f109ee577443bce384f": {
      "model_module": "@jupyter-widgets/controls",
      "model_module_version": "1.5.0",
      "model_name": "DescriptionStyleModel",
      "state": {
       "description_width": "initial"
      }
     },
     "caf56f9293724967a08936d5a6450388": {
      "model_module": "@jupyter-widgets/controls",
      "model_module_version": "1.5.0",
      "model_name": "DescriptionStyleModel",
      "state": {
       "description_width": "initial"
      }
     },
     "cb099c4de77a4cb3acf0bbb132c586cf": {
      "model_module": "@jupyter-widgets/controls",
      "model_module_version": "1.5.0",
      "model_name": "DatePickerModel",
      "state": {
       "description": "Pick a Date:",
       "disabled": false,
       "layout": "IPY_MODEL_d58c82e3040a4441a25235e0712277ef",
       "style": "IPY_MODEL_1951752a500c4c2fb5dd36ccccf4c85e"
      }
     },
     "cb38c1e252a7419baef19843045acc21": {
      "model_module": "@jupyter-widgets/base",
      "model_module_version": "1.2.0",
      "model_name": "LayoutModel",
      "state": {
       "grid_area": "widget002"
      }
     },
     "cb3de3784ae64d0887eb818851ee8983": {
      "model_module": "@jupyter-widgets/base",
      "model_module_version": "1.2.0",
      "model_name": "LayoutModel",
      "state": {
       "grid_area": "widget003"
      }
     },
     "cb62e97079914b939a5f92b9158c8d96": {
      "model_module": "@jupyter-widgets/base",
      "model_module_version": "1.2.0",
      "model_name": "LayoutModel",
      "state": {
       "grid_area": "widget003"
      }
     },
     "cb8ebf935f3e462094b8f60ff2d406ef": {
      "model_module": "@jupyter-widgets/controls",
      "model_module_version": "1.5.0",
      "model_name": "ComboboxModel",
      "state": {
       "description": "Filing Type:",
       "ensure_option": true,
       "layout": "IPY_MODEL_05c93a2f80ac43fcb963ebf0f24b49d8",
       "options": [
        "",
        "10-Q",
        "10-K",
        "10-Q/A",
        "10-QSB",
        "10-QT",
        "10-QT/A",
        "10-QSB",
        "10-QSB/A",
        "10-QSB12B",
        "10-K/A",
        "10-K405",
        "10-K405/A",
        "10-KSB",
        "10-KT",
        "10-KT/A"
       ],
       "placeholder": "Enter..",
       "style": "IPY_MODEL_a16404d815bb4491aee4ea3fa899184e"
      }
     },
     "cbd892aa830540da9c5f938c61c2f78b": {
      "model_module": "@jupyter-widgets/controls",
      "model_module_version": "1.5.0",
      "model_name": "DescriptionStyleModel",
      "state": {
       "description_width": ""
      }
     },
     "cbe00dc9f3ed4d55ba3de868f8ac7d5e": {
      "model_module": "@jupyter-widgets/base",
      "model_module_version": "1.2.0",
      "model_name": "LayoutModel",
      "state": {
       "grid_area": "widget001"
      }
     },
     "cbf8a06c857c4db8a485373bd26b658f": {
      "model_module": "@jupyter-widgets/controls",
      "model_module_version": "1.5.0",
      "model_name": "DropdownModel",
      "state": {
       "_options_labels": [
        "Income Statement",
        "Balance Sheet",
        "Statements of Cash Flow",
        "Statements of Convertible Preferred Stock and Stockholder’s Equity"
       ],
       "description": "Financial Statement:*",
       "index": 0,
       "layout": "IPY_MODEL_76acc45f36c34d4987c8ed2af5359de7",
       "style": "IPY_MODEL_c14f2309589844b0834f7df5984f633d"
      }
     },
     "cc0d87fea0e744a1a7ef1159c71d5841": {
      "model_module": "@jupyter-widgets/controls",
      "model_module_version": "1.5.0",
      "model_name": "GridBoxModel",
      "state": {
       "children": [
        "IPY_MODEL_6861a43e951f4e779cd4430e512df459",
        "IPY_MODEL_138b8507541a4ae992f049708a0a00bf",
        "IPY_MODEL_e267ff12721a4b499a129a63dc9ba3dd",
        "IPY_MODEL_e6b9bb66f3e74bfba4315903bad110c2",
        "IPY_MODEL_f0f3200c7de5488a8aa4b85a06159430",
        "IPY_MODEL_f348a2a6fbab4bd785151d3245c50e25"
       ],
       "layout": "IPY_MODEL_2613a79aa2394be4a05039ad43bcdefd"
      }
     },
     "cc56da861f934c519b9cbd73357e9d27": {
      "model_module": "@jupyter-widgets/base",
      "model_module_version": "1.2.0",
      "model_name": "LayoutModel",
      "state": {
       "grid_template_areas": "\"widget001 .\"\n\"widget002 .\"\n\"widget003 .\"\n\"widget004 .\"\n\"widget005 .\"\n\"widget006 widget006\"",
       "grid_template_columns": "repeat(2, 1fr)",
       "grid_template_rows": "repeat(6, 1fr)"
      }
     },
     "cc640ac703034daca87c85bfac4ba477": {
      "model_module": "@jupyter-widgets/base",
      "model_module_version": "1.2.0",
      "model_name": "LayoutModel",
      "state": {
       "grid_area": "widget002"
      }
     },
     "cccb906c8f2e446695009b0b8e2c61e5": {
      "model_module": "@jupyter-widgets/controls",
      "model_module_version": "1.5.0",
      "model_name": "DatePickerModel",
      "state": {
       "description": "Pick a Date:",
       "disabled": false,
       "layout": "IPY_MODEL_b889ed33ff8e4bff9b48161f50c76d15",
       "style": "IPY_MODEL_d51370df806040d1a37f358d1cb05ea8"
      }
     },
     "cd633300bfee4aeda50e45b796a8995f": {
      "model_module": "@jupyter-widgets/controls",
      "model_module_version": "1.5.0",
      "model_name": "DescriptionStyleModel",
      "state": {
       "description_width": "initial"
      }
     },
     "cde47d29aaa0419db2ebe75ba8ba037b": {
      "model_module": "@jupyter-widgets/base",
      "model_module_version": "1.2.0",
      "model_name": "LayoutModel",
      "state": {
       "grid_template_areas": "\"widget001 .\"\n\"widget002 .\"\n\"widget003 .\"\n\"widget004 .\"\n\"widget005 .\"\n\"widget006 widget006\"",
       "grid_template_columns": "repeat(2, 1fr)",
       "grid_template_rows": "repeat(6, 1fr)"
      }
     },
     "ce1b50e27c33483bb299e58085b0f172": {
      "model_module": "@jupyter-widgets/controls",
      "model_module_version": "1.5.0",
      "model_name": "ButtonModel",
      "state": {
       "description": "Search",
       "icon": "search",
       "layout": "IPY_MODEL_b29528a7d0dd4fce9226d783f3195844",
       "style": "IPY_MODEL_c3c86eb4084d4cd1bbf852e2a9785c23",
       "tooltip": "Search"
      }
     },
     "ce29b47128aa4616a7f7517eb85385c8": {
      "model_module": "@jupyter-widgets/controls",
      "model_module_version": "1.5.0",
      "model_name": "DatePickerModel",
      "state": {
       "description": "Pick a Date:",
       "disabled": false,
       "layout": "IPY_MODEL_4a2e8c7f07f74f0f9d525dae6aa29905",
       "style": "IPY_MODEL_836bccf82edf4753b8a661bc1125de87"
      }
     },
     "ce2cb5538a06415ba4c23bb5efcfb237": {
      "model_module": "@jupyter-widgets/controls",
      "model_module_version": "1.5.0",
      "model_name": "DatePickerModel",
      "state": {
       "description": "Pick a Date:",
       "disabled": false,
       "layout": "IPY_MODEL_55abfe0098ef4ca0a8c6331af8e188a5",
       "style": "IPY_MODEL_034b02be14f94fe8b893e6a1374c4af3"
      }
     },
     "ce80ef81f10240008b6a4b7c13c9e77a": {
      "model_module": "@jupyter-widgets/controls",
      "model_module_version": "1.5.0",
      "model_name": "DescriptionStyleModel",
      "state": {
       "description_width": ""
      }
     },
     "ceb73f9915bc473891555d6a66bdf5da": {
      "model_module": "@jupyter-widgets/base",
      "model_module_version": "1.2.0",
      "model_name": "LayoutModel",
      "state": {
       "grid_area": "widget005"
      }
     },
     "cee3fbba52d6449cb6690b2221a77865": {
      "model_module": "@jupyter-widgets/controls",
      "model_module_version": "1.5.0",
      "model_name": "DatePickerModel",
      "state": {
       "description": "Pick a Date:",
       "disabled": false,
       "layout": "IPY_MODEL_69965e3c30334aeb83163a61b976fc73",
       "style": "IPY_MODEL_d5bc815bcd7341c4b7828ae5df9ee412"
      }
     },
     "cef258e2e0744629aa26f119330feb62": {
      "model_module": "@jupyter-widgets/controls",
      "model_module_version": "1.5.0",
      "model_name": "ComboboxModel",
      "state": {
       "description": "Filing Type:",
       "ensure_option": true,
       "layout": "IPY_MODEL_a0efa5275cb84122b752c3fcb3add22e",
       "options": [
        "",
        "10-Q",
        "10-K",
        "10-Q/A",
        "10-QSB",
        "10-QT",
        "10-QT/A",
        "10-QSB",
        "10-QSB/A",
        "10-QSB12B",
        "10-K/A",
        "10-K405",
        "10-K405/A",
        "10-KSB",
        "10-KT",
        "10-KT/A"
       ],
       "placeholder": "Enter..",
       "style": "IPY_MODEL_5ee08acd31a54c51b25e744d9ce1ed5a",
       "value": "10-Q"
      }
     },
     "cf0010be59f345118e0eb7139230cadb": {
      "model_module": "@jupyter-widgets/base",
      "model_module_version": "1.2.0",
      "model_name": "LayoutModel",
      "state": {
       "grid_area": "widget005"
      }
     },
     "cf42561392114030bbda55e311243bdf": {
      "model_module": "@jupyter-widgets/base",
      "model_module_version": "1.2.0",
      "model_name": "LayoutModel",
      "state": {
       "grid_area": "widget001"
      }
     },
     "cf8f63e7b94b4107a826448cd8d76f72": {
      "model_module": "@jupyter-widgets/base",
      "model_module_version": "1.2.0",
      "model_name": "LayoutModel",
      "state": {
       "grid_area": "widget001"
      }
     },
     "cfbb3d894a6c4cd8af517bb3f90aa052": {
      "model_module": "@jupyter-widgets/controls",
      "model_module_version": "1.5.0",
      "model_name": "ButtonModel",
      "state": {
       "description": "Search",
       "icon": "search",
       "layout": "IPY_MODEL_f9e6d065a5c74a12ae6c4c22189ec990",
       "style": "IPY_MODEL_877921250726420d9b9562b61e2fb360",
       "tooltip": "Search"
      }
     },
     "cfff16a0a4394ace87f7a7e3c79de1bb": {
      "model_module": "@jupyter-widgets/controls",
      "model_module_version": "1.5.0",
      "model_name": "DatePickerModel",
      "state": {
       "description": "Pick a Date:",
       "disabled": false,
       "layout": "IPY_MODEL_dc3c989625d44a7590c771ee0f03236a",
       "style": "IPY_MODEL_12b90d3572814f0c91c37152ac584cdf"
      }
     },
     "d011e02f7425431cb1c99239ff2599f7": {
      "model_module": "@jupyter-widgets/controls",
      "model_module_version": "1.5.0",
      "model_name": "DescriptionStyleModel",
      "state": {
       "description_width": "initial"
      }
     },
     "d060520069884e3bae6e805f5bbb5bfe": {
      "model_module": "@jupyter-widgets/controls",
      "model_module_version": "1.5.0",
      "model_name": "DescriptionStyleModel",
      "state": {
       "description_width": ""
      }
     },
     "d09ed67199fd4084b2ea789dc64d3b0c": {
      "model_module": "@jupyter-widgets/controls",
      "model_module_version": "1.5.0",
      "model_name": "DescriptionStyleModel",
      "state": {
       "description_width": "initial"
      }
     },
     "d0aefa5ee198462398fd05a536eb5ee4": {
      "model_module": "@jupyter-widgets/base",
      "model_module_version": "1.2.0",
      "model_name": "LayoutModel",
      "state": {
       "grid_template_areas": "\"widget001 .\"\n\"widget002 .\"\n\"widget003 .\"\n\"widget004 .\"\n\"widget005 .\"\n\"widget006 widget006\"",
       "grid_template_columns": "repeat(2, 1fr)",
       "grid_template_rows": "repeat(6, 1fr)"
      }
     },
     "d0b03c549e9a4d31ae27c8a34092c23b": {
      "model_module": "@jupyter-widgets/controls",
      "model_module_version": "1.5.0",
      "model_name": "DescriptionStyleModel",
      "state": {
       "description_width": ""
      }
     },
     "d0dde53a9dab4ae998e3fd282bc1cbbd": {
      "model_module": "@jupyter-widgets/controls",
      "model_module_version": "1.5.0",
      "model_name": "TextModel",
      "state": {
       "description": "Ticker/Entity Name:*",
       "layout": "IPY_MODEL_92f483763d1b47238829b02933c5191b",
       "placeholder": "Enter..",
       "style": "IPY_MODEL_a37f023d96e94c109ab727d3a9063760",
       "value": "amazon"
      }
     },
     "d1165ce8c6e149769dcbaff706b7eb3b": {
      "model_module": "@jupyter-widgets/controls",
      "model_module_version": "1.5.0",
      "model_name": "DatePickerModel",
      "state": {
       "description": "Pick a Date:",
       "disabled": false,
       "layout": "IPY_MODEL_874539a5c6ed4548aadee194b7f018f7",
       "style": "IPY_MODEL_b296d142deba45558d58fd52f37547c8"
      }
     },
     "d118ae790b984df28031e84a9c674f66": {
      "model_module": "@jupyter-widgets/base",
      "model_module_version": "1.2.0",
      "model_name": "LayoutModel",
      "state": {
       "grid_area": "widget006"
      }
     },
     "d11ef84c429143f1b87d90d8f6a9f280": {
      "model_module": "@jupyter-widgets/controls",
      "model_module_version": "1.5.0",
      "model_name": "DescriptionStyleModel",
      "state": {
       "description_width": "initial"
      }
     },
     "d1255f3b988a4f28b699faefda08261b": {
      "model_module": "@jupyter-widgets/base",
      "model_module_version": "1.2.0",
      "model_name": "LayoutModel",
      "state": {
       "grid_area": "widget006"
      }
     },
     "d19ec0eafdd5461fadfe4c21fb382650": {
      "model_module": "@jupyter-widgets/base",
      "model_module_version": "1.2.0",
      "model_name": "LayoutModel",
      "state": {
       "grid_area": "widget007"
      }
     },
     "d1bd32f9422d452e8ff894bace898dd8": {
      "model_module": "@jupyter-widgets/controls",
      "model_module_version": "1.5.0",
      "model_name": "DropdownModel",
      "state": {
       "_options_labels": [
        "Income Statement",
        "Balance Sheet",
        "Statements of Cash Flow",
        "Statements of Convertible Preferred Stock and Stockholder’s Equity"
       ],
       "description": "Financial Statement:*",
       "index": 0,
       "layout": "IPY_MODEL_86220204195a412797420d82102ab230",
       "style": "IPY_MODEL_5c5bed980dae4a63a6802e6846ac7272"
      }
     },
     "d25b9853c42f414cba324441da7de75d": {
      "model_module": "@jupyter-widgets/controls",
      "model_module_version": "1.5.0",
      "model_name": "DescriptionStyleModel",
      "state": {
       "description_width": "initial"
      }
     },
     "d25dd0c056e44081baf4576fc0f26ee7": {
      "model_module": "@jupyter-widgets/controls",
      "model_module_version": "1.5.0",
      "model_name": "DescriptionStyleModel",
      "state": {
       "description_width": ""
      }
     },
     "d2a1df4e6c964031a1dda46feda8e29e": {
      "model_module": "@jupyter-widgets/controls",
      "model_module_version": "1.5.0",
      "model_name": "DescriptionStyleModel",
      "state": {
       "description_width": "initial"
      }
     },
     "d3162458cb3d44dd9af5dc45284ddf55": {
      "model_module": "@jupyter-widgets/base",
      "model_module_version": "1.2.0",
      "model_name": "LayoutModel",
      "state": {}
     },
     "d33b39850a2641258e9e867683fd3558": {
      "model_module": "@jupyter-widgets/controls",
      "model_module_version": "1.5.0",
      "model_name": "GridBoxModel",
      "state": {
       "children": [
        "IPY_MODEL_b70d8a55c4cd416da3f1e6be49f4faa1",
        "IPY_MODEL_45ce2a7598dc496ca8867f00aed2fd78",
        "IPY_MODEL_551b0101bc9b4bfbb51879c542361aa5",
        "IPY_MODEL_28f648fc312a472aa7237b7184aed27f",
        "IPY_MODEL_b7b37568aa6945a9b0c8d873f3fb7ec6",
        "IPY_MODEL_3d680cb6596e4850bb1c3a7736d1e323"
       ],
       "layout": "IPY_MODEL_978816246e7a40a6b8c31494bf8e0dd3"
      }
     },
     "d34a96ceee0c4ac8b3316f384bebfe01": {
      "model_module": "@jupyter-widgets/controls",
      "model_module_version": "1.5.0",
      "model_name": "DropdownModel",
      "state": {
       "_options_labels": [
        "Financial Statement",
        "Item"
       ],
       "description": "Required Information:",
       "index": 0,
       "layout": "IPY_MODEL_fd38c4794c4e436fb23461ab1881c5d9",
       "style": "IPY_MODEL_aa1498cc9baf40b3b1fcfa2e9ed8ffba"
      }
     },
     "d34dd3a9e054426cabc3d29048fd9a9c": {
      "model_module": "@jupyter-widgets/base",
      "model_module_version": "1.2.0",
      "model_name": "LayoutModel",
      "state": {
       "grid_area": "widget002"
      }
     },
     "d363803b6233472e8c328475e86cae41": {
      "model_module": "@jupyter-widgets/controls",
      "model_module_version": "1.5.0",
      "model_name": "DescriptionStyleModel",
      "state": {
       "description_width": ""
      }
     },
     "d382a2f3f92347eabe9e114491ea92f2": {
      "model_module": "@jupyter-widgets/controls",
      "model_module_version": "1.5.0",
      "model_name": "GridBoxModel",
      "state": {
       "children": [
        "IPY_MODEL_29715a88d1a444e9ac795b66ad38943f",
        "IPY_MODEL_8f847898870646c98ffbc06fa6eef175",
        "IPY_MODEL_acab8c1a6d9444c48469343654a06c09",
        "IPY_MODEL_3fcb63723c074f26bdd9335211cb1066",
        "IPY_MODEL_7a9bde03eda44d5e8752192454af8c59",
        "IPY_MODEL_cfbb3d894a6c4cd8af517bb3f90aa052"
       ],
       "layout": "IPY_MODEL_ef080361260c4a56a4ba59df6d1456ff"
      }
     },
     "d3be9c6abab54ec581cb0c7786b56730": {
      "model_module": "@jupyter-widgets/controls",
      "model_module_version": "1.5.0",
      "model_name": "DescriptionStyleModel",
      "state": {
       "description_width": ""
      }
     },
     "d3d2ec12587748a0b738c09283d43eba": {
      "model_module": "@jupyter-widgets/base",
      "model_module_version": "1.2.0",
      "model_name": "LayoutModel",
      "state": {
       "grid_area": "widget005"
      }
     },
     "d3fd17d3996940779ea93840c31a1d3f": {
      "model_module": "@jupyter-widgets/controls",
      "model_module_version": "1.5.0",
      "model_name": "ButtonModel",
      "state": {
       "description": "Search",
       "icon": "search",
       "layout": "IPY_MODEL_fb1d42950fcc4bfe8617c3e0743181ee",
       "style": "IPY_MODEL_e6665bfcce244a9ba4d9ffdf587d9e81",
       "tooltip": "Search"
      }
     },
     "d4114634183c4de2a0fbd91af6360d5c": {
      "model_module": "@jupyter-widgets/controls",
      "model_module_version": "1.5.0",
      "model_name": "DropdownModel",
      "state": {
       "_options_labels": [
        "Income Statement",
        "Balance Sheet",
        "Statements of Cash Flow",
        "Statements of Convertible Preferred Stock and Stockholder’s Equity"
       ],
       "description": "Financial Statement:*",
       "index": 0,
       "layout": "IPY_MODEL_9c4705b06deb4fba8da2b297b99b7a0a",
       "style": "IPY_MODEL_34c5be83b3de42789987f462e8e5b425"
      }
     },
     "d42910d47d6e416d9bcadccad6a96ec0": {
      "model_module": "@jupyter-widgets/controls",
      "model_module_version": "1.5.0",
      "model_name": "DropdownModel",
      "state": {
       "_options_labels": [
        "Income Statement",
        "Balance Sheet",
        "Statements of Cash Flow",
        "Statements of Convertible Preferred Stock and Stockholder’s Equity"
       ],
       "description": "Financial Statement:*",
       "index": 0,
       "layout": "IPY_MODEL_e7cc45fb4a0342e8a1c4048db8947b3e",
       "style": "IPY_MODEL_caf56f9293724967a08936d5a6450388"
      }
     },
     "d445ae809b30499dbf2fc51838052d81": {
      "model_module": "@jupyter-widgets/controls",
      "model_module_version": "1.5.0",
      "model_name": "DescriptionStyleModel",
      "state": {
       "description_width": ""
      }
     },
     "d46fdec8e4a142f88b73b28ba64137ea": {
      "model_module": "@jupyter-widgets/base",
      "model_module_version": "1.2.0",
      "model_name": "LayoutModel",
      "state": {
       "grid_template_areas": "\"widget001 .\"\n\"widget002 .\"\n\"widget003 .\"\n\"widget004 .\"\n\"widget005 .\"\n\"widget006 widget006\"",
       "grid_template_columns": "repeat(2, 1fr)",
       "grid_template_rows": "repeat(6, 1fr)"
      }
     },
     "d4778188c35f4bccac1f512d24111617": {
      "model_module": "@jupyter-widgets/controls",
      "model_module_version": "1.5.0",
      "model_name": "DropdownModel",
      "state": {
       "_options_labels": [
        "Financial Statement",
        "Item"
       ],
       "description": "Required Information:*",
       "index": 0,
       "layout": "IPY_MODEL_cb62e97079914b939a5f92b9158c8d96",
       "style": "IPY_MODEL_0daf64ed2dd94beb8ba78c16dda73711"
      }
     },
     "d4867ee5e8b1419eaf895303e2dcf6ea": {
      "model_module": "@jupyter-widgets/controls",
      "model_module_version": "1.5.0",
      "model_name": "ButtonModel",
      "state": {
       "description": "Search",
       "icon": "search",
       "layout": "IPY_MODEL_56ffc7ab2a9b4b79828ae588ed20071d",
       "style": "IPY_MODEL_09fc2c74a27244bd8352acdc2f77bdc2",
       "tooltip": "Search"
      }
     },
     "d4c17884e31d4a32b5a6d788e52f3137": {
      "model_module": "@jupyter-widgets/base",
      "model_module_version": "1.2.0",
      "model_name": "LayoutModel",
      "state": {
       "grid_area": "widget003"
      }
     },
     "d51370df806040d1a37f358d1cb05ea8": {
      "model_module": "@jupyter-widgets/controls",
      "model_module_version": "1.5.0",
      "model_name": "DescriptionStyleModel",
      "state": {
       "description_width": ""
      }
     },
     "d58c82e3040a4441a25235e0712277ef": {
      "model_module": "@jupyter-widgets/base",
      "model_module_version": "1.2.0",
      "model_name": "LayoutModel",
      "state": {
       "grid_area": "widget006"
      }
     },
     "d591bfc86866448389543e29595809a3": {
      "model_module": "@jupyter-widgets/base",
      "model_module_version": "1.2.0",
      "model_name": "LayoutModel",
      "state": {
       "grid_area": "widget004"
      }
     },
     "d5ad780bab2942078bfaa7c7c91cd8c5": {
      "model_module": "@jupyter-widgets/controls",
      "model_module_version": "1.5.0",
      "model_name": "DropdownModel",
      "state": {
       "_options_labels": [
        "Income Statement",
        "Balance Sheet",
        "Statements of Cash Flow",
        "Statements of Convertible Preferred Stock and Stockholder’s Equity"
       ],
       "description": "Financial Statement:*",
       "index": 0,
       "layout": "IPY_MODEL_a0525882dea04025b1f62594cd1e268d",
       "style": "IPY_MODEL_3d93708da71e42e3a4f58c81bc409475"
      }
     },
     "d5bc815bcd7341c4b7828ae5df9ee412": {
      "model_module": "@jupyter-widgets/controls",
      "model_module_version": "1.5.0",
      "model_name": "DescriptionStyleModel",
      "state": {
       "description_width": ""
      }
     },
     "d5c423d0e1fe4f04bed7a637d30cf52b": {
      "model_module": "@jupyter-widgets/controls",
      "model_module_version": "1.5.0",
      "model_name": "DescriptionStyleModel",
      "state": {
       "description_width": ""
      }
     },
     "d5e40b8a7e7a40838def5e23bfe20c57": {
      "model_module": "@jupyter-widgets/base",
      "model_module_version": "1.2.0",
      "model_name": "LayoutModel",
      "state": {
       "grid_template_areas": "\"widget001 .\"\n\"widget002 .\"\n\"widget003 .\"\n\"widget004 .\"\n\"widget005 .\"\n\"widget006 widget006\"",
       "grid_template_columns": "repeat(2, 1fr)",
       "grid_template_rows": "repeat(6, 1fr)"
      }
     },
     "d5ea9b59022c4c1bb170b248a00f2b05": {
      "model_module": "@jupyter-widgets/controls",
      "model_module_version": "1.5.0",
      "model_name": "DescriptionStyleModel",
      "state": {
       "description_width": "initial"
      }
     },
     "d61c31b0f797429e8c794c60a01cc7df": {
      "model_module": "@jupyter-widgets/controls",
      "model_module_version": "1.5.0",
      "model_name": "DescriptionStyleModel",
      "state": {
       "description_width": "initial"
      }
     },
     "d6cf891a449e47bfb25263e82cf3c2c1": {
      "model_module": "@jupyter-widgets/controls",
      "model_module_version": "1.5.0",
      "model_name": "ButtonModel",
      "state": {
       "description": "Search",
       "icon": "search",
       "layout": "IPY_MODEL_744707f8a3f041908e917a35f6428ae7",
       "style": "IPY_MODEL_8d734aa50c484ed5906d568b3f7b781c",
       "tooltip": "Search"
      }
     },
     "d7204567610b4035a3f8cb9b07b5097f": {
      "model_module": "@jupyter-widgets/controls",
      "model_module_version": "1.5.0",
      "model_name": "DropdownModel",
      "state": {
       "_options_labels": [
        "Financial Statement",
        "Item"
       ],
       "description": "Required Information:",
       "index": 0,
       "layout": "IPY_MODEL_63adf7dcfebc4178a2c94e0f7825d3d9",
       "style": "IPY_MODEL_4384e17cd0d14ca88a1117a45a7fe1e4"
      }
     },
     "d726f956b1cb431e89283b9ba64f22ca": {
      "model_module": "@jupyter-widgets/base",
      "model_module_version": "1.2.0",
      "model_name": "LayoutModel",
      "state": {
       "grid_area": "widget004"
      }
     },
     "d72f36e2bf4847468ee2f87e62e82f95": {
      "model_module": "@jupyter-widgets/controls",
      "model_module_version": "1.5.0",
      "model_name": "DescriptionStyleModel",
      "state": {
       "description_width": ""
      }
     },
     "d73f20d1dda942e2a7e90507c8e0332f": {
      "model_module": "@jupyter-widgets/controls",
      "model_module_version": "1.5.0",
      "model_name": "DescriptionStyleModel",
      "state": {
       "description_width": "initial"
      }
     },
     "d75a331f352942378db22c54097e9f44": {
      "model_module": "@jupyter-widgets/base",
      "model_module_version": "1.2.0",
      "model_name": "LayoutModel",
      "state": {
       "grid_area": "widget001"
      }
     },
     "d77e204747dd4f8b93cf50996ee86e3c": {
      "model_module": "@jupyter-widgets/controls",
      "model_module_version": "1.5.0",
      "model_name": "DescriptionStyleModel",
      "state": {
       "description_width": ""
      }
     },
     "d7d3b0cbebf347a88d64d9b9a3793e58": {
      "model_module": "@jupyter-widgets/base",
      "model_module_version": "1.2.0",
      "model_name": "LayoutModel",
      "state": {
       "grid_area": "widget001"
      }
     },
     "d7d494c2a69f4571ac9f21f353dbd93b": {
      "model_module": "@jupyter-widgets/controls",
      "model_module_version": "1.5.0",
      "model_name": "ButtonModel",
      "state": {
       "description": "Search",
       "icon": "search",
       "layout": "IPY_MODEL_26f2709ff6a74ff7ae4296a0dd7d2576",
       "style": "IPY_MODEL_fcd7e132511240259948ed8d958ef75d",
       "tooltip": "Search"
      }
     },
     "d7fb3bc8af91419e920731aef52b9a31": {
      "model_module": "@jupyter-widgets/controls",
      "model_module_version": "1.5.0",
      "model_name": "DescriptionStyleModel",
      "state": {
       "description_width": "initial"
      }
     },
     "d83f1c7940ff4cada680c35bea4cae0c": {
      "model_module": "@jupyter-widgets/controls",
      "model_module_version": "1.5.0",
      "model_name": "DescriptionStyleModel",
      "state": {
       "description_width": "initial"
      }
     },
     "d8851faffcb849f2a8ce7645b15c6752": {
      "model_module": "@jupyter-widgets/controls",
      "model_module_version": "1.5.0",
      "model_name": "ButtonModel",
      "state": {
       "description": "Search",
       "icon": "search",
       "layout": "IPY_MODEL_919cd896a846419ca5b6ec8088ef8769",
       "style": "IPY_MODEL_ff3065ba04f34a3cad2cbb13a94c23c4",
       "tooltip": "Search"
      }
     },
     "d8c4e38514ac4b359df937624a00ebb4": {
      "model_module": "@jupyter-widgets/base",
      "model_module_version": "1.2.0",
      "model_name": "LayoutModel",
      "state": {
       "grid_template_areas": "\"widget001 .\"\n\"widget002 .\"\n\"widget003 .\"\n\"widget004 .\"\n\"widget005 .\"\n\"widget006 .\"\n\"widget007 widget007\"",
       "grid_template_columns": "repeat(2, 1fr)",
       "grid_template_rows": "repeat(7, 1fr)"
      }
     },
     "d90af34e5cdc462db4b42e55b1e784b5": {
      "model_module": "@jupyter-widgets/controls",
      "model_module_version": "1.5.0",
      "model_name": "TextModel",
      "state": {
       "description": "Ticker/Entity Name:*",
       "layout": "IPY_MODEL_df4d1ff1961f4a4faac51f1f33efb1a5",
       "placeholder": "Enter..",
       "style": "IPY_MODEL_4c30c1c53e3a4667a22bccc58026bf8e"
      }
     },
     "d93c58bd6a5a476b9fd9177233ba3d73": {
      "model_module": "@jupyter-widgets/base",
      "model_module_version": "1.2.0",
      "model_name": "LayoutModel",
      "state": {}
     },
     "d95b3233563b4e8f86fb359347f459a4": {
      "model_module": "@jupyter-widgets/controls",
      "model_module_version": "1.5.0",
      "model_name": "DatePickerModel",
      "state": {
       "description": "Pick a Date:",
       "disabled": false,
       "layout": "IPY_MODEL_8deb8d337cb74631975528d639a640e8",
       "style": "IPY_MODEL_fedf4027c96444c5aea4868176c9fe84"
      }
     },
     "d9658c8bca2a4489ae4e0d3e81e14034": {
      "model_module": "@jupyter-widgets/controls",
      "model_module_version": "1.5.0",
      "model_name": "DescriptionStyleModel",
      "state": {
       "description_width": ""
      }
     },
     "d9c3af4dab824ee1b385319c2b1cc30f": {
      "model_module": "@jupyter-widgets/base",
      "model_module_version": "1.2.0",
      "model_name": "LayoutModel",
      "state": {
       "grid_area": "widget003"
      }
     },
     "d9ed3417a9af48e185b1931090a20028": {
      "model_module": "@jupyter-widgets/base",
      "model_module_version": "1.2.0",
      "model_name": "LayoutModel",
      "state": {
       "grid_area": "widget005"
      }
     },
     "da0a13e1accd4d94b5e1b97dbbebafad": {
      "model_module": "@jupyter-widgets/controls",
      "model_module_version": "1.5.0",
      "model_name": "DescriptionStyleModel",
      "state": {
       "description_width": "initial"
      }
     },
     "da0cd7e276e64fa19efb51b654dbc34e": {
      "model_module": "@jupyter-widgets/base",
      "model_module_version": "1.2.0",
      "model_name": "LayoutModel",
      "state": {
       "grid_area": "widget005"
      }
     },
     "da18e43bc8c84d04bea7c2346d3b279d": {
      "model_module": "@jupyter-widgets/controls",
      "model_module_version": "1.5.0",
      "model_name": "ComboboxModel",
      "state": {
       "description": "Filing Type:",
       "ensure_option": true,
       "layout": "IPY_MODEL_04ee9bb1f6d44afa89bfa3bfd886cc6e",
       "options": [
        "",
        "10-Q",
        "10-K",
        "10-Q/A",
        "10-QSB",
        "10-QT",
        "10-QT/A",
        "10-QSB",
        "10-QSB/A",
        "10-QSB12B",
        "10-K/A",
        "10-K405",
        "10-K405/A",
        "10-KSB",
        "10-KT",
        "10-KT/A"
       ],
       "placeholder": "Enter..",
       "style": "IPY_MODEL_0b68026fc56540f080f424c223738161",
       "value": "10-K"
      }
     },
     "da3904f183b04bfe90b2155923d54918": {
      "model_module": "@jupyter-widgets/controls",
      "model_module_version": "1.5.0",
      "model_name": "DescriptionStyleModel",
      "state": {
       "description_width": ""
      }
     },
     "da3e1b07a4ac4623823bac679e757bdd": {
      "model_module": "@jupyter-widgets/controls",
      "model_module_version": "1.5.0",
      "model_name": "DatePickerModel",
      "state": {
       "description": "Pick a Date:",
       "disabled": false,
       "layout": "IPY_MODEL_0769e20fbbe44069bbe6a8bc8ec60ddd",
       "style": "IPY_MODEL_6bb42746e30f4bddb7d55eb064be1f6f"
      }
     },
     "da6fec54185042bcac7414dbb40d58e7": {
      "model_module": "@jupyter-widgets/controls",
      "model_module_version": "1.5.0",
      "model_name": "DescriptionStyleModel",
      "state": {
       "description_width": "initial"
      }
     },
     "da893c0df4844febb6182301f809a436": {
      "model_module": "@jupyter-widgets/controls",
      "model_module_version": "1.5.0",
      "model_name": "GridBoxModel",
      "state": {
       "children": [
        "IPY_MODEL_fd11ffa4b8b84f11a4922b9d2ea4ce6d",
        "IPY_MODEL_f464333411c24a2ea2382f642c30084b",
        "IPY_MODEL_154d616d17ac4662bd5c8ac37f11cac5",
        "IPY_MODEL_39aa3e5b254c40f594958cc84ad38094",
        "IPY_MODEL_cccb906c8f2e446695009b0b8e2c61e5",
        "IPY_MODEL_bd5bffa70bac408c8320a3c87fec457a"
       ],
       "layout": "IPY_MODEL_9892aa7939394fe5854b48e3a789a193"
      }
     },
     "dabcb2da62bc4a9a8af3a90f36e87a1f": {
      "model_module": "@jupyter-widgets/controls",
      "model_module_version": "1.5.0",
      "model_name": "GridBoxModel",
      "state": {
       "children": [
        "IPY_MODEL_3bd700c55ac64909a96cece298da5fc4",
        "IPY_MODEL_1743a255db6a444a8ae2599aa5a253e0",
        "IPY_MODEL_7e11cbdb581d4317ab303a6a49f2e31d",
        "IPY_MODEL_ac7a8422256e4ca8b165fb8e174ac5f3",
        "IPY_MODEL_468289ed6b8f4ae1a9677c8c0b0879d2",
        "IPY_MODEL_c00aa9c9d8e7473daa55c50f1c6bfd70"
       ],
       "layout": "IPY_MODEL_cc56da861f934c519b9cbd73357e9d27"
      }
     },
     "db35dd1fa66d427b9a4da9755bf7530e": {
      "model_module": "@jupyter-widgets/controls",
      "model_module_version": "1.5.0",
      "model_name": "DescriptionStyleModel",
      "state": {
       "description_width": ""
      }
     },
     "db48844f6a5f495a903981ff2a04b921": {
      "model_module": "@jupyter-widgets/base",
      "model_module_version": "1.2.0",
      "model_name": "LayoutModel",
      "state": {
       "grid_area": "widget004"
      }
     },
     "dbb3f90d407a48cf983aff1e4e62b3ed": {
      "model_module": "@jupyter-widgets/controls",
      "model_module_version": "1.5.0",
      "model_name": "DatePickerModel",
      "state": {
       "description": "Pick a Date:",
       "disabled": false,
       "layout": "IPY_MODEL_da0cd7e276e64fa19efb51b654dbc34e",
       "style": "IPY_MODEL_ba95053209424527a93d5912e5278112"
      }
     },
     "dbb77d97e738495dadb074ad3257c452": {
      "model_module": "@jupyter-widgets/controls",
      "model_module_version": "1.5.0",
      "model_name": "GridBoxModel",
      "state": {
       "children": [
        "IPY_MODEL_2a85b4e9dce64f25a43d715890be512a",
        "IPY_MODEL_54f741584c8a4fa3a1b584d99b75bb30",
        "IPY_MODEL_043f58d610d6422cb889feced4d39b65",
        "IPY_MODEL_99be496b91cb4128947ed2e435e52c6b",
        "IPY_MODEL_9df251677b374b4a9f0d800024e12267",
        "IPY_MODEL_f880176797534a05bdca22fb9d4721bc"
       ],
       "layout": "IPY_MODEL_f146547570af421d98892e110213fbe8"
      }
     },
     "dbd50141d20e415390d4db948ff5ed04": {
      "model_module": "@jupyter-widgets/controls",
      "model_module_version": "1.5.0",
      "model_name": "ButtonStyleModel",
      "state": {}
     },
     "dc3c989625d44a7590c771ee0f03236a": {
      "model_module": "@jupyter-widgets/base",
      "model_module_version": "1.2.0",
      "model_name": "LayoutModel",
      "state": {
       "grid_area": "widget004"
      }
     },
     "dcaddd82585e4ea4be1491b2e6064ae9": {
      "model_module": "@jupyter-widgets/base",
      "model_module_version": "1.2.0",
      "model_name": "LayoutModel",
      "state": {}
     },
     "dccd8eacf3c64e5ba9565279df921a01": {
      "model_module": "@jupyter-widgets/base",
      "model_module_version": "1.2.0",
      "model_name": "LayoutModel",
      "state": {
       "grid_area": "widget005"
      }
     },
     "dcd2c05669364eb6b9da1b7dbd9331db": {
      "model_module": "@jupyter-widgets/controls",
      "model_module_version": "1.5.0",
      "model_name": "GridBoxModel",
      "state": {
       "children": [
        "IPY_MODEL_b1097458255c44779bdd610ac917c522",
        "IPY_MODEL_4bd1c4c4a143475da34aba7234e27645",
        "IPY_MODEL_e0e06f00993d42f993a3f6b31150810c",
        "IPY_MODEL_c22c7328957f479e982894755b9d2de1",
        "IPY_MODEL_2a528f70284b434283391fce7dc8d02e",
        "IPY_MODEL_d7d494c2a69f4571ac9f21f353dbd93b"
       ],
       "layout": "IPY_MODEL_e7a4fbcc8369479f897008c1846341b8"
      }
     },
     "dd0b64240f4b4804be0910e34b51a289": {
      "model_module": "@jupyter-widgets/base",
      "model_module_version": "1.2.0",
      "model_name": "LayoutModel",
      "state": {
       "grid_area": "widget003"
      }
     },
     "dd2389feab144628b7ab3cff7c9e180a": {
      "model_module": "@jupyter-widgets/base",
      "model_module_version": "1.2.0",
      "model_name": "LayoutModel",
      "state": {
       "grid_area": "widget003"
      }
     },
     "dd2fae7900724dbba4ce42e2468efff9": {
      "model_module": "@jupyter-widgets/controls",
      "model_module_version": "1.5.0",
      "model_name": "DescriptionStyleModel",
      "state": {
       "description_width": "initial"
      }
     },
     "dd832e8b37954e48a4c3f421791728ce": {
      "model_module": "@jupyter-widgets/base",
      "model_module_version": "1.2.0",
      "model_name": "LayoutModel",
      "state": {
       "grid_area": "widget003"
      }
     },
     "de0266ff34fb40efa936e401683a112e": {
      "model_module": "@jupyter-widgets/controls",
      "model_module_version": "1.5.0",
      "model_name": "GridBoxModel",
      "state": {
       "children": [
        "IPY_MODEL_a5f029bb7ce4422aa7c780350568f211",
        "IPY_MODEL_2634ef44d96a46acb1ea94f0ef9fc8c8",
        "IPY_MODEL_d5ad780bab2942078bfaa7c7c91cd8c5",
        "IPY_MODEL_8c261fff954e406096ce6d878ecce912",
        "IPY_MODEL_a7e42c34ec614039866e7af8a598c05d",
        "IPY_MODEL_b7865c25cd844995a843d489d34cc263"
       ],
       "layout": "IPY_MODEL_a9c2889c37ee4c358f73d00e09e1cff3"
      }
     },
     "de60d599478243ffba792fa3e4a3f1d8": {
      "model_module": "@jupyter-widgets/controls",
      "model_module_version": "1.5.0",
      "model_name": "ButtonModel",
      "state": {
       "description": "Search",
       "icon": "search",
       "layout": "IPY_MODEL_fbce629e117d45058fe6a05c6dd13915",
       "style": "IPY_MODEL_23a76936e9a44511a1029ac3fe1f5941",
       "tooltip": "Search"
      }
     },
     "dee3e1a7d7484da786ed2d7aa456f3d5": {
      "model_module": "@jupyter-widgets/controls",
      "model_module_version": "1.5.0",
      "model_name": "TextModel",
      "state": {
       "description": "Ticker/Entity Name:*",
       "layout": "IPY_MODEL_6f021c9119b4442b8474efb7a64e6597",
       "placeholder": "Enter..",
       "style": "IPY_MODEL_d73f20d1dda942e2a7e90507c8e0332f"
      }
     },
     "def9510805ba48dd97bef81cd6084bad": {
      "model_module": "@jupyter-widgets/controls",
      "model_module_version": "1.5.0",
      "model_name": "DescriptionStyleModel",
      "state": {
       "description_width": ""
      }
     },
     "df2a3c6eb8254440888b10a4261a9f79": {
      "model_module": "@jupyter-widgets/controls",
      "model_module_version": "1.5.0",
      "model_name": "DescriptionStyleModel",
      "state": {
       "description_width": "initial"
      }
     },
     "df2df70e2fd848998cbf7f0a585cc5a7": {
      "model_module": "@jupyter-widgets/controls",
      "model_module_version": "1.5.0",
      "model_name": "DescriptionStyleModel",
      "state": {
       "description_width": "initial"
      }
     },
     "df4d1ff1961f4a4faac51f1f33efb1a5": {
      "model_module": "@jupyter-widgets/base",
      "model_module_version": "1.2.0",
      "model_name": "LayoutModel",
      "state": {
       "grid_area": "widget001"
      }
     },
     "e05b6db27d6a40c6b25e5b71e6748797": {
      "model_module": "@jupyter-widgets/controls",
      "model_module_version": "1.5.0",
      "model_name": "DescriptionStyleModel",
      "state": {
       "description_width": ""
      }
     },
     "e05e0e0fce2741dc94c5b7ea9aa21eb6": {
      "model_module": "@jupyter-widgets/controls",
      "model_module_version": "1.5.0",
      "model_name": "DropdownModel",
      "state": {
       "_options_labels": [
        "Income Statement",
        "Balance Sheet",
        "Statements of Cash Flow",
        "Statements of Convertible Preferred Stock and Stockholder’s Equity"
       ],
       "description": "Financial Statement:*",
       "index": 0,
       "layout": "IPY_MODEL_1a66afd0d147469a80bbdfdf1ef64b27",
       "style": "IPY_MODEL_5c0d558919314cd3b9f0690c9683bb40"
      }
     },
     "e07d565e1deb40088937713d5d2444af": {
      "model_module": "@jupyter-widgets/base",
      "model_module_version": "1.2.0",
      "model_name": "LayoutModel",
      "state": {
       "grid_area": "widget005"
      }
     },
     "e0815e51185e46d48e6da69bd2657654": {
      "model_module": "@jupyter-widgets/base",
      "model_module_version": "1.2.0",
      "model_name": "LayoutModel",
      "state": {
       "grid_area": "widget006"
      }
     },
     "e08ac6f8fc3049b4a543c8f7c3ee9d05": {
      "model_module": "@jupyter-widgets/controls",
      "model_module_version": "1.5.0",
      "model_name": "DatePickerModel",
      "state": {
       "description": "Pick a Date:",
       "disabled": false,
       "layout": "IPY_MODEL_5546e354b6cb482d945bf98c89a51487",
       "style": "IPY_MODEL_3cd448b5c5f8462fb8d1f945d45cd053"
      }
     },
     "e0ae4277425b4702b269857e57bb2e34": {
      "model_module": "@jupyter-widgets/base",
      "model_module_version": "1.2.0",
      "model_name": "LayoutModel",
      "state": {
       "grid_area": "widget006"
      }
     },
     "e0c1114b1ce7424b998795d6620fd017": {
      "model_module": "@jupyter-widgets/controls",
      "model_module_version": "1.5.0",
      "model_name": "DescriptionStyleModel",
      "state": {
       "description_width": ""
      }
     },
     "e0e06f00993d42f993a3f6b31150810c": {
      "model_module": "@jupyter-widgets/controls",
      "model_module_version": "1.5.0",
      "model_name": "DropdownModel",
      "state": {
       "_options_labels": [
        "Income Statement",
        "Balance Sheet",
        "Statements of Cash Flow",
        "Statements of Convertible Preferred Stock and Stockholder’s Equity"
       ],
       "description": "Financial Statement:*",
       "index": 0,
       "layout": "IPY_MODEL_054671e31bc4444dafe6bc744ff5e940",
       "style": "IPY_MODEL_3dd002c3d2b74e8885477b7f8e160f0b"
      }
     },
     "e14ef63b05184301ade59ad88ba3b22e": {
      "model_module": "@jupyter-widgets/controls",
      "model_module_version": "1.5.0",
      "model_name": "ComboboxModel",
      "state": {
       "description": "Filing Type:",
       "ensure_option": true,
       "layout": "IPY_MODEL_c24e994515f4412a862e63afba642b4c",
       "options": [
        "",
        "10-Q",
        "10-K",
        "10-Q/A",
        "10-QSB",
        "10-QT",
        "10-QT/A",
        "10-QSB",
        "10-QSB/A",
        "10-QSB12B",
        "10-K/A",
        "10-K405",
        "10-K405/A",
        "10-KSB",
        "10-KT",
        "10-KT/A"
       ],
       "placeholder": "Enter..",
       "style": "IPY_MODEL_749dec7548674fadb026779aa57eaa83"
      }
     },
     "e1bf44bb5bf9445ea049437d2cc057be": {
      "model_module": "@jupyter-widgets/controls",
      "model_module_version": "1.5.0",
      "model_name": "DescriptionStyleModel",
      "state": {
       "description_width": "initial"
      }
     },
     "e1f8cf060cc8413c8c9301874e09abb3": {
      "model_module": "@jupyter-widgets/controls",
      "model_module_version": "1.5.0",
      "model_name": "DatePickerModel",
      "state": {
       "description": "Pick a Date:",
       "disabled": false,
       "layout": "IPY_MODEL_bb8f8ea9ca394f2bb31f82a200c1f5d7",
       "style": "IPY_MODEL_c3a1dceabefa467a8f15a13c58658024"
      }
     },
     "e1fad046cec94bd2a2b2d119e6f042af": {
      "model_module": "@jupyter-widgets/controls",
      "model_module_version": "1.5.0",
      "model_name": "ComboboxModel",
      "state": {
       "description": "Filing Type:",
       "ensure_option": true,
       "layout": "IPY_MODEL_bb045c6a3ace4e93a9a9a09e8b131394",
       "options": [
        "",
        "10-Q",
        "10-K",
        "10-Q/A",
        "10-QSB",
        "10-QT",
        "10-QT/A",
        "10-QSB",
        "10-QSB/A",
        "10-QSB12B",
        "10-K/A",
        "10-K405",
        "10-K405/A",
        "10-KSB",
        "10-KT",
        "10-KT/A"
       ],
       "placeholder": "Enter..",
       "style": "IPY_MODEL_a5a377c7a2ee4e12a23e2da66361294f",
       "value": "10-K"
      }
     },
     "e267ff12721a4b499a129a63dc9ba3dd": {
      "model_module": "@jupyter-widgets/controls",
      "model_module_version": "1.5.0",
      "model_name": "DropdownModel",
      "state": {
       "_options_labels": [
        "Income Statement",
        "Balance Sheet",
        "Statements of Cash Flow",
        "Statements of Convertible Preferred Stock and Stockholder’s Equity"
       ],
       "description": "Financial Statement:*",
       "index": 0,
       "layout": "IPY_MODEL_0c7aeaa43e3b4186aa7be53e710e4549",
       "style": "IPY_MODEL_88a822733c9b435e8751f07ed792a38f"
      }
     },
     "e2ac46f79bbb43c48ec00d5bdac1bfc3": {
      "model_module": "@jupyter-widgets/controls",
      "model_module_version": "1.5.0",
      "model_name": "DescriptionStyleModel",
      "state": {
       "description_width": "initial"
      }
     },
     "e2bc86be1d464f9bb968304386854a06": {
      "model_module": "@jupyter-widgets/controls",
      "model_module_version": "1.5.0",
      "model_name": "DatePickerModel",
      "state": {
       "description": "Pick a Date:",
       "disabled": false,
       "layout": "IPY_MODEL_e6d6c835f72a4ab1bc76b0f5a533ecbb",
       "style": "IPY_MODEL_c89ccb303fae4e39bbacb187393c198e"
      }
     },
     "e3f3f673f5484c1794e864ff0adcc27a": {
      "model_module": "@jupyter-widgets/base",
      "model_module_version": "1.2.0",
      "model_name": "LayoutModel",
      "state": {
       "grid_area": "widget003"
      }
     },
     "e44bb5f5f27049238f2622de94305f54": {
      "model_module": "@jupyter-widgets/controls",
      "model_module_version": "1.5.0",
      "model_name": "DropdownModel",
      "state": {
       "_options_labels": [
        "Income Statement",
        "Balance Sheet",
        "Statements of Cash Flow",
        "Statements of Convertible Preferred Stock and Stockholder’s Equity"
       ],
       "description": "Financial Statement:*",
       "index": 0,
       "layout": "IPY_MODEL_a0e13fe387524936a93aff74b83ce1c6",
       "style": "IPY_MODEL_3b19b8463f664991bf848b3083739135"
      }
     },
     "e45878835b6f498ebb602c950bbf0b54": {
      "model_module": "@jupyter-widgets/controls",
      "model_module_version": "1.5.0",
      "model_name": "DescriptionStyleModel",
      "state": {
       "description_width": "initial"
      }
     },
     "e47f946930cf4796b1f89817f83fd9f9": {
      "model_module": "@jupyter-widgets/controls",
      "model_module_version": "1.5.0",
      "model_name": "DatePickerModel",
      "state": {
       "description": "Pick a Date:",
       "disabled": false,
       "layout": "IPY_MODEL_7925f3f538c34d50bd9d96228e1af440",
       "style": "IPY_MODEL_78d3e1d4afe845f2937bf3cd9771844c"
      }
     },
     "e5367cd066ce4e73830c3b9413ecb71a": {
      "model_module": "@jupyter-widgets/controls",
      "model_module_version": "1.5.0",
      "model_name": "DescriptionStyleModel",
      "state": {
       "description_width": ""
      }
     },
     "e5656064126940f79c8158565329c85b": {
      "model_module": "@jupyter-widgets/controls",
      "model_module_version": "1.5.0",
      "model_name": "DescriptionStyleModel",
      "state": {
       "description_width": ""
      }
     },
     "e5e972027ef14a319d16ff90259cd440": {
      "model_module": "@jupyter-widgets/base",
      "model_module_version": "1.2.0",
      "model_name": "LayoutModel",
      "state": {
       "grid_template_areas": "\"widget001 .\"\n\"widget002 .\"\n\"widget003 .\"\n\"widget004 .\"\n\"widget005 .\"\n\"widget006 widget006\"",
       "grid_template_columns": "repeat(2, 1fr)",
       "grid_template_rows": "repeat(6, 1fr)"
      }
     },
     "e6053571317947dd8f0672b4960c49d2": {
      "model_module": "@jupyter-widgets/base",
      "model_module_version": "1.2.0",
      "model_name": "LayoutModel",
      "state": {
       "grid_area": "widget005"
      }
     },
     "e6054f49a77e4030b3fe623d6d2f57e7": {
      "model_module": "@jupyter-widgets/base",
      "model_module_version": "1.2.0",
      "model_name": "LayoutModel",
      "state": {
       "grid_area": "widget001"
      }
     },
     "e619aa75fbaa48a78871ae4780d507dd": {
      "model_module": "@jupyter-widgets/controls",
      "model_module_version": "1.5.0",
      "model_name": "ComboboxModel",
      "state": {
       "description": "Filing Type:",
       "ensure_option": true,
       "layout": "IPY_MODEL_8a0d1662eaa14a9d8608467d5239ebda",
       "options": [
        "",
        "10-Q",
        "10-K",
        "10-Q/A",
        "10-QSB",
        "10-QT",
        "10-QT/A",
        "10-QSB",
        "10-QSB/A",
        "10-QSB12B",
        "10-K/A",
        "10-K405",
        "10-K405/A",
        "10-KSB",
        "10-KT",
        "10-KT/A"
       ],
       "placeholder": "Enter..",
       "style": "IPY_MODEL_5e256310aa92404bbd61114fe178b0b7",
       "value": "10-K"
      }
     },
     "e6665bfcce244a9ba4d9ffdf587d9e81": {
      "model_module": "@jupyter-widgets/controls",
      "model_module_version": "1.5.0",
      "model_name": "ButtonStyleModel",
      "state": {}
     },
     "e68a1d9ffbc24cb899a4b569c5351e74": {
      "model_module": "@jupyter-widgets/controls",
      "model_module_version": "1.5.0",
      "model_name": "DescriptionStyleModel",
      "state": {
       "description_width": "initial"
      }
     },
     "e6ac2e98336a425cbdef5f1e6a7efcb8": {
      "model_module": "@jupyter-widgets/base",
      "model_module_version": "1.2.0",
      "model_name": "LayoutModel",
      "state": {
       "grid_area": "widget006"
      }
     },
     "e6b9bb66f3e74bfba4315903bad110c2": {
      "model_module": "@jupyter-widgets/controls",
      "model_module_version": "1.5.0",
      "model_name": "DatePickerModel",
      "state": {
       "description": "Pick a Date:",
       "disabled": false,
       "layout": "IPY_MODEL_f1b67c3ec14d4b8fbd8c92d0b7b1f9b9",
       "style": "IPY_MODEL_213ef4485c294be394b4adef753f2967"
      }
     },
     "e6d1eab5ab244c1e9f5f25232343701b": {
      "model_module": "@jupyter-widgets/controls",
      "model_module_version": "1.5.0",
      "model_name": "DescriptionStyleModel",
      "state": {
       "description_width": "initial"
      }
     },
     "e6d6c835f72a4ab1bc76b0f5a533ecbb": {
      "model_module": "@jupyter-widgets/base",
      "model_module_version": "1.2.0",
      "model_name": "LayoutModel",
      "state": {
       "grid_area": "widget005"
      }
     },
     "e6f5da45f6354229aa36ee1087317edc": {
      "model_module": "@jupyter-widgets/controls",
      "model_module_version": "1.5.0",
      "model_name": "ComboboxModel",
      "state": {
       "description": "Filing Type:",
       "ensure_option": true,
       "layout": "IPY_MODEL_9b105ec7a60e4d27b4ee5c8f2eff9157",
       "options": [
        "",
        "10-Q",
        "10-K",
        "10-Q/A",
        "10-QSB",
        "10-QT",
        "10-QT/A",
        "10-QSB",
        "10-QSB/A",
        "10-QSB12B",
        "10-K/A",
        "10-K405",
        "10-K405/A",
        "10-KSB",
        "10-KT",
        "10-KT/A"
       ],
       "placeholder": "Enter..",
       "style": "IPY_MODEL_0786b5fcca014c129921330d80604d26"
      }
     },
     "e7071aea3e5f4983b2a19e152d9a5f1a": {
      "model_module": "@jupyter-widgets/controls",
      "model_module_version": "1.5.0",
      "model_name": "GridBoxModel",
      "state": {
       "children": [
        "IPY_MODEL_0577767c869b40778ccdd794db81a973",
        "IPY_MODEL_51e45d6540cb4e68a63edfb814e2d255",
        "IPY_MODEL_ca6f065bb6084e98a3d719a00d289a47",
        "IPY_MODEL_f23aefeebf444359a08b233145a3193a",
        "IPY_MODEL_dbb3f90d407a48cf983aff1e4e62b3ed",
        "IPY_MODEL_7d754c0c47004feeb6140a5a2b88b9a0"
       ],
       "layout": "IPY_MODEL_7dff3abb9b81419bbbd4c81e8aa9532f"
      }
     },
     "e783819100264e5a9b00edcb15e95879": {
      "model_module": "@jupyter-widgets/controls",
      "model_module_version": "1.5.0",
      "model_name": "TextModel",
      "state": {
       "description": "Ticker/Entity Name:*",
       "layout": "IPY_MODEL_e6054f49a77e4030b3fe623d6d2f57e7",
       "placeholder": "Enter..",
       "style": "IPY_MODEL_c9df078d56304e2b91cc71100baf3d0c",
       "value": "msft"
      }
     },
     "e79cb2eeed3f4b4fb08a083766647ce4": {
      "model_module": "@jupyter-widgets/base",
      "model_module_version": "1.2.0",
      "model_name": "LayoutModel",
      "state": {
       "grid_area": "widget005"
      }
     },
     "e7a4fbcc8369479f897008c1846341b8": {
      "model_module": "@jupyter-widgets/base",
      "model_module_version": "1.2.0",
      "model_name": "LayoutModel",
      "state": {
       "grid_template_areas": "\"widget001 .\"\n\"widget002 .\"\n\"widget003 .\"\n\"widget004 .\"\n\"widget005 .\"\n\"widget006 widget006\"",
       "grid_template_columns": "repeat(2, 1fr)",
       "grid_template_rows": "repeat(6, 1fr)"
      }
     },
     "e7baa063e2dd49068561ed1ce646e127": {
      "model_module": "@jupyter-widgets/controls",
      "model_module_version": "1.5.0",
      "model_name": "GridBoxModel",
      "state": {
       "children": [
        "IPY_MODEL_6adc29e386704dc18701e47b834eea22",
        "IPY_MODEL_68b9ec50b4de4c66b206cd7e7b40f5a0",
        "IPY_MODEL_7b7da8fadc1a41f98792f0885497c639",
        "IPY_MODEL_9cb63b0482294e91a21c287f579d8be3",
        "IPY_MODEL_ab742d123be847d0ae9f6910fc1a848c",
        "IPY_MODEL_3be9d75fc0234923a3ab70cc7515a6e9"
       ],
       "layout": "IPY_MODEL_4d0353cf28f44696b29bfc51c95dfe78"
      }
     },
     "e7cc45fb4a0342e8a1c4048db8947b3e": {
      "model_module": "@jupyter-widgets/base",
      "model_module_version": "1.2.0",
      "model_name": "LayoutModel",
      "state": {
       "grid_area": "widget003"
      }
     },
     "e7fec0b08d174252b5d1cc8105f9f7cf": {
      "model_module": "@jupyter-widgets/controls",
      "model_module_version": "1.5.0",
      "model_name": "DatePickerModel",
      "state": {
       "description": "Pick a Date:",
       "disabled": false,
       "layout": "IPY_MODEL_06f7af151ae0417ebe01e57e446f746c",
       "style": "IPY_MODEL_21e2504f2d6846d78f21cb7cae83f5c4"
      }
     },
     "e832f1c4f8714632b342e1ba1f930602": {
      "model_module": "@jupyter-widgets/base",
      "model_module_version": "1.2.0",
      "model_name": "LayoutModel",
      "state": {
       "grid_area": "widget006"
      }
     },
     "e86584f0cea44e3aaf04652deb27cfdc": {
      "model_module": "@jupyter-widgets/base",
      "model_module_version": "1.2.0",
      "model_name": "LayoutModel",
      "state": {
       "grid_area": "widget007"
      }
     },
     "e893c825bcd74a7082b688d4e91102b6": {
      "model_module": "@jupyter-widgets/base",
      "model_module_version": "1.2.0",
      "model_name": "LayoutModel",
      "state": {
       "grid_area": "widget002"
      }
     },
     "e89ef5a513f7483ea335696463bf20d0": {
      "model_module": "@jupyter-widgets/controls",
      "model_module_version": "1.5.0",
      "model_name": "ComboboxModel",
      "state": {
       "description": "Filing Type:",
       "ensure_option": true,
       "layout": "IPY_MODEL_a91c442588ad42fa8bab3dc113c6108a",
       "options": [
        "",
        "10-Q",
        "10-K",
        "10-Q/A",
        "10-QSB",
        "10-QT",
        "10-QT/A",
        "10-QSB",
        "10-QSB/A",
        "10-QSB12B",
        "10-K/A",
        "10-K405",
        "10-K405/A",
        "10-KSB",
        "10-KT",
        "10-KT/A"
       ],
       "placeholder": "Enter..",
       "style": "IPY_MODEL_47e800194ea84161afba1fc07a10e5dd",
       "value": "10-K"
      }
     },
     "e8d5a8bb3a41443fb85b07e4b00d7fc6": {
      "model_module": "@jupyter-widgets/controls",
      "model_module_version": "1.5.0",
      "model_name": "GridBoxModel",
      "state": {
       "children": [
        "IPY_MODEL_4afe265df58a4438b08a66334b143683",
        "IPY_MODEL_74ac8bdb94224cc0b0e7b0efeff4a254",
        "IPY_MODEL_e927a63e94804b87b8b8a883273d75f8",
        "IPY_MODEL_e47f946930cf4796b1f89817f83fd9f9",
        "IPY_MODEL_04c785fa16cd41458868b9050a6e87d2",
        "IPY_MODEL_b94978bf75ad4b5c982cb5e3e71529a3"
       ],
       "layout": "IPY_MODEL_d5e40b8a7e7a40838def5e23bfe20c57"
      }
     },
     "e8d8ae55bcd2424c99429d301665d1f7": {
      "model_module": "@jupyter-widgets/base",
      "model_module_version": "1.2.0",
      "model_name": "LayoutModel",
      "state": {
       "grid_area": "widget002"
      }
     },
     "e914745260a24be8945e9674855fe016": {
      "model_module": "@jupyter-widgets/controls",
      "model_module_version": "1.5.0",
      "model_name": "DropdownModel",
      "state": {
       "_options_labels": [
        "Financial Statement",
        "Item"
       ],
       "description": "Required Information:*",
       "index": 0,
       "layout": "IPY_MODEL_1f4007d783d547bea96d5ced4f94f78a",
       "style": "IPY_MODEL_443746dc17be445582d0ff1e8519d554"
      }
     },
     "e927a63e94804b87b8b8a883273d75f8": {
      "model_module": "@jupyter-widgets/controls",
      "model_module_version": "1.5.0",
      "model_name": "DropdownModel",
      "state": {
       "_options_labels": [
        "Income Statement",
        "Balance Sheet",
        "Statements of Cash Flow",
        "Statements of Convertible Preferred Stock and Stockholder’s Equity"
       ],
       "description": "Financial Statement:*",
       "index": 0,
       "layout": "IPY_MODEL_0cb3ccc654d3455cb9f32ab2d14107c5",
       "style": "IPY_MODEL_9b8651937db149e593015fe919e48b2e"
      }
     },
     "e94528b60ad7409a8cacefd37f5658aa": {
      "model_module": "@jupyter-widgets/controls",
      "model_module_version": "1.5.0",
      "model_name": "ButtonStyleModel",
      "state": {}
     },
     "e9adc86fd23b436599cec4108892834e": {
      "model_module": "@jupyter-widgets/controls",
      "model_module_version": "1.5.0",
      "model_name": "TextModel",
      "state": {
       "description": "Ticker/Entity Name:*",
       "layout": "IPY_MODEL_09ffe0ee9f6f4a27b3b8553eb1056f2f",
       "placeholder": "Enter..",
       "style": "IPY_MODEL_5b3cec33c1e44751b41bc60048356b77"
      }
     },
     "e9eef37722394288851f8963d77cadb1": {
      "model_module": "@jupyter-widgets/controls",
      "model_module_version": "1.5.0",
      "model_name": "DescriptionStyleModel",
      "state": {
       "description_width": "initial"
      }
     },
     "e9f6238689804e6f8be5d449203c5581": {
      "model_module": "@jupyter-widgets/controls",
      "model_module_version": "1.5.0",
      "model_name": "ButtonStyleModel",
      "state": {}
     },
     "ea472a3289174a76bb1ab2cee152685a": {
      "model_module": "@jupyter-widgets/base",
      "model_module_version": "1.2.0",
      "model_name": "LayoutModel",
      "state": {
       "grid_area": "widget006"
      }
     },
     "ea8e13fa886f41a4827e95164701c804": {
      "model_module": "@jupyter-widgets/controls",
      "model_module_version": "1.5.0",
      "model_name": "DescriptionStyleModel",
      "state": {
       "description_width": "initial"
      }
     },
     "eaede2c02100406fab36ad8311f467af": {
      "model_module": "@jupyter-widgets/base",
      "model_module_version": "1.2.0",
      "model_name": "LayoutModel",
      "state": {
       "grid_area": "widget001"
      }
     },
     "eb56df2f6188464a9b15534d23ec22bb": {
      "model_module": "@jupyter-widgets/base",
      "model_module_version": "1.2.0",
      "model_name": "LayoutModel",
      "state": {
       "grid_area": "widget005"
      }
     },
     "eba33592187642e9adc5a3b7948e235b": {
      "model_module": "@jupyter-widgets/base",
      "model_module_version": "1.2.0",
      "model_name": "LayoutModel",
      "state": {
       "grid_area": "widget003"
      }
     },
     "ebced43f470e498e8a24c41a1ea8fe45": {
      "model_module": "@jupyter-widgets/base",
      "model_module_version": "1.2.0",
      "model_name": "LayoutModel",
      "state": {
       "grid_area": "widget004"
      }
     },
     "ebd6f6584aa64d1fb36e6d8efa10697e": {
      "model_module": "@jupyter-widgets/controls",
      "model_module_version": "1.5.0",
      "model_name": "DatePickerModel",
      "state": {
       "description": "Pick a Date:",
       "disabled": false,
       "layout": "IPY_MODEL_31a57320a742444cad35d01312a84400",
       "style": "IPY_MODEL_18780ec667ed41ec918f7a6defd747cb"
      }
     },
     "ec220db3c5284c6f95bc6904d9eff455": {
      "model_module": "@jupyter-widgets/base",
      "model_module_version": "1.2.0",
      "model_name": "LayoutModel",
      "state": {
       "grid_area": "widget001"
      }
     },
     "ec73324aeff84bfaa106611d4664bef3": {
      "model_module": "@jupyter-widgets/base",
      "model_module_version": "1.2.0",
      "model_name": "LayoutModel",
      "state": {
       "grid_template_areas": "\"widget001 .\"\n\"widget002 .\"\n\"widget003 .\"\n\"widget004 .\"\n\"widget005 .\"\n\"widget006 widget006\"",
       "grid_template_columns": "repeat(2, 1fr)",
       "grid_template_rows": "repeat(6, 1fr)"
      }
     },
     "eca946fdb8604fc2a1ad3d6af037c418": {
      "model_module": "@jupyter-widgets/controls",
      "model_module_version": "1.5.0",
      "model_name": "DescriptionStyleModel",
      "state": {
       "description_width": "initial"
      }
     },
     "ecfd66591cda4b50b6ab97414c95a300": {
      "model_module": "@jupyter-widgets/controls",
      "model_module_version": "1.5.0",
      "model_name": "DescriptionStyleModel",
      "state": {
       "description_width": "initial"
      }
     },
     "ed0a6d5661b040a19a11c3d83d1a72a5": {
      "model_module": "@jupyter-widgets/controls",
      "model_module_version": "1.5.0",
      "model_name": "DescriptionStyleModel",
      "state": {
       "description_width": ""
      }
     },
     "ed38d172c69e4903809617c13c246a78": {
      "model_module": "@jupyter-widgets/base",
      "model_module_version": "1.2.0",
      "model_name": "LayoutModel",
      "state": {
       "grid_area": "widget004"
      }
     },
     "ed438894f04f4b5583368db37090377c": {
      "model_module": "@jupyter-widgets/controls",
      "model_module_version": "1.5.0",
      "model_name": "DescriptionStyleModel",
      "state": {
       "description_width": ""
      }
     },
     "ed46083c7ff542d4a4a30f8eb0ec1ad8": {
      "model_module": "@jupyter-widgets/base",
      "model_module_version": "1.2.0",
      "model_name": "LayoutModel",
      "state": {
       "grid_area": "widget001"
      }
     },
     "ed46b8c652c6499c9d996b62d5a2b898": {
      "model_module": "@jupyter-widgets/base",
      "model_module_version": "1.2.0",
      "model_name": "LayoutModel",
      "state": {
       "grid_area": "widget002"
      }
     },
     "ed7190d246744887a07ff6e3c5b3d43d": {
      "model_module": "@jupyter-widgets/controls",
      "model_module_version": "1.5.0",
      "model_name": "ComboboxModel",
      "state": {
       "description": "Filing Type:",
       "ensure_option": true,
       "layout": "IPY_MODEL_230bea4c1018407296b3ee72bf2f9703",
       "options": [
        "",
        "10-Q",
        "10-K",
        "10-Q/A",
        "10-QSB",
        "10-QT",
        "10-QT/A",
        "10-QSB",
        "10-QSB/A",
        "10-QSB12B",
        "10-K/A",
        "10-K405",
        "10-K405/A",
        "10-KSB",
        "10-KT",
        "10-KT/A"
       ],
       "placeholder": "Enter..",
       "style": "IPY_MODEL_b83af1f5f9f641ecaf4722af934e5240"
      }
     },
     "eda21242c5ea47be91903806b992000d": {
      "model_module": "@jupyter-widgets/base",
      "model_module_version": "1.2.0",
      "model_name": "LayoutModel",
      "state": {
       "grid_area": "widget007"
      }
     },
     "edaae8d91d224f6faccbd844c86d4396": {
      "model_module": "@jupyter-widgets/base",
      "model_module_version": "1.2.0",
      "model_name": "LayoutModel",
      "state": {
       "grid_template_areas": "\"widget001 .\"\n\"widget002 .\"\n\"widget003 .\"\n\"widget004 .\"\n\"widget005 .\"\n\"widget006 .\"\n\"widget007 widget007\"",
       "grid_template_columns": "repeat(2, 1fr)",
       "grid_template_rows": "repeat(7, 1fr)"
      }
     },
     "edc449bd08f84ae8989344384c96d1d2": {
      "model_module": "@jupyter-widgets/controls",
      "model_module_version": "1.5.0",
      "model_name": "DatePickerModel",
      "state": {
       "description": "Pick a Date:",
       "disabled": false,
       "layout": "IPY_MODEL_d3162458cb3d44dd9af5dc45284ddf55",
       "style": "IPY_MODEL_0e11dd3ee5114ef381eb741f87ff75e8"
      }
     },
     "ef080361260c4a56a4ba59df6d1456ff": {
      "model_module": "@jupyter-widgets/base",
      "model_module_version": "1.2.0",
      "model_name": "LayoutModel",
      "state": {
       "grid_template_areas": "\"widget001 .\"\n\"widget002 .\"\n\"widget003 .\"\n\"widget004 .\"\n\"widget005 .\"\n\"widget006 widget006\"",
       "grid_template_columns": "repeat(2, 1fr)",
       "grid_template_rows": "repeat(6, 1fr)"
      }
     },
     "ef57ecdec7264e9aa9a79b8719e531ff": {
      "model_module": "@jupyter-widgets/controls",
      "model_module_version": "1.5.0",
      "model_name": "TextModel",
      "state": {
       "description": "Ticker/Entity Name:*",
       "layout": "IPY_MODEL_4f1133cccd7b4ada874a6c3a2f958d89",
       "placeholder": "Enter..",
       "style": "IPY_MODEL_54db108ee67847eaa60fd0f61b10df52"
      }
     },
     "ef657ef8b3c3477e9821f22f37b5bc66": {
      "model_module": "@jupyter-widgets/base",
      "model_module_version": "1.2.0",
      "model_name": "LayoutModel",
      "state": {
       "grid_area": "widget001"
      }
     },
     "ef99c36b2efe47a5a0ccdf7fefc0ad71": {
      "model_module": "@jupyter-widgets/controls",
      "model_module_version": "1.5.0",
      "model_name": "DescriptionStyleModel",
      "state": {
       "description_width": "initial"
      }
     },
     "efd965fbf34e4804a9380a2931108f21": {
      "model_module": "@jupyter-widgets/controls",
      "model_module_version": "1.5.0",
      "model_name": "DropdownModel",
      "state": {
       "_options_labels": [
        "1",
        "1A",
        "1B",
        "2",
        "3",
        "4",
        "6",
        "7",
        "7A",
        "8",
        "9",
        "9A",
        "9B",
        "10",
        "11",
        "12",
        "13",
        "14",
        "2.1",
        "2.1A",
        "2.2",
        "2.3",
        "2.4",
        "2.5"
       ],
       "description": "Document Section:*",
       "index": 0,
       "layout": "IPY_MODEL_6c0b32950c29441fa8e908374b3b3c8c",
       "style": "IPY_MODEL_9f59af50499045e28bf5426a5fd305bb"
      }
     },
     "f00c7d535aff470cbf9f9a56650e1512": {
      "model_module": "@jupyter-widgets/controls",
      "model_module_version": "1.5.0",
      "model_name": "DatePickerModel",
      "state": {
       "description": "Pick a Date:",
       "disabled": false,
       "layout": "IPY_MODEL_3d0fa35168aa4699bb488f3489b9415f",
       "style": "IPY_MODEL_c4e1833fc8004b029243ac79146fdccb"
      }
     },
     "f0348073ea7643d09d6f337bf99ee9dd": {
      "model_module": "@jupyter-widgets/controls",
      "model_module_version": "1.5.0",
      "model_name": "DropdownModel",
      "state": {
       "_options_labels": [
        "Income Statement",
        "Balance Sheet",
        "Statements of Cash Flow",
        "Statements of Convertible Preferred Stock and Stockholder’s Equity"
       ],
       "description": "Financial Statement:*",
       "index": 0,
       "layout": "IPY_MODEL_6403fb2fe2cf4744973bb486ffe5d543",
       "style": "IPY_MODEL_d7fb3bc8af91419e920731aef52b9a31"
      }
     },
     "f0f3200c7de5488a8aa4b85a06159430": {
      "model_module": "@jupyter-widgets/controls",
      "model_module_version": "1.5.0",
      "model_name": "DatePickerModel",
      "state": {
       "description": "Pick a Date:",
       "disabled": false,
       "layout": "IPY_MODEL_4fdbb74bf7f549b59a9db39bbb15f7ae",
       "style": "IPY_MODEL_404a3e697c304ab08e857373d3de5758"
      }
     },
     "f11484a8ce6f457f96a8036ecf8fcb58": {
      "model_module": "@jupyter-widgets/controls",
      "model_module_version": "1.5.0",
      "model_name": "DatePickerModel",
      "state": {
       "description": "Pick a Date:",
       "disabled": false,
       "layout": "IPY_MODEL_3579b5890a42453d8fc53f3e31ae3e0a",
       "style": "IPY_MODEL_ac784b3fbdff4315a1e16f36e36de720"
      }
     },
     "f1448786f3004f1cb4ca79a4e7e9c44e": {
      "model_module": "@jupyter-widgets/controls",
      "model_module_version": "1.5.0",
      "model_name": "DescriptionStyleModel",
      "state": {
       "description_width": ""
      }
     },
     "f146547570af421d98892e110213fbe8": {
      "model_module": "@jupyter-widgets/base",
      "model_module_version": "1.2.0",
      "model_name": "LayoutModel",
      "state": {
       "grid_template_areas": "\"widget001 .\"\n\"widget002 .\"\n\"widget003 .\"\n\"widget004 .\"\n\"widget005 .\"\n\"widget006 widget006\"",
       "grid_template_columns": "repeat(2, 1fr)",
       "grid_template_rows": "repeat(6, 1fr)"
      }
     },
     "f17c479cc78f4722a24c97189e35a558": {
      "model_module": "@jupyter-widgets/base",
      "model_module_version": "1.2.0",
      "model_name": "LayoutModel",
      "state": {
       "grid_area": "widget001"
      }
     },
     "f19766d9712f42f09a1a0cd2c7841d73": {
      "model_module": "@jupyter-widgets/base",
      "model_module_version": "1.2.0",
      "model_name": "LayoutModel",
      "state": {
       "grid_area": "widget004"
      }
     },
     "f1b67c3ec14d4b8fbd8c92d0b7b1f9b9": {
      "model_module": "@jupyter-widgets/base",
      "model_module_version": "1.2.0",
      "model_name": "LayoutModel",
      "state": {
       "grid_area": "widget004"
      }
     },
     "f216839a0da64b0dacbd8b90cd777702": {
      "model_module": "@jupyter-widgets/controls",
      "model_module_version": "1.5.0",
      "model_name": "ComboboxModel",
      "state": {
       "description": "Filing Type:",
       "ensure_option": true,
       "layout": "IPY_MODEL_c9022f87d0dd469db0ce69c630e24bb9",
       "options": [
        "",
        "10-Q",
        "10-K",
        "10-Q/A",
        "10-QSB",
        "10-QT",
        "10-QT/A",
        "10-QSB",
        "10-QSB/A",
        "10-QSB12B",
        "10-K/A",
        "10-K405",
        "10-K405/A",
        "10-KSB",
        "10-KT",
        "10-KT/A"
       ],
       "placeholder": "Enter..",
       "style": "IPY_MODEL_8de8a0c205c14d648dbecd0cd7fe703f"
      }
     },
     "f23aefeebf444359a08b233145a3193a": {
      "model_module": "@jupyter-widgets/controls",
      "model_module_version": "1.5.0",
      "model_name": "DatePickerModel",
      "state": {
       "description": "Pick a Date:",
       "disabled": false,
       "layout": "IPY_MODEL_c8e16942489e4472acfcabbee9dc3e4b",
       "style": "IPY_MODEL_bf89cac4d0ed40edb0b74585eea5244e"
      }
     },
     "f23d782df5104761a3f54d561d6020ad": {
      "model_module": "@jupyter-widgets/base",
      "model_module_version": "1.2.0",
      "model_name": "LayoutModel",
      "state": {
       "grid_area": "widget006"
      }
     },
     "f27f45b04bfc4f118471206ec2fe90d5": {
      "model_module": "@jupyter-widgets/controls",
      "model_module_version": "1.5.0",
      "model_name": "DescriptionStyleModel",
      "state": {
       "description_width": "initial"
      }
     },
     "f29d298ad8264af49369070d243dc9a3": {
      "model_module": "@jupyter-widgets/controls",
      "model_module_version": "1.5.0",
      "model_name": "ButtonStyleModel",
      "state": {}
     },
     "f3065fe69067448aafcfec00a4ec231f": {
      "model_module": "@jupyter-widgets/controls",
      "model_module_version": "1.5.0",
      "model_name": "ButtonModel",
      "state": {
       "description": "Search",
       "icon": "search",
       "layout": "IPY_MODEL_ba4a63a4f13a484689b7805ae327a48c",
       "style": "IPY_MODEL_03e1ef5036b643b19cac534e5116f1b8",
       "tooltip": "Search"
      }
     },
     "f348a2a6fbab4bd785151d3245c50e25": {
      "model_module": "@jupyter-widgets/controls",
      "model_module_version": "1.5.0",
      "model_name": "ButtonModel",
      "state": {
       "description": "Search",
       "icon": "search",
       "layout": "IPY_MODEL_2a8b391b29ba452494a67581c66cd523",
       "style": "IPY_MODEL_b6466f302d2543dca128c571ef1686c7",
       "tooltip": "Search"
      }
     },
     "f3b46a421e9a42c5baa36b5136f817cc": {
      "model_module": "@jupyter-widgets/controls",
      "model_module_version": "1.5.0",
      "model_name": "ButtonStyleModel",
      "state": {}
     },
     "f3bbcc3d3dd545feac99b3f88f833143": {
      "model_module": "@jupyter-widgets/base",
      "model_module_version": "1.2.0",
      "model_name": "LayoutModel",
      "state": {
       "grid_area": "widget006"
      }
     },
     "f3f8e84fea9c45efaac45a942fb7475f": {
      "model_module": "@jupyter-widgets/controls",
      "model_module_version": "1.5.0",
      "model_name": "DatePickerModel",
      "state": {
       "description": "Pick a Date:",
       "disabled": false,
       "layout": "IPY_MODEL_681dc0a51e1f4f8ea36ef635021d35ec",
       "style": "IPY_MODEL_bbafa8b7101148e9a2d59052c77ae4a4"
      }
     },
     "f45d79a39e8640efa0a867f2beb3837d": {
      "model_module": "@jupyter-widgets/controls",
      "model_module_version": "1.5.0",
      "model_name": "DescriptionStyleModel",
      "state": {
       "description_width": ""
      }
     },
     "f464333411c24a2ea2382f642c30084b": {
      "model_module": "@jupyter-widgets/controls",
      "model_module_version": "1.5.0",
      "model_name": "ComboboxModel",
      "state": {
       "description": "Filing Type:",
       "ensure_option": true,
       "layout": "IPY_MODEL_e8d8ae55bcd2424c99429d301665d1f7",
       "options": [
        "",
        "10-Q",
        "10-K",
        "10-Q/A",
        "10-QSB",
        "10-QT",
        "10-QT/A",
        "10-QSB",
        "10-QSB/A",
        "10-QSB12B",
        "10-K/A",
        "10-K405",
        "10-K405/A",
        "10-KSB",
        "10-KT",
        "10-KT/A"
       ],
       "placeholder": "Enter..",
       "style": "IPY_MODEL_694155106d5c430a8e03e4688b3e83b0",
       "value": "10-Q"
      }
     },
     "f471c2c2ef4b4a2386b83ff1a05cc456": {
      "model_module": "@jupyter-widgets/base",
      "model_module_version": "1.2.0",
      "model_name": "LayoutModel",
      "state": {
       "grid_area": "widget003"
      }
     },
     "f48c8bfc2a724b12b7e37ae9b6ff6a2d": {
      "model_module": "@jupyter-widgets/base",
      "model_module_version": "1.2.0",
      "model_name": "LayoutModel",
      "state": {
       "grid_area": "widget001"
      }
     },
     "f4ab42813b9344ddb40d99e3058396c3": {
      "model_module": "@jupyter-widgets/base",
      "model_module_version": "1.2.0",
      "model_name": "LayoutModel",
      "state": {
       "grid_area": "widget006"
      }
     },
     "f52b8436bca648cbae037f0b25f39a0b": {
      "model_module": "@jupyter-widgets/controls",
      "model_module_version": "1.5.0",
      "model_name": "ButtonStyleModel",
      "state": {}
     },
     "f5598ee3d6cf4c969a9353728776bfed": {
      "model_module": "@jupyter-widgets/controls",
      "model_module_version": "1.5.0",
      "model_name": "TextModel",
      "state": {
       "description": "Ticker/Entity Name:*",
       "layout": "IPY_MODEL_3fd0942c05a544508eba4215e8459842",
       "placeholder": "Enter..",
       "style": "IPY_MODEL_9495b0f9322c45faa2bd7f81b5537039",
       "value": "pfe"
      }
     },
     "f59b6c15630d4a868b1c3cf5386da45c": {
      "model_module": "@jupyter-widgets/controls",
      "model_module_version": "1.5.0",
      "model_name": "DescriptionStyleModel",
      "state": {
       "description_width": "initial"
      }
     },
     "f63180e3177744fa8ad7b3f10cc7e2d4": {
      "model_module": "@jupyter-widgets/base",
      "model_module_version": "1.2.0",
      "model_name": "LayoutModel",
      "state": {
       "grid_area": "widget004"
      }
     },
     "f6acf76fe29b49e99c198891604fc6a0": {
      "model_module": "@jupyter-widgets/base",
      "model_module_version": "1.2.0",
      "model_name": "LayoutModel",
      "state": {
       "grid_area": "widget001"
      }
     },
     "f6c65cf376ea450ba39e065f9ec1c410": {
      "model_module": "@jupyter-widgets/controls",
      "model_module_version": "1.5.0",
      "model_name": "DescriptionStyleModel",
      "state": {
       "description_width": "initial"
      }
     },
     "f6d12c7f8204457fbff5aa8af9aafdd2": {
      "model_module": "@jupyter-widgets/controls",
      "model_module_version": "1.5.0",
      "model_name": "DescriptionStyleModel",
      "state": {
       "description_width": ""
      }
     },
     "f73837bf26c241519d5a1519e469b402": {
      "model_module": "@jupyter-widgets/controls",
      "model_module_version": "1.5.0",
      "model_name": "ButtonModel",
      "state": {
       "description": "Search",
       "icon": "search",
       "layout": "IPY_MODEL_34641f8670694e45a4b8468079337188",
       "style": "IPY_MODEL_4ef82772d4d54aaf817de556f8aca4d4",
       "tooltip": "Search"
      }
     },
     "f74deb0cfc174554848e4d8e3d7cf09f": {
      "model_module": "@jupyter-widgets/controls",
      "model_module_version": "1.5.0",
      "model_name": "GridBoxModel",
      "state": {
       "children": [
        "IPY_MODEL_12afe4fbd93c4674a614b3523ce11ce1",
        "IPY_MODEL_4f1a5d7b10724ce395246d0ee83a3e11",
        "IPY_MODEL_06b7ebc8d47a447ab2e6b69a71c3f768",
        "IPY_MODEL_8348ac0e3ecb455898bdd7b01dee8229",
        "IPY_MODEL_9748c0eb92944cb8a82221da217c9a2e",
        "IPY_MODEL_d4867ee5e8b1419eaf895303e2dcf6ea"
       ],
       "layout": "IPY_MODEL_4c5ddd2f832f4861b1f572ed2d324843"
      }
     },
     "f763a21e36d24eddb40d8c9986989a60": {
      "model_module": "@jupyter-widgets/controls",
      "model_module_version": "1.5.0",
      "model_name": "DescriptionStyleModel",
      "state": {
       "description_width": ""
      }
     },
     "f78c442df8e9497d9423ece19050b706": {
      "model_module": "@jupyter-widgets/controls",
      "model_module_version": "1.5.0",
      "model_name": "DescriptionStyleModel",
      "state": {
       "description_width": ""
      }
     },
     "f7a1eecbdb994b6190c458a67984f01f": {
      "model_module": "@jupyter-widgets/controls",
      "model_module_version": "1.5.0",
      "model_name": "DescriptionStyleModel",
      "state": {
       "description_width": ""
      }
     },
     "f7b18a84a0fe47bc80dee1992d9b1141": {
      "model_module": "@jupyter-widgets/controls",
      "model_module_version": "1.5.0",
      "model_name": "ButtonModel",
      "state": {
       "description": "Search",
       "icon": "search",
       "layout": "IPY_MODEL_96114bb0f0874d009590a992346d80f2",
       "style": "IPY_MODEL_8709ca2979a347f6a8affa11bb6b10b6",
       "tooltip": "Search"
      }
     },
     "f7b31710f6a2492ab6b5000a176e0821": {
      "model_module": "@jupyter-widgets/controls",
      "model_module_version": "1.5.0",
      "model_name": "ButtonModel",
      "state": {
       "description": "Search",
       "icon": "search",
       "layout": "IPY_MODEL_bc43c090c84e4362ad728b56eb260e24",
       "style": "IPY_MODEL_f52b8436bca648cbae037f0b25f39a0b",
       "tooltip": "Search"
      }
     },
     "f7cfb15655164e17b71dffdfcf26d8ef": {
      "model_module": "@jupyter-widgets/controls",
      "model_module_version": "1.5.0",
      "model_name": "DatePickerModel",
      "state": {
       "description": "Pick a Date:",
       "disabled": false,
       "layout": "IPY_MODEL_38fcbd30a3cd4be9b685dda1f3bcfeac",
       "style": "IPY_MODEL_b08ce9e2d6834eb5a79d748854cf81cf"
      }
     },
     "f7ec9277d5a04642aa9230f951ce2a13": {
      "model_module": "@jupyter-widgets/base",
      "model_module_version": "1.2.0",
      "model_name": "LayoutModel",
      "state": {
       "grid_template_areas": "\"widget001 .\"\n\"widget002 .\"\n\"widget003 .\"\n\"widget004 .\"\n\"widget005 .\"\n\"widget006 widget006\"",
       "grid_template_columns": "repeat(2, 1fr)",
       "grid_template_rows": "repeat(6, 1fr)"
      }
     },
     "f7f1109ec0db4187882bb8eb73efe166": {
      "model_module": "@jupyter-widgets/base",
      "model_module_version": "1.2.0",
      "model_name": "LayoutModel",
      "state": {
       "grid_area": "widget005"
      }
     },
     "f83ad9ce40cd40e0b475a0fe068e5bf8": {
      "model_module": "@jupyter-widgets/base",
      "model_module_version": "1.2.0",
      "model_name": "LayoutModel",
      "state": {
       "grid_area": "widget002"
      }
     },
     "f844a5b96f4146d4945516340cbf702e": {
      "model_module": "@jupyter-widgets/base",
      "model_module_version": "1.2.0",
      "model_name": "LayoutModel",
      "state": {
       "grid_area": "widget007"
      }
     },
     "f846ab4feee64df181d24cd6782f7a08": {
      "model_module": "@jupyter-widgets/controls",
      "model_module_version": "1.5.0",
      "model_name": "DescriptionStyleModel",
      "state": {
       "description_width": ""
      }
     },
     "f880176797534a05bdca22fb9d4721bc": {
      "model_module": "@jupyter-widgets/controls",
      "model_module_version": "1.5.0",
      "model_name": "ButtonModel",
      "state": {
       "description": "Search",
       "icon": "search",
       "layout": "IPY_MODEL_c13b88ea6a7d4a42be601121a4f72780",
       "style": "IPY_MODEL_4c92cde128b04f7c8c209690cf6bf510",
       "tooltip": "Search"
      }
     },
     "f88673779c044d5d810275d5b4b46a2a": {
      "model_module": "@jupyter-widgets/controls",
      "model_module_version": "1.5.0",
      "model_name": "DropdownModel",
      "state": {
       "_options_labels": [
        "Income Statement",
        "Balance Sheet",
        "Statements of Cash Flow",
        "Statements of Convertible Preferred Stock and Stockholder’s Equity"
       ],
       "description": "Financial Statement:*",
       "index": 0,
       "layout": "IPY_MODEL_766f3ff30457440c9c60b00829519d8d",
       "style": "IPY_MODEL_b6d5b2dbf5114eaea9a2bcd3243fb51c"
      }
     },
     "f8aaa91bcfbc4529bcae1e68c9e2cac8": {
      "model_module": "@jupyter-widgets/controls",
      "model_module_version": "1.5.0",
      "model_name": "ButtonModel",
      "state": {
       "description": "Search",
       "icon": "search",
       "layout": "IPY_MODEL_b0cd31c2313747999aa301e58b215ed9",
       "style": "IPY_MODEL_7e2cd566a04f40969cc5dc4b78b79e4e",
       "tooltip": "Search"
      }
     },
     "f8b84fde570249e7aff63e2418f51ac7": {
      "model_module": "@jupyter-widgets/base",
      "model_module_version": "1.2.0",
      "model_name": "LayoutModel",
      "state": {
       "grid_area": "widget002"
      }
     },
     "f8d10b1cd3704d3a9da2352229149744": {
      "model_module": "@jupyter-widgets/controls",
      "model_module_version": "1.5.0",
      "model_name": "DatePickerModel",
      "state": {
       "description": "Pick a Date:",
       "disabled": false,
       "layout": "IPY_MODEL_7d6a0ea9ca124df2b7d2ea832156ec13",
       "style": "IPY_MODEL_8efb764b0e6442d8a7ff45adfde627fc"
      }
     },
     "f9035f06c9994a48955ea7c4c9c56395": {
      "model_module": "@jupyter-widgets/controls",
      "model_module_version": "1.5.0",
      "model_name": "DescriptionStyleModel",
      "state": {
       "description_width": ""
      }
     },
     "f992a45fad9443ba9134fee3d8ba0f50": {
      "model_module": "@jupyter-widgets/base",
      "model_module_version": "1.2.0",
      "model_name": "LayoutModel",
      "state": {
       "grid_area": "widget003"
      }
     },
     "f9a4051eabce48d2a0972df20b014b42": {
      "model_module": "@jupyter-widgets/base",
      "model_module_version": "1.2.0",
      "model_name": "LayoutModel",
      "state": {
       "grid_area": "widget003"
      }
     },
     "f9d8b7997c2e4463a7a76f66dbadd4c1": {
      "model_module": "@jupyter-widgets/base",
      "model_module_version": "1.2.0",
      "model_name": "LayoutModel",
      "state": {}
     },
     "f9db051addc84bf28c87862a6e1223da": {
      "model_module": "@jupyter-widgets/controls",
      "model_module_version": "1.5.0",
      "model_name": "DescriptionStyleModel",
      "state": {
       "description_width": ""
      }
     },
     "f9e6d065a5c74a12ae6c4c22189ec990": {
      "model_module": "@jupyter-widgets/base",
      "model_module_version": "1.2.0",
      "model_name": "LayoutModel",
      "state": {
       "grid_area": "widget006"
      }
     },
     "fa717b26ffd34a9893d8157909469266": {
      "model_module": "@jupyter-widgets/controls",
      "model_module_version": "1.5.0",
      "model_name": "ButtonStyleModel",
      "state": {}
     },
     "fa7680e5cf25490b985a9b91fd2ed327": {
      "model_module": "@jupyter-widgets/controls",
      "model_module_version": "1.5.0",
      "model_name": "ButtonModel",
      "state": {
       "description": "Search",
       "icon": "search",
       "layout": "IPY_MODEL_01b6bc03daf343a2875dceb3576d1b35",
       "style": "IPY_MODEL_c9e9459342df4948aaa2f954cf1f2b1e",
       "tooltip": "Search"
      }
     },
     "fa94b6cb45b945d6814cd5eb04fdd546": {
      "model_module": "@jupyter-widgets/base",
      "model_module_version": "1.2.0",
      "model_name": "LayoutModel",
      "state": {
       "grid_area": "widget001"
      }
     },
     "faaf1a9bd10344f8b816ccb4eaa92fe1": {
      "model_module": "@jupyter-widgets/base",
      "model_module_version": "1.2.0",
      "model_name": "LayoutModel",
      "state": {
       "grid_area": "widget006"
      }
     },
     "fb1d42950fcc4bfe8617c3e0743181ee": {
      "model_module": "@jupyter-widgets/base",
      "model_module_version": "1.2.0",
      "model_name": "LayoutModel",
      "state": {
       "grid_area": "widget007"
      }
     },
     "fb336cb95f1c4c44a6e55937aedae529": {
      "model_module": "@jupyter-widgets/controls",
      "model_module_version": "1.5.0",
      "model_name": "DatePickerModel",
      "state": {
       "description": "Pick a Date:",
       "disabled": false,
       "layout": "IPY_MODEL_610f7c5b03cf45789f24a393b9dccc11",
       "style": "IPY_MODEL_fca427c1d7a54e999946b74dfc7843b8"
      }
     },
     "fb49de9c26274b7182b87757f2152436": {
      "model_module": "@jupyter-widgets/controls",
      "model_module_version": "1.5.0",
      "model_name": "DatePickerModel",
      "state": {
       "description": "Pick a Date:",
       "disabled": false,
       "layout": "IPY_MODEL_d1255f3b988a4f28b699faefda08261b",
       "style": "IPY_MODEL_8f3b91d5b32c41c3803e7cda387b3965"
      }
     },
     "fbbf54fa701947bf81bebf2c1ebadcda": {
      "model_module": "@jupyter-widgets/controls",
      "model_module_version": "1.5.0",
      "model_name": "DatePickerModel",
      "state": {
       "description": "Pick a Date:",
       "disabled": false,
       "layout": "IPY_MODEL_27ea0bcc23444d3c8ba00de7788b9cba",
       "style": "IPY_MODEL_a0def34009f44a6ebc3430d538fe2c0c"
      }
     },
     "fbce629e117d45058fe6a05c6dd13915": {
      "model_module": "@jupyter-widgets/base",
      "model_module_version": "1.2.0",
      "model_name": "LayoutModel",
      "state": {
       "grid_area": "widget006"
      }
     },
     "fbdab16941454094b81fd609cfd910b7": {
      "model_module": "@jupyter-widgets/controls",
      "model_module_version": "1.5.0",
      "model_name": "DropdownModel",
      "state": {
       "_options_labels": [
        "Income Statement",
        "Balance Sheet",
        "Statements of Cash Flow",
        "Statements of Convertible Preferred Stock and Stockholder’s Equity"
       ],
       "description": "Financial Statement:*",
       "index": 0,
       "layout": "IPY_MODEL_03633b4321bc4b0e88b41f1004fb0f25",
       "style": "IPY_MODEL_df2a3c6eb8254440888b10a4261a9f79"
      }
     },
     "fbe2ae521f0745eb8ed899bf7a34f3f0": {
      "model_module": "@jupyter-widgets/controls",
      "model_module_version": "1.5.0",
      "model_name": "GridBoxModel",
      "state": {
       "children": [
        "IPY_MODEL_8f47af6a03724274b387498b228a53eb",
        "IPY_MODEL_e6f5da45f6354229aa36ee1087317edc",
        "IPY_MODEL_a87912f0043b4dc6a298ac1a86c34cdd",
        "IPY_MODEL_b44af623203e4fc2baf44a47e37b14a4",
        "IPY_MODEL_28dfffdeac3b4f3f993c2175ae51d2c2",
        "IPY_MODEL_fa7680e5cf25490b985a9b91fd2ed327"
       ],
       "layout": "IPY_MODEL_2c60064fd719495fbdc1c32efee71e75"
      }
     },
     "fc139bf7dbe44205845c550d548cb0e0": {
      "model_module": "@jupyter-widgets/controls",
      "model_module_version": "1.5.0",
      "model_name": "DescriptionStyleModel",
      "state": {
       "description_width": ""
      }
     },
     "fc315ac7f82a4d6e90a051b92fa8b974": {
      "model_module": "@jupyter-widgets/controls",
      "model_module_version": "1.5.0",
      "model_name": "ButtonStyleModel",
      "state": {}
     },
     "fca427c1d7a54e999946b74dfc7843b8": {
      "model_module": "@jupyter-widgets/controls",
      "model_module_version": "1.5.0",
      "model_name": "DescriptionStyleModel",
      "state": {
       "description_width": ""
      }
     },
     "fcaa0d85686d445d96c65218b218bb09": {
      "model_module": "@jupyter-widgets/base",
      "model_module_version": "1.2.0",
      "model_name": "LayoutModel",
      "state": {
       "grid_area": "widget003"
      }
     },
     "fcb1cc1b113c4487af6b8a1c53dc0f5a": {
      "model_module": "@jupyter-widgets/controls",
      "model_module_version": "1.5.0",
      "model_name": "DescriptionStyleModel",
      "state": {
       "description_width": ""
      }
     },
     "fcc3aedceb994dcb927930dff5a5e819": {
      "model_module": "@jupyter-widgets/controls",
      "model_module_version": "1.5.0",
      "model_name": "ComboboxModel",
      "state": {
       "description": "Filing Type:",
       "ensure_option": true,
       "layout": "IPY_MODEL_39986856eb8c4a50934ca5ac2668905b",
       "options": [
        "",
        "10-Q",
        "10-K",
        "10-Q/A",
        "10-QSB",
        "10-QT",
        "10-QT/A",
        "10-QSB",
        "10-QSB/A",
        "10-QSB12B",
        "10-K/A",
        "10-K405",
        "10-K405/A",
        "10-KSB",
        "10-KT",
        "10-KT/A"
       ],
       "placeholder": "Enter..",
       "style": "IPY_MODEL_7766ac5c588c4edba7c96b52332ce1c8"
      }
     },
     "fcd7e132511240259948ed8d958ef75d": {
      "model_module": "@jupyter-widgets/controls",
      "model_module_version": "1.5.0",
      "model_name": "ButtonStyleModel",
      "state": {}
     },
     "fcffc138f38b4a75b75183f63bd5d212": {
      "model_module": "@jupyter-widgets/controls",
      "model_module_version": "1.5.0",
      "model_name": "DropdownModel",
      "state": {
       "_options_labels": [
        "Income Statement",
        "Balance Sheet",
        "Statements of Cash Flow",
        "Statements of Convertible Preferred Stock and Stockholder’s Equity"
       ],
       "description": "Financial Statement:*",
       "index": 0,
       "layout": "IPY_MODEL_a0df6e8915ca4a09aa6bc74de1089b42",
       "style": "IPY_MODEL_05e7f506af554142b5362fefc85df37d"
      }
     },
     "fd0768dc2882425d8d73ef4ef3a712a4": {
      "model_module": "@jupyter-widgets/controls",
      "model_module_version": "1.5.0",
      "model_name": "DatePickerModel",
      "state": {
       "description": "Pick a Date:",
       "disabled": false,
       "layout": "IPY_MODEL_d3d2ec12587748a0b738c09283d43eba",
       "style": "IPY_MODEL_3290e01ddcc04272b2dae0017b98d219"
      }
     },
     "fd0abe34752d4f04a208c790e29c972d": {
      "model_module": "@jupyter-widgets/controls",
      "model_module_version": "1.5.0",
      "model_name": "DatePickerModel",
      "state": {
       "description": "Pick a Date:",
       "disabled": false,
       "layout": "IPY_MODEL_3d180377a5a3463c9965e70bf3c88303",
       "style": "IPY_MODEL_a8913cce8f254353a16f543ac59359e0"
      }
     },
     "fd11ffa4b8b84f11a4922b9d2ea4ce6d": {
      "model_module": "@jupyter-widgets/controls",
      "model_module_version": "1.5.0",
      "model_name": "TextModel",
      "state": {
       "description": "Ticker/Entity Name:*",
       "layout": "IPY_MODEL_c74358434301461da9afe3ce698ddb9d",
       "placeholder": "Enter..",
       "style": "IPY_MODEL_c55e270bd2b74cc692875232c0656e72",
       "value": "msft"
      }
     },
     "fd38c4794c4e436fb23461ab1881c5d9": {
      "model_module": "@jupyter-widgets/base",
      "model_module_version": "1.2.0",
      "model_name": "LayoutModel",
      "state": {
       "grid_area": "widget002"
      }
     },
     "fd986d6ebb77431cb5e75fcd1b15ec53": {
      "model_module": "@jupyter-widgets/controls",
      "model_module_version": "1.5.0",
      "model_name": "ButtonModel",
      "state": {
       "description": "Search",
       "icon": "search",
       "layout": "IPY_MODEL_6d2957668a1f46e8962c07f3a84b9026",
       "style": "IPY_MODEL_fc315ac7f82a4d6e90a051b92fa8b974",
       "tooltip": "Search"
      }
     },
     "fdd0f8afa86844b2b1cce8b4d21e766d": {
      "model_module": "@jupyter-widgets/base",
      "model_module_version": "1.2.0",
      "model_name": "LayoutModel",
      "state": {
       "grid_template_areas": "\"widget001 .\"\n\"widget002 .\"\n\"widget003 .\"\n\"widget004 .\"\n\"widget005 .\"\n\"widget006 widget006\"",
       "grid_template_columns": "repeat(2, 1fr)",
       "grid_template_rows": "repeat(6, 1fr)"
      }
     },
     "fdde893755824ed6a402e5eab88d7d51": {
      "model_module": "@jupyter-widgets/controls",
      "model_module_version": "1.5.0",
      "model_name": "DatePickerModel",
      "state": {
       "description": "Pick a Date:",
       "disabled": false,
       "layout": "IPY_MODEL_f3bbcc3d3dd545feac99b3f88f833143",
       "style": "IPY_MODEL_c054eaf627ee4fcbb682a2c8b1b2e202"
      }
     },
     "fe34344bd4c04e0bbd51219640e5b39e": {
      "model_module": "@jupyter-widgets/controls",
      "model_module_version": "1.5.0",
      "model_name": "DescriptionStyleModel",
      "state": {
       "description_width": ""
      }
     },
     "feadb134963048bcaffd6f5eefa203b7": {
      "model_module": "@jupyter-widgets/base",
      "model_module_version": "1.2.0",
      "model_name": "LayoutModel",
      "state": {
       "grid_area": "widget005"
      }
     },
     "feb03b50f1b6450f861c5bd8b0ffe5be": {
      "model_module": "@jupyter-widgets/base",
      "model_module_version": "1.2.0",
      "model_name": "LayoutModel",
      "state": {
       "grid_area": "widget001"
      }
     },
     "fedf4027c96444c5aea4868176c9fe84": {
      "model_module": "@jupyter-widgets/controls",
      "model_module_version": "1.5.0",
      "model_name": "DescriptionStyleModel",
      "state": {
       "description_width": ""
      }
     },
     "ff20e3b620fc48afb850ce3e57ee4972": {
      "model_module": "@jupyter-widgets/base",
      "model_module_version": "1.2.0",
      "model_name": "LayoutModel",
      "state": {
       "grid_area": "widget006"
      }
     },
     "ff3065ba04f34a3cad2cbb13a94c23c4": {
      "model_module": "@jupyter-widgets/controls",
      "model_module_version": "1.5.0",
      "model_name": "ButtonStyleModel",
      "state": {}
     },
     "ffb72bc8489d484f89e6aed8d3973e55": {
      "model_module": "@jupyter-widgets/controls",
      "model_module_version": "1.5.0",
      "model_name": "DescriptionStyleModel",
      "state": {
       "description_width": ""
      }
     }
    },
    "version_major": 2,
    "version_minor": 0
   }
  }
 },
 "nbformat": 4,
 "nbformat_minor": 5
}
